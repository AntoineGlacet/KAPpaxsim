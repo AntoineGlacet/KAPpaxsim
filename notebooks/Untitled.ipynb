{
 "cells": [
  {
   "cell_type": "markdown",
   "id": "62a8e18c-9781-4e06-aa8e-17827e38f708",
   "metadata": {},
   "source": [
    "# KAPpaxsim tutorial"
   ]
  },
  {
   "cell_type": "markdown",
   "id": "4aa9ca68-d025-466e-8ecb-51eff871e0d4",
   "metadata": {},
   "source": [
    "This tutorial is a quickstart guide on how to install and use **KAPpaxsim**\\\n",
    "**KAPpaxsim** is a python module designed to modelize and simulate the passenger\\\n",
    "flows in various KAP terminal buildings."
   ]
  },
  {
   "cell_type": "markdown",
   "id": "6d870b8c-39c6-4670-8855-e07ee4222af6",
   "metadata": {},
   "source": [
    "## Setup and Install"
   ]
  },
  {
   "cell_type": "markdown",
   "id": "9dec1f5d-256d-44f5-b181-8cab785d160f",
   "metadata": {},
   "source": [
    "## download the repo from github"
   ]
  },
  {
   "cell_type": "code",
   "execution_count": null,
   "id": "3dbe3eac-43ec-4811-bc79-83b2c7e13ea0",
   "metadata": {},
   "outputs": [],
   "source": []
  },
  {
   "cell_type": "code",
   "execution_count": null,
   "id": "865fa7af-73ed-48fe-81ab-d8fcbd036903",
   "metadata": {},
   "outputs": [],
   "source": [
    "# proxy config for git if behind KAP proxy\n",
    "!git config --global http.proxy http://192.168.3.16:8080\n",
    "!git config --global https.proxy https://192.168.3.16:8080"
   ]
  },
  {
   "cell_type": "code",
   "execution_count": null,
   "id": "30ac80dc-8cf1-406c-8492-5f4fb2453e10",
   "metadata": {},
   "outputs": [],
   "source": []
  },
  {
   "cell_type": "code",
   "execution_count": null,
   "id": "5893869a-49fb-4188-970a-1e9bc82eb351",
   "metadata": {},
   "outputs": [],
   "source": []
  },
  {
   "cell_type": "code",
   "execution_count": null,
   "id": "39da447f-1e3e-4a9a-92e4-306300766c44",
   "metadata": {},
   "outputs": [],
   "source": []
  },
  {
   "cell_type": "code",
   "execution_count": null,
   "id": "4d5dd953-8582-445e-9e84-71aebff35775",
   "metadata": {},
   "outputs": [],
   "source": [
    "import sys"
   ]
  },
  {
   "cell_type": "code",
   "execution_count": null,
   "id": "dbb09543-5798-4474-838c-f0bec390c8aa",
   "metadata": {},
   "outputs": [],
   "source": [
    "sys.prefix"
   ]
  },
  {
   "cell_type": "code",
   "execution_count": null,
   "id": "24ba0679-43bf-40ad-93b7-5d631f5dcf22",
   "metadata": {},
   "outputs": [],
   "source": [
    "!conda create env"
   ]
  },
  {
   "cell_type": "code",
   "execution_count": null,
   "id": "3f5bf5ea-6067-4023-8a11-f61cafeba409",
   "metadata": {},
   "outputs": [],
   "source": []
  },
  {
   "cell_type": "code",
   "execution_count": null,
   "id": "c45bec3a-d49b-44dd-be89-62eb5918e6b2",
   "metadata": {},
   "outputs": [],
   "source": [
    "# Install a conda package in the current Jupyter kernel\n",
    "# import sys\n",
    "# !conda install --yes --prefix {sys.prefix} numpy"
   ]
  },
  {
   "cell_type": "code",
   "execution_count": null,
   "id": "cbe6ffd1-727f-419c-a4ab-b1a6b9c0977e",
   "metadata": {},
   "outputs": [],
   "source": []
  },
  {
   "cell_type": "code",
   "execution_count": null,
   "id": "57db8a95-4f35-4fd3-811d-3525f59e69e0",
   "metadata": {},
   "outputs": [],
   "source": []
  },
  {
   "cell_type": "code",
   "execution_count": null,
   "id": "5697d23e-3aca-41a4-a5d8-d3fc3417e150",
   "metadata": {},
   "outputs": [],
   "source": []
  }
 ],
 "metadata": {
  "kernelspec": {
   "display_name": "Python [conda env:jupyter2] *",
   "language": "python",
   "name": "conda-env-jupyter2-py"
  },
  "language_info": {
   "codemirror_mode": {
    "name": "ipython",
    "version": 3
   },
   "file_extension": ".py",
   "mimetype": "text/x-python",
   "name": "python",
   "nbconvert_exporter": "python",
   "pygments_lexer": "ipython3",
   "version": "3.8.8"
  }
 },
 "nbformat": 4,
 "nbformat_minor": 5
}
