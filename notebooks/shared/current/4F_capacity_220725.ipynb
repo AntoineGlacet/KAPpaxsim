{
 "cells": [
  {
   "cell_type": "markdown",
   "metadata": {},
   "source": [
    "### imports and initializations"
   ]
  },
  {
   "cell_type": "code",
   "execution_count": null,
   "metadata": {},
   "outputs": [],
   "source": [
    "%load_ext autoreload\n",
    "%autoreload 2\n",
    "import numpy as np\n",
    "import pandas as pd\n",
    "import seaborn as sns\n",
    "\n",
    "from src.utils.simparam import SimParam  # class for show-up generator\n",
    "from src.simfunc.simulation import minutes_to_hms\n",
    "\n",
    "%matplotlib inline\n",
    "%config InlineBackend.figure_format='retina'"
   ]
  },
  {
   "cell_type": "markdown",
   "metadata": {},
   "source": [
    "## Pre processing of busy day schedule"
   ]
  },
  {
   "cell_type": "code",
   "execution_count": null,
   "metadata": {},
   "outputs": [],
   "source": [
    "years = [2023, 2024, 2025, 2026]\n",
    "dct_data = {\n",
    "    year: pd.read_excel(\n",
    "        f\"/home/antoine/projects/KAPpaxsim/data/raw/FY{year} KIX schedule\"\n",
    "        \" forecast.xlsx\",\n",
    "        sheet_name=\"ALLdata\",\n",
    "        header=1,\n",
    "    )\n",
    "    for year in years\n",
    "}\n",
    "dct_data_processed = {}\n",
    "dct_simparam = {}\n",
    "\n",
    "# table should be formatted with following columns\n",
    "# | A/D | T1/T2(MM/9C/7C/TW) | Intl Regions | Category(P/C/O) | Sector |\n",
    "# | Flight Number | SEATS FC | PAX_SUM FC | Flight Date | Scheduled Time |\n",
    "\n",
    "for key, data in dct_data.items():\n",
    "    data[\"T1/T2(MM/9C/7C/TW)\"] = data[\"Terminal\"].replace(\n",
    "        {\"N\": \"T1\", \"S\": \"T1\", 1: \"T1\", \"L\": \"T2\", np.nan: \"-\"}\n",
    "    )\n",
    "\n",
    "    data[\"Category(P/C/O)\"] = data[\"Flight Type\"].apply(lambda x: x[0])\n",
    "\n",
    "    dct_name_change = {\n",
    "        \"Int / Dom\": \"Sector\",\n",
    "        \"Int P Region\": \"Intl Regions\",\n",
    "        \"Fight Number\": \"Flight Number\",  # <- to be split with space between letters and digits\n",
    "        \"Seats\": \"SEATS FC\",\n",
    "        \"PAX\": \"PAX_SUM FC\",\n",
    "        \"Date\": \"Flight Date\",\n",
    "        \"Time\": \"Scheduled Time\",\n",
    "    }\n",
    "\n",
    "    dct_data_processed[key] = data.rename(columns=dct_name_change)"
   ]
  },
  {
   "cell_type": "markdown",
   "metadata": {},
   "source": [
    "## Plots"
   ]
  },
  {
   "cell_type": "code",
   "execution_count": null,
   "metadata": {},
   "outputs": [],
   "source": [
    "# really, we need to select busiest day of each year\n",
    "# and let's plot on a single graph\n",
    "for key, data_processed in dct_data_processed.items():\n",
    "    dct_simparam[key] = SimParam()\n",
    "    dct_simparam[key].schedule_from_df(\n",
    "        data_processed\n",
    "    ).schedule_cleanup().schedule_filter(\n",
    "        date_str=f\"{key}-12-20\"\n",
    "    ).show_up_from_file().assign_flight_show_up_category_default().assign_show_up().assign_check_in()"
   ]
  },
  {
   "cell_type": "code",
   "execution_count": null,
   "metadata": {},
   "outputs": [],
   "source": [
    "dct_simparam[2023].plot_std(compare_with=dct_simparam[2024])"
   ]
  },
  {
   "cell_type": "code",
   "execution_count": null,
   "metadata": {},
   "outputs": [],
   "source": [
    "dct_simparam[2024].plot_counters(airlines=[\"total\"], compare_with=dct_simparam[2023])"
   ]
  },
  {
   "cell_type": "code",
   "execution_count": null,
   "metadata": {},
   "outputs": [],
   "source": [
    "dct_simparam[2024].plot_counters(\n",
    "    airlines=dct_simparam[2024].df_Counters.drop(\"total\", axis=1).columns.to_list(),\n",
    ")"
   ]
  },
  {
   "cell_type": "code",
   "execution_count": null,
   "metadata": {},
   "outputs": [],
   "source": [
    "dct_simparam[\n",
    "    2023\n",
    "].show_up_from_file().assign_flight_show_up_category_default().assign_show_up().plot_df_Pax()"
   ]
  }
 ],
 "metadata": {
  "kernelspec": {
   "display_name": "Python 3.8.10 ('KAPpaxsim')",
   "language": "python",
   "name": "python3"
  },
  "language_info": {
   "codemirror_mode": {
    "name": "ipython",
    "version": 3
   },
   "file_extension": ".py",
   "mimetype": "text/x-python",
   "name": "python",
   "nbconvert_exporter": "python",
   "pygments_lexer": "ipython3",
   "version": "3.8.10"
  },
  "vscode": {
   "interpreter": {
    "hash": "e7a9862a44882f962743cd49028888adc68496215b8868d236c027cb2696a468"
   }
  }
 },
 "nbformat": 4,
 "nbformat_minor": 2
}
