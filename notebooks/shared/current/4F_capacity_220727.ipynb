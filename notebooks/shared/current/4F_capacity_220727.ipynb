{
 "cells": [
  {
   "cell_type": "markdown",
   "metadata": {},
   "source": [
    "### imports and initializations"
   ]
  },
  {
   "cell_type": "code",
   "execution_count": null,
   "metadata": {},
   "outputs": [],
   "source": [
    "%load_ext autoreload\n",
    "%autoreload 2\n",
    "import numpy as np\n",
    "import pandas as pd\n",
    "import seaborn as sns\n",
    "\n",
    "from src.utils.utils import day_graph, minutes_to_hms\n",
    "import matplotlib.pyplot as plt\n",
    "\n",
    "from copy import deepcopy\n",
    "\n",
    "from src.simfunc.simulation import Simulation  # class for simulation\n",
    "from src.utils.simparam import SimParam  # class for simulation parameters\n",
    "\n",
    "%matplotlib inline\n",
    "%config InlineBackend.figure_format='retina'"
   ]
  },
  {
   "cell_type": "markdown",
   "metadata": {},
   "source": [
    "## Pre processing of busy day schedule"
   ]
  },
  {
   "cell_type": "code",
   "execution_count": null,
   "metadata": {},
   "outputs": [],
   "source": [
    "years = [2023, 2024, 2025, 2026]\n",
    "dct_data = {\n",
    "    year: pd.read_excel(\n",
    "        f\"/home/antoine/projects/KAPpaxsim/data/raw/FY{year} KIX schedule\"\n",
    "        \" forecast.xlsx\",\n",
    "        sheet_name=\"ALLdata\",\n",
    "        header=1,\n",
    "    )\n",
    "    for year in years\n",
    "}\n",
    "dct_data_processed = {}\n",
    "dct_simparam = {}\n",
    "\n",
    "# table should be formatted with following columns\n",
    "# | A/D | T1/T2(MM/9C/7C/TW) | Intl Regions | Category(P/C/O) | Sector |\n",
    "# | Flight Number | SEATS FC | PAX_SUM FC | Flight Date | Scheduled Time |\n",
    "\n",
    "for key, data in dct_data.items():\n",
    "    data[\"T1/T2(MM/9C/7C/TW)\"] = data[\"Terminal\"].replace(\n",
    "        {\"N\": \"T1\", \"S\": \"T1\", 1: \"T1\", \"L\": \"T2\", np.nan: \"-\"}\n",
    "    )\n",
    "\n",
    "    data[\"Category(P/C/O)\"] = data[\"Flight Type\"].apply(lambda x: x[0])\n",
    "\n",
    "    dct_name_change = {\n",
    "        \"Int / Dom\": \"Sector\",\n",
    "        \"Int P Region\": \"Intl Regions\",\n",
    "        \"Fight Number\": \"Flight Number\",  # <- to be split with space between letters and digits\n",
    "        \"Seats\": \"SEATS FC\",\n",
    "        \"PAX\": \"PAX_SUM FC\",\n",
    "        \"Date\": \"Flight Date\",\n",
    "        \"Time\": \"Scheduled Time\",\n",
    "    }\n",
    "\n",
    "    dct_data_processed[key] = data.rename(columns=dct_name_change)"
   ]
  },
  {
   "cell_type": "markdown",
   "metadata": {},
   "source": [
    "## Scenario 1 - no CU"
   ]
  },
  {
   "cell_type": "code",
   "execution_count": null,
   "metadata": {},
   "outputs": [],
   "source": [
    "# really, we need to select busiest day of each year\n",
    "# and let's plot on a single graph\n",
    "for key, data_processed in dct_data_processed.items():\n",
    "    dct_simparam[key] = SimParam()\n",
    "    dct_simparam[key].schedule_from_df(\n",
    "        data_processed\n",
    "    ).schedule_cleanup().schedule_filter(date_str=f\"{key}-12-20\").assign_check_in()"
   ]
  },
  {
   "cell_type": "markdown",
   "metadata": {},
   "source": [
    "### std graph"
   ]
  },
  {
   "cell_type": "code",
   "execution_count": null,
   "metadata": {},
   "outputs": [],
   "source": [
    "simparam.plot_std(compare_with=dct_simparam[2024])"
   ]
  },
  {
   "cell_type": "markdown",
   "metadata": {},
   "source": [
    "### counter graph"
   ]
  },
  {
   "cell_type": "code",
   "execution_count": null,
   "metadata": {},
   "outputs": [],
   "source": [
    "dct_simparam[2024].plot_counters(airlines=[\"total\"], compare_with=dct_simparam[2023])"
   ]
  },
  {
   "cell_type": "markdown",
   "metadata": {},
   "source": [
    "### demo of graph functions"
   ]
  },
  {
   "cell_type": "code",
   "execution_count": null,
   "metadata": {},
   "outputs": [],
   "source": [
    "dct_simparam[2024].plot_counters(\n",
    "    airlines=dct_simparam[2024].df_Counters.drop(\"total\", axis=1).columns.to_list(),\n",
    ")"
   ]
  },
  {
   "cell_type": "code",
   "execution_count": null,
   "metadata": {},
   "outputs": [],
   "source": [
    "dct_simparam[\n",
    "    2023\n",
    "].show_up_from_file().assign_flight_show_up_category_default().assign_show_up()\n",
    "dct_simparam[\n",
    "    2024\n",
    "].show_up_from_file().assign_flight_show_up_category_default().assign_show_up()"
   ]
  },
  {
   "cell_type": "code",
   "execution_count": null,
   "metadata": {},
   "outputs": [],
   "source": [
    "dct_simparam[2023].df_Pax.loc[:5000, \"pax_type\"] = \"type1\"\n",
    "dct_simparam[2023].df_Pax.loc[5000:, \"pax_type\"] = \"type2\"\n",
    "\n",
    "dct_simparam[2024].df_Pax.loc[:10000, \"pax_type\"] = \"type1\"\n",
    "dct_simparam[2024].df_Pax.loc[10000:, \"pax_type\"] = \"type2\"\n",
    "\n",
    "\n",
    "dct_simparam[2023].plot_df_Pax(by_pax_type=True, compare_with=dct_simparam[2024])"
   ]
  },
  {
   "cell_type": "markdown",
   "metadata": {},
   "source": [
    "## Scenario 1 - with CU"
   ]
  },
  {
   "cell_type": "markdown",
   "metadata": {},
   "source": [
    "### airline selection"
   ]
  },
  {
   "cell_type": "code",
   "execution_count": null,
   "metadata": {},
   "outputs": [],
   "source": [
    "simparam = dct_simparam[2023]\n",
    "simparam_tradi = deepcopy(simparam)"
   ]
  },
  {
   "cell_type": "code",
   "execution_count": null,
   "metadata": {},
   "outputs": [],
   "source": [
    "simparam_tradi.schedule[mask_airlines_CU]"
   ]
  },
  {
   "cell_type": "code",
   "execution_count": null,
   "metadata": {},
   "outputs": [],
   "source": [
    "all_airlines = simparam.df_Counters.iloc[:, :-1].sum(axis=0).index.to_list()\n",
    "airlines = simparam.df_Counters.loc[85:125, :].sum(axis=0).index.to_list()[-20:-1]\n",
    "\n",
    "airlines_CU = airlines + [\"AF\"]\n",
    "airlines_tradi = [x for x in all_airlines if x not in airlines_CU]\n",
    "mask_airlines_CU = simparam.schedule[\"Airline Code\"].isin(airlines_CU)\n",
    "\n",
    "simparam_tradi = deepcopy(simparam)\n",
    "simparam_tradi.schedule = simparam_tradi.schedule[mask_airlines_CU == False].copy()\n",
    "simparam_tradi.assign_check_in()\n",
    "\n",
    "print(f\"max used tradi counters = {simparam_tradi.df_Counters['total'].max()}\")\n",
    "simparam_tradi.plot_counters(airlines=[\"total\"], compare_with=simparam, legend=False)"
   ]
  },
  {
   "cell_type": "code",
   "execution_count": null,
   "metadata": {},
   "outputs": [],
   "source": [
    "len(airlines_CU)"
   ]
  },
  {
   "cell_type": "markdown",
   "metadata": {},
   "source": [
    "### simulation of waiting times"
   ]
  },
  {
   "cell_type": "code",
   "execution_count": null,
   "metadata": {},
   "outputs": [],
   "source": [
    "simparam.dct_resource = {\n",
    "    \"kiosk\": 92,\n",
    "    \"CUSBD\": 14,\n",
    "}\n",
    "\n",
    "simparam.dct_processes = {\n",
    "    \"kiosk\": 70,\n",
    "    \"CUSBD\": 60,\n",
    "    \"checkin\": 100,\n",
    "}\n",
    "\n",
    "simparam.dct_process_sequence = {\n",
    "    \"tradi\": [\n",
    "        [\"kiosk\", \"wait_opening\", \"checkin\"],\n",
    "        {\"hour_to_std\": 2.5},\n",
    "    ],\n",
    "    \"CUSBD\": [\n",
    "        [\"kiosk\", \"wait_opening\", \"CUSBD\"],\n",
    "        {\"hour_to_std\": 2.5},\n",
    "    ],\n",
    "}\n",
    "\n",
    "mask_CUSBD_pax = simparam.df_Pax[\"Airline\"].isin(airlines_CU)\n",
    "\n",
    "mask_tradi = mask_CUSBD_pax == False\n",
    "simparam.df_Pax.loc[mask_CUSBD_pax, \"pax_type\"] = \"CUSBD\"\n",
    "simparam.df_Pax.loc[mask_tradi, \"pax_type\"] = \"tradi\""
   ]
  },
  {
   "cell_type": "code",
   "execution_count": null,
   "metadata": {},
   "outputs": [],
   "source": [
    "freq = \"1H\"\n",
    "win = 1\n",
    "ratio_sampling = pd.to_timedelta(\"1H\") / pd.to_timedelta(freq)\n",
    "\n",
    "plot_CU = (\n",
    "    simparam.schedule[mask_airlines_CU]\n",
    "    .set_index(\"Scheduled Time\", drop=False)[\"PAX_SUM FC\"]\n",
    "    .resample(freq)\n",
    "    .agg([\"sum\"])\n",
    "    .rolling(window=win, center=True)\n",
    "    .mean()\n",
    "    .dropna()\n",
    "    .apply(lambda x: x * ratio_sampling)\n",
    ")\n",
    "\n",
    "plot_tradi = (\n",
    "    simparam.schedule[(mask_airlines_CU == False)]\n",
    "    .set_index(\"Scheduled Time\", drop=False)[\"PAX_SUM FC\"]\n",
    "    .resample(freq)\n",
    "    .agg([\"sum\"])\n",
    "    .rolling(window=win, center=True)\n",
    "    .mean()\n",
    "    .dropna()\n",
    "    .apply(lambda x: x * ratio_sampling)\n",
    ")\n",
    "\n",
    "plot_tradi = plot_tradi.reindex_like(plot_CU).fillna(0).copy()\n",
    "fig, ax = day_graph()\n",
    "\n",
    "nbar = 1\n",
    "\n",
    "colors = plt.rcParams[\"axes.prop_cycle\"].by_key()[\"color\"]\n",
    "nb_bar = 1\n",
    "# plot param\n",
    "width_hour = pd.Timedelta(\"0 days 01:00:00\")\n",
    "width_bar = 0.7 * width_hour / nb_bar\n",
    "width = width_bar\n",
    "\n",
    "\n",
    "label = \"tradi\"\n",
    "x = plot_tradi.index\n",
    "ax.bar(\n",
    "    x=x,\n",
    "    height=plot_tradi[\"sum\"],\n",
    "    width=width,\n",
    "    align=\"center\",\n",
    "    color=colors[0],\n",
    "    label=label,\n",
    ")\n",
    "ax.text(\n",
    "    0.15,\n",
    "    0.90,\n",
    "    f\"{int(plot_tradi['sum'].sum()):,} Pax {label}\",\n",
    "    horizontalalignment=\"center\",\n",
    "    verticalalignment=\"center\",\n",
    "    transform=ax.transAxes,\n",
    "    color=colors[0],\n",
    ")\n",
    "\n",
    "\n",
    "label = \"CU\"\n",
    "ax.bar(\n",
    "    x=x,\n",
    "    height=plot_CU[\"sum\"],\n",
    "    bottom=plot_tradi[\"sum\"],\n",
    "    width=width,\n",
    "    align=\"center\",\n",
    "    color=colors[1],\n",
    "    label=label,\n",
    ")\n",
    "ax.text(\n",
    "    0.15,\n",
    "    0.95,\n",
    "    f\"{int(plot_CU['sum'].sum()):,} Pax {label}\",\n",
    "    horizontalalignment=\"center\",\n",
    "    verticalalignment=\"center\",\n",
    "    transform=ax.transAxes,\n",
    "    color=colors[1],\n",
    ")\n",
    "\n",
    "\n",
    "plt.show()"
   ]
  },
  {
   "cell_type": "code",
   "execution_count": null,
   "metadata": {},
   "outputs": [],
   "source": [
    "simulation = Simulation(simparam)\n",
    "simulation.generate_checkin().generate_pax()\n",
    "simulation.run()"
   ]
  },
  {
   "cell_type": "code",
   "execution_count": null,
   "metadata": {},
   "outputs": [],
   "source": [
    "simulation.format_df_result().plot_result()"
   ]
  },
  {
   "cell_type": "markdown",
   "metadata": {},
   "source": [
    "## Scenario 2 - no CU"
   ]
  },
  {
   "cell_type": "markdown",
   "metadata": {},
   "source": [
    "### std graph"
   ]
  },
  {
   "cell_type": "code",
   "execution_count": null,
   "metadata": {},
   "outputs": [],
   "source": [
    "simparam = SimParam()\n",
    "path_to_6k_sched = (\n",
    "    r\"/home/antoine/projects/KAPpaxsim/data/processed/Schedule (30th terminal\"\n",
    "    r\" peak, 6000 pax)_PROCESSED.xlsx\"\n",
    ")\n",
    "simparam.schedule_from_path(path_to_6k_sched)\n",
    "simparam.schedule_cleanup().schedule_filter().assign_check_in()\n",
    "simparam.plot_std(compare_with=dct_simparam[2024])"
   ]
  },
  {
   "cell_type": "markdown",
   "metadata": {},
   "source": [
    "### counter graph"
   ]
  },
  {
   "cell_type": "code",
   "execution_count": null,
   "metadata": {},
   "outputs": [],
   "source": [
    "simparam.plot_counters(compare_with=dct_simparam[2024])"
   ]
  },
  {
   "cell_type": "markdown",
   "metadata": {},
   "source": [
    "## Scenario 2 - with CU"
   ]
  },
  {
   "cell_type": "markdown",
   "metadata": {},
   "source": [
    "### Airline selection"
   ]
  },
  {
   "cell_type": "code",
   "execution_count": null,
   "metadata": {},
   "outputs": [],
   "source": [
    "simparam_tradi = deepcopy(simparam)\n",
    "airlines = [\n",
    "    \"ANA\",\n",
    "    \"KAL\",\n",
    "    \"CPA\",\n",
    "    \"SIA\",\n",
    "    \"JNA\",\n",
    "    \"AAR\",\n",
    "    \"HVN\",\n",
    "    \"JJA\",\n",
    "    \"CES\",\n",
    "    \"CAL\",\n",
    "    \"EVA\",\n",
    "    \"CSN\",\n",
    "    \"THA\",\n",
    "    \"DAL\",\n",
    "    \"HKE\",\n",
    "    \"GCR\",\n",
    "    \"MAS\",\n",
    "    \"TTW\",\n",
    "    \"CDG\",\n",
    "]\n",
    "mask_airlines = simparam_tradi.schedule[\"Airline Code\"].isin(airlines)\n",
    "simparam_tradi.schedule = simparam_tradi.schedule[mask_airlines == False].copy()\n",
    "simparam_tradi.schedule_cleanup().schedule_filter().assign_check_in()"
   ]
  },
  {
   "cell_type": "code",
   "execution_count": null,
   "metadata": {},
   "outputs": [],
   "source": [
    "print(f\"max used tradi counters = {simparam_tradi.df_Counters['total'].max()}\")\n",
    "simparam_tradi.plot_counters(airlines=[\"total\"], compare_with=simparam, legend=False)"
   ]
  },
  {
   "cell_type": "markdown",
   "metadata": {},
   "source": [
    "### simulation of waiting times"
   ]
  },
  {
   "cell_type": "code",
   "execution_count": null,
   "metadata": {},
   "outputs": [],
   "source": [
    "simparam.show_up_from_file().assign_flight_show_up_category_default().assign_show_up()"
   ]
  },
  {
   "cell_type": "code",
   "execution_count": null,
   "metadata": {},
   "outputs": [],
   "source": [
    "simparam.dct_resource = {\n",
    "    \"kiosk\": 92,\n",
    "    \"CUSBD\": 32,\n",
    "}\n",
    "\n",
    "simparam.dct_processes = {\n",
    "    \"kiosk\": 70,\n",
    "    \"CUSBD\": 60,\n",
    "    \"checkin\": 100,\n",
    "}\n",
    "\n",
    "simparam.dct_process_sequence = {\n",
    "    \"tradi\": [\n",
    "        [\"kiosk\", \"wait_opening\", \"checkin\"],\n",
    "        {\"hour_to_std\": 2.5},\n",
    "    ],\n",
    "    \"CUSBD\": [\n",
    "        [\"kiosk\", \"wait_opening\", \"CUSBD\"],\n",
    "        {\"hour_to_std\": 2.5},\n",
    "    ],\n",
    "}\n",
    "\n",
    "mask_CUSBD_pax = simparam.df_Pax[\"Airline\"].isin(airlines)\n",
    "\n",
    "mask_tradi = mask_CUSBD_pax == False\n",
    "simparam.df_Pax.loc[mask_CUSBD_pax, \"pax_type\"] = \"CUSBD\"\n",
    "simparam.df_Pax.loc[mask_tradi, \"pax_type\"] = \"tradi\""
   ]
  },
  {
   "cell_type": "code",
   "execution_count": null,
   "metadata": {},
   "outputs": [],
   "source": [
    "freq = \"1H\"\n",
    "win = 1\n",
    "ratio_sampling = pd.to_timedelta(\"1H\") / pd.to_timedelta(freq)\n",
    "\n",
    "plot_CU = (\n",
    "    simparam.schedule[mask_airlines]\n",
    "    .set_index(\"Scheduled Time\", drop=False)[\"PAX_SUM FC\"]\n",
    "    .resample(freq)\n",
    "    .agg([\"sum\"])\n",
    "    .rolling(window=win, center=True)\n",
    "    .mean()\n",
    "    .dropna()\n",
    "    .apply(lambda x: x * ratio_sampling)\n",
    ")\n",
    "\n",
    "plot_tradi = (\n",
    "    simparam.schedule[(mask_airlines == False)]\n",
    "    .set_index(\"Scheduled Time\", drop=False)[\"PAX_SUM FC\"]\n",
    "    .resample(freq)\n",
    "    .agg([\"sum\"])\n",
    "    .rolling(window=win, center=True)\n",
    "    .mean()\n",
    "    .dropna()\n",
    "    .apply(lambda x: x * ratio_sampling)\n",
    ")\n",
    "\n",
    "plot_CU = plot_CU.reindex_like(plot_tradi).fillna(0).copy()\n",
    "fig, ax = day_graph()\n",
    "\n",
    "nbar = 1\n",
    "\n",
    "colors = plt.rcParams[\"axes.prop_cycle\"].by_key()[\"color\"]\n",
    "nb_bar = 1\n",
    "# plot param\n",
    "width_hour = pd.Timedelta(\"0 days 01:00:00\")\n",
    "width_bar = 0.7 * width_hour / nb_bar\n",
    "width = width_bar\n",
    "x = plot_tradi.index\n",
    "\n",
    "label = \"tradi\"\n",
    "ax.bar(\n",
    "    x=x,\n",
    "    height=plot_tradi[\"sum\"],\n",
    "    width=width,\n",
    "    align=\"center\",\n",
    "    color=colors[0],\n",
    "    label=label,\n",
    ")\n",
    "ax.text(\n",
    "    0.15,\n",
    "    0.90,\n",
    "    f\"{int(plot_tradi['sum'].sum()):,} Pax {label}\",\n",
    "    horizontalalignment=\"center\",\n",
    "    verticalalignment=\"center\",\n",
    "    transform=ax.transAxes,\n",
    "    color=colors[0],\n",
    ")\n",
    "\n",
    "\n",
    "label = \"CU\"\n",
    "ax.bar(\n",
    "    x=x,\n",
    "    height=plot_CU[\"sum\"],\n",
    "    bottom=plot_tradi[\"sum\"],\n",
    "    width=width,\n",
    "    align=\"center\",\n",
    "    color=colors[1],\n",
    "    label=label,\n",
    ")\n",
    "ax.text(\n",
    "    0.15,\n",
    "    0.95,\n",
    "    f\"{int(plot_CU['sum'].sum()):,} Pax {label}\",\n",
    "    horizontalalignment=\"center\",\n",
    "    verticalalignment=\"center\",\n",
    "    transform=ax.transAxes,\n",
    "    color=colors[1],\n",
    ")\n",
    "\n",
    "\n",
    "plt.show()"
   ]
  },
  {
   "cell_type": "code",
   "execution_count": null,
   "metadata": {},
   "outputs": [],
   "source": [
    "simulation = Simulation(simparam)\n",
    "simulation.generate_checkin().generate_pax()"
   ]
  },
  {
   "cell_type": "code",
   "execution_count": null,
   "metadata": {},
   "outputs": [],
   "source": [
    "simulation.run()"
   ]
  },
  {
   "cell_type": "code",
   "execution_count": null,
   "metadata": {},
   "outputs": [],
   "source": [
    "simulation.format_df_result().plot_result()"
   ]
  }
 ],
 "metadata": {
  "kernelspec": {
   "display_name": "Python 3.8.10 ('KAPpaxsim')",
   "language": "python",
   "name": "python3"
  },
  "language_info": {
   "codemirror_mode": {
    "name": "ipython",
    "version": 3
   },
   "file_extension": ".py",
   "mimetype": "text/x-python",
   "name": "python",
   "nbconvert_exporter": "python",
   "pygments_lexer": "ipython3",
   "version": "3.8.10"
  },
  "vscode": {
   "interpreter": {
    "hash": "e7a9862a44882f962743cd49028888adc68496215b8868d236c027cb2696a468"
   }
  }
 },
 "nbformat": 4,
 "nbformat_minor": 2
}
