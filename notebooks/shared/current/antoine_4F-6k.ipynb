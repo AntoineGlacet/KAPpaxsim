{
 "cells": [
  {
   "cell_type": "code",
   "execution_count": null,
   "metadata": {},
   "outputs": [],
   "source": [
    "simparam = SimParam()\n",
    "path_to_6k_sched = (\n",
    "    r\"/home/antoine/projects/KAPpaxsim/data/processed/Schedule (30th terminal\"\n",
    "    r\" peak, 6000 pax)_PROCESSED.xlsx\"\n",
    ")\n",
    "simparam.schedule_from_path(path_to_6k_sched)"
   ]
  },
  {
   "cell_type": "code",
   "execution_count": null,
   "metadata": {},
   "outputs": [],
   "source": [
    "simparam.schedule_cleanup()\n",
    "simparam.schedule_filter()"
   ]
  },
  {
   "cell_type": "code",
   "execution_count": null,
   "metadata": {},
   "outputs": [],
   "source": [
    "simparam.show_up_from_file()"
   ]
  },
  {
   "cell_type": "code",
   "execution_count": null,
   "metadata": {},
   "outputs": [],
   "source": [
    "simparam.assign_flight_show_up_category_default()"
   ]
  },
  {
   "cell_type": "code",
   "execution_count": null,
   "metadata": {},
   "outputs": [],
   "source": [
    "# simparam.plot_show_up_categories_profiles()\n",
    "# simparam.schedule[\"PAX_SUM FC\"] = 10\n",
    "simparam.assign_show_up()\n",
    "# simparam.plot_df_Pax()"
   ]
  },
  {
   "cell_type": "code",
   "execution_count": null,
   "metadata": {},
   "outputs": [],
   "source": [
    "simparam.df_Pax[\"Category\"].unique()"
   ]
  },
  {
   "cell_type": "code",
   "execution_count": null,
   "metadata": {},
   "outputs": [],
   "source": [
    "simparam.plot_df_Pax()"
   ]
  },
  {
   "cell_type": "code",
   "execution_count": null,
   "metadata": {},
   "outputs": [],
   "source": [
    "simparam.assign_check_in()"
   ]
  },
  {
   "cell_type": "code",
   "execution_count": null,
   "metadata": {},
   "outputs": [],
   "source": [
    "simparam.df_Counters[\"total\"].plot()"
   ]
  },
  {
   "cell_type": "code",
   "execution_count": null,
   "metadata": {},
   "outputs": [],
   "source": [
    "simparam.df_Counters.loc[102:120, \"total\"].plot()"
   ]
  },
  {
   "cell_type": "code",
   "execution_count": null,
   "metadata": {},
   "outputs": [],
   "source": [
    "simparam.df_Counters.loc[110:160, :].sum(axis=0).sort_values(ascending=False).head(\n",
    "    n=10\n",
    ").index"
   ]
  },
  {
   "cell_type": "code",
   "execution_count": null,
   "metadata": {},
   "outputs": [],
   "source": [
    "simparam.df_Counters.drop(\n",
    "    [\"NEW\", \"KAL\", \"CPA\", \"ANA\", \"CAL\", \"AAR\", \"JNA\", \"total\"], axis=1\n",
    ").sum(axis=1).plot()"
   ]
  },
  {
   "cell_type": "code",
   "execution_count": null,
   "metadata": {},
   "outputs": [],
   "source": [
    "simparam.df_Counters.drop(\n",
    "    [\n",
    "        \"total\",\n",
    "        \"ANA\",\n",
    "        \"KAL\",\n",
    "        \"CPA\",\n",
    "        \"SIA\",\n",
    "        \"JNA\",\n",
    "        \"AAR\",\n",
    "        \"HVN\",\n",
    "        \"JJA\",\n",
    "        \"CES\",\n",
    "        \"CAL\",\n",
    "        \"EVA\",\n",
    "        \"CSN\",\n",
    "        \"THA\",\n",
    "    ],\n",
    "    axis=1,\n",
    ").sum(axis=1).plot()"
   ]
  },
  {
   "cell_type": "code",
   "execution_count": null,
   "metadata": {},
   "outputs": [],
   "source": [
    "# change show-up\n",
    "\n",
    "# simparam.df_show_up_profiles['loc'] = 90\n",
    "# simparam.df_show_up_profiles['scale'] = 30\n",
    "# simparam.define_norm_show_up(simparam.df_show_up_profiles)\n",
    "# simparam.plot_show_up_categories_profiles()\n",
    "# simparam.assign_show_up()"
   ]
  },
  {
   "cell_type": "code",
   "execution_count": null,
   "metadata": {},
   "outputs": [],
   "source": [
    "simparam.dct_resource = {\n",
    "    \"kiosk\": 92,\n",
    "    \"security\": 200,\n",
    "    \"CUSBD\": 32,\n",
    "}\n",
    "\n",
    "simparam.dct_processes = {\n",
    "    \"kiosk\": 70,\n",
    "    \"security\": 1,\n",
    "    \"CUSBD\": 45,\n",
    "    \"checkin\": 70,\n",
    "}\n",
    "\n",
    "simparam.dct_process_sequence = {\n",
    "    \"tradi\": [\n",
    "        [\"kiosk\", \"wait_opening\", \"checkin\", \"security\"],\n",
    "        {\"hour_to_std\": 2.5},\n",
    "    ],\n",
    "    \"CUSBD\": [\n",
    "        [\"kiosk\", \"wait_opening\", \"CUSBD\", \"security\"],\n",
    "        {\"hour_to_std\": 2.5},\n",
    "    ],\n",
    "}\n",
    "\n",
    "mask_CUSBD_case1 = simparam.df_Pax[\"Airline\"].isin(\n",
    "    [\"NEW\", \"KAL\", \"CPA\", \"ANA\", \"CAL\", \"AAR\", \"JNA\"]\n",
    ")\n",
    "\n",
    "mask_CUSBD_case2 = simparam.df_Pax[\"Airline\"].isin(\n",
    "    [\n",
    "        \"ANA\",\n",
    "        \"KAL\",\n",
    "        \"CPA\",\n",
    "        \"SIA\",\n",
    "        \"JNA\",\n",
    "        \"AAR\",\n",
    "        \"HVN\",\n",
    "        \"JJA\",\n",
    "        \"CES\",\n",
    "        \"CAL\",\n",
    "        \"EVA\",\n",
    "        \"CSN\",\n",
    "        \"THA\",\n",
    "    ]\n",
    ")\n",
    "\n",
    "dct_mask = {\n",
    "    \"case1\": mask_CUSBD_case1,\n",
    "    \"case2\": mask_CUSBD_case2,\n",
    "}\n",
    "\n",
    "dct_simparam = {\n",
    "    \"case1\": simparam,\n",
    "    \"case2\": deepcopy(simparam),\n",
    "}\n",
    "\n",
    "for case in dct_mask:\n",
    "    mask_tradi = dct_mask[case] == False\n",
    "    dct_simparam[case].df_Pax.loc[dct_mask[case], \"pax_type\"] = \"CUSBD\"\n",
    "    dct_simparam[case].df_Pax.loc[mask_tradi, \"pax_type\"] = \"tradi\"\n",
    "\n",
    "# Need to make a pretty control for :\n",
    "#     - plotting process list_all\n",
    "\n",
    "# Need to add:\n",
    "#     - graph for wait_opening\n",
    "\n",
    "# Need to check that check-in capacity is working properly\n",
    "# Test a saturation with dummy figures"
   ]
  },
  {
   "cell_type": "code",
   "execution_count": null,
   "metadata": {},
   "outputs": [],
   "source": [
    "for key, simparam in dct_simparam.items():\n",
    "    print(key)\n",
    "    simparam.plot_df_Pax(by_pax_type=True)"
   ]
  },
  {
   "cell_type": "code",
   "execution_count": null,
   "metadata": {},
   "outputs": [],
   "source": [
    "dct_simulation = {}\n",
    "\n",
    "for key, simparam in dct_simparam.items():\n",
    "    dct_simulation[key] = Simulation(simparam)\n",
    "    dct_simulation[key].generate_checkin()\n",
    "    dct_simulation[key].generate_pax()\n",
    "    dct_simulation[key].run(end_time=1440)"
   ]
  },
  {
   "cell_type": "code",
   "execution_count": null,
   "metadata": {},
   "outputs": [],
   "source": [
    "for key, simparam in dct_simparam.items():\n",
    "    dct_simulation[key].format_df_result().plot_result()"
   ]
  },
  {
   "cell_type": "code",
   "execution_count": null,
   "metadata": {},
   "outputs": [],
   "source": [
    "for key, simparam in dct_simparam.items():\n",
    "    dct_simulation[key].format_df_result(filter_airline=[\"NEW\"]).plot_result()"
   ]
  },
  {
   "cell_type": "code",
   "execution_count": null,
   "metadata": {},
   "outputs": [],
   "source": [
    "for key, simparam in dct_simparam.items():\n",
    "    dct_simulation[key].format_df_result(\n",
    "        filter_airline=[\"NEW\", \"CAL\", \"APJ\"]\n",
    "    ).plot_result()"
   ]
  },
  {
   "cell_type": "code",
   "execution_count": null,
   "metadata": {},
   "outputs": [],
   "source": []
  },
  {
   "cell_type": "code",
   "execution_count": null,
   "metadata": {},
   "outputs": [],
   "source": []
  }
 ],
 "metadata": {
  "kernelspec": {
   "display_name": "Python 3.8.10 ('KAPpaxsim')",
   "language": "python",
   "name": "python3"
  },
  "language_info": {
   "codemirror_mode": {
    "name": "ipython",
    "version": 3
   },
   "file_extension": ".py",
   "mimetype": "text/x-python",
   "name": "python",
   "nbconvert_exporter": "python",
   "pygments_lexer": "ipython3",
   "version": "3.8.10"
  },
  "vscode": {
   "interpreter": {
    "hash": "e7a9862a44882f962743cd49028888adc68496215b8868d236c027cb2696a468"
   }
  }
 },
 "nbformat": 4,
 "nbformat_minor": 2
}
