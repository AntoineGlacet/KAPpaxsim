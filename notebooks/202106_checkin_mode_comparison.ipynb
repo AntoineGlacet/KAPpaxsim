{
 "cells": [
  {
   "cell_type": "markdown",
   "metadata": {},
   "source": [
    "The purpose of this document is to create a comparison between two operation modes <br>\n",
    "   - all counters follow the same rule<br>\n",
    "   - Common Use Self Bag Drop only opens earlier<br>"
   ]
  },
  {
   "cell_type": "markdown",
   "metadata": {},
   "source": [
    "# import librairies"
   ]
  },
  {
   "cell_type": "code",
   "execution_count": 1,
   "metadata": {
    "ExecuteTime": {
     "end_time": "2021-06-08T15:04:01.191720Z",
     "start_time": "2021-06-08T15:03:53.956635Z"
    },
    "hide_input": false
   },
   "outputs": [],
   "source": [
    "import datetime\n",
    "import math\n",
    "import os\n",
    "import random\n",
    "import time\n",
    "\n",
    "import matplotlib.dates as mdates\n",
    "import matplotlib.pyplot as plt\n",
    "import matplotlib.ticker as mtick\n",
    "import numpy as np\n",
    "import pandas as pd\n",
    "import seaborn as sns\n",
    "from matplotlib.lines import Line2D\n",
    "from matplotlib.patches import Patch\n",
    "from scipy.optimize import OptimizeResult, brute, minimize, minimize_scalar\n",
    "from tqdm.notebook import tqdm\n",
    "\n",
    "from src.profiles import generate_dep_Pax_Counters\n",
    "from src.simfunc.KIX_T1d import (KIX_T1_departure_sim_function,\n",
    "                                 univariate_cost_function_generator_t1d_N)\n",
    "from src.simfunc.KIX_T1d_CUSBD import (\n",
    "    KIX_T1_CUSBD_departure_sim_function,\n",
    "    univariate_cost_function_generator_t1d_CUSBD_N)\n",
    "from src.utils import custcallback, custmin"
   ]
  },
  {
   "cell_type": "code",
   "execution_count": 2,
   "metadata": {
    "ExecuteTime": {
     "end_time": "2021-06-04T13:01:33.025838Z",
     "start_time": "2021-06-04T13:01:31.955355Z"
    },
    "hide_input": false
   },
   "outputs": [],
   "source": [
    "%matplotlib inline\n",
    "%config InlineBackend.figure_format='retina'"
   ]
  },
  {
   "cell_type": "code",
   "execution_count": 3,
   "metadata": {
    "ExecuteTime": {
     "end_time": "2021-06-04T13:01:34.291719Z",
     "start_time": "2021-06-04T13:01:33.032842Z"
    }
   },
   "outputs": [
    {
     "data": {
      "application/javascript": [
       "\n",
       "            setTimeout(function() {\n",
       "                var nbb_cell_id = 3;\n",
       "                var nbb_unformatted_code = \"# parameters from \\\"assumption all dept.xlsx\\\" on onedrive\\npath_onedrive = r\\\"C:\\\\Users\\\\J00638\\\\\\u95a2\\u897f\\u30a8\\u30a2\\u30dd\\u30fc\\u30c8\\u30b0\\u30eb\\u30fc\\u30d7\\\\Technical HQ department - Masterplan - Masterplan\\\\ADRM model\\\\assumptions all dept\\\\assumptions all dept.xlsx\\\"\\ndf_param_onedrive = pd.read_excel(\\n    path_onedrive,\\n    sheet_name=\\\"dynamic\\\",\\n)\\n\\n# generate df_set_param_T1d_from_drive from one drive excel file (assumptions all dept)\\ndf_param_input = df_param_onedrive.set_index(\\\"item\\\", drop=True, inplace=False)\\n\\n# keep only T1 Int'l dep results\\nmask_T1d = (df_param_input[\\\"terminal\\\"] == \\\"T1\\\") & (df_param_input[\\\"Direction\\\"] == \\\"D\\\")\\ndf_param_input_T1 = df_param_input[mask_T1d]\\n\\ndf_param_input_T1 = df_param_input_T1.drop(\\n    columns=[\\\"unit\\\", \\\"terminal\\\", \\\"type\\\", \\\"remarks\\\", \\\"Direction\\\"]\\n)\\n\\n# take values from assumption files and put them in a dictionnary\\nlist_item = [\\n    \\\"target_peak_STD\\\",\\n    \\\"Pt_checkin_1step_counter\\\",\\n    \\\"Pt_checkin_2step_counter\\\",\\n    \\\"N_kiosk\\\",\\n    \\\"Pt_kiosk\\\",\\n    \\\"N_security_lanes\\\",\\n    \\\"Pt_security_lanes\\\",\\n    \\\"N_emigration_counter\\\",\\n    \\\"Pt_emigration_counter\\\",\\n    \\\"N_emigration_self\\\",\\n    \\\"Pt_emigration_self\\\",\\n    \\\"modern_pax_ratio\\\",\\n    \\\"digital_pax_ratio\\\",\\n    \\\"premium_pax_ratio\\\",\\n    \\\"start_special_pax_ratio\\\",\\n    \\\"end_special_pax_ratio\\\",\\n]\\n\\ndct_set_param_T1d_from_drive = {\\n    item: list(df_param_input_T1.loc[item, :]) for item in list_item\\n}\\nlen_dct_set_param_T1d_from_drive = len(dct_set_param_T1d_from_drive[\\\"target_peak_STD\\\"])\\ndct_set_param_T1d_from_drive[\\\"target_peak\\\"] = dct_set_param_T1d_from_drive.pop(\\n    \\\"target_peak_STD\\\"\\n)\\n\\n# define values that are not in assumption files\\ndct_set_param_T1d_from_drive[\\\"freq\\\"] = [\\n    \\\"1min\\\" for i in range(len_dct_set_param_T1d_from_drive)\\n]\\ndct_set_param_T1d_from_drive[\\\"win\\\"] = [\\n    15 for i in range(len_dct_set_param_T1d_from_drive)\\n]\\ndct_set_param_T1d_from_drive[\\\"show_loading\\\"] = [\\n    True for i in range(len_dct_set_param_T1d_from_drive)\\n]\\ndct_set_param_T1d_from_drive[\\\"show_graph\\\"] = [\\n    False for i in range(len_dct_set_param_T1d_from_drive)\\n]\\ndct_set_param_T1d_from_drive[\\\"save_graph\\\"] = [\\n    False for i in range(len_dct_set_param_T1d_from_drive)\\n]\\ndct_set_param_T1d_from_drive[\\\"save_xls\\\"] = [\\n    False for i in range(len_dct_set_param_T1d_from_drive)\\n]\\n\\n# change the start & end special pax, it was a bad idea\\n\\ndct_set_param_T1d_from_drive[\\\"start_special_pax_ratio\\\"] = [\\n    0.01 for i in range(len_dct_set_param_T1d_from_drive)\\n]\\n\\ndct_set_param_T1d_from_drive[\\\"end_special_pax_ratio\\\"] = [\\n    0.99 for i in range(len_dct_set_param_T1d_from_drive)\\n]\\n\\ndf_set_param_T1d_from_drive = pd.DataFrame.from_dict(dct_set_param_T1d_from_drive)\\n\\ndf_set_param_T1d = df_set_param_T1d_from_drive.copy()\\ndct_set_param_T1d = dct_set_param_T1d_from_drive.copy()\\n\\n# create the dictionary of param for the run from the dct_set_param\\n# we take the values for 2025\\ndct_run_param = {keys: value[5] for keys, value in dct_set_param_T1d.items()}\";\n",
       "                var nbb_formatted_code = \"# parameters from \\\"assumption all dept.xlsx\\\" on onedrive\\npath_onedrive = r\\\"C:\\\\Users\\\\J00638\\\\\\u95a2\\u897f\\u30a8\\u30a2\\u30dd\\u30fc\\u30c8\\u30b0\\u30eb\\u30fc\\u30d7\\\\Technical HQ department - Masterplan - Masterplan\\\\ADRM model\\\\assumptions all dept\\\\assumptions all dept.xlsx\\\"\\ndf_param_onedrive = pd.read_excel(\\n    path_onedrive,\\n    sheet_name=\\\"dynamic\\\",\\n)\\n\\n# generate df_set_param_T1d_from_drive from one drive excel file (assumptions all dept)\\ndf_param_input = df_param_onedrive.set_index(\\\"item\\\", drop=True, inplace=False)\\n\\n# keep only T1 Int'l dep results\\nmask_T1d = (df_param_input[\\\"terminal\\\"] == \\\"T1\\\") & (df_param_input[\\\"Direction\\\"] == \\\"D\\\")\\ndf_param_input_T1 = df_param_input[mask_T1d]\\n\\ndf_param_input_T1 = df_param_input_T1.drop(\\n    columns=[\\\"unit\\\", \\\"terminal\\\", \\\"type\\\", \\\"remarks\\\", \\\"Direction\\\"]\\n)\\n\\n# take values from assumption files and put them in a dictionnary\\nlist_item = [\\n    \\\"target_peak_STD\\\",\\n    \\\"Pt_checkin_1step_counter\\\",\\n    \\\"Pt_checkin_2step_counter\\\",\\n    \\\"N_kiosk\\\",\\n    \\\"Pt_kiosk\\\",\\n    \\\"N_security_lanes\\\",\\n    \\\"Pt_security_lanes\\\",\\n    \\\"N_emigration_counter\\\",\\n    \\\"Pt_emigration_counter\\\",\\n    \\\"N_emigration_self\\\",\\n    \\\"Pt_emigration_self\\\",\\n    \\\"modern_pax_ratio\\\",\\n    \\\"digital_pax_ratio\\\",\\n    \\\"premium_pax_ratio\\\",\\n    \\\"start_special_pax_ratio\\\",\\n    \\\"end_special_pax_ratio\\\",\\n]\\n\\ndct_set_param_T1d_from_drive = {\\n    item: list(df_param_input_T1.loc[item, :]) for item in list_item\\n}\\nlen_dct_set_param_T1d_from_drive = len(dct_set_param_T1d_from_drive[\\\"target_peak_STD\\\"])\\ndct_set_param_T1d_from_drive[\\\"target_peak\\\"] = dct_set_param_T1d_from_drive.pop(\\n    \\\"target_peak_STD\\\"\\n)\\n\\n# define values that are not in assumption files\\ndct_set_param_T1d_from_drive[\\\"freq\\\"] = [\\n    \\\"1min\\\" for i in range(len_dct_set_param_T1d_from_drive)\\n]\\ndct_set_param_T1d_from_drive[\\\"win\\\"] = [\\n    15 for i in range(len_dct_set_param_T1d_from_drive)\\n]\\ndct_set_param_T1d_from_drive[\\\"show_loading\\\"] = [\\n    True for i in range(len_dct_set_param_T1d_from_drive)\\n]\\ndct_set_param_T1d_from_drive[\\\"show_graph\\\"] = [\\n    False for i in range(len_dct_set_param_T1d_from_drive)\\n]\\ndct_set_param_T1d_from_drive[\\\"save_graph\\\"] = [\\n    False for i in range(len_dct_set_param_T1d_from_drive)\\n]\\ndct_set_param_T1d_from_drive[\\\"save_xls\\\"] = [\\n    False for i in range(len_dct_set_param_T1d_from_drive)\\n]\\n\\n# change the start & end special pax, it was a bad idea\\n\\ndct_set_param_T1d_from_drive[\\\"start_special_pax_ratio\\\"] = [\\n    0.01 for i in range(len_dct_set_param_T1d_from_drive)\\n]\\n\\ndct_set_param_T1d_from_drive[\\\"end_special_pax_ratio\\\"] = [\\n    0.99 for i in range(len_dct_set_param_T1d_from_drive)\\n]\\n\\ndf_set_param_T1d_from_drive = pd.DataFrame.from_dict(dct_set_param_T1d_from_drive)\\n\\ndf_set_param_T1d = df_set_param_T1d_from_drive.copy()\\ndct_set_param_T1d = dct_set_param_T1d_from_drive.copy()\\n\\n# create the dictionary of param for the run from the dct_set_param\\n# we take the values for 2025\\ndct_run_param = {keys: value[5] for keys, value in dct_set_param_T1d.items()}\";\n",
       "                var nbb_cells = Jupyter.notebook.get_cells();\n",
       "                for (var i = 0; i < nbb_cells.length; ++i) {\n",
       "                    if (nbb_cells[i].input_prompt_number == nbb_cell_id) {\n",
       "                        if (nbb_cells[i].get_text() == nbb_unformatted_code) {\n",
       "                             nbb_cells[i].set_text(nbb_formatted_code);\n",
       "                        }\n",
       "                        break;\n",
       "                    }\n",
       "                }\n",
       "            }, 500);\n",
       "            "
      ],
      "text/plain": [
       "<IPython.core.display.Javascript object>"
      ]
     },
     "metadata": {},
     "output_type": "display_data"
    }
   ],
   "source": [
    "# parameters from \"assumption all dept.xlsx\" on onedrive\n",
    "path_onedrive = r\"C:\\Users\\J00638\\関西エアポートグループ\\Technical HQ department - Masterplan - Masterplan\\ADRM model\\assumptions all dept\\assumptions all dept.xlsx\"\n",
    "df_param_onedrive = pd.read_excel(\n",
    "    path_onedrive,\n",
    "    sheet_name=\"dynamic\",\n",
    ")\n",
    "\n",
    "# generate df_set_param_T1d_from_drive from one drive excel file (assumptions all dept)\n",
    "df_param_input = df_param_onedrive.set_index(\"item\", drop=True, inplace=False)\n",
    "\n",
    "# keep only T1 Int'l dep results\n",
    "mask_T1d = (df_param_input[\"terminal\"] == \"T1\") & (df_param_input[\"Direction\"] == \"D\")\n",
    "df_param_input_T1 = df_param_input[mask_T1d]\n",
    "\n",
    "df_param_input_T1 = df_param_input_T1.drop(\n",
    "    columns=[\"unit\", \"terminal\", \"type\", \"remarks\", \"Direction\"]\n",
    ")\n",
    "\n",
    "# take values from assumption files and put them in a dictionnary\n",
    "list_item = [\n",
    "    \"target_peak_STD\",\n",
    "    \"Pt_checkin_1step_counter\",\n",
    "    \"Pt_checkin_2step_counter\",\n",
    "    \"N_kiosk\",\n",
    "    \"Pt_kiosk\",\n",
    "    \"N_security_lanes\",\n",
    "    \"Pt_security_lanes\",\n",
    "    \"N_emigration_counter\",\n",
    "    \"Pt_emigration_counter\",\n",
    "    \"N_emigration_self\",\n",
    "    \"Pt_emigration_self\",\n",
    "    \"modern_pax_ratio\",\n",
    "    \"digital_pax_ratio\",\n",
    "    \"premium_pax_ratio\",\n",
    "    \"start_special_pax_ratio\",\n",
    "    \"end_special_pax_ratio\",\n",
    "]\n",
    "\n",
    "dct_set_param_T1d_from_drive = {\n",
    "    item: list(df_param_input_T1.loc[item, :]) for item in list_item\n",
    "}\n",
    "len_dct_set_param_T1d_from_drive = len(dct_set_param_T1d_from_drive[\"target_peak_STD\"])\n",
    "dct_set_param_T1d_from_drive[\"target_peak\"] = dct_set_param_T1d_from_drive.pop(\n",
    "    \"target_peak_STD\"\n",
    ")\n",
    "\n",
    "# define values that are not in assumption files\n",
    "dct_set_param_T1d_from_drive[\"freq\"] = [\n",
    "    \"1min\" for i in range(len_dct_set_param_T1d_from_drive)\n",
    "]\n",
    "dct_set_param_T1d_from_drive[\"win\"] = [\n",
    "    15 for i in range(len_dct_set_param_T1d_from_drive)\n",
    "]\n",
    "dct_set_param_T1d_from_drive[\"show_loading\"] = [\n",
    "    True for i in range(len_dct_set_param_T1d_from_drive)\n",
    "]\n",
    "dct_set_param_T1d_from_drive[\"show_graph\"] = [\n",
    "    False for i in range(len_dct_set_param_T1d_from_drive)\n",
    "]\n",
    "dct_set_param_T1d_from_drive[\"save_graph\"] = [\n",
    "    False for i in range(len_dct_set_param_T1d_from_drive)\n",
    "]\n",
    "dct_set_param_T1d_from_drive[\"save_xls\"] = [\n",
    "    False for i in range(len_dct_set_param_T1d_from_drive)\n",
    "]\n",
    "\n",
    "# change the start & end special pax, it was a bad idea\n",
    "\n",
    "dct_set_param_T1d_from_drive[\"start_special_pax_ratio\"] = [\n",
    "    0.01 for i in range(len_dct_set_param_T1d_from_drive)\n",
    "]\n",
    "\n",
    "dct_set_param_T1d_from_drive[\"end_special_pax_ratio\"] = [\n",
    "    0.99 for i in range(len_dct_set_param_T1d_from_drive)\n",
    "]\n",
    "\n",
    "df_set_param_T1d_from_drive = pd.DataFrame.from_dict(dct_set_param_T1d_from_drive)\n",
    "\n",
    "df_set_param_T1d = df_set_param_T1d_from_drive.copy()\n",
    "dct_set_param_T1d = dct_set_param_T1d_from_drive.copy()\n",
    "\n",
    "# create the dictionary of param for the run from the dct_set_param\n",
    "# we take the values for 2025\n",
    "dct_run_param = {keys: value[5] for keys, value in dct_set_param_T1d.items()}"
   ]
  },
  {
   "cell_type": "markdown",
   "metadata": {},
   "source": [
    "# Calculations for report"
   ]
  },
  {
   "cell_type": "markdown",
   "metadata": {
    "heading_collapsed": true
   },
   "source": [
    "## helper function for EBS and LBC capac"
   ]
  },
  {
   "cell_type": "code",
   "execution_count": 146,
   "metadata": {
    "ExecuteTime": {
     "end_time": "2021-06-07T05:11:52.070404Z",
     "start_time": "2021-06-07T05:11:51.930406Z"
    },
    "hidden": true,
    "hide_input": true,
    "run_control": {
     "marked": false
    }
   },
   "outputs": [
    {
     "data": {
      "application/javascript": [
       "\n",
       "            setTimeout(function() {\n",
       "                var nbb_cell_id = 146;\n",
       "                var nbb_unformatted_code = \"def calculate_EBS_LBC(\\n    df_result,\\n    MUP_open_time=pd.Timedelta(hours=2, minutes=10),\\n    MUP_close_time=pd.Timedelta(hours=1),\\n):\\n    # change the times after midnight to the next day to calculate properly\\n    end = pd.Timestamp(\\\"2020-10-13 02:00:00\\\")\\n    mask_late_flight = df_result[\\\"STD\\\"] < end\\n    df_result.loc[mask_late_flight, \\\"STD\\\"] += pd.Timedelta(days=1)\\n\\n    # mask for bags who will use EBS\\n    # we take start security queue because some come from checkin and some from CUSBD\\n    # we should also remove no bag pax (TBD)\\n\\n    mask_EBS = df_result[\\\"start_security_queue\\\"] < df_result[\\\"STD\\\"] - MUP_open_time\\n    df_result.loc[mask_EBS, \\\"EBS_in\\\"] = df_result.loc[mask_EBS, \\\"start_security_queue\\\"]\\n    df_result.loc[mask_EBS, \\\"EBS_out\\\"] = df_result.loc[mask_EBS, \\\"STD\\\"] - MUP_open_time\\n\\n    plt_in_EBS = (\\n        df_result.loc[mask_EBS, [\\\"EBS_in\\\", \\\"Pax_N\\\"]]\\n        .set_index(\\\"EBS_in\\\", drop=False)[\\\"Pax_N\\\"]\\n        .resample(\\\"15min\\\")\\n        .agg([\\\"sum\\\"])\\n        .cumsum()\\n    )\\n\\n    plt_out_EBS = (\\n        df_result.loc[mask_EBS, [\\\"EBS_out\\\", \\\"Pax_N\\\"]]\\n        .set_index(\\\"EBS_out\\\", drop=False)[\\\"Pax_N\\\"]\\n        .resample(\\\"15min\\\")\\n        .agg([\\\"sum\\\"])\\n        .cumsum()\\n    )\\n\\n    EBS_req = (plt_in_EBS - plt_out_EBS).max()\\n\\n    # mask for bags who will use LBC\\n\\n    mask_LBC = df_result[\\\"start_security_queue\\\"] > df_result[\\\"STD\\\"] - MUP_close_time\\n    df_result.loc[mask_LBC, \\\"LBC_in\\\"] = df_result.loc[mask_LBC, \\\"start_security_queue\\\"]\\n    df_result.loc[mask_LBC, \\\"LBC_out\\\"] = df_result.loc[mask_LBC, \\\"STD\\\"]\\n\\n    plt_in_LBC = (\\n        df_result.loc[mask_LBC, [\\\"LBC_in\\\", \\\"Pax_N\\\"]]\\n        .set_index(\\\"LBC_in\\\", drop=False)[\\\"Pax_N\\\"]\\n        .resample(\\\"15min\\\")\\n        .agg([\\\"sum\\\"])\\n        .cumsum()\\n    )\\n\\n    plt_out_LBC = (\\n        df_result.loc[mask_LBC, [\\\"LBC_out\\\", \\\"Pax_N\\\"]]\\n        .set_index(\\\"LBC_out\\\", drop=False)[\\\"Pax_N\\\"]\\n        .resample(\\\"15min\\\")\\n        .agg([\\\"sum\\\"])\\n        .cumsum()\\n    )\\n\\n    LBC_req = (plt_in_LBC - plt_out_LBC).max()\\n\\n    return EBS_req, LBC_req\";\n",
       "                var nbb_formatted_code = \"def calculate_EBS_LBC(\\n    df_result,\\n    MUP_open_time=pd.Timedelta(hours=2, minutes=10),\\n    MUP_close_time=pd.Timedelta(hours=1),\\n):\\n    # change the times after midnight to the next day to calculate properly\\n    end = pd.Timestamp(\\\"2020-10-13 02:00:00\\\")\\n    mask_late_flight = df_result[\\\"STD\\\"] < end\\n    df_result.loc[mask_late_flight, \\\"STD\\\"] += pd.Timedelta(days=1)\\n\\n    # mask for bags who will use EBS\\n    # we take start security queue because some come from checkin and some from CUSBD\\n    # we should also remove no bag pax (TBD)\\n\\n    mask_EBS = df_result[\\\"start_security_queue\\\"] < df_result[\\\"STD\\\"] - MUP_open_time\\n    df_result.loc[mask_EBS, \\\"EBS_in\\\"] = df_result.loc[mask_EBS, \\\"start_security_queue\\\"]\\n    df_result.loc[mask_EBS, \\\"EBS_out\\\"] = df_result.loc[mask_EBS, \\\"STD\\\"] - MUP_open_time\\n\\n    plt_in_EBS = (\\n        df_result.loc[mask_EBS, [\\\"EBS_in\\\", \\\"Pax_N\\\"]]\\n        .set_index(\\\"EBS_in\\\", drop=False)[\\\"Pax_N\\\"]\\n        .resample(\\\"15min\\\")\\n        .agg([\\\"sum\\\"])\\n        .cumsum()\\n    )\\n\\n    plt_out_EBS = (\\n        df_result.loc[mask_EBS, [\\\"EBS_out\\\", \\\"Pax_N\\\"]]\\n        .set_index(\\\"EBS_out\\\", drop=False)[\\\"Pax_N\\\"]\\n        .resample(\\\"15min\\\")\\n        .agg([\\\"sum\\\"])\\n        .cumsum()\\n    )\\n\\n    EBS_req = (plt_in_EBS - plt_out_EBS).max()\\n\\n    # mask for bags who will use LBC\\n\\n    mask_LBC = df_result[\\\"start_security_queue\\\"] > df_result[\\\"STD\\\"] - MUP_close_time\\n    df_result.loc[mask_LBC, \\\"LBC_in\\\"] = df_result.loc[mask_LBC, \\\"start_security_queue\\\"]\\n    df_result.loc[mask_LBC, \\\"LBC_out\\\"] = df_result.loc[mask_LBC, \\\"STD\\\"]\\n\\n    plt_in_LBC = (\\n        df_result.loc[mask_LBC, [\\\"LBC_in\\\", \\\"Pax_N\\\"]]\\n        .set_index(\\\"LBC_in\\\", drop=False)[\\\"Pax_N\\\"]\\n        .resample(\\\"15min\\\")\\n        .agg([\\\"sum\\\"])\\n        .cumsum()\\n    )\\n\\n    plt_out_LBC = (\\n        df_result.loc[mask_LBC, [\\\"LBC_out\\\", \\\"Pax_N\\\"]]\\n        .set_index(\\\"LBC_out\\\", drop=False)[\\\"Pax_N\\\"]\\n        .resample(\\\"15min\\\")\\n        .agg([\\\"sum\\\"])\\n        .cumsum()\\n    )\\n\\n    LBC_req = (plt_in_LBC - plt_out_LBC).max()\\n\\n    return EBS_req, LBC_req\";\n",
       "                var nbb_cells = Jupyter.notebook.get_cells();\n",
       "                for (var i = 0; i < nbb_cells.length; ++i) {\n",
       "                    if (nbb_cells[i].input_prompt_number == nbb_cell_id) {\n",
       "                        if (nbb_cells[i].get_text() == nbb_unformatted_code) {\n",
       "                             nbb_cells[i].set_text(nbb_formatted_code);\n",
       "                        }\n",
       "                        break;\n",
       "                    }\n",
       "                }\n",
       "            }, 500);\n",
       "            "
      ],
      "text/plain": [
       "<IPython.core.display.Javascript object>"
      ]
     },
     "metadata": {},
     "output_type": "display_data"
    }
   ],
   "source": [
    "def calculate_EBS_LBC(\n",
    "    df_result,\n",
    "    MUP_open_time=pd.Timedelta(hours=2, minutes=10),\n",
    "    MUP_close_time=pd.Timedelta(hours=1),\n",
    "):\n",
    "    # change the times after midnight to the next day to calculate properly\n",
    "    end = pd.Timestamp(\"2020-10-13 02:00:00\")\n",
    "    mask_late_flight = df_result[\"STD\"] < end\n",
    "    df_result.loc[mask_late_flight, \"STD\"] += pd.Timedelta(days=1)\n",
    "\n",
    "    # mask for bags who will use EBS\n",
    "    # we take start security queue because some come from checkin and some from CUSBD\n",
    "    # we should also remove no bag pax (TBD)\n",
    "\n",
    "    mask_EBS = df_result[\"start_security_queue\"] < df_result[\"STD\"] - MUP_open_time\n",
    "    df_result.loc[mask_EBS, \"EBS_in\"] = df_result.loc[mask_EBS, \"start_security_queue\"]\n",
    "    df_result.loc[mask_EBS, \"EBS_out\"] = df_result.loc[mask_EBS, \"STD\"] - MUP_open_time\n",
    "\n",
    "    plt_in_EBS = (\n",
    "        df_result.loc[mask_EBS, [\"EBS_in\", \"Pax_N\"]]\n",
    "        .set_index(\"EBS_in\", drop=False)[\"Pax_N\"]\n",
    "        .resample(\"15min\")\n",
    "        .agg([\"sum\"])\n",
    "        .cumsum()\n",
    "    )\n",
    "\n",
    "    plt_out_EBS = (\n",
    "        df_result.loc[mask_EBS, [\"EBS_out\", \"Pax_N\"]]\n",
    "        .set_index(\"EBS_out\", drop=False)[\"Pax_N\"]\n",
    "        .resample(\"15min\")\n",
    "        .agg([\"sum\"])\n",
    "        .cumsum()\n",
    "    )\n",
    "\n",
    "    EBS_req = (plt_in_EBS - plt_out_EBS).max()\n",
    "\n",
    "    # mask for bags who will use LBC\n",
    "\n",
    "    mask_LBC = df_result[\"start_security_queue\"] > df_result[\"STD\"] - MUP_close_time\n",
    "    df_result.loc[mask_LBC, \"LBC_in\"] = df_result.loc[mask_LBC, \"start_security_queue\"]\n",
    "    df_result.loc[mask_LBC, \"LBC_out\"] = df_result.loc[mask_LBC, \"STD\"]\n",
    "\n",
    "    plt_in_LBC = (\n",
    "        df_result.loc[mask_LBC, [\"LBC_in\", \"Pax_N\"]]\n",
    "        .set_index(\"LBC_in\", drop=False)[\"Pax_N\"]\n",
    "        .resample(\"15min\")\n",
    "        .agg([\"sum\"])\n",
    "        .cumsum()\n",
    "    )\n",
    "\n",
    "    plt_out_LBC = (\n",
    "        df_result.loc[mask_LBC, [\"LBC_out\", \"Pax_N\"]]\n",
    "        .set_index(\"LBC_out\", drop=False)[\"Pax_N\"]\n",
    "        .resample(\"15min\")\n",
    "        .agg([\"sum\"])\n",
    "        .cumsum()\n",
    "    )\n",
    "\n",
    "    LBC_req = (plt_in_LBC - plt_out_LBC).max()\n",
    "\n",
    "    return EBS_req, LBC_req"
   ]
  },
  {
   "cell_type": "code",
   "execution_count": 147,
   "metadata": {
    "ExecuteTime": {
     "end_time": "2021-06-07T05:11:54.354389Z",
     "start_time": "2021-06-07T05:11:54.296122Z"
    },
    "hidden": true
   },
   "outputs": [
    {
     "data": {
      "application/javascript": [
       "\n",
       "            setTimeout(function() {\n",
       "                var nbb_cell_id = 147;\n",
       "                var nbb_unformatted_code = \"def calculate_avg_dwell_time(df_result, offset=pd.Timedelta(minutes=15)):\\n    \\\"\\\"\\\"\\n    we could use: df_result[[\\\"end_emigration_self_process\\\", \\\"end_emigration_counter_process\\\"]]\\n    but as we do not consider immigration here (check-in study)\\n    let's consider Pax take about 15 minutes to clear immigration\\n    \\\"\\\"\\\"\\n    # change the times after midnight to the next day to calculate properly\\n    end = pd.Timestamp(\\\"2020-10-13 02:00:00\\\")\\n    mask_late_flight = df_result[\\\"STD\\\"] < end\\n    df_result.loc[mask_late_flight, \\\"STD\\\"] += pd.Timedelta(days=1)\\n\\n    df_dwell = df_result[\\\"STD\\\"] - (df_result[\\\"end_security_process\\\"] + offset)\\n\\n    q_high = df_dwell.quantile(q=0.90)\\n    q_low = df_dwell.quantile(q=0.10)\\n\\n    mask_q = (q_low < df_dwell) & (df_dwell < q_high)\\n\\n    mean = df_dwell[mask_q].mean() / pd.Timedelta(minutes=1)\\n    top90 = df_dwell.quantile(q=0.9) / pd.Timedelta(minutes=1)\\n\\n    return df_dwell, mean, top90\";\n",
       "                var nbb_formatted_code = \"def calculate_avg_dwell_time(df_result, offset=pd.Timedelta(minutes=15)):\\n    \\\"\\\"\\\"\\n    we could use: df_result[[\\\"end_emigration_self_process\\\", \\\"end_emigration_counter_process\\\"]]\\n    but as we do not consider immigration here (check-in study)\\n    let's consider Pax take about 15 minutes to clear immigration\\n    \\\"\\\"\\\"\\n    # change the times after midnight to the next day to calculate properly\\n    end = pd.Timestamp(\\\"2020-10-13 02:00:00\\\")\\n    mask_late_flight = df_result[\\\"STD\\\"] < end\\n    df_result.loc[mask_late_flight, \\\"STD\\\"] += pd.Timedelta(days=1)\\n\\n    df_dwell = df_result[\\\"STD\\\"] - (df_result[\\\"end_security_process\\\"] + offset)\\n\\n    q_high = df_dwell.quantile(q=0.90)\\n    q_low = df_dwell.quantile(q=0.10)\\n\\n    mask_q = (q_low < df_dwell) & (df_dwell < q_high)\\n\\n    mean = df_dwell[mask_q].mean() / pd.Timedelta(minutes=1)\\n    top90 = df_dwell.quantile(q=0.9) / pd.Timedelta(minutes=1)\\n\\n    return df_dwell, mean, top90\";\n",
       "                var nbb_cells = Jupyter.notebook.get_cells();\n",
       "                for (var i = 0; i < nbb_cells.length; ++i) {\n",
       "                    if (nbb_cells[i].input_prompt_number == nbb_cell_id) {\n",
       "                        if (nbb_cells[i].get_text() == nbb_unformatted_code) {\n",
       "                             nbb_cells[i].set_text(nbb_formatted_code);\n",
       "                        }\n",
       "                        break;\n",
       "                    }\n",
       "                }\n",
       "            }, 500);\n",
       "            "
      ],
      "text/plain": [
       "<IPython.core.display.Javascript object>"
      ]
     },
     "metadata": {},
     "output_type": "display_data"
    }
   ],
   "source": [
    "def calculate_avg_dwell_time(df_result, offset=pd.Timedelta(minutes=15)):\n",
    "    \"\"\"\n",
    "    we could use: df_result[[\"end_emigration_self_process\", \"end_emigration_counter_process\"]]\n",
    "    but as we do not consider immigration here (check-in study)\n",
    "    let's consider Pax take about 15 minutes to clear immigration\n",
    "    \"\"\"\n",
    "    # change the times after midnight to the next day to calculate properly\n",
    "    end = pd.Timestamp(\"2020-10-13 02:00:00\")\n",
    "    mask_late_flight = df_result[\"STD\"] < end\n",
    "    df_result.loc[mask_late_flight, \"STD\"] += pd.Timedelta(days=1)\n",
    "\n",
    "    df_dwell = df_result[\"STD\"] - (df_result[\"end_security_process\"] + offset)\n",
    "\n",
    "    q_high = df_dwell.quantile(q=0.90)\n",
    "    q_low = df_dwell.quantile(q=0.10)\n",
    "\n",
    "    mask_q = (q_low < df_dwell) & (df_dwell < q_high)\n",
    "\n",
    "    mean = df_dwell[mask_q].mean() / pd.Timedelta(minutes=1)\n",
    "    top90 = df_dwell.quantile(q=0.9) / pd.Timedelta(minutes=1)\n",
    "\n",
    "    return df_dwell, mean, top90"
   ]
  },
  {
   "cell_type": "markdown",
   "metadata": {},
   "source": [
    "## all counters have new rule"
   ]
  },
  {
   "cell_type": "markdown",
   "metadata": {
    "heading_collapsed": true
   },
   "source": [
    "### import dct_param_onderive"
   ]
  },
  {
   "cell_type": "code",
   "execution_count": 148,
   "metadata": {
    "ExecuteTime": {
     "end_time": "2021-06-07T05:12:04.868195Z",
     "start_time": "2021-06-07T05:12:03.063578Z"
    },
    "hidden": true,
    "hide_input": true
   },
   "outputs": [
    {
     "data": {
      "application/javascript": [
       "\n",
       "            setTimeout(function() {\n",
       "                var nbb_cell_id = 148;\n",
       "                var nbb_unformatted_code = \"# parameters from \\\"assumption all dept.xlsx\\\" on onedrive\\npath_onedrive = r\\\"C:\\\\Users\\\\J00638\\\\\\u95a2\\u897f\\u30a8\\u30a2\\u30dd\\u30fc\\u30c8\\u30b0\\u30eb\\u30fc\\u30d7\\\\Technical HQ department - Masterplan - Masterplan\\\\ADRM model\\\\assumptions all dept\\\\assumptions all dept.xlsx\\\"\\ndf_param_onedrive = pd.read_excel(\\n    path_onedrive,\\n    sheet_name=\\\"dynamic\\\",\\n)\\n\\n# generate df_set_param_T1d_from_drive from one drive excel file (assumptions all dept)\\ndf_param_input = df_param_onedrive.set_index(\\\"item\\\", drop=True, inplace=False)\\n\\n# keep only T1 Int'l dep results\\nmask_T1d = (df_param_input[\\\"terminal\\\"] == \\\"T1\\\") & (df_param_input[\\\"Direction\\\"] == \\\"D\\\")\\ndf_param_input_T1 = df_param_input[mask_T1d]\\n\\ndf_param_input_T1 = df_param_input_T1.drop(\\n    columns=[\\\"unit\\\", \\\"terminal\\\", \\\"type\\\", \\\"remarks\\\", \\\"Direction\\\"]\\n)\\n\\n# take values from assumption files and put them in a dictionnary\\nlist_item = [\\n    \\\"target_peak_STD\\\",\\n    \\\"Pt_checkin_1step_counter\\\",\\n    \\\"Pt_checkin_2step_counter\\\",\\n    \\\"N_kiosk\\\",\\n    \\\"Pt_kiosk\\\",\\n    \\\"N_security_lanes\\\",\\n    \\\"Pt_security_lanes\\\",\\n    \\\"N_emigration_counter\\\",\\n    \\\"Pt_emigration_counter\\\",\\n    \\\"N_emigration_self\\\",\\n    \\\"Pt_emigration_self\\\",\\n    \\\"modern_pax_ratio\\\",\\n    \\\"digital_pax_ratio\\\",\\n    \\\"premium_pax_ratio\\\",\\n    \\\"start_special_pax_ratio\\\",\\n    \\\"end_special_pax_ratio\\\",\\n]\\n\\ndct_set_param_T1d_from_drive = {\\n    item: list(df_param_input_T1.loc[item, :]) for item in list_item\\n}\\nlen_dct_set_param_T1d_from_drive = len(dct_set_param_T1d_from_drive[\\\"target_peak_STD\\\"])\\ndct_set_param_T1d_from_drive[\\\"target_peak\\\"] = dct_set_param_T1d_from_drive.pop(\\n    \\\"target_peak_STD\\\"\\n)\\n\\n# define values that are not in assumption files\\ndct_set_param_T1d_from_drive[\\\"freq\\\"] = [\\n    \\\"1min\\\" for i in range(len_dct_set_param_T1d_from_drive)\\n]\\ndct_set_param_T1d_from_drive[\\\"win\\\"] = [\\n    15 for i in range(len_dct_set_param_T1d_from_drive)\\n]\\ndct_set_param_T1d_from_drive[\\\"show_loading\\\"] = [\\n    True for i in range(len_dct_set_param_T1d_from_drive)\\n]\\ndct_set_param_T1d_from_drive[\\\"show_graph\\\"] = [\\n    False for i in range(len_dct_set_param_T1d_from_drive)\\n]\\ndct_set_param_T1d_from_drive[\\\"save_graph\\\"] = [\\n    False for i in range(len_dct_set_param_T1d_from_drive)\\n]\\ndct_set_param_T1d_from_drive[\\\"save_xls\\\"] = [\\n    False for i in range(len_dct_set_param_T1d_from_drive)\\n]\\n\\n# change the start & end special pax, it was a bad idea\\n\\ndct_set_param_T1d_from_drive[\\\"start_special_pax_ratio\\\"] = [\\n    0.01 for i in range(len_dct_set_param_T1d_from_drive)\\n]\\n\\ndct_set_param_T1d_from_drive[\\\"end_special_pax_ratio\\\"] = [\\n    0.99 for i in range(len_dct_set_param_T1d_from_drive)\\n]\\n\\ndf_set_param_T1d_from_drive = pd.DataFrame.from_dict(dct_set_param_T1d_from_drive)\\n\\ndf_set_param_T1d = df_set_param_T1d_from_drive.copy()\\ndct_set_param_T1d = dct_set_param_T1d_from_drive.copy()\\n\\n# create the dictionary of param for the run from the dct_set_param\\n# we take the values for 2025\\ndct_run_param = {keys: value[5] for keys, value in dct_set_param_T1d.items()}\";\n",
       "                var nbb_formatted_code = \"# parameters from \\\"assumption all dept.xlsx\\\" on onedrive\\npath_onedrive = r\\\"C:\\\\Users\\\\J00638\\\\\\u95a2\\u897f\\u30a8\\u30a2\\u30dd\\u30fc\\u30c8\\u30b0\\u30eb\\u30fc\\u30d7\\\\Technical HQ department - Masterplan - Masterplan\\\\ADRM model\\\\assumptions all dept\\\\assumptions all dept.xlsx\\\"\\ndf_param_onedrive = pd.read_excel(\\n    path_onedrive,\\n    sheet_name=\\\"dynamic\\\",\\n)\\n\\n# generate df_set_param_T1d_from_drive from one drive excel file (assumptions all dept)\\ndf_param_input = df_param_onedrive.set_index(\\\"item\\\", drop=True, inplace=False)\\n\\n# keep only T1 Int'l dep results\\nmask_T1d = (df_param_input[\\\"terminal\\\"] == \\\"T1\\\") & (df_param_input[\\\"Direction\\\"] == \\\"D\\\")\\ndf_param_input_T1 = df_param_input[mask_T1d]\\n\\ndf_param_input_T1 = df_param_input_T1.drop(\\n    columns=[\\\"unit\\\", \\\"terminal\\\", \\\"type\\\", \\\"remarks\\\", \\\"Direction\\\"]\\n)\\n\\n# take values from assumption files and put them in a dictionnary\\nlist_item = [\\n    \\\"target_peak_STD\\\",\\n    \\\"Pt_checkin_1step_counter\\\",\\n    \\\"Pt_checkin_2step_counter\\\",\\n    \\\"N_kiosk\\\",\\n    \\\"Pt_kiosk\\\",\\n    \\\"N_security_lanes\\\",\\n    \\\"Pt_security_lanes\\\",\\n    \\\"N_emigration_counter\\\",\\n    \\\"Pt_emigration_counter\\\",\\n    \\\"N_emigration_self\\\",\\n    \\\"Pt_emigration_self\\\",\\n    \\\"modern_pax_ratio\\\",\\n    \\\"digital_pax_ratio\\\",\\n    \\\"premium_pax_ratio\\\",\\n    \\\"start_special_pax_ratio\\\",\\n    \\\"end_special_pax_ratio\\\",\\n]\\n\\ndct_set_param_T1d_from_drive = {\\n    item: list(df_param_input_T1.loc[item, :]) for item in list_item\\n}\\nlen_dct_set_param_T1d_from_drive = len(dct_set_param_T1d_from_drive[\\\"target_peak_STD\\\"])\\ndct_set_param_T1d_from_drive[\\\"target_peak\\\"] = dct_set_param_T1d_from_drive.pop(\\n    \\\"target_peak_STD\\\"\\n)\\n\\n# define values that are not in assumption files\\ndct_set_param_T1d_from_drive[\\\"freq\\\"] = [\\n    \\\"1min\\\" for i in range(len_dct_set_param_T1d_from_drive)\\n]\\ndct_set_param_T1d_from_drive[\\\"win\\\"] = [\\n    15 for i in range(len_dct_set_param_T1d_from_drive)\\n]\\ndct_set_param_T1d_from_drive[\\\"show_loading\\\"] = [\\n    True for i in range(len_dct_set_param_T1d_from_drive)\\n]\\ndct_set_param_T1d_from_drive[\\\"show_graph\\\"] = [\\n    False for i in range(len_dct_set_param_T1d_from_drive)\\n]\\ndct_set_param_T1d_from_drive[\\\"save_graph\\\"] = [\\n    False for i in range(len_dct_set_param_T1d_from_drive)\\n]\\ndct_set_param_T1d_from_drive[\\\"save_xls\\\"] = [\\n    False for i in range(len_dct_set_param_T1d_from_drive)\\n]\\n\\n# change the start & end special pax, it was a bad idea\\n\\ndct_set_param_T1d_from_drive[\\\"start_special_pax_ratio\\\"] = [\\n    0.01 for i in range(len_dct_set_param_T1d_from_drive)\\n]\\n\\ndct_set_param_T1d_from_drive[\\\"end_special_pax_ratio\\\"] = [\\n    0.99 for i in range(len_dct_set_param_T1d_from_drive)\\n]\\n\\ndf_set_param_T1d_from_drive = pd.DataFrame.from_dict(dct_set_param_T1d_from_drive)\\n\\ndf_set_param_T1d = df_set_param_T1d_from_drive.copy()\\ndct_set_param_T1d = dct_set_param_T1d_from_drive.copy()\\n\\n# create the dictionary of param for the run from the dct_set_param\\n# we take the values for 2025\\ndct_run_param = {keys: value[5] for keys, value in dct_set_param_T1d.items()}\";\n",
       "                var nbb_cells = Jupyter.notebook.get_cells();\n",
       "                for (var i = 0; i < nbb_cells.length; ++i) {\n",
       "                    if (nbb_cells[i].input_prompt_number == nbb_cell_id) {\n",
       "                        if (nbb_cells[i].get_text() == nbb_unformatted_code) {\n",
       "                             nbb_cells[i].set_text(nbb_formatted_code);\n",
       "                        }\n",
       "                        break;\n",
       "                    }\n",
       "                }\n",
       "            }, 500);\n",
       "            "
      ],
      "text/plain": [
       "<IPython.core.display.Javascript object>"
      ]
     },
     "metadata": {},
     "output_type": "display_data"
    }
   ],
   "source": [
    "# parameters from \"assumption all dept.xlsx\" on onedrive\n",
    "path_onedrive = r\"C:\\Users\\J00638\\関西エアポートグループ\\Technical HQ department - Masterplan - Masterplan\\ADRM model\\assumptions all dept\\assumptions all dept.xlsx\"\n",
    "df_param_onedrive = pd.read_excel(\n",
    "    path_onedrive,\n",
    "    sheet_name=\"dynamic\",\n",
    ")\n",
    "\n",
    "# generate df_set_param_T1d_from_drive from one drive excel file (assumptions all dept)\n",
    "df_param_input = df_param_onedrive.set_index(\"item\", drop=True, inplace=False)\n",
    "\n",
    "# keep only T1 Int'l dep results\n",
    "mask_T1d = (df_param_input[\"terminal\"] == \"T1\") & (df_param_input[\"Direction\"] == \"D\")\n",
    "df_param_input_T1 = df_param_input[mask_T1d]\n",
    "\n",
    "df_param_input_T1 = df_param_input_T1.drop(\n",
    "    columns=[\"unit\", \"terminal\", \"type\", \"remarks\", \"Direction\"]\n",
    ")\n",
    "\n",
    "# take values from assumption files and put them in a dictionnary\n",
    "list_item = [\n",
    "    \"target_peak_STD\",\n",
    "    \"Pt_checkin_1step_counter\",\n",
    "    \"Pt_checkin_2step_counter\",\n",
    "    \"N_kiosk\",\n",
    "    \"Pt_kiosk\",\n",
    "    \"N_security_lanes\",\n",
    "    \"Pt_security_lanes\",\n",
    "    \"N_emigration_counter\",\n",
    "    \"Pt_emigration_counter\",\n",
    "    \"N_emigration_self\",\n",
    "    \"Pt_emigration_self\",\n",
    "    \"modern_pax_ratio\",\n",
    "    \"digital_pax_ratio\",\n",
    "    \"premium_pax_ratio\",\n",
    "    \"start_special_pax_ratio\",\n",
    "    \"end_special_pax_ratio\",\n",
    "]\n",
    "\n",
    "dct_set_param_T1d_from_drive = {\n",
    "    item: list(df_param_input_T1.loc[item, :]) for item in list_item\n",
    "}\n",
    "len_dct_set_param_T1d_from_drive = len(dct_set_param_T1d_from_drive[\"target_peak_STD\"])\n",
    "dct_set_param_T1d_from_drive[\"target_peak\"] = dct_set_param_T1d_from_drive.pop(\n",
    "    \"target_peak_STD\"\n",
    ")\n",
    "\n",
    "# define values that are not in assumption files\n",
    "dct_set_param_T1d_from_drive[\"freq\"] = [\n",
    "    \"1min\" for i in range(len_dct_set_param_T1d_from_drive)\n",
    "]\n",
    "dct_set_param_T1d_from_drive[\"win\"] = [\n",
    "    15 for i in range(len_dct_set_param_T1d_from_drive)\n",
    "]\n",
    "dct_set_param_T1d_from_drive[\"show_loading\"] = [\n",
    "    True for i in range(len_dct_set_param_T1d_from_drive)\n",
    "]\n",
    "dct_set_param_T1d_from_drive[\"show_graph\"] = [\n",
    "    False for i in range(len_dct_set_param_T1d_from_drive)\n",
    "]\n",
    "dct_set_param_T1d_from_drive[\"save_graph\"] = [\n",
    "    False for i in range(len_dct_set_param_T1d_from_drive)\n",
    "]\n",
    "dct_set_param_T1d_from_drive[\"save_xls\"] = [\n",
    "    False for i in range(len_dct_set_param_T1d_from_drive)\n",
    "]\n",
    "\n",
    "# change the start & end special pax, it was a bad idea\n",
    "\n",
    "dct_set_param_T1d_from_drive[\"start_special_pax_ratio\"] = [\n",
    "    0.01 for i in range(len_dct_set_param_T1d_from_drive)\n",
    "]\n",
    "\n",
    "dct_set_param_T1d_from_drive[\"end_special_pax_ratio\"] = [\n",
    "    0.99 for i in range(len_dct_set_param_T1d_from_drive)\n",
    "]\n",
    "\n",
    "df_set_param_T1d_from_drive = pd.DataFrame.from_dict(dct_set_param_T1d_from_drive)\n",
    "\n",
    "df_set_param_T1d = df_set_param_T1d_from_drive.copy()\n",
    "dct_set_param_T1d = dct_set_param_T1d_from_drive.copy()\n",
    "\n",
    "# create the dictionary of param for the run from the dct_set_param\n",
    "# we take the values for 2025\n",
    "dct_run_param = {keys: value[5] for keys, value in dct_set_param_T1d.items()}"
   ]
  },
  {
   "cell_type": "markdown",
   "metadata": {
    "heading_collapsed": true
   },
   "source": [
    "### calculate"
   ]
  },
  {
   "cell_type": "code",
   "execution_count": 39,
   "metadata": {
    "ExecuteTime": {
     "end_time": "2021-06-06T07:03:05.585367Z",
     "start_time": "2021-06-06T07:03:05.493996Z"
    },
    "hidden": true,
    "hide_input": true
   },
   "outputs": [
    {
     "data": {
      "application/javascript": [
       "\n",
       "            setTimeout(function() {\n",
       "                var nbb_cell_id = 39;\n",
       "                var nbb_unformatted_code = \"# define the optimization parameters\\ndct_target_wait_time = {\\n    \\\"kiosk\\\": 1.5,  # IATA optimum is 1-2 minutes\\n    \\\"CUSBD\\\": 3,  # IATA optimum is 1-5 minutes\\n}\\n\\nopening_hour_list = [2.5, 3, 3.5, 4]  # we also consider current case\\ntwo_step_ratio_list = [0.8] #[0.2, 0.5, 0.8]\\n\\nsystem_list = [\\\"N_kiosk\\\"]\\nall_system_list = [\\n    \\\"N_kiosk\\\",\\n    \\\"N_security_lanes\\\",\\n    \\\"N_emigration_counter\\\",\\n    \\\"N_emigration_self\\\",\\n]\\nother_result_list = [\\\"N_Counters\\\", \\\"waiting_time_counters\\\", \\\"EBS\\\", \\\"LBC\\\"]\\n\\n# initialize a path\\npath_dump = \\\"C:\\\\\\\\Users\\\\\\\\J00638\\\\\\\\KAP python\\\\\\\\Airport sim\\\\\\\\set_runs_departureCUSBD\\\\\\\\set_test\\\\\\\\run_checkin_rule_newloliloul\\\"\\n\\n# initialize df_results\\n#column_opening_hour = [a for a in opening_hour_list for b in two_step_ratio_list]\\n#column_two_step_ratio = [a for b in opening_hour_list for a in two_step_ratio_list]\\n\\n#index_result_opti = range(len(column_opening_hour))\\n#columns_list = [\\\"opening_hour\\\", \\\"two_step_ratio\\\"] + system_list + other_result_list\\n#df_result_opti = pd.DataFrame(columns=columns_list, index=index_result_opti)\\n\\n#df_result_opti[\\\"opening_hour\\\"] = column_opening_hour\\n#df_result_opti[\\\"two_step_ratio\\\"] = column_two_step_ratio\\n\\n# create dct_param_opti\\ndct_param_opti = dct_run_param.copy()\\ndct_param_opti.pop(\\\"target_peak\\\", None)\\n\\n# define dct of edited check-in rule\\ndct_kwargs_rules = {\\n    2.5: {\\n        \\\"start_time\\\": 2.5,\\n        \\\"onecounter_time\\\": 0.75,\\n        \\\"base_n_counter\\\": 4,\\n        \\\"seats_per_add_counter\\\": 60,\\n    },\\n    3: {\\n        \\\"start_time\\\": 3,\\n        \\\"onecounter_time\\\": 0.75,\\n        \\\"base_n_counter\\\": 3,\\n        \\\"seats_per_add_counter\\\": 75,\\n    },\\n    3.5: {\\n        \\\"start_time\\\": 3.5,\\n        \\\"onecounter_time\\\": 0.75,\\n        \\\"base_n_counter\\\": 3,\\n        \\\"seats_per_add_counter\\\": 90,\\n    },\\n    4: {\\n        \\\"start_time\\\": 4,\\n        \\\"onecounter_time\\\": 0.75,\\n        \\\"base_n_counter\\\": 3,\\n        \\\"seats_per_add_counter\\\": 105,\\n    },\\n}\";\n",
       "                var nbb_formatted_code = \"# define the optimization parameters\\ndct_target_wait_time = {\\n    \\\"kiosk\\\": 1.5,  # IATA optimum is 1-2 minutes\\n    \\\"CUSBD\\\": 3,  # IATA optimum is 1-5 minutes\\n}\\n\\nopening_hour_list = [2.5, 3, 3.5, 4]  # we also consider current case\\ntwo_step_ratio_list = [0.8]  # [0.2, 0.5, 0.8]\\n\\nsystem_list = [\\\"N_kiosk\\\"]\\nall_system_list = [\\n    \\\"N_kiosk\\\",\\n    \\\"N_security_lanes\\\",\\n    \\\"N_emigration_counter\\\",\\n    \\\"N_emigration_self\\\",\\n]\\nother_result_list = [\\\"N_Counters\\\", \\\"waiting_time_counters\\\", \\\"EBS\\\", \\\"LBC\\\"]\\n\\n# initialize a path\\npath_dump = \\\"C:\\\\\\\\Users\\\\\\\\J00638\\\\\\\\KAP python\\\\\\\\Airport sim\\\\\\\\set_runs_departureCUSBD\\\\\\\\set_test\\\\\\\\run_checkin_rule_newloliloul\\\"\\n\\n# initialize df_results\\n# column_opening_hour = [a for a in opening_hour_list for b in two_step_ratio_list]\\n# column_two_step_ratio = [a for b in opening_hour_list for a in two_step_ratio_list]\\n\\n# index_result_opti = range(len(column_opening_hour))\\n# columns_list = [\\\"opening_hour\\\", \\\"two_step_ratio\\\"] + system_list + other_result_list\\n# df_result_opti = pd.DataFrame(columns=columns_list, index=index_result_opti)\\n\\n# df_result_opti[\\\"opening_hour\\\"] = column_opening_hour\\n# df_result_opti[\\\"two_step_ratio\\\"] = column_two_step_ratio\\n\\n# create dct_param_opti\\ndct_param_opti = dct_run_param.copy()\\ndct_param_opti.pop(\\\"target_peak\\\", None)\\n\\n# define dct of edited check-in rule\\ndct_kwargs_rules = {\\n    2.5: {\\n        \\\"start_time\\\": 2.5,\\n        \\\"onecounter_time\\\": 0.75,\\n        \\\"base_n_counter\\\": 4,\\n        \\\"seats_per_add_counter\\\": 60,\\n    },\\n    3: {\\n        \\\"start_time\\\": 3,\\n        \\\"onecounter_time\\\": 0.75,\\n        \\\"base_n_counter\\\": 3,\\n        \\\"seats_per_add_counter\\\": 75,\\n    },\\n    3.5: {\\n        \\\"start_time\\\": 3.5,\\n        \\\"onecounter_time\\\": 0.75,\\n        \\\"base_n_counter\\\": 3,\\n        \\\"seats_per_add_counter\\\": 90,\\n    },\\n    4: {\\n        \\\"start_time\\\": 4,\\n        \\\"onecounter_time\\\": 0.75,\\n        \\\"base_n_counter\\\": 3,\\n        \\\"seats_per_add_counter\\\": 105,\\n    },\\n}\";\n",
       "                var nbb_cells = Jupyter.notebook.get_cells();\n",
       "                for (var i = 0; i < nbb_cells.length; ++i) {\n",
       "                    if (nbb_cells[i].input_prompt_number == nbb_cell_id) {\n",
       "                        if (nbb_cells[i].get_text() == nbb_unformatted_code) {\n",
       "                             nbb_cells[i].set_text(nbb_formatted_code);\n",
       "                        }\n",
       "                        break;\n",
       "                    }\n",
       "                }\n",
       "            }, 500);\n",
       "            "
      ],
      "text/plain": [
       "<IPython.core.display.Javascript object>"
      ]
     },
     "metadata": {},
     "output_type": "display_data"
    }
   ],
   "source": [
    "# define the optimization parameters\n",
    "dct_target_wait_time = {\n",
    "    \"kiosk\": 1.5,  # IATA optimum is 1-2 minutes\n",
    "    \"CUSBD\": 3,  # IATA optimum is 1-5 minutes\n",
    "}\n",
    "\n",
    "opening_hour_list = [2.5, 3, 3.5, 4]  # we also consider current case\n",
    "two_step_ratio_list = [0.2, 0.5, 0.8]\n",
    "\n",
    "system_list = [\"N_kiosk\"]\n",
    "all_system_list = [\n",
    "    \"N_kiosk\",\n",
    "    \"N_security_lanes\",\n",
    "    \"N_emigration_counter\",\n",
    "    \"N_emigration_self\",\n",
    "]\n",
    "other_result_list = [\"N_Counters\", \"waiting_time_counters\", \"EBS\", \"LBC\"]\n",
    "\n",
    "# initialize a path\n",
    "path_dump = \"C:\\\\Users\\\\J00638\\\\KAP python\\\\Airport sim\\\\set_runs_departureCUSBD\\\\set_test\\\\run_checkin_rule_newloliloul\"\n",
    "\n",
    "# initialize df_results\n",
    "# column_opening_hour = [a for a in opening_hour_list for b in two_step_ratio_list]\n",
    "# column_two_step_ratio = [a for b in opening_hour_list for a in two_step_ratio_list]\n",
    "\n",
    "# index_result_opti = range(len(column_opening_hour))\n",
    "# columns_list = [\"opening_hour\", \"two_step_ratio\"] + system_list + other_result_list\n",
    "# df_result_opti = pd.DataFrame(columns=columns_list, index=index_result_opti)\n",
    "\n",
    "# df_result_opti[\"opening_hour\"] = column_opening_hour\n",
    "# df_result_opti[\"two_step_ratio\"] = column_two_step_ratio\n",
    "\n",
    "# create dct_param_opti\n",
    "dct_param_opti = dct_run_param.copy()\n",
    "dct_param_opti.pop(\"target_peak\", None)\n",
    "\n",
    "# define dct of edited check-in rule\n",
    "dct_kwargs_rules = {\n",
    "    2.5: {\n",
    "        \"start_time\": 2.5,\n",
    "        \"onecounter_time\": 0.75,\n",
    "        \"base_n_counter\": 4,\n",
    "        \"seats_per_add_counter\": 60,\n",
    "    },\n",
    "    3: {\n",
    "        \"start_time\": 3,\n",
    "        \"onecounter_time\": 0.75,\n",
    "        \"base_n_counter\": 3,\n",
    "        \"seats_per_add_counter\": 75,\n",
    "    },\n",
    "    3.5: {\n",
    "        \"start_time\": 3.5,\n",
    "        \"onecounter_time\": 0.75,\n",
    "        \"base_n_counter\": 3,\n",
    "        \"seats_per_add_counter\": 90,\n",
    "    },\n",
    "    4: {\n",
    "        \"start_time\": 4,\n",
    "        \"onecounter_time\": 0.75,\n",
    "        \"base_n_counter\": 3,\n",
    "        \"seats_per_add_counter\": 105,\n",
    "    },\n",
    "}"
   ]
  },
  {
   "cell_type": "code",
   "execution_count": 40,
   "metadata": {
    "ExecuteTime": {
     "end_time": "2021-06-06T07:51:03.018953Z",
     "start_time": "2021-06-06T07:03:06.989212Z"
    },
    "hidden": true,
    "hide_input": true,
    "scrolled": true
   },
   "outputs": [
    {
     "data": {
      "application/vnd.jupyter.widget-view+json": {
       "model_id": "a1ac31b29fac4d489cfc32a8f48faef6",
       "version_major": 2,
       "version_minor": 0
      },
      "text/plain": [
       "Pax and counter generation...:   0%|          | 0/2 [00:00<?, ?it/s]"
      ]
     },
     "metadata": {},
     "output_type": "display_data"
    },
    {
     "name": "stdout",
     "output_type": "stream",
     "text": [
      "optimization for N_kiosk with:\n",
      " rule: opening 2.5hr before\n",
      " two_step_ratio = 0.8\n"
     ]
    },
    {
     "data": {
      "application/vnd.jupyter.widget-view+json": {
       "model_id": "95c0d6642f9946fab5c1403e0a907c4b",
       "version_major": 2,
       "version_minor": 0
      },
      "text/plain": [
       "Simulation running...:   0%|          | 0/1440 [00:00<?, ?it/s]"
      ]
     },
     "metadata": {},
     "output_type": "display_data"
    },
    {
     "name": "stdout",
     "output_type": "stream",
     "text": [
      "iteration #0:   x=49   error=0.001111111111111118  function evaluated 1 times step taken: 10\n",
      "     fun: 0.001111111111111118\n",
      "    nfev: 1\n",
      "     nit: 0\n",
      " success: False\n",
      "       x: 49\n"
     ]
    },
    {
     "data": {
      "application/vnd.jupyter.widget-view+json": {
       "model_id": "95459b70e7844043bc6a22e27ce082ae",
       "version_major": 2,
       "version_minor": 0
      },
      "text/plain": [
       "Simulation running...:   0%|          | 0/1440 [00:00<?, ?it/s]"
      ]
     },
     "metadata": {},
     "output_type": "display_data"
    },
    {
     "data": {
      "application/vnd.jupyter.widget-view+json": {
       "model_id": "f2b68350149346c494ca0d476df1f848",
       "version_major": 2,
       "version_minor": 0
      },
      "text/plain": [
       "Pax and counter generation...:   0%|          | 0/2 [00:00<?, ?it/s]"
      ]
     },
     "metadata": {},
     "output_type": "display_data"
    },
    {
     "data": {
      "application/vnd.jupyter.widget-view+json": {
       "model_id": "9ae0c31d8afd435daf7e37b63dd41bf0",
       "version_major": 2,
       "version_minor": 0
      },
      "text/plain": [
       "Pax and counter generation...:   0%|          | 0/2 [00:00<?, ?it/s]"
      ]
     },
     "metadata": {},
     "output_type": "display_data"
    },
    {
     "name": "stdout",
     "output_type": "stream",
     "text": [
      "optimization for N_kiosk with:\n",
      " rule: opening 3hr before\n",
      " two_step_ratio = 0.8\n"
     ]
    },
    {
     "data": {
      "application/vnd.jupyter.widget-view+json": {
       "model_id": "e2aefe32995347348e58f9904d9cfff8",
       "version_major": 2,
       "version_minor": 0
      },
      "text/plain": [
       "Simulation running...:   0%|          | 0/1440 [00:00<?, ?it/s]"
      ]
     },
     "metadata": {},
     "output_type": "display_data"
    },
    {
     "name": "stdout",
     "output_type": "stream",
     "text": [
      "iteration #0:   x=49   error=0.001111111111111118  function evaluated 1 times step taken: 10\n",
      "     fun: 0.001111111111111118\n",
      "    nfev: 1\n",
      "     nit: 0\n",
      " success: False\n",
      "       x: 49\n"
     ]
    },
    {
     "data": {
      "application/vnd.jupyter.widget-view+json": {
       "model_id": "16787be829354b839365efdbee1cd571",
       "version_major": 2,
       "version_minor": 0
      },
      "text/plain": [
       "Simulation running...:   0%|          | 0/1440 [00:00<?, ?it/s]"
      ]
     },
     "metadata": {},
     "output_type": "display_data"
    },
    {
     "data": {
      "application/vnd.jupyter.widget-view+json": {
       "model_id": "00556b56fbb142508b9b57a7a0c3cf8f",
       "version_major": 2,
       "version_minor": 0
      },
      "text/plain": [
       "Pax and counter generation...:   0%|          | 0/2 [00:00<?, ?it/s]"
      ]
     },
     "metadata": {},
     "output_type": "display_data"
    },
    {
     "data": {
      "application/vnd.jupyter.widget-view+json": {
       "model_id": "c7930d5276bb4fed95fd8d2d93a1e8ad",
       "version_major": 2,
       "version_minor": 0
      },
      "text/plain": [
       "Pax and counter generation...:   0%|          | 0/2 [00:00<?, ?it/s]"
      ]
     },
     "metadata": {},
     "output_type": "display_data"
    },
    {
     "name": "stdout",
     "output_type": "stream",
     "text": [
      "optimization for N_kiosk with:\n",
      " rule: opening 3.5hr before\n",
      " two_step_ratio = 0.8\n"
     ]
    },
    {
     "data": {
      "application/vnd.jupyter.widget-view+json": {
       "model_id": "16a2209b5e754e1d99fb44850b6135b6",
       "version_major": 2,
       "version_minor": 0
      },
      "text/plain": [
       "Simulation running...:   0%|          | 0/1440 [00:00<?, ?it/s]"
      ]
     },
     "metadata": {},
     "output_type": "display_data"
    },
    {
     "name": "stdout",
     "output_type": "stream",
     "text": [
      "iteration #0:   x=49   error=0.001111111111111118  function evaluated 1 times step taken: 10\n",
      "     fun: 0.001111111111111118\n",
      "    nfev: 1\n",
      "     nit: 0\n",
      " success: False\n",
      "       x: 49\n"
     ]
    },
    {
     "data": {
      "application/vnd.jupyter.widget-view+json": {
       "model_id": "5fd19cec335a4c7db14f8b0bee1f2cbb",
       "version_major": 2,
       "version_minor": 0
      },
      "text/plain": [
       "Simulation running...:   0%|          | 0/1440 [00:00<?, ?it/s]"
      ]
     },
     "metadata": {},
     "output_type": "display_data"
    },
    {
     "data": {
      "application/vnd.jupyter.widget-view+json": {
       "model_id": "01681cae728c4b7f882320d1b2c77690",
       "version_major": 2,
       "version_minor": 0
      },
      "text/plain": [
       "Pax and counter generation...:   0%|          | 0/2 [00:00<?, ?it/s]"
      ]
     },
     "metadata": {},
     "output_type": "display_data"
    },
    {
     "data": {
      "application/vnd.jupyter.widget-view+json": {
       "model_id": "2ac3f30bbe074c0590ebc6840b133a6b",
       "version_major": 2,
       "version_minor": 0
      },
      "text/plain": [
       "Pax and counter generation...:   0%|          | 0/2 [00:00<?, ?it/s]"
      ]
     },
     "metadata": {},
     "output_type": "display_data"
    },
    {
     "name": "stdout",
     "output_type": "stream",
     "text": [
      "optimization for N_kiosk with:\n",
      " rule: opening 4hr before\n",
      " two_step_ratio = 0.8\n"
     ]
    },
    {
     "data": {
      "application/vnd.jupyter.widget-view+json": {
       "model_id": "9740bf84a65c43129a49870980667ea1",
       "version_major": 2,
       "version_minor": 0
      },
      "text/plain": [
       "Simulation running...:   0%|          | 0/1440 [00:00<?, ?it/s]"
      ]
     },
     "metadata": {},
     "output_type": "display_data"
    },
    {
     "name": "stdout",
     "output_type": "stream",
     "text": [
      "iteration #0:   x=49   error=0.001111111111111118  function evaluated 1 times step taken: 10\n",
      "     fun: 0.001111111111111118\n",
      "    nfev: 1\n",
      "     nit: 0\n",
      " success: False\n",
      "       x: 49\n"
     ]
    },
    {
     "data": {
      "application/vnd.jupyter.widget-view+json": {
       "model_id": "6f2d997a99844a7bbe19c558724e50c0",
       "version_major": 2,
       "version_minor": 0
      },
      "text/plain": [
       "Simulation running...:   0%|          | 0/1440 [00:00<?, ?it/s]"
      ]
     },
     "metadata": {},
     "output_type": "display_data"
    },
    {
     "data": {
      "application/javascript": [
       "\n",
       "            setTimeout(function() {\n",
       "                var nbb_cell_id = 40;\n",
       "                var nbb_unformatted_code = \"for opening_hour in opening_hour_list:\\n    # generate df_Counters\\n\\n    # base case\\n    df_Pax, df_Counters = generate_dep_Pax_Counters(\\n        target_peak=3580,\\n        terminal=\\\"T1\\\",\\n        custom_showup=False,\\n        custom_counter_rule=False,\\n    )\\n\\n    # other case, we regenerate df_Counters\\n    if opening_hour != 2.5:\\n\\n        # retrieve relevant kwargs_rule\\n        kwargs_rule = dct_kwargs_rules[opening_hour]\\n\\n        _, df_Counters = generate_dep_Pax_Counters(\\n            target_peak=3580,\\n            terminal=\\\"T1\\\",\\n            custom_counter_rule=True,\\n            **kwargs_rule,\\n        )\\n\\n    # store result\\n    mask = df_result_opti[\\\"opening_hour\\\"] == opening_hour\\n    df_result_opti.loc[mask, \\\"N_Counters\\\"] = df_Counters[\\\"total\\\"].max()\\n\\n    # as we generated base case df_Pax and df_Counters already\\n    dct_param_opti[\\\"df_Pax\\\"] = df_Pax\\n    dct_param_opti[\\\"df_Counters\\\"] = df_Counters\\n\\n    for two_step_ratio in two_step_ratio_list:\\n        dct_param_opti[\\\"modern_pax_ratio\\\"] = (\\n            two_step_ratio - 0.05\\n        )  # digital pax do not change\\n\\n        for variable in system_list:\\n            # edit dct_param_opti\\n            dct_param_opti[\\\"path\\\"] = path_dump\\n\\n            # optimize current system\\n            # refresh the kwargs (with eventually results from last optimization)\\n            kwargs = {\\n                \\\"dct_param_T1d\\\": dct_param_opti,\\n                \\\"variable_string\\\": variable,  # eg. N_Z, N_kiosk, N_CUSBD\\n                \\\"target_wait_time\\\": dct_target_wait_time[\\n                    variable.split(\\\"_\\\")[1]\\n                ],  # target waiting time in minutes for each system, same for all system for now\\n                \\\"call_n_iter\\\": None,\\n                \\\"totalpbar\\\": None,\\n            }\\n\\n            # options for custom optimizer, first guess is taken from dct_year base value\\n            options = {\\n                \\\"guess\\\": int(49),\\n                \\\"maxfev\\\": 30,\\n                \\\"bigstep\\\": 10,\\n                \\\"smallstep\\\": 1,\\n                \\\"callback\\\": custcallback,\\n                \\\"tol\\\": 1,\\n            }\\n\\n            # run the optimization for that variable\\n            print(\\n                \\\"optimization for {} with:\\\\n rule: opening {}hr before\\\\n two_step_ratio = {}\\\".format(\\n                    variable, opening_hour, two_step_ratio\\n                )\\n            )\\n            f = univariate_cost_function_generator_t1d_N(**kwargs)\\n            res = custmin(f, **options)\\n            print(res)\\n\\n            # store in this loop's dct for next system\\n            dct_param_opti[variable] = res[\\\"x\\\"]\\n\\n            # store result\\n            mask = (df_result_opti[\\\"opening_hour\\\"] == opening_hour) & (\\n                df_result_opti[\\\"two_step_ratio\\\"] == two_step_ratio\\n            )\\n            df_result_opti.loc[mask, variable] = res[\\\"x\\\"]\\n\\n        # run the optimized simulation once to get the waiting time, EBS and LBC numbers\\n        (\\n            df_result,\\n            list_KPI_run,\\n            dct_hist_wait_time,\\n            dct_hist_queue_length,\\n        ) = KIX_T1_departure_sim_function(**dct_param_opti)\\n\\n        # store result for waiting time\\n        mask = (df_result_opti[\\\"opening_hour\\\"] == opening_hour) & (\\n            df_result_opti[\\\"two_step_ratio\\\"] == two_step_ratio\\n        )\\n        df_result_opti.loc[mask, \\\"waiting_time_counters\\\"] = dct_hist_wait_time[\\n            \\\"checkin_counter\\\"\\n        ].quantile(q=0.9)\\n\\n        # store result for EBS and LBC\\n        EBS_req, LBC_req = calculate_EBS_LBC(df_result)\\n        df_result_opti.loc[mask, \\\"EBS\\\"] = int(EBS_req)\\n        df_result_opti.loc[mask, \\\"LBC\\\"] = int(LBC_req)\";\n",
       "                var nbb_formatted_code = \"for opening_hour in opening_hour_list:\\n    # generate df_Counters\\n\\n    # base case\\n    df_Pax, df_Counters = generate_dep_Pax_Counters(\\n        target_peak=3580,\\n        terminal=\\\"T1\\\",\\n        custom_showup=False,\\n        custom_counter_rule=False,\\n    )\\n\\n    # other case, we regenerate df_Counters\\n    if opening_hour != 2.5:\\n\\n        # retrieve relevant kwargs_rule\\n        kwargs_rule = dct_kwargs_rules[opening_hour]\\n\\n        _, df_Counters = generate_dep_Pax_Counters(\\n            target_peak=3580,\\n            terminal=\\\"T1\\\",\\n            custom_counter_rule=True,\\n            **kwargs_rule,\\n        )\\n\\n    # store result\\n    mask = df_result_opti[\\\"opening_hour\\\"] == opening_hour\\n    df_result_opti.loc[mask, \\\"N_Counters\\\"] = df_Counters[\\\"total\\\"].max()\\n\\n    # as we generated base case df_Pax and df_Counters already\\n    dct_param_opti[\\\"df_Pax\\\"] = df_Pax\\n    dct_param_opti[\\\"df_Counters\\\"] = df_Counters\\n\\n    for two_step_ratio in two_step_ratio_list:\\n        dct_param_opti[\\\"modern_pax_ratio\\\"] = (\\n            two_step_ratio - 0.05\\n        )  # digital pax do not change\\n\\n        for variable in system_list:\\n            # edit dct_param_opti\\n            dct_param_opti[\\\"path\\\"] = path_dump\\n\\n            # optimize current system\\n            # refresh the kwargs (with eventually results from last optimization)\\n            kwargs = {\\n                \\\"dct_param_T1d\\\": dct_param_opti,\\n                \\\"variable_string\\\": variable,  # eg. N_Z, N_kiosk, N_CUSBD\\n                \\\"target_wait_time\\\": dct_target_wait_time[\\n                    variable.split(\\\"_\\\")[1]\\n                ],  # target waiting time in minutes for each system, same for all system for now\\n                \\\"call_n_iter\\\": None,\\n                \\\"totalpbar\\\": None,\\n            }\\n\\n            # options for custom optimizer, first guess is taken from dct_year base value\\n            options = {\\n                \\\"guess\\\": int(49),\\n                \\\"maxfev\\\": 30,\\n                \\\"bigstep\\\": 10,\\n                \\\"smallstep\\\": 1,\\n                \\\"callback\\\": custcallback,\\n                \\\"tol\\\": 1,\\n            }\\n\\n            # run the optimization for that variable\\n            print(\\n                \\\"optimization for {} with:\\\\n rule: opening {}hr before\\\\n two_step_ratio = {}\\\".format(\\n                    variable, opening_hour, two_step_ratio\\n                )\\n            )\\n            f = univariate_cost_function_generator_t1d_N(**kwargs)\\n            res = custmin(f, **options)\\n            print(res)\\n\\n            # store in this loop's dct for next system\\n            dct_param_opti[variable] = res[\\\"x\\\"]\\n\\n            # store result\\n            mask = (df_result_opti[\\\"opening_hour\\\"] == opening_hour) & (\\n                df_result_opti[\\\"two_step_ratio\\\"] == two_step_ratio\\n            )\\n            df_result_opti.loc[mask, variable] = res[\\\"x\\\"]\\n\\n        # run the optimized simulation once to get the waiting time, EBS and LBC numbers\\n        (\\n            df_result,\\n            list_KPI_run,\\n            dct_hist_wait_time,\\n            dct_hist_queue_length,\\n        ) = KIX_T1_departure_sim_function(**dct_param_opti)\\n\\n        # store result for waiting time\\n        mask = (df_result_opti[\\\"opening_hour\\\"] == opening_hour) & (\\n            df_result_opti[\\\"two_step_ratio\\\"] == two_step_ratio\\n        )\\n        df_result_opti.loc[mask, \\\"waiting_time_counters\\\"] = dct_hist_wait_time[\\n            \\\"checkin_counter\\\"\\n        ].quantile(q=0.9)\\n\\n        # store result for EBS and LBC\\n        EBS_req, LBC_req = calculate_EBS_LBC(df_result)\\n        df_result_opti.loc[mask, \\\"EBS\\\"] = int(EBS_req)\\n        df_result_opti.loc[mask, \\\"LBC\\\"] = int(LBC_req)\";\n",
       "                var nbb_cells = Jupyter.notebook.get_cells();\n",
       "                for (var i = 0; i < nbb_cells.length; ++i) {\n",
       "                    if (nbb_cells[i].input_prompt_number == nbb_cell_id) {\n",
       "                        if (nbb_cells[i].get_text() == nbb_unformatted_code) {\n",
       "                             nbb_cells[i].set_text(nbb_formatted_code);\n",
       "                        }\n",
       "                        break;\n",
       "                    }\n",
       "                }\n",
       "            }, 500);\n",
       "            "
      ],
      "text/plain": [
       "<IPython.core.display.Javascript object>"
      ]
     },
     "metadata": {},
     "output_type": "display_data"
    }
   ],
   "source": [
    "for opening_hour in opening_hour_list:\n",
    "    # generate df_Counters\n",
    "    \n",
    "    # retrieve relevant kwargs_rule\n",
    "    kwargs_rule = dct_kwargs_rules[opening_hour]\n",
    "\n",
    "    _, df_Counters = generate_dep_Pax_Counters(\n",
    "        target_peak=3580,\n",
    "        terminal=\"T1\",\n",
    "        custom_counter_rule=True,\n",
    "        **kwargs_rule,\n",
    "    )\n",
    "\n",
    "    # store result\n",
    "    mask = df_result_opti[\"opening_hour\"] == opening_hour\n",
    "    df_result_opti.loc[mask, \"N_Counters\"] = df_Counters[\"total\"].max()\n",
    "\n",
    "    # as we generated base case df_Pax and df_Counters already\n",
    "    dct_param_opti[\"df_Pax\"] = df_Pax\n",
    "    dct_param_opti[\"df_Counters\"] = df_Counters\n",
    "\n",
    "    for two_step_ratio in two_step_ratio_list:\n",
    "        dct_param_opti[\"modern_pax_ratio\"] = (\n",
    "            two_step_ratio - 0.05\n",
    "        )  # digital pax do not change\n",
    "\n",
    "        for variable in system_list:\n",
    "            # edit dct_param_opti\n",
    "            dct_param_opti[\"path\"] = path_dump\n",
    "\n",
    "            # optimize current system\n",
    "            # refresh the kwargs (with eventually results from last optimization)\n",
    "            kwargs = {\n",
    "                \"dct_param_T1d\": dct_param_opti,\n",
    "                \"variable_string\": variable,  # eg. N_Z, N_kiosk, N_CUSBD\n",
    "                \"target_wait_time\": dct_target_wait_time[\n",
    "                    variable.split(\"_\")[1]\n",
    "                ],  # target waiting time in minutes for each system, same for all system for now\n",
    "                \"call_n_iter\": None,\n",
    "                \"totalpbar\": None,\n",
    "            }\n",
    "\n",
    "            # options for custom optimizer, first guess is taken from dct_year base value\n",
    "            options = {\n",
    "                \"guess\": int(49),\n",
    "                \"maxfev\": 30,\n",
    "                \"bigstep\": 10,\n",
    "                \"smallstep\": 1,\n",
    "                \"callback\": custcallback,\n",
    "                \"tol\": 1,\n",
    "            }\n",
    "\n",
    "            # run the optimization for that variable\n",
    "            print(\n",
    "                \"optimization for {} with:\\n rule: opening {}hr before\\n two_step_ratio = {}\".format(\n",
    "                    variable, opening_hour, two_step_ratio\n",
    "                )\n",
    "            )\n",
    "            f = univariate_cost_function_generator_t1d_N(**kwargs)\n",
    "            res = custmin(f, **options)\n",
    "            print(res)\n",
    "\n",
    "            # store in this loop's dct for next system\n",
    "            dct_param_opti[variable] = res[\"x\"]\n",
    "\n",
    "            # store result\n",
    "            mask = (df_result_opti[\"opening_hour\"] == opening_hour) & (\n",
    "                df_result_opti[\"two_step_ratio\"] == two_step_ratio\n",
    "            )\n",
    "            df_result_opti.loc[mask, variable] = res[\"x\"]\n",
    "\n",
    "        # run the optimized simulation once to get the waiting time, EBS and LBC numbers\n",
    "        (\n",
    "            df_result,\n",
    "            list_KPI_run,\n",
    "            dct_hist_wait_time,\n",
    "            dct_hist_queue_length,\n",
    "        ) = KIX_T1_departure_sim_function(**dct_param_opti)\n",
    "\n",
    "        # store result for waiting time\n",
    "        mask = (df_result_opti[\"opening_hour\"] == opening_hour) & (\n",
    "            df_result_opti[\"two_step_ratio\"] == two_step_ratio\n",
    "        )\n",
    "        df_result_opti.loc[mask, \"waiting_time_counters\"] = dct_hist_wait_time[\n",
    "            \"checkin_counter\"\n",
    "        ].quantile(q=0.9)\n",
    "\n",
    "        # store result for EBS and LBC\n",
    "        EBS_req, LBC_req = calculate_EBS_LBC(df_result)\n",
    "        df_result_opti.loc[mask, \"EBS\"] = int(EBS_req)\n",
    "        df_result_opti.loc[mask, \"LBC\"] = int(LBC_req)\n",
    "        \n",
    "        # store result for dwell time        \n",
    "        df_dwell, mean, top90 = calculate_avg_dwell_time(df_result)        \n",
    "        df_result_opti.loc[mask, \"dwell_time\"] = mean\n",
    "        df_result_opti.loc[mask, \"df_dwell_time\"] = df_dwell"
   ]
  },
  {
   "cell_type": "code",
   "execution_count": 145,
   "metadata": {
    "ExecuteTime": {
     "end_time": "2021-06-07T04:55:22.607391Z",
     "start_time": "2021-06-07T04:55:22.347268Z"
    },
    "hidden": true,
    "hide_input": true
   },
   "outputs": [
    {
     "data": {
      "text/html": [
       "<div>\n",
       "<style scoped>\n",
       "    .dataframe tbody tr th:only-of-type {\n",
       "        vertical-align: middle;\n",
       "    }\n",
       "\n",
       "    .dataframe tbody tr th {\n",
       "        vertical-align: top;\n",
       "    }\n",
       "\n",
       "    .dataframe thead th {\n",
       "        text-align: right;\n",
       "    }\n",
       "</style>\n",
       "<table border=\"1\" class=\"dataframe\">\n",
       "  <thead>\n",
       "    <tr style=\"text-align: right;\">\n",
       "      <th></th>\n",
       "      <th>opening_hour</th>\n",
       "      <th>two_step_ratio</th>\n",
       "      <th>N_kiosk</th>\n",
       "      <th>N_Counters</th>\n",
       "      <th>waiting_time_counters</th>\n",
       "      <th>EBS</th>\n",
       "      <th>LBC</th>\n",
       "    </tr>\n",
       "  </thead>\n",
       "  <tbody>\n",
       "    <tr>\n",
       "      <th>0</th>\n",
       "      <td>2.5</td>\n",
       "      <td>0.2</td>\n",
       "      <td>13</td>\n",
       "      <td>131</td>\n",
       "      <td>49.5167</td>\n",
       "      <td>1120</td>\n",
       "      <td>0</td>\n",
       "    </tr>\n",
       "    <tr>\n",
       "      <th>1</th>\n",
       "      <td>2.5</td>\n",
       "      <td>0.5</td>\n",
       "      <td>31</td>\n",
       "      <td>131</td>\n",
       "      <td>45.4667</td>\n",
       "      <td>1174</td>\n",
       "      <td>0</td>\n",
       "    </tr>\n",
       "    <tr>\n",
       "      <th>2</th>\n",
       "      <td>2.5</td>\n",
       "      <td>0.8</td>\n",
       "      <td>49</td>\n",
       "      <td>131</td>\n",
       "      <td>41.8317</td>\n",
       "      <td>1232</td>\n",
       "      <td>0</td>\n",
       "    </tr>\n",
       "    <tr>\n",
       "      <th>3</th>\n",
       "      <td>3.0</td>\n",
       "      <td>0.2</td>\n",
       "      <td>13</td>\n",
       "      <td>126</td>\n",
       "      <td>47.2167</td>\n",
       "      <td>1435</td>\n",
       "      <td>0</td>\n",
       "    </tr>\n",
       "    <tr>\n",
       "      <th>4</th>\n",
       "      <td>3.0</td>\n",
       "      <td>0.5</td>\n",
       "      <td>31</td>\n",
       "      <td>126</td>\n",
       "      <td>42.6667</td>\n",
       "      <td>1485</td>\n",
       "      <td>0</td>\n",
       "    </tr>\n",
       "    <tr>\n",
       "      <th>5</th>\n",
       "      <td>3.0</td>\n",
       "      <td>0.8</td>\n",
       "      <td>49</td>\n",
       "      <td>126</td>\n",
       "      <td>38.6483</td>\n",
       "      <td>1533</td>\n",
       "      <td>0</td>\n",
       "    </tr>\n",
       "    <tr>\n",
       "      <th>6</th>\n",
       "      <td>3.5</td>\n",
       "      <td>0.2</td>\n",
       "      <td>13</td>\n",
       "      <td>121</td>\n",
       "      <td>34.2667</td>\n",
       "      <td>2051</td>\n",
       "      <td>11</td>\n",
       "    </tr>\n",
       "    <tr>\n",
       "      <th>7</th>\n",
       "      <td>3.5</td>\n",
       "      <td>0.5</td>\n",
       "      <td>31</td>\n",
       "      <td>121</td>\n",
       "      <td>29.7817</td>\n",
       "      <td>2111</td>\n",
       "      <td>0</td>\n",
       "    </tr>\n",
       "    <tr>\n",
       "      <th>8</th>\n",
       "      <td>3.5</td>\n",
       "      <td>0.8</td>\n",
       "      <td>49</td>\n",
       "      <td>121</td>\n",
       "      <td>25.7167</td>\n",
       "      <td>2178</td>\n",
       "      <td>0</td>\n",
       "    </tr>\n",
       "    <tr>\n",
       "      <th>9</th>\n",
       "      <td>4.0</td>\n",
       "      <td>0.2</td>\n",
       "      <td>13</td>\n",
       "      <td>125</td>\n",
       "      <td>15.2983</td>\n",
       "      <td>2734</td>\n",
       "      <td>0</td>\n",
       "    </tr>\n",
       "    <tr>\n",
       "      <th>10</th>\n",
       "      <td>4.0</td>\n",
       "      <td>0.5</td>\n",
       "      <td>31</td>\n",
       "      <td>125</td>\n",
       "      <td>11.865</td>\n",
       "      <td>2756</td>\n",
       "      <td>0</td>\n",
       "    </tr>\n",
       "    <tr>\n",
       "      <th>11</th>\n",
       "      <td>4.0</td>\n",
       "      <td>0.8</td>\n",
       "      <td>49</td>\n",
       "      <td>125</td>\n",
       "      <td>9.06667</td>\n",
       "      <td>2790</td>\n",
       "      <td>0</td>\n",
       "    </tr>\n",
       "  </tbody>\n",
       "</table>\n",
       "</div>"
      ],
      "text/plain": [
       "    opening_hour  two_step_ratio N_kiosk N_Counters waiting_time_counters  \\\n",
       "0            2.5             0.2      13        131               49.5167   \n",
       "1            2.5             0.5      31        131               45.4667   \n",
       "2            2.5             0.8      49        131               41.8317   \n",
       "3            3.0             0.2      13        126               47.2167   \n",
       "4            3.0             0.5      31        126               42.6667   \n",
       "5            3.0             0.8      49        126               38.6483   \n",
       "6            3.5             0.2      13        121               34.2667   \n",
       "7            3.5             0.5      31        121               29.7817   \n",
       "8            3.5             0.8      49        121               25.7167   \n",
       "9            4.0             0.2      13        125               15.2983   \n",
       "10           4.0             0.5      31        125                11.865   \n",
       "11           4.0             0.8      49        125               9.06667   \n",
       "\n",
       "     EBS LBC  \n",
       "0   1120   0  \n",
       "1   1174   0  \n",
       "2   1232   0  \n",
       "3   1435   0  \n",
       "4   1485   0  \n",
       "5   1533   0  \n",
       "6   2051  11  \n",
       "7   2111   0  \n",
       "8   2178   0  \n",
       "9   2734   0  \n",
       "10  2756   0  \n",
       "11  2790   0  "
      ]
     },
     "execution_count": 145,
     "metadata": {},
     "output_type": "execute_result"
    },
    {
     "data": {
      "application/javascript": [
       "\n",
       "            setTimeout(function() {\n",
       "                var nbb_cell_id = 145;\n",
       "                var nbb_unformatted_code = \"df_result_opti\";\n",
       "                var nbb_formatted_code = \"df_result_opti\";\n",
       "                var nbb_cells = Jupyter.notebook.get_cells();\n",
       "                for (var i = 0; i < nbb_cells.length; ++i) {\n",
       "                    if (nbb_cells[i].input_prompt_number == nbb_cell_id) {\n",
       "                        if (nbb_cells[i].get_text() == nbb_unformatted_code) {\n",
       "                             nbb_cells[i].set_text(nbb_formatted_code);\n",
       "                        }\n",
       "                        break;\n",
       "                    }\n",
       "                }\n",
       "            }, 500);\n",
       "            "
      ],
      "text/plain": [
       "<IPython.core.display.Javascript object>"
      ]
     },
     "metadata": {},
     "output_type": "display_data"
    }
   ],
   "source": [
    "df_result_opti"
   ]
  },
  {
   "cell_type": "markdown",
   "metadata": {},
   "source": [
    "### re-calculate EBS, LBS and dwell time"
   ]
  },
  {
   "cell_type": "code",
   "execution_count": 192,
   "metadata": {
    "ExecuteTime": {
     "end_time": "2021-06-07T07:33:58.205497Z",
     "start_time": "2021-06-07T06:23:45.408763Z"
    },
    "run_control": {
     "marked": false
    }
   },
   "outputs": [
    {
     "data": {
      "application/vnd.jupyter.widget-view+json": {
       "model_id": "08351be799d14bff9bb308a054db3481",
       "version_major": 2,
       "version_minor": 0
      },
      "text/plain": [
       "Pax and counter generation...:   0%|          | 0/2 [00:00<?, ?it/s]"
      ]
     },
     "metadata": {},
     "output_type": "display_data"
    },
    {
     "data": {
      "application/vnd.jupyter.widget-view+json": {
       "model_id": "40f0272a4ee24a968319326c1a60de65",
       "version_major": 2,
       "version_minor": 0
      },
      "text/plain": [
       "Simulation running...:   0%|          | 0/1440 [00:00<?, ?it/s]"
      ]
     },
     "metadata": {},
     "output_type": "display_data"
    },
    {
     "data": {
      "application/vnd.jupyter.widget-view+json": {
       "model_id": "5a46f1886a144ae1ba2eb88ac94de404",
       "version_major": 2,
       "version_minor": 0
      },
      "text/plain": [
       "Simulation running...:   0%|          | 0/1440 [00:00<?, ?it/s]"
      ]
     },
     "metadata": {},
     "output_type": "display_data"
    },
    {
     "data": {
      "application/vnd.jupyter.widget-view+json": {
       "model_id": "8abbeaa150c449bd9737a9943954a460",
       "version_major": 2,
       "version_minor": 0
      },
      "text/plain": [
       "Simulation running...:   0%|          | 0/1440 [00:00<?, ?it/s]"
      ]
     },
     "metadata": {},
     "output_type": "display_data"
    },
    {
     "data": {
      "application/vnd.jupyter.widget-view+json": {
       "model_id": "f186840f9a81471bb40af6fca7d810b4",
       "version_major": 2,
       "version_minor": 0
      },
      "text/plain": [
       "Pax and counter generation...:   0%|          | 0/2 [00:00<?, ?it/s]"
      ]
     },
     "metadata": {},
     "output_type": "display_data"
    },
    {
     "data": {
      "application/vnd.jupyter.widget-view+json": {
       "model_id": "3e94265f2c8048698e22e2e8b068a166",
       "version_major": 2,
       "version_minor": 0
      },
      "text/plain": [
       "Simulation running...:   0%|          | 0/1440 [00:00<?, ?it/s]"
      ]
     },
     "metadata": {},
     "output_type": "display_data"
    },
    {
     "data": {
      "application/vnd.jupyter.widget-view+json": {
       "model_id": "36f18b3621074424abbb3452b3104c4b",
       "version_major": 2,
       "version_minor": 0
      },
      "text/plain": [
       "Simulation running...:   0%|          | 0/1440 [00:00<?, ?it/s]"
      ]
     },
     "metadata": {},
     "output_type": "display_data"
    },
    {
     "data": {
      "application/vnd.jupyter.widget-view+json": {
       "model_id": "4d6310799c9e4851a22266fc7d606483",
       "version_major": 2,
       "version_minor": 0
      },
      "text/plain": [
       "Simulation running...:   0%|          | 0/1440 [00:00<?, ?it/s]"
      ]
     },
     "metadata": {},
     "output_type": "display_data"
    },
    {
     "data": {
      "application/vnd.jupyter.widget-view+json": {
       "model_id": "3f351540c9334b709dd22f721db09024",
       "version_major": 2,
       "version_minor": 0
      },
      "text/plain": [
       "Pax and counter generation...:   0%|          | 0/2 [00:00<?, ?it/s]"
      ]
     },
     "metadata": {},
     "output_type": "display_data"
    },
    {
     "data": {
      "application/vnd.jupyter.widget-view+json": {
       "model_id": "3644d1b8e8ba4d178e9c9d0b96900671",
       "version_major": 2,
       "version_minor": 0
      },
      "text/plain": [
       "Simulation running...:   0%|          | 0/1440 [00:00<?, ?it/s]"
      ]
     },
     "metadata": {},
     "output_type": "display_data"
    },
    {
     "data": {
      "application/vnd.jupyter.widget-view+json": {
       "model_id": "bbd41ec5a3d94aff99ae21832a5ca56a",
       "version_major": 2,
       "version_minor": 0
      },
      "text/plain": [
       "Simulation running...:   0%|          | 0/1440 [00:00<?, ?it/s]"
      ]
     },
     "metadata": {},
     "output_type": "display_data"
    },
    {
     "data": {
      "application/vnd.jupyter.widget-view+json": {
       "model_id": "25d16197fcc741daa672d63035068574",
       "version_major": 2,
       "version_minor": 0
      },
      "text/plain": [
       "Simulation running...:   0%|          | 0/1440 [00:00<?, ?it/s]"
      ]
     },
     "metadata": {},
     "output_type": "display_data"
    },
    {
     "data": {
      "application/vnd.jupyter.widget-view+json": {
       "model_id": "c9b5a706c7d04239ada4d35b89ec9ada",
       "version_major": 2,
       "version_minor": 0
      },
      "text/plain": [
       "Pax and counter generation...:   0%|          | 0/2 [00:00<?, ?it/s]"
      ]
     },
     "metadata": {},
     "output_type": "display_data"
    },
    {
     "data": {
      "application/vnd.jupyter.widget-view+json": {
       "model_id": "0305b289129b4ce6839c7570464150ed",
       "version_major": 2,
       "version_minor": 0
      },
      "text/plain": [
       "Simulation running...:   0%|          | 0/1440 [00:00<?, ?it/s]"
      ]
     },
     "metadata": {},
     "output_type": "display_data"
    },
    {
     "data": {
      "application/vnd.jupyter.widget-view+json": {
       "model_id": "cada9afe633d4d5eaafe83b824150236",
       "version_major": 2,
       "version_minor": 0
      },
      "text/plain": [
       "Simulation running...:   0%|          | 0/1440 [00:00<?, ?it/s]"
      ]
     },
     "metadata": {},
     "output_type": "display_data"
    },
    {
     "data": {
      "application/vnd.jupyter.widget-view+json": {
       "model_id": "dcab001504614d6ab26649e9c93cbbcb",
       "version_major": 2,
       "version_minor": 0
      },
      "text/plain": [
       "Simulation running...:   0%|          | 0/1440 [00:00<?, ?it/s]"
      ]
     },
     "metadata": {},
     "output_type": "display_data"
    },
    {
     "data": {
      "application/javascript": [
       "\n",
       "            setTimeout(function() {\n",
       "                var nbb_cell_id = 192;\n",
       "                var nbb_unformatted_code = \"# re run the EBS, LBC and dwell time\\nopening_hour_list = [2.5, 3, 3.5, 4]  # we also consider current case\\ntwo_step_ratio_list = [0.2, 0.5, 0.8]\\n\\nfor opening_hour in opening_hour_list:\\n    # generate df_Counters\\n\\n    # retrieve relevant kwargs_rule\\n    kwargs_rule = dct_kwargs_rules[opening_hour]\\n\\n    df_Pax, df_Counters = generate_dep_Pax_Counters(\\n        target_peak=3580,\\n        terminal=\\\"T1\\\",\\n        custom_counter_rule=True,\\n        **kwargs_rule,\\n    )\\n\\n    # as we generated base case df_Pax and df_Counters already\\n    dct_param_opti[\\\"df_Pax\\\"] = df_Pax\\n    dct_param_opti[\\\"df_Counters\\\"] = df_Counters\\n\\n    for two_step_ratio in two_step_ratio_list:\\n        dct_param_opti[\\\"modern_pax_ratio\\\"] = (\\n            two_step_ratio - 0.05\\n        )  # digital pax do not change\\n\\n        mask = (df_result_opti[\\\"opening_hour\\\"] == opening_hour) & (\\n            df_result_opti[\\\"two_step_ratio\\\"] == two_step_ratio\\n        )\\n        dct_param_opti[\\\"N_kiosk\\\"] = df_result_opti.loc[mask, \\\"N_kiosk\\\"].values[0]\\n\\n        (\\n            df_result,\\n            list_KPI_run,\\n            dct_hist_wait_time,\\n            dct_hist_queue_length,\\n        ) = KIX_T1_departure_sim_function(**dct_param_opti)\\n\\n        # store result for EBS and LBC\\n        EBS_req, LBC_req = calculate_EBS_LBC(df_result)\\n        df_result_opti.loc[mask, \\\"EBS\\\"] = int(EBS_req)\\n        df_result_opti.loc[mask, \\\"LBC\\\"] = int(LBC_req)\\n\\n        # store result for dwell time\\n        df_dwell, mean, top90 = calculate_avg_dwell_time(df_result)\\n        df_result_opti.loc[mask, \\\"dwell_time\\\"] = mean\\n        df_result_opti.loc[mask, \\\"df_dwell_time\\\"] = df_dwell\";\n",
       "                var nbb_formatted_code = \"# re run the EBS, LBC and dwell time\\nopening_hour_list = [2.5, 3, 3.5, 4]  # we also consider current case\\ntwo_step_ratio_list = [0.2, 0.5, 0.8]\\n\\nfor opening_hour in opening_hour_list:\\n    # generate df_Counters\\n\\n    # retrieve relevant kwargs_rule\\n    kwargs_rule = dct_kwargs_rules[opening_hour]\\n\\n    df_Pax, df_Counters = generate_dep_Pax_Counters(\\n        target_peak=3580,\\n        terminal=\\\"T1\\\",\\n        custom_counter_rule=True,\\n        **kwargs_rule,\\n    )\\n\\n    # as we generated base case df_Pax and df_Counters already\\n    dct_param_opti[\\\"df_Pax\\\"] = df_Pax\\n    dct_param_opti[\\\"df_Counters\\\"] = df_Counters\\n\\n    for two_step_ratio in two_step_ratio_list:\\n        dct_param_opti[\\\"modern_pax_ratio\\\"] = (\\n            two_step_ratio - 0.05\\n        )  # digital pax do not change\\n\\n        mask = (df_result_opti[\\\"opening_hour\\\"] == opening_hour) & (\\n            df_result_opti[\\\"two_step_ratio\\\"] == two_step_ratio\\n        )\\n        dct_param_opti[\\\"N_kiosk\\\"] = df_result_opti.loc[mask, \\\"N_kiosk\\\"].values[0]\\n\\n        (\\n            df_result,\\n            list_KPI_run,\\n            dct_hist_wait_time,\\n            dct_hist_queue_length,\\n        ) = KIX_T1_departure_sim_function(**dct_param_opti)\\n\\n        # store result for EBS and LBC\\n        EBS_req, LBC_req = calculate_EBS_LBC(df_result)\\n        df_result_opti.loc[mask, \\\"EBS\\\"] = int(EBS_req)\\n        df_result_opti.loc[mask, \\\"LBC\\\"] = int(LBC_req)\\n\\n        # store result for dwell time\\n        df_dwell, mean, top90 = calculate_avg_dwell_time(df_result)\\n        df_result_opti.loc[mask, \\\"dwell_time\\\"] = mean\\n        df_result_opti.loc[mask, \\\"df_dwell_time\\\"] = df_dwell\";\n",
       "                var nbb_cells = Jupyter.notebook.get_cells();\n",
       "                for (var i = 0; i < nbb_cells.length; ++i) {\n",
       "                    if (nbb_cells[i].input_prompt_number == nbb_cell_id) {\n",
       "                        if (nbb_cells[i].get_text() == nbb_unformatted_code) {\n",
       "                             nbb_cells[i].set_text(nbb_formatted_code);\n",
       "                        }\n",
       "                        break;\n",
       "                    }\n",
       "                }\n",
       "            }, 500);\n",
       "            "
      ],
      "text/plain": [
       "<IPython.core.display.Javascript object>"
      ]
     },
     "metadata": {},
     "output_type": "display_data"
    }
   ],
   "source": [
    "# re run the EBS, LBC and dwell time\n",
    "opening_hour_list = [2.5, 3, 3.5, 4]  # we also consider current case\n",
    "two_step_ratio_list = [0.2, 0.5, 0.8]\n",
    "\n",
    "for opening_hour in opening_hour_list:\n",
    "    # generate df_Counters\n",
    "\n",
    "    # retrieve relevant kwargs_rule\n",
    "    kwargs_rule = dct_kwargs_rules[opening_hour]\n",
    "\n",
    "    df_Pax, df_Counters = generate_dep_Pax_Counters(\n",
    "        target_peak=3580,\n",
    "        terminal=\"T1\",\n",
    "        custom_counter_rule=True,\n",
    "        **kwargs_rule,\n",
    "    )\n",
    "\n",
    "    # as we generated base case df_Pax and df_Counters already\n",
    "    dct_param_opti[\"df_Pax\"] = df_Pax\n",
    "    dct_param_opti[\"df_Counters\"] = df_Counters\n",
    "\n",
    "    for two_step_ratio in two_step_ratio_list:\n",
    "        dct_param_opti[\"modern_pax_ratio\"] = (\n",
    "            two_step_ratio - 0.05\n",
    "        )  # digital pax do not change\n",
    "\n",
    "        mask = (df_result_opti[\"opening_hour\"] == opening_hour) & (\n",
    "            df_result_opti[\"two_step_ratio\"] == two_step_ratio\n",
    "        )\n",
    "        dct_param_opti[\"N_kiosk\"] = df_result_opti.loc[mask, \"N_kiosk\"].values[0]\n",
    "\n",
    "        (\n",
    "            df_result,\n",
    "            list_KPI_run,\n",
    "            dct_hist_wait_time,\n",
    "            dct_hist_queue_length,\n",
    "        ) = KIX_T1_departure_sim_function(**dct_param_opti)\n",
    "\n",
    "        # store result for EBS and LBC\n",
    "        EBS_req, LBC_req = calculate_EBS_LBC(df_result)\n",
    "        df_result_opti.loc[mask, \"EBS\"] = int(EBS_req)\n",
    "        df_result_opti.loc[mask, \"LBC\"] = int(LBC_req)\n",
    "\n",
    "        # store result for dwell time\n",
    "        df_dwell, mean, top90 = calculate_avg_dwell_time(df_result)\n",
    "        df_result_opti.loc[mask, \"dwell_time\"] = mean\n",
    "        df_result_opti.loc[mask, \"df_dwell_time\"] = df_dwell"
   ]
  },
  {
   "cell_type": "code",
   "execution_count": 211,
   "metadata": {
    "ExecuteTime": {
     "end_time": "2021-06-07T15:11:02.938615Z",
     "start_time": "2021-06-07T15:11:02.913605Z"
    }
   },
   "outputs": [
    {
     "data": {
      "text/html": [
       "<div>\n",
       "<style scoped>\n",
       "    .dataframe tbody tr th:only-of-type {\n",
       "        vertical-align: middle;\n",
       "    }\n",
       "\n",
       "    .dataframe tbody tr th {\n",
       "        vertical-align: top;\n",
       "    }\n",
       "\n",
       "    .dataframe thead th {\n",
       "        text-align: right;\n",
       "    }\n",
       "</style>\n",
       "<table border=\"1\" class=\"dataframe\">\n",
       "  <thead>\n",
       "    <tr style=\"text-align: right;\">\n",
       "      <th></th>\n",
       "      <th>opening_hour</th>\n",
       "      <th>two_step_ratio</th>\n",
       "      <th>N_kiosk</th>\n",
       "      <th>N_Counters</th>\n",
       "      <th>waiting_time_counters</th>\n",
       "      <th>EBS</th>\n",
       "      <th>LBC</th>\n",
       "      <th>dwell_time</th>\n",
       "      <th>df_dwell_time</th>\n",
       "    </tr>\n",
       "  </thead>\n",
       "  <tbody>\n",
       "    <tr>\n",
       "      <th>0</th>\n",
       "      <td>2.5</td>\n",
       "      <td>0.2</td>\n",
       "      <td>13</td>\n",
       "      <td>131</td>\n",
       "      <td>49.5167</td>\n",
       "      <td>1159</td>\n",
       "      <td>214</td>\n",
       "      <td>111.317240</td>\n",
       "      <td>0 days 02:09:58</td>\n",
       "    </tr>\n",
       "    <tr>\n",
       "      <th>1</th>\n",
       "      <td>2.5</td>\n",
       "      <td>0.5</td>\n",
       "      <td>31</td>\n",
       "      <td>131</td>\n",
       "      <td>45.4667</td>\n",
       "      <td>1213</td>\n",
       "      <td>159</td>\n",
       "      <td>113.306147</td>\n",
       "      <td>0 days 01:30:26</td>\n",
       "    </tr>\n",
       "    <tr>\n",
       "      <th>2</th>\n",
       "      <td>2.5</td>\n",
       "      <td>0.8</td>\n",
       "      <td>49</td>\n",
       "      <td>131</td>\n",
       "      <td>41.8317</td>\n",
       "      <td>1271</td>\n",
       "      <td>111</td>\n",
       "      <td>115.243283</td>\n",
       "      <td>0 days 01:51:36</td>\n",
       "    </tr>\n",
       "    <tr>\n",
       "      <th>3</th>\n",
       "      <td>3.0</td>\n",
       "      <td>0.2</td>\n",
       "      <td>13</td>\n",
       "      <td>126</td>\n",
       "      <td>47.2167</td>\n",
       "      <td>1474</td>\n",
       "      <td>151</td>\n",
       "      <td>126.838795</td>\n",
       "      <td>0 days 02:07:06</td>\n",
       "    </tr>\n",
       "    <tr>\n",
       "      <th>4</th>\n",
       "      <td>3.0</td>\n",
       "      <td>0.5</td>\n",
       "      <td>31</td>\n",
       "      <td>126</td>\n",
       "      <td>42.6667</td>\n",
       "      <td>1524</td>\n",
       "      <td>105</td>\n",
       "      <td>128.940204</td>\n",
       "      <td>0 days 02:42:02</td>\n",
       "    </tr>\n",
       "    <tr>\n",
       "      <th>5</th>\n",
       "      <td>3.0</td>\n",
       "      <td>0.8</td>\n",
       "      <td>49</td>\n",
       "      <td>126</td>\n",
       "      <td>38.6483</td>\n",
       "      <td>1572</td>\n",
       "      <td>88</td>\n",
       "      <td>130.916207</td>\n",
       "      <td>0 days 02:17:36</td>\n",
       "    </tr>\n",
       "    <tr>\n",
       "      <th>6</th>\n",
       "      <td>3.5</td>\n",
       "      <td>0.2</td>\n",
       "      <td>13</td>\n",
       "      <td>121</td>\n",
       "      <td>34.2667</td>\n",
       "      <td>2090</td>\n",
       "      <td>111</td>\n",
       "      <td>144.050033</td>\n",
       "      <td>0 days 02:45:43</td>\n",
       "    </tr>\n",
       "    <tr>\n",
       "      <th>7</th>\n",
       "      <td>3.5</td>\n",
       "      <td>0.5</td>\n",
       "      <td>31</td>\n",
       "      <td>121</td>\n",
       "      <td>29.7817</td>\n",
       "      <td>2150</td>\n",
       "      <td>88</td>\n",
       "      <td>145.623610</td>\n",
       "      <td>0 days 03:00:45</td>\n",
       "    </tr>\n",
       "    <tr>\n",
       "      <th>8</th>\n",
       "      <td>3.5</td>\n",
       "      <td>0.8</td>\n",
       "      <td>49</td>\n",
       "      <td>121</td>\n",
       "      <td>25.7167</td>\n",
       "      <td>2217</td>\n",
       "      <td>81</td>\n",
       "      <td>147.090782</td>\n",
       "      <td>0 days 02:56:10</td>\n",
       "    </tr>\n",
       "    <tr>\n",
       "      <th>9</th>\n",
       "      <td>4.0</td>\n",
       "      <td>0.2</td>\n",
       "      <td>13</td>\n",
       "      <td>125</td>\n",
       "      <td>15.2983</td>\n",
       "      <td>2773</td>\n",
       "      <td>81</td>\n",
       "      <td>157.101261</td>\n",
       "      <td>0 days 03:39:57</td>\n",
       "    </tr>\n",
       "    <tr>\n",
       "      <th>10</th>\n",
       "      <td>4.0</td>\n",
       "      <td>0.5</td>\n",
       "      <td>31</td>\n",
       "      <td>125</td>\n",
       "      <td>11.865</td>\n",
       "      <td>2795</td>\n",
       "      <td>82</td>\n",
       "      <td>157.702864</td>\n",
       "      <td>0 days 03:29:41</td>\n",
       "    </tr>\n",
       "    <tr>\n",
       "      <th>11</th>\n",
       "      <td>4.0</td>\n",
       "      <td>0.8</td>\n",
       "      <td>49</td>\n",
       "      <td>125</td>\n",
       "      <td>9.06667</td>\n",
       "      <td>2829</td>\n",
       "      <td>81</td>\n",
       "      <td>158.193951</td>\n",
       "      <td>0 days 03:30:07</td>\n",
       "    </tr>\n",
       "  </tbody>\n",
       "</table>\n",
       "</div>"
      ],
      "text/plain": [
       "    opening_hour  two_step_ratio N_kiosk N_Counters waiting_time_counters  \\\n",
       "0            2.5             0.2      13        131               49.5167   \n",
       "1            2.5             0.5      31        131               45.4667   \n",
       "2            2.5             0.8      49        131               41.8317   \n",
       "3            3.0             0.2      13        126               47.2167   \n",
       "4            3.0             0.5      31        126               42.6667   \n",
       "5            3.0             0.8      49        126               38.6483   \n",
       "6            3.5             0.2      13        121               34.2667   \n",
       "7            3.5             0.5      31        121               29.7817   \n",
       "8            3.5             0.8      49        121               25.7167   \n",
       "9            4.0             0.2      13        125               15.2983   \n",
       "10           4.0             0.5      31        125                11.865   \n",
       "11           4.0             0.8      49        125               9.06667   \n",
       "\n",
       "     EBS  LBC  dwell_time   df_dwell_time  \n",
       "0   1159  214  111.317240 0 days 02:09:58  \n",
       "1   1213  159  113.306147 0 days 01:30:26  \n",
       "2   1271  111  115.243283 0 days 01:51:36  \n",
       "3   1474  151  126.838795 0 days 02:07:06  \n",
       "4   1524  105  128.940204 0 days 02:42:02  \n",
       "5   1572   88  130.916207 0 days 02:17:36  \n",
       "6   2090  111  144.050033 0 days 02:45:43  \n",
       "7   2150   88  145.623610 0 days 03:00:45  \n",
       "8   2217   81  147.090782 0 days 02:56:10  \n",
       "9   2773   81  157.101261 0 days 03:39:57  \n",
       "10  2795   82  157.702864 0 days 03:29:41  \n",
       "11  2829   81  158.193951 0 days 03:30:07  "
      ]
     },
     "execution_count": 211,
     "metadata": {},
     "output_type": "execute_result"
    },
    {
     "data": {
      "application/javascript": [
       "\n",
       "            setTimeout(function() {\n",
       "                var nbb_cell_id = 211;\n",
       "                var nbb_unformatted_code = \"df_result_opti\";\n",
       "                var nbb_formatted_code = \"df_result_opti\";\n",
       "                var nbb_cells = Jupyter.notebook.get_cells();\n",
       "                for (var i = 0; i < nbb_cells.length; ++i) {\n",
       "                    if (nbb_cells[i].input_prompt_number == nbb_cell_id) {\n",
       "                        if (nbb_cells[i].get_text() == nbb_unformatted_code) {\n",
       "                             nbb_cells[i].set_text(nbb_formatted_code);\n",
       "                        }\n",
       "                        break;\n",
       "                    }\n",
       "                }\n",
       "            }, 500);\n",
       "            "
      ],
      "text/plain": [
       "<IPython.core.display.Javascript object>"
      ]
     },
     "metadata": {},
     "output_type": "display_data"
    }
   ],
   "source": [
    "df_result_opti"
   ]
  },
  {
   "cell_type": "code",
   "execution_count": null,
   "metadata": {
    "ExecuteTime": {
     "end_time": "2021-06-07T15:13:59.167529Z",
     "start_time": "2021-06-07T15:13:59.128504Z"
    }
   },
   "outputs": [],
   "source": [
    "df_result_opti_all_counters = df_result_opti[\n",
    "    [\n",
    "        \"opening_hour\",\n",
    "        \"two_step_ratio\",\n",
    "        \"N_kiosk\",\n",
    "        \"N_Counters\",\n",
    "        \"waiting_time_counters\",\n",
    "        \"EBS\",\n",
    "        \"LBC\",\n",
    "        \"dwell_time\",\n",
    "    ]\n",
    "].copy()"
   ]
  },
  {
   "cell_type": "code",
   "execution_count": 217,
   "metadata": {
    "ExecuteTime": {
     "end_time": "2021-06-07T15:14:12.251227Z",
     "start_time": "2021-06-07T15:14:12.223215Z"
    }
   },
   "outputs": [
    {
     "data": {
      "text/html": [
       "<div>\n",
       "<style scoped>\n",
       "    .dataframe tbody tr th:only-of-type {\n",
       "        vertical-align: middle;\n",
       "    }\n",
       "\n",
       "    .dataframe tbody tr th {\n",
       "        vertical-align: top;\n",
       "    }\n",
       "\n",
       "    .dataframe thead th {\n",
       "        text-align: right;\n",
       "    }\n",
       "</style>\n",
       "<table border=\"1\" class=\"dataframe\">\n",
       "  <thead>\n",
       "    <tr style=\"text-align: right;\">\n",
       "      <th></th>\n",
       "      <th>opening_hour</th>\n",
       "      <th>two_step_ratio</th>\n",
       "      <th>N_kiosk</th>\n",
       "      <th>N_Counters</th>\n",
       "      <th>waiting_time_counters</th>\n",
       "      <th>EBS</th>\n",
       "      <th>LBC</th>\n",
       "      <th>dwell_time</th>\n",
       "    </tr>\n",
       "  </thead>\n",
       "  <tbody>\n",
       "    <tr>\n",
       "      <th>0</th>\n",
       "      <td>2.5</td>\n",
       "      <td>0.2</td>\n",
       "      <td>13</td>\n",
       "      <td>131</td>\n",
       "      <td>49.5167</td>\n",
       "      <td>1159</td>\n",
       "      <td>214</td>\n",
       "      <td>111.317240</td>\n",
       "    </tr>\n",
       "    <tr>\n",
       "      <th>1</th>\n",
       "      <td>2.5</td>\n",
       "      <td>0.5</td>\n",
       "      <td>31</td>\n",
       "      <td>131</td>\n",
       "      <td>45.4667</td>\n",
       "      <td>1213</td>\n",
       "      <td>159</td>\n",
       "      <td>113.306147</td>\n",
       "    </tr>\n",
       "    <tr>\n",
       "      <th>2</th>\n",
       "      <td>2.5</td>\n",
       "      <td>0.8</td>\n",
       "      <td>49</td>\n",
       "      <td>131</td>\n",
       "      <td>41.8317</td>\n",
       "      <td>1271</td>\n",
       "      <td>111</td>\n",
       "      <td>115.243283</td>\n",
       "    </tr>\n",
       "    <tr>\n",
       "      <th>3</th>\n",
       "      <td>3.0</td>\n",
       "      <td>0.2</td>\n",
       "      <td>13</td>\n",
       "      <td>126</td>\n",
       "      <td>47.2167</td>\n",
       "      <td>1474</td>\n",
       "      <td>151</td>\n",
       "      <td>126.838795</td>\n",
       "    </tr>\n",
       "    <tr>\n",
       "      <th>4</th>\n",
       "      <td>3.0</td>\n",
       "      <td>0.5</td>\n",
       "      <td>31</td>\n",
       "      <td>126</td>\n",
       "      <td>42.6667</td>\n",
       "      <td>1524</td>\n",
       "      <td>105</td>\n",
       "      <td>128.940204</td>\n",
       "    </tr>\n",
       "    <tr>\n",
       "      <th>5</th>\n",
       "      <td>3.0</td>\n",
       "      <td>0.8</td>\n",
       "      <td>49</td>\n",
       "      <td>126</td>\n",
       "      <td>38.6483</td>\n",
       "      <td>1572</td>\n",
       "      <td>88</td>\n",
       "      <td>130.916207</td>\n",
       "    </tr>\n",
       "    <tr>\n",
       "      <th>6</th>\n",
       "      <td>3.5</td>\n",
       "      <td>0.2</td>\n",
       "      <td>13</td>\n",
       "      <td>121</td>\n",
       "      <td>34.2667</td>\n",
       "      <td>2090</td>\n",
       "      <td>111</td>\n",
       "      <td>144.050033</td>\n",
       "    </tr>\n",
       "    <tr>\n",
       "      <th>7</th>\n",
       "      <td>3.5</td>\n",
       "      <td>0.5</td>\n",
       "      <td>31</td>\n",
       "      <td>121</td>\n",
       "      <td>29.7817</td>\n",
       "      <td>2150</td>\n",
       "      <td>88</td>\n",
       "      <td>145.623610</td>\n",
       "    </tr>\n",
       "    <tr>\n",
       "      <th>8</th>\n",
       "      <td>3.5</td>\n",
       "      <td>0.8</td>\n",
       "      <td>49</td>\n",
       "      <td>121</td>\n",
       "      <td>25.7167</td>\n",
       "      <td>2217</td>\n",
       "      <td>81</td>\n",
       "      <td>147.090782</td>\n",
       "    </tr>\n",
       "    <tr>\n",
       "      <th>9</th>\n",
       "      <td>4.0</td>\n",
       "      <td>0.2</td>\n",
       "      <td>13</td>\n",
       "      <td>125</td>\n",
       "      <td>15.2983</td>\n",
       "      <td>2773</td>\n",
       "      <td>81</td>\n",
       "      <td>157.101261</td>\n",
       "    </tr>\n",
       "    <tr>\n",
       "      <th>10</th>\n",
       "      <td>4.0</td>\n",
       "      <td>0.5</td>\n",
       "      <td>31</td>\n",
       "      <td>125</td>\n",
       "      <td>11.865</td>\n",
       "      <td>2795</td>\n",
       "      <td>82</td>\n",
       "      <td>157.702864</td>\n",
       "    </tr>\n",
       "    <tr>\n",
       "      <th>11</th>\n",
       "      <td>4.0</td>\n",
       "      <td>0.8</td>\n",
       "      <td>49</td>\n",
       "      <td>125</td>\n",
       "      <td>9.06667</td>\n",
       "      <td>2829</td>\n",
       "      <td>81</td>\n",
       "      <td>158.193951</td>\n",
       "    </tr>\n",
       "  </tbody>\n",
       "</table>\n",
       "</div>"
      ],
      "text/plain": [
       "    opening_hour  two_step_ratio N_kiosk N_Counters waiting_time_counters  \\\n",
       "0            2.5             0.2      13        131               49.5167   \n",
       "1            2.5             0.5      31        131               45.4667   \n",
       "2            2.5             0.8      49        131               41.8317   \n",
       "3            3.0             0.2      13        126               47.2167   \n",
       "4            3.0             0.5      31        126               42.6667   \n",
       "5            3.0             0.8      49        126               38.6483   \n",
       "6            3.5             0.2      13        121               34.2667   \n",
       "7            3.5             0.5      31        121               29.7817   \n",
       "8            3.5             0.8      49        121               25.7167   \n",
       "9            4.0             0.2      13        125               15.2983   \n",
       "10           4.0             0.5      31        125                11.865   \n",
       "11           4.0             0.8      49        125               9.06667   \n",
       "\n",
       "     EBS  LBC  dwell_time  \n",
       "0   1159  214  111.317240  \n",
       "1   1213  159  113.306147  \n",
       "2   1271  111  115.243283  \n",
       "3   1474  151  126.838795  \n",
       "4   1524  105  128.940204  \n",
       "5   1572   88  130.916207  \n",
       "6   2090  111  144.050033  \n",
       "7   2150   88  145.623610  \n",
       "8   2217   81  147.090782  \n",
       "9   2773   81  157.101261  \n",
       "10  2795   82  157.702864  \n",
       "11  2829   81  158.193951  "
      ]
     },
     "execution_count": 217,
     "metadata": {},
     "output_type": "execute_result"
    },
    {
     "data": {
      "application/javascript": [
       "\n",
       "            setTimeout(function() {\n",
       "                var nbb_cell_id = 217;\n",
       "                var nbb_unformatted_code = \"df_result_opti_all_counters\";\n",
       "                var nbb_formatted_code = \"df_result_opti_all_counters\";\n",
       "                var nbb_cells = Jupyter.notebook.get_cells();\n",
       "                for (var i = 0; i < nbb_cells.length; ++i) {\n",
       "                    if (nbb_cells[i].input_prompt_number == nbb_cell_id) {\n",
       "                        if (nbb_cells[i].get_text() == nbb_unformatted_code) {\n",
       "                             nbb_cells[i].set_text(nbb_formatted_code);\n",
       "                        }\n",
       "                        break;\n",
       "                    }\n",
       "                }\n",
       "            }, 500);\n",
       "            "
      ],
      "text/plain": [
       "<IPython.core.display.Javascript object>"
      ]
     },
     "metadata": {},
     "output_type": "display_data"
    }
   ],
   "source": [
    "df_result_opti_all_counters"
   ]
  },
  {
   "cell_type": "markdown",
   "metadata": {},
   "source": [
    "## CUSBD"
   ]
  },
  {
   "cell_type": "markdown",
   "metadata": {
    "heading_collapsed": true
   },
   "source": [
    "### import dct_param_onderive"
   ]
  },
  {
   "cell_type": "code",
   "execution_count": 11,
   "metadata": {
    "ExecuteTime": {
     "end_time": "2021-06-04T21:26:21.059874Z",
     "start_time": "2021-06-04T21:26:20.453157Z"
    },
    "hidden": true,
    "hide_input": true
   },
   "outputs": [
    {
     "data": {
      "application/javascript": [
       "\n",
       "            setTimeout(function() {\n",
       "                var nbb_cell_id = 11;\n",
       "                var nbb_unformatted_code = \"# parameters from \\\"assumption all dept.xlsx\\\" on onedrive\\npath_onedrive = r\\\"C:\\\\Users\\\\J00638\\\\\\u95a2\\u897f\\u30a8\\u30a2\\u30dd\\u30fc\\u30c8\\u30b0\\u30eb\\u30fc\\u30d7\\\\Technical HQ department - Masterplan - Masterplan\\\\ADRM model\\\\assumptions all dept\\\\assumptions all dept.xlsx\\\"\\ndf_param_onedrive = pd.read_excel(\\n    path_onedrive,\\n    sheet_name=\\\"dynamic\\\",\\n)\\n\\n# generate df_set_param_T1d_from_drive from one drive excel file (assumptions all dept)\\ndf_param_input = df_param_onedrive.set_index(\\\"item\\\", drop=True, inplace=False)\\n\\n# keep only T1 Int'l dep results\\nmask_T1d = (df_param_input[\\\"terminal\\\"] == \\\"T1\\\") & (df_param_input[\\\"Direction\\\"] == \\\"D\\\")\\ndf_param_input_T1 = df_param_input[mask_T1d]\\n\\ndf_param_input_T1 = df_param_input_T1.drop(\\n    columns=[\\\"unit\\\", \\\"terminal\\\", \\\"type\\\", \\\"remarks\\\", \\\"Direction\\\"]\\n)\\n\\n# take values from assumption files and put them in a dictionnary\\nlist_item = [\\n    \\\"target_peak_STD\\\",\\n    \\\"Pt_checkin_1step_counter\\\",\\n    \\\"Pt_checkin_2step_counter\\\",\\n    \\\"N_kiosk\\\",\\n    \\\"Pt_kiosk\\\",\\n    \\\"N_security_lanes\\\",\\n    \\\"Pt_security_lanes\\\",\\n    \\\"N_emigration_counter\\\",\\n    \\\"Pt_emigration_counter\\\",\\n    \\\"N_emigration_self\\\",\\n    \\\"Pt_emigration_self\\\",\\n    \\\"modern_pax_ratio\\\",\\n    \\\"digital_pax_ratio\\\",\\n    \\\"premium_pax_ratio\\\",\\n    \\\"start_special_pax_ratio\\\",\\n    \\\"end_special_pax_ratio\\\",\\n]\\n\\ndct_set_param_T1d_from_drive = {\\n    item: list(df_param_input_T1.loc[item, :]) for item in list_item\\n}\\nlen_dct_set_param_T1d_from_drive = len(dct_set_param_T1d_from_drive[\\\"target_peak_STD\\\"])\\ndct_set_param_T1d_from_drive[\\\"target_peak\\\"] = dct_set_param_T1d_from_drive.pop(\\n    \\\"target_peak_STD\\\"\\n)\\n\\n# define values that are not in assumption files\\ndct_set_param_T1d_from_drive[\\\"freq\\\"] = [\\n    \\\"1min\\\" for i in range(len_dct_set_param_T1d_from_drive)\\n]\\ndct_set_param_T1d_from_drive[\\\"win\\\"] = [\\n    15 for i in range(len_dct_set_param_T1d_from_drive)\\n]\\ndct_set_param_T1d_from_drive[\\\"show_loading\\\"] = [\\n    True for i in range(len_dct_set_param_T1d_from_drive)\\n]\\ndct_set_param_T1d_from_drive[\\\"show_graph\\\"] = [\\n    False for i in range(len_dct_set_param_T1d_from_drive)\\n]\\ndct_set_param_T1d_from_drive[\\\"save_graph\\\"] = [\\n    False for i in range(len_dct_set_param_T1d_from_drive)\\n]\\ndct_set_param_T1d_from_drive[\\\"save_xls\\\"] = [\\n    False for i in range(len_dct_set_param_T1d_from_drive)\\n]\\n\\n# change the start & end special pax, it was a bad idea\\n\\ndct_set_param_T1d_from_drive[\\\"start_special_pax_ratio\\\"] = [\\n    0.01 for i in range(len_dct_set_param_T1d_from_drive)\\n]\\n\\ndct_set_param_T1d_from_drive[\\\"end_special_pax_ratio\\\"] = [\\n    0.99 for i in range(len_dct_set_param_T1d_from_drive)\\n]\\n\\ndf_set_param_T1d_from_drive = pd.DataFrame.from_dict(dct_set_param_T1d_from_drive)\\n\\ndf_set_param_T1d = df_set_param_T1d_from_drive.copy()\\ndct_set_param_T1d = dct_set_param_T1d_from_drive.copy()\\n\\n# create the dictionary of param for the run from the dct_set_param\\n# we take the values for 2025\\ndct_run_param = {keys: value[5] for keys, value in dct_set_param_T1d.items()}\";\n",
       "                var nbb_formatted_code = \"# parameters from \\\"assumption all dept.xlsx\\\" on onedrive\\npath_onedrive = r\\\"C:\\\\Users\\\\J00638\\\\\\u95a2\\u897f\\u30a8\\u30a2\\u30dd\\u30fc\\u30c8\\u30b0\\u30eb\\u30fc\\u30d7\\\\Technical HQ department - Masterplan - Masterplan\\\\ADRM model\\\\assumptions all dept\\\\assumptions all dept.xlsx\\\"\\ndf_param_onedrive = pd.read_excel(\\n    path_onedrive,\\n    sheet_name=\\\"dynamic\\\",\\n)\\n\\n# generate df_set_param_T1d_from_drive from one drive excel file (assumptions all dept)\\ndf_param_input = df_param_onedrive.set_index(\\\"item\\\", drop=True, inplace=False)\\n\\n# keep only T1 Int'l dep results\\nmask_T1d = (df_param_input[\\\"terminal\\\"] == \\\"T1\\\") & (df_param_input[\\\"Direction\\\"] == \\\"D\\\")\\ndf_param_input_T1 = df_param_input[mask_T1d]\\n\\ndf_param_input_T1 = df_param_input_T1.drop(\\n    columns=[\\\"unit\\\", \\\"terminal\\\", \\\"type\\\", \\\"remarks\\\", \\\"Direction\\\"]\\n)\\n\\n# take values from assumption files and put them in a dictionnary\\nlist_item = [\\n    \\\"target_peak_STD\\\",\\n    \\\"Pt_checkin_1step_counter\\\",\\n    \\\"Pt_checkin_2step_counter\\\",\\n    \\\"N_kiosk\\\",\\n    \\\"Pt_kiosk\\\",\\n    \\\"N_security_lanes\\\",\\n    \\\"Pt_security_lanes\\\",\\n    \\\"N_emigration_counter\\\",\\n    \\\"Pt_emigration_counter\\\",\\n    \\\"N_emigration_self\\\",\\n    \\\"Pt_emigration_self\\\",\\n    \\\"modern_pax_ratio\\\",\\n    \\\"digital_pax_ratio\\\",\\n    \\\"premium_pax_ratio\\\",\\n    \\\"start_special_pax_ratio\\\",\\n    \\\"end_special_pax_ratio\\\",\\n]\\n\\ndct_set_param_T1d_from_drive = {\\n    item: list(df_param_input_T1.loc[item, :]) for item in list_item\\n}\\nlen_dct_set_param_T1d_from_drive = len(dct_set_param_T1d_from_drive[\\\"target_peak_STD\\\"])\\ndct_set_param_T1d_from_drive[\\\"target_peak\\\"] = dct_set_param_T1d_from_drive.pop(\\n    \\\"target_peak_STD\\\"\\n)\\n\\n# define values that are not in assumption files\\ndct_set_param_T1d_from_drive[\\\"freq\\\"] = [\\n    \\\"1min\\\" for i in range(len_dct_set_param_T1d_from_drive)\\n]\\ndct_set_param_T1d_from_drive[\\\"win\\\"] = [\\n    15 for i in range(len_dct_set_param_T1d_from_drive)\\n]\\ndct_set_param_T1d_from_drive[\\\"show_loading\\\"] = [\\n    True for i in range(len_dct_set_param_T1d_from_drive)\\n]\\ndct_set_param_T1d_from_drive[\\\"show_graph\\\"] = [\\n    False for i in range(len_dct_set_param_T1d_from_drive)\\n]\\ndct_set_param_T1d_from_drive[\\\"save_graph\\\"] = [\\n    False for i in range(len_dct_set_param_T1d_from_drive)\\n]\\ndct_set_param_T1d_from_drive[\\\"save_xls\\\"] = [\\n    False for i in range(len_dct_set_param_T1d_from_drive)\\n]\\n\\n# change the start & end special pax, it was a bad idea\\n\\ndct_set_param_T1d_from_drive[\\\"start_special_pax_ratio\\\"] = [\\n    0.01 for i in range(len_dct_set_param_T1d_from_drive)\\n]\\n\\ndct_set_param_T1d_from_drive[\\\"end_special_pax_ratio\\\"] = [\\n    0.99 for i in range(len_dct_set_param_T1d_from_drive)\\n]\\n\\ndf_set_param_T1d_from_drive = pd.DataFrame.from_dict(dct_set_param_T1d_from_drive)\\n\\ndf_set_param_T1d = df_set_param_T1d_from_drive.copy()\\ndct_set_param_T1d = dct_set_param_T1d_from_drive.copy()\\n\\n# create the dictionary of param for the run from the dct_set_param\\n# we take the values for 2025\\ndct_run_param = {keys: value[5] for keys, value in dct_set_param_T1d.items()}\";\n",
       "                var nbb_cells = Jupyter.notebook.get_cells();\n",
       "                for (var i = 0; i < nbb_cells.length; ++i) {\n",
       "                    if (nbb_cells[i].input_prompt_number == nbb_cell_id) {\n",
       "                        if (nbb_cells[i].get_text() == nbb_unformatted_code) {\n",
       "                             nbb_cells[i].set_text(nbb_formatted_code);\n",
       "                        }\n",
       "                        break;\n",
       "                    }\n",
       "                }\n",
       "            }, 500);\n",
       "            "
      ],
      "text/plain": [
       "<IPython.core.display.Javascript object>"
      ]
     },
     "metadata": {},
     "output_type": "display_data"
    }
   ],
   "source": [
    "# parameters from \"assumption all dept.xlsx\" on onedrive\n",
    "path_onedrive = r\"C:\\Users\\J00638\\関西エアポートグループ\\Technical HQ department - Masterplan - Masterplan\\ADRM model\\assumptions all dept\\assumptions all dept.xlsx\"\n",
    "df_param_onedrive = pd.read_excel(\n",
    "    path_onedrive,\n",
    "    sheet_name=\"dynamic\",\n",
    ")\n",
    "\n",
    "# generate df_set_param_T1d_from_drive from one drive excel file (assumptions all dept)\n",
    "df_param_input = df_param_onedrive.set_index(\"item\", drop=True, inplace=False)\n",
    "\n",
    "# keep only T1 Int'l dep results\n",
    "mask_T1d = (df_param_input[\"terminal\"] == \"T1\") & (df_param_input[\"Direction\"] == \"D\")\n",
    "df_param_input_T1 = df_param_input[mask_T1d]\n",
    "\n",
    "df_param_input_T1 = df_param_input_T1.drop(\n",
    "    columns=[\"unit\", \"terminal\", \"type\", \"remarks\", \"Direction\"]\n",
    ")\n",
    "\n",
    "# take values from assumption files and put them in a dictionnary\n",
    "list_item = [\n",
    "    \"target_peak_STD\",\n",
    "    \"Pt_checkin_1step_counter\",\n",
    "    \"Pt_checkin_2step_counter\",\n",
    "    \"N_kiosk\",\n",
    "    \"Pt_kiosk\",\n",
    "    \"N_security_lanes\",\n",
    "    \"Pt_security_lanes\",\n",
    "    \"N_emigration_counter\",\n",
    "    \"Pt_emigration_counter\",\n",
    "    \"N_emigration_self\",\n",
    "    \"Pt_emigration_self\",\n",
    "    \"modern_pax_ratio\",\n",
    "    \"digital_pax_ratio\",\n",
    "    \"premium_pax_ratio\",\n",
    "    \"start_special_pax_ratio\",\n",
    "    \"end_special_pax_ratio\",\n",
    "]\n",
    "\n",
    "dct_set_param_T1d_from_drive = {\n",
    "    item: list(df_param_input_T1.loc[item, :]) for item in list_item\n",
    "}\n",
    "len_dct_set_param_T1d_from_drive = len(dct_set_param_T1d_from_drive[\"target_peak_STD\"])\n",
    "dct_set_param_T1d_from_drive[\"target_peak\"] = dct_set_param_T1d_from_drive.pop(\n",
    "    \"target_peak_STD\"\n",
    ")\n",
    "\n",
    "# define values that are not in assumption files\n",
    "dct_set_param_T1d_from_drive[\"freq\"] = [\n",
    "    \"1min\" for i in range(len_dct_set_param_T1d_from_drive)\n",
    "]\n",
    "dct_set_param_T1d_from_drive[\"win\"] = [\n",
    "    15 for i in range(len_dct_set_param_T1d_from_drive)\n",
    "]\n",
    "dct_set_param_T1d_from_drive[\"show_loading\"] = [\n",
    "    True for i in range(len_dct_set_param_T1d_from_drive)\n",
    "]\n",
    "dct_set_param_T1d_from_drive[\"show_graph\"] = [\n",
    "    False for i in range(len_dct_set_param_T1d_from_drive)\n",
    "]\n",
    "dct_set_param_T1d_from_drive[\"save_graph\"] = [\n",
    "    False for i in range(len_dct_set_param_T1d_from_drive)\n",
    "]\n",
    "dct_set_param_T1d_from_drive[\"save_xls\"] = [\n",
    "    False for i in range(len_dct_set_param_T1d_from_drive)\n",
    "]\n",
    "\n",
    "# change the start & end special pax, it was a bad idea\n",
    "\n",
    "dct_set_param_T1d_from_drive[\"start_special_pax_ratio\"] = [\n",
    "    0.01 for i in range(len_dct_set_param_T1d_from_drive)\n",
    "]\n",
    "\n",
    "dct_set_param_T1d_from_drive[\"end_special_pax_ratio\"] = [\n",
    "    0.99 for i in range(len_dct_set_param_T1d_from_drive)\n",
    "]\n",
    "\n",
    "df_set_param_T1d_from_drive = pd.DataFrame.from_dict(dct_set_param_T1d_from_drive)\n",
    "\n",
    "df_set_param_T1d = df_set_param_T1d_from_drive.copy()\n",
    "dct_set_param_T1d = dct_set_param_T1d_from_drive.copy()\n",
    "\n",
    "# create the dictionary of param for the run from the dct_set_param\n",
    "# we take the values for 2025\n",
    "dct_run_param = {keys: value[5] for keys, value in dct_set_param_T1d.items()}"
   ]
  },
  {
   "cell_type": "markdown",
   "metadata": {
    "heading_collapsed": true
   },
   "source": [
    "### calculate"
   ]
  },
  {
   "cell_type": "code",
   "execution_count": 42,
   "metadata": {
    "ExecuteTime": {
     "end_time": "2021-06-06T08:51:11.281129Z",
     "start_time": "2021-06-06T08:51:11.136821Z"
    },
    "hidden": true,
    "hide_input": true
   },
   "outputs": [
    {
     "data": {
      "application/javascript": [
       "\n",
       "            setTimeout(function() {\n",
       "                var nbb_cell_id = 42;\n",
       "                var nbb_unformatted_code = \"# define the optimization parameters\\ndct_target_wait_time = {\\n    \\\"kiosk\\\": 1.5,  # IATA optimum is 1-2 minutes\\n    \\\"CUSBD\\\": 3,  # IATA optimum is 1-5 minutes\\n}\\n\\nopening_hour_list = [3, 3.5, 4, 12]  # we also consider current case and 12 hours before\\ntwo_step_ratio_list = [0.8]#[0.2, 0.5, 0.8]\\n\\nsystem_list = [\\\"N_kiosk\\\",\\\"N_CUSBD\\\"]\\nall_system_list = [\\n    \\\"N_kiosk\\\",\\n    \\\"N_security_lanes\\\",\\n    \\\"N_emigration_counter\\\",\\n    \\\"N_emigration_self\\\",\\n]\\nother_result_list = [\\\"N_Counters\\\", \\\"waiting_time_counters\\\", \\\"EBS\\\", \\\"LBC\\\"]\\n\\n# initialize a path\\npath_dump = \\\"C:\\\\\\\\Users\\\\\\\\J00638\\\\\\\\KAP python\\\\\\\\Airport sim\\\\\\\\set_runs_departureCUSBD\\\\\\\\set_test\\\\\\\\run_checkin_rule_newloliloul\\\"\\n\\n# initialize df_results\\ncolumn_opening_hour = [a for a in opening_hour_list for b in two_step_ratio_list]\\ncolumn_two_step_ratio = [a for b in opening_hour_list for a in two_step_ratio_list]\\n\\nindex_result_opti = range(len(column_opening_hour))\\ncolumns_list = [\\\"opening_hour\\\", \\\"two_step_ratio\\\"] + system_list + other_result_list\\ndf_result_opti_CUSBD = pd.DataFrame(columns=columns_list, index=index_result_opti)\\n\\ndf_result_opti_CUSBD[\\\"opening_hour\\\"] = column_opening_hour\\ndf_result_opti_CUSBD[\\\"two_step_ratio\\\"] = column_two_step_ratio\\n\\n# create dct_param_opti\\ndct_param_opti = dct_run_param.copy()\\ndct_param_opti.pop(\\\"target_peak\\\", None)\\ndct_param_opti['N_CUSBD'] = 24\\ndct_param_opti['CUSBD_opening_duration'] = 3*60\";\n",
       "                var nbb_formatted_code = \"# define the optimization parameters\\ndct_target_wait_time = {\\n    \\\"kiosk\\\": 1.5,  # IATA optimum is 1-2 minutes\\n    \\\"CUSBD\\\": 3,  # IATA optimum is 1-5 minutes\\n}\\n\\nopening_hour_list = [3, 3.5, 4, 12]  # we also consider current case and 12 hours before\\ntwo_step_ratio_list = [0.8]  # [0.2, 0.5, 0.8]\\n\\nsystem_list = [\\\"N_kiosk\\\", \\\"N_CUSBD\\\"]\\nall_system_list = [\\n    \\\"N_kiosk\\\",\\n    \\\"N_security_lanes\\\",\\n    \\\"N_emigration_counter\\\",\\n    \\\"N_emigration_self\\\",\\n]\\nother_result_list = [\\\"N_Counters\\\", \\\"waiting_time_counters\\\", \\\"EBS\\\", \\\"LBC\\\"]\\n\\n# initialize a path\\npath_dump = \\\"C:\\\\\\\\Users\\\\\\\\J00638\\\\\\\\KAP python\\\\\\\\Airport sim\\\\\\\\set_runs_departureCUSBD\\\\\\\\set_test\\\\\\\\run_checkin_rule_newloliloul\\\"\\n\\n# initialize df_results\\ncolumn_opening_hour = [a for a in opening_hour_list for b in two_step_ratio_list]\\ncolumn_two_step_ratio = [a for b in opening_hour_list for a in two_step_ratio_list]\\n\\nindex_result_opti = range(len(column_opening_hour))\\ncolumns_list = [\\\"opening_hour\\\", \\\"two_step_ratio\\\"] + system_list + other_result_list\\ndf_result_opti_CUSBD = pd.DataFrame(columns=columns_list, index=index_result_opti)\\n\\ndf_result_opti_CUSBD[\\\"opening_hour\\\"] = column_opening_hour\\ndf_result_opti_CUSBD[\\\"two_step_ratio\\\"] = column_two_step_ratio\\n\\n# create dct_param_opti\\ndct_param_opti = dct_run_param.copy()\\ndct_param_opti.pop(\\\"target_peak\\\", None)\\ndct_param_opti[\\\"N_CUSBD\\\"] = 24\\ndct_param_opti[\\\"CUSBD_opening_duration\\\"] = 3 * 60\";\n",
       "                var nbb_cells = Jupyter.notebook.get_cells();\n",
       "                for (var i = 0; i < nbb_cells.length; ++i) {\n",
       "                    if (nbb_cells[i].input_prompt_number == nbb_cell_id) {\n",
       "                        if (nbb_cells[i].get_text() == nbb_unformatted_code) {\n",
       "                             nbb_cells[i].set_text(nbb_formatted_code);\n",
       "                        }\n",
       "                        break;\n",
       "                    }\n",
       "                }\n",
       "            }, 500);\n",
       "            "
      ],
      "text/plain": [
       "<IPython.core.display.Javascript object>"
      ]
     },
     "metadata": {},
     "output_type": "display_data"
    }
   ],
   "source": [
    "# define the optimization parameters\n",
    "dct_target_wait_time = {\n",
    "    \"kiosk\": 1.5,  # IATA optimum is 1-2 minutes\n",
    "    \"CUSBD\": 3,  # IATA optimum is 1-5 minutes\n",
    "}\n",
    "\n",
    "opening_hour_list = [3, 3.5, 4, 12]  # we also consider current case and 12 hours before\n",
    "two_step_ratio_list = [0.8]#[0.2, 0.5, 0.8]\n",
    "\n",
    "system_list = [\"N_kiosk\",\"N_CUSBD\"]\n",
    "all_system_list = [\n",
    "    \"N_kiosk\",\n",
    "    \"N_security_lanes\",\n",
    "    \"N_emigration_counter\",\n",
    "    \"N_emigration_self\",\n",
    "]\n",
    "other_result_list = [\"N_Counters\", \"waiting_time_counters\", \"EBS\", \"LBC\"]\n",
    "\n",
    "# initialize a path\n",
    "path_dump = \"C:\\\\Users\\\\J00638\\\\KAP python\\\\Airport sim\\\\set_runs_departureCUSBD\\\\set_test\\\\run_checkin_rule_newloliloul\"\n",
    "\n",
    "# initialize df_results\n",
    "column_opening_hour = [a for a in opening_hour_list for b in two_step_ratio_list]\n",
    "column_two_step_ratio = [a for b in opening_hour_list for a in two_step_ratio_list]\n",
    "\n",
    "index_result_opti = range(len(column_opening_hour))\n",
    "columns_list = [\"opening_hour\", \"two_step_ratio\"] + system_list + other_result_list\n",
    "df_result_opti_CUSBD = pd.DataFrame(columns=columns_list, index=index_result_opti)\n",
    "\n",
    "df_result_opti_CUSBD[\"opening_hour\"] = column_opening_hour\n",
    "df_result_opti_CUSBD[\"two_step_ratio\"] = column_two_step_ratio\n",
    "\n",
    "# create dct_param_opti_CUSBD\n",
    "dct_param_opti_CUSBD = dct_run_param.copy()\n",
    "dct_param_opti_CUSBD.pop(\"target_peak\", None)\n",
    "dct_param_opti_CUSBD['N_CUSBD'] = 24\n",
    "dct_param_opti_CUSBD['CUSBD_opening_duration'] = 3*60\n"
   ]
  },
  {
   "cell_type": "code",
   "execution_count": null,
   "metadata": {
    "ExecuteTime": {
     "end_time": "2021-06-07T10:27:37.164837Z",
     "start_time": "2021-06-07T09:08:48.252505Z"
    },
    "hidden": true,
    "hide_input": true,
    "scrolled": true
   },
   "outputs": [],
   "source": [
    "for opening_hour in opening_hour_list:\n",
    "\n",
    "    dct_param_opti_CUSBD[\"CUSBD_opening_duration\"] = opening_hour * 60\n",
    "\n",
    "    for two_step_ratio in two_step_ratio_list:\n",
    "        dct_param_opti_CUSBD[\"modern_pax_ratio\"] = (\n",
    "            two_step_ratio - 0.05\n",
    "        )  # digital pax do not change\n",
    "\n",
    "        # retrieve relevant kwargs_rule\n",
    "        kwargs_rule = {\n",
    "            \"start_time\": 2.5,\n",
    "            \"onecounter_time\": 0.75,\n",
    "            \"base_n_counter\": math.ceil(3 * (1 - two_step_ratio)),\n",
    "            \"seats_per_add_counter\": math.ceil(60 / (1 - two_step_ratio)),\n",
    "        }\n",
    "\n",
    "        df_Pax, df_Counters = generate_dep_Pax_Counters(\n",
    "            target_peak=3580,\n",
    "            terminal=\"T1\",\n",
    "            custom_counter_rule=True,\n",
    "            **kwargs_rule,\n",
    "        )\n",
    "\n",
    "        # store result\n",
    "        mask = (df_result_opti_CUSBD[\"opening_hour\"] == opening_hour) & (\n",
    "            df_result_opti_CUSBD[\"two_step_ratio\"] == two_step_ratio\n",
    "        )\n",
    "        df_result_opti_CUSBD.loc[mask, \"N_Counters\"] = df_Counters[\"total\"].max()\n",
    "\n",
    "        # as we generated base case df_Pax and df_Counters already\n",
    "        dct_param_opti_CUSBD[\"df_Pax\"] = df_Pax\n",
    "        dct_param_opti_CUSBD[\"df_Counters\"] = df_Counters\n",
    "\n",
    "        for variable in system_list:\n",
    "            # edit dct_param_opti_CUSBD\n",
    "            dct_param_opti_CUSBD[\"path\"] = path_dump\n",
    "\n",
    "            # optimize current system\n",
    "            # refresh the kwargs (with eventually results from last optimization)\n",
    "            kwargs = {\n",
    "                \"dct_param_T1d\": dct_param_opti_CUSBD,\n",
    "                \"variable_string\": variable,  # eg. N_Z, N_kiosk, N_CUSBD\n",
    "                \"target_wait_time\": dct_target_wait_time[\n",
    "                    variable.split(\"_\")[1]\n",
    "                ],  # target waiting time in minutes for each system, same for all system for now\n",
    "                \"call_n_iter\": None,\n",
    "                \"totalpbar\": None,\n",
    "            }\n",
    "\n",
    "            # options for custom optimizer, first guess is taken from dct_year base value\n",
    "            options = {\n",
    "                \"guess\": int(49),\n",
    "                \"maxfev\": 30,\n",
    "                \"bigstep\": 10,\n",
    "                \"smallstep\": 1,\n",
    "                \"callback\": custcallback,\n",
    "                \"tol\": 1,\n",
    "            }\n",
    "\n",
    "            # run the optimization for that variable\n",
    "            print(\n",
    "                \"optimization for {} with:\\n rule: opening {}hr before\\n two_step_ratio = {}\".format(\n",
    "                    variable, opening_hour, two_step_ratio\n",
    "                )\n",
    "            )\n",
    "            f = univariate_cost_function_generator_t1d_CUSBD_N(**kwargs)\n",
    "            res = custmin(f, **options)\n",
    "            print(res)\n",
    "\n",
    "            # store in this loop's dct for next system\n",
    "            dct_param_opti_CUSBD[variable] = res[\"x\"]\n",
    "\n",
    "            # store result\n",
    "            mask = (df_result_opti_CUSBD[\"opening_hour\"] == opening_hour) & (\n",
    "                df_result_opti_CUSBD[\"two_step_ratio\"] == two_step_ratio\n",
    "            )\n",
    "            df_result_opti_CUSBD.loc[mask, variable] = res[\"x\"]\n",
    "\n",
    "        # run the optimized simulation once to get the waiting time, EBS and LBC numbers\n",
    "        (\n",
    "            df_result,\n",
    "            list_KPI_run,\n",
    "            dct_hist_wait_time,\n",
    "            dct_hist_queue_length,\n",
    "        ) = KIX_T1_CUSBD_departure_sim_function(**dct_param_opti_CUSBD)\n",
    "\n",
    "        # store result for waiting time\n",
    "        mask = (df_result_opti_CUSBD[\"opening_hour\"] == opening_hour) & (\n",
    "            df_result_opti_CUSBD[\"two_step_ratio\"] == two_step_ratio\n",
    "        )\n",
    "        df_result_opti_CUSBD.loc[mask, \"waiting_time_counters\"] = dct_hist_wait_time[\n",
    "            \"checkin_counter\"\n",
    "        ].quantile(q=0.9)\n",
    "\n",
    "        # store result for EBS and LBC\n",
    "        EBS_req, LBC_req = calculate_EBS_LBC(df_result)\n",
    "        df_result_opti_CUSBD.loc[mask, \"EBS\"] = int(EBS_req)\n",
    "        df_result_opti_CUSBD.loc[mask, \"LBC\"] = int(LBC_req)\n",
    "\n",
    "        # store result for dwell time\n",
    "        df_dwell, mean, top90 = calculate_avg_dwell_time(df_result)\n",
    "        df_result_opti_CUSBD.loc[mask, \"dwell_time\"] = mean\n",
    "        df_result_opti_CUSBD.loc[mask, \"df_dwell_time\"] = df_dwell"
   ]
  },
  {
   "cell_type": "code",
   "execution_count": 44,
   "metadata": {
    "ExecuteTime": {
     "end_time": "2021-06-06T12:52:06.081157Z",
     "start_time": "2021-06-06T12:52:06.032823Z"
    },
    "hidden": true
   },
   "outputs": [
    {
     "data": {
      "text/html": [
       "<div>\n",
       "<style scoped>\n",
       "    .dataframe tbody tr th:only-of-type {\n",
       "        vertical-align: middle;\n",
       "    }\n",
       "\n",
       "    .dataframe tbody tr th {\n",
       "        vertical-align: top;\n",
       "    }\n",
       "\n",
       "    .dataframe thead th {\n",
       "        text-align: right;\n",
       "    }\n",
       "</style>\n",
       "<table border=\"1\" class=\"dataframe\">\n",
       "  <thead>\n",
       "    <tr style=\"text-align: right;\">\n",
       "      <th></th>\n",
       "      <th>opening_hour</th>\n",
       "      <th>two_step_ratio</th>\n",
       "      <th>N_kiosk</th>\n",
       "      <th>N_CUSBD</th>\n",
       "      <th>N_Counters</th>\n",
       "      <th>waiting_time_counters</th>\n",
       "      <th>EBS</th>\n",
       "      <th>LBC</th>\n",
       "    </tr>\n",
       "  </thead>\n",
       "  <tbody>\n",
       "    <tr>\n",
       "      <th>0</th>\n",
       "      <td>3.0</td>\n",
       "      <td>0.8</td>\n",
       "      <td>49</td>\n",
       "      <td>49</td>\n",
       "      <td>33</td>\n",
       "      <td>62.01</td>\n",
       "      <td>1610</td>\n",
       "      <td>0</td>\n",
       "    </tr>\n",
       "    <tr>\n",
       "      <th>1</th>\n",
       "      <td>3.5</td>\n",
       "      <td>0.8</td>\n",
       "      <td>49</td>\n",
       "      <td>46</td>\n",
       "      <td>33</td>\n",
       "      <td>62.01</td>\n",
       "      <td>2082</td>\n",
       "      <td>0</td>\n",
       "    </tr>\n",
       "    <tr>\n",
       "      <th>2</th>\n",
       "      <td>4.0</td>\n",
       "      <td>0.8</td>\n",
       "      <td>49</td>\n",
       "      <td>42</td>\n",
       "      <td>33</td>\n",
       "      <td>62.01</td>\n",
       "      <td>2360</td>\n",
       "      <td>0</td>\n",
       "    </tr>\n",
       "    <tr>\n",
       "      <th>3</th>\n",
       "      <td>12.0</td>\n",
       "      <td>0.8</td>\n",
       "      <td>49</td>\n",
       "      <td>40</td>\n",
       "      <td>33</td>\n",
       "      <td>62.01</td>\n",
       "      <td>2554</td>\n",
       "      <td>0</td>\n",
       "    </tr>\n",
       "  </tbody>\n",
       "</table>\n",
       "</div>"
      ],
      "text/plain": [
       "   opening_hour  two_step_ratio N_kiosk N_CUSBD N_Counters  \\\n",
       "0           3.0             0.8      49      49         33   \n",
       "1           3.5             0.8      49      46         33   \n",
       "2           4.0             0.8      49      42         33   \n",
       "3          12.0             0.8      49      40         33   \n",
       "\n",
       "  waiting_time_counters   EBS LBC  \n",
       "0                 62.01  1610   0  \n",
       "1                 62.01  2082   0  \n",
       "2                 62.01  2360   0  \n",
       "3                 62.01  2554   0  "
      ]
     },
     "execution_count": 44,
     "metadata": {},
     "output_type": "execute_result"
    },
    {
     "data": {
      "application/javascript": [
       "\n",
       "            setTimeout(function() {\n",
       "                var nbb_cell_id = 44;\n",
       "                var nbb_unformatted_code = \"df_result_opti_CUSBD_run3 = df_result_opti_CUSBD.copy()\\ndf_result_opti_CUSBD_run3\";\n",
       "                var nbb_formatted_code = \"df_result_opti_CUSBD_run3 = df_result_opti_CUSBD.copy()\\ndf_result_opti_CUSBD_run3\";\n",
       "                var nbb_cells = Jupyter.notebook.get_cells();\n",
       "                for (var i = 0; i < nbb_cells.length; ++i) {\n",
       "                    if (nbb_cells[i].input_prompt_number == nbb_cell_id) {\n",
       "                        if (nbb_cells[i].get_text() == nbb_unformatted_code) {\n",
       "                             nbb_cells[i].set_text(nbb_formatted_code);\n",
       "                        }\n",
       "                        break;\n",
       "                    }\n",
       "                }\n",
       "            }, 500);\n",
       "            "
      ],
      "text/plain": [
       "<IPython.core.display.Javascript object>"
      ]
     },
     "metadata": {},
     "output_type": "display_data"
    }
   ],
   "source": [
    "df_result_opti_CUSBD_run3 = df_result_opti_CUSBD.copy()\n",
    "df_result_opti_CUSBD_run3"
   ]
  },
  {
   "cell_type": "code",
   "execution_count": null,
   "metadata": {
    "hidden": true
   },
   "outputs": [],
   "source": [
    "df_result_opti_CUSBD_run4"
   ]
  },
  {
   "cell_type": "code",
   "execution_count": 154,
   "metadata": {
    "ExecuteTime": {
     "end_time": "2021-06-07T05:34:42.291169Z",
     "start_time": "2021-06-07T05:34:42.214177Z"
    },
    "hidden": true
   },
   "outputs": [
    {
     "data": {
      "text/html": [
       "<div>\n",
       "<style scoped>\n",
       "    .dataframe tbody tr th:only-of-type {\n",
       "        vertical-align: middle;\n",
       "    }\n",
       "\n",
       "    .dataframe tbody tr th {\n",
       "        vertical-align: top;\n",
       "    }\n",
       "\n",
       "    .dataframe thead th {\n",
       "        text-align: right;\n",
       "    }\n",
       "</style>\n",
       "<table border=\"1\" class=\"dataframe\">\n",
       "  <thead>\n",
       "    <tr style=\"text-align: right;\">\n",
       "      <th></th>\n",
       "      <th>opening_hour</th>\n",
       "      <th>two_step_ratio</th>\n",
       "      <th>N_kiosk</th>\n",
       "      <th>N_CUSBD</th>\n",
       "      <th>N_Counters</th>\n",
       "      <th>waiting_time_counters</th>\n",
       "      <th>EBS</th>\n",
       "      <th>LBC</th>\n",
       "    </tr>\n",
       "  </thead>\n",
       "  <tbody>\n",
       "    <tr>\n",
       "      <th>0</th>\n",
       "      <td>2.5</td>\n",
       "      <td>0.2</td>\n",
       "      <td>13</td>\n",
       "      <td>15</td>\n",
       "      <td>101</td>\n",
       "      <td>55.0833</td>\n",
       "      <td>937</td>\n",
       "      <td>0</td>\n",
       "    </tr>\n",
       "    <tr>\n",
       "      <th>1</th>\n",
       "      <td>2.5</td>\n",
       "      <td>0.5</td>\n",
       "      <td>31</td>\n",
       "      <td>35</td>\n",
       "      <td>68</td>\n",
       "      <td>58.6000</td>\n",
       "      <td>915</td>\n",
       "      <td>0</td>\n",
       "    </tr>\n",
       "    <tr>\n",
       "      <th>2</th>\n",
       "      <td>2.5</td>\n",
       "      <td>0.8</td>\n",
       "      <td>49</td>\n",
       "      <td>55</td>\n",
       "      <td>33</td>\n",
       "      <td>62.0100</td>\n",
       "      <td>946</td>\n",
       "      <td>0</td>\n",
       "    </tr>\n",
       "    <tr>\n",
       "      <th>3</th>\n",
       "      <td>3.0</td>\n",
       "      <td>0.2</td>\n",
       "      <td>13</td>\n",
       "      <td>13</td>\n",
       "      <td>101</td>\n",
       "      <td>55.0833</td>\n",
       "      <td>1143</td>\n",
       "      <td>0</td>\n",
       "    </tr>\n",
       "    <tr>\n",
       "      <th>4</th>\n",
       "      <td>3.0</td>\n",
       "      <td>0.5</td>\n",
       "      <td>31</td>\n",
       "      <td>33</td>\n",
       "      <td>68</td>\n",
       "      <td>58.6000</td>\n",
       "      <td>1325</td>\n",
       "      <td>0</td>\n",
       "    </tr>\n",
       "    <tr>\n",
       "      <th>5</th>\n",
       "      <td>3.0</td>\n",
       "      <td>0.8</td>\n",
       "      <td>49</td>\n",
       "      <td>49</td>\n",
       "      <td>33</td>\n",
       "      <td>62.0100</td>\n",
       "      <td>1610</td>\n",
       "      <td>0</td>\n",
       "    </tr>\n",
       "    <tr>\n",
       "      <th>6</th>\n",
       "      <td>3.5</td>\n",
       "      <td>0.2</td>\n",
       "      <td>13</td>\n",
       "      <td>12</td>\n",
       "      <td>101</td>\n",
       "      <td>55.0833</td>\n",
       "      <td>1252</td>\n",
       "      <td>0</td>\n",
       "    </tr>\n",
       "    <tr>\n",
       "      <th>7</th>\n",
       "      <td>3.5</td>\n",
       "      <td>0.5</td>\n",
       "      <td>31</td>\n",
       "      <td>29</td>\n",
       "      <td>68</td>\n",
       "      <td>58.6000</td>\n",
       "      <td>1597</td>\n",
       "      <td>0</td>\n",
       "    </tr>\n",
       "    <tr>\n",
       "      <th>8</th>\n",
       "      <td>3.5</td>\n",
       "      <td>0.8</td>\n",
       "      <td>49</td>\n",
       "      <td>46</td>\n",
       "      <td>33</td>\n",
       "      <td>62.0100</td>\n",
       "      <td>2082</td>\n",
       "      <td>0</td>\n",
       "    </tr>\n",
       "    <tr>\n",
       "      <th>9</th>\n",
       "      <td>4.0</td>\n",
       "      <td>0.2</td>\n",
       "      <td>13</td>\n",
       "      <td>11</td>\n",
       "      <td>101</td>\n",
       "      <td>55.0833</td>\n",
       "      <td>1272</td>\n",
       "      <td>0</td>\n",
       "    </tr>\n",
       "    <tr>\n",
       "      <th>10</th>\n",
       "      <td>4.0</td>\n",
       "      <td>0.5</td>\n",
       "      <td>31</td>\n",
       "      <td>27</td>\n",
       "      <td>68</td>\n",
       "      <td>58.6000</td>\n",
       "      <td>1754</td>\n",
       "      <td>0</td>\n",
       "    </tr>\n",
       "    <tr>\n",
       "      <th>11</th>\n",
       "      <td>4.0</td>\n",
       "      <td>0.8</td>\n",
       "      <td>49</td>\n",
       "      <td>42</td>\n",
       "      <td>33</td>\n",
       "      <td>62.0100</td>\n",
       "      <td>2360</td>\n",
       "      <td>0</td>\n",
       "    </tr>\n",
       "    <tr>\n",
       "      <th>12</th>\n",
       "      <td>12.0</td>\n",
       "      <td>0.2</td>\n",
       "      <td>13</td>\n",
       "      <td>10</td>\n",
       "      <td>101</td>\n",
       "      <td>55.0833</td>\n",
       "      <td>1305</td>\n",
       "      <td>0</td>\n",
       "    </tr>\n",
       "    <tr>\n",
       "      <th>13</th>\n",
       "      <td>12.0</td>\n",
       "      <td>0.5</td>\n",
       "      <td>31</td>\n",
       "      <td>25</td>\n",
       "      <td>68</td>\n",
       "      <td>58.6000</td>\n",
       "      <td>1848</td>\n",
       "      <td>0</td>\n",
       "    </tr>\n",
       "    <tr>\n",
       "      <th>14</th>\n",
       "      <td>12.0</td>\n",
       "      <td>0.8</td>\n",
       "      <td>49</td>\n",
       "      <td>40</td>\n",
       "      <td>33</td>\n",
       "      <td>62.0100</td>\n",
       "      <td>2554</td>\n",
       "      <td>0</td>\n",
       "    </tr>\n",
       "  </tbody>\n",
       "</table>\n",
       "</div>"
      ],
      "text/plain": [
       "    opening_hour  two_step_ratio  N_kiosk  N_CUSBD  N_Counters  \\\n",
       "0            2.5             0.2       13       15         101   \n",
       "1            2.5             0.5       31       35          68   \n",
       "2            2.5             0.8       49       55          33   \n",
       "3            3.0             0.2       13       13         101   \n",
       "4            3.0             0.5       31       33          68   \n",
       "5            3.0             0.8       49       49          33   \n",
       "6            3.5             0.2       13       12         101   \n",
       "7            3.5             0.5       31       29          68   \n",
       "8            3.5             0.8       49       46          33   \n",
       "9            4.0             0.2       13       11         101   \n",
       "10           4.0             0.5       31       27          68   \n",
       "11           4.0             0.8       49       42          33   \n",
       "12          12.0             0.2       13       10         101   \n",
       "13          12.0             0.5       31       25          68   \n",
       "14          12.0             0.8       49       40          33   \n",
       "\n",
       "    waiting_time_counters   EBS  LBC  \n",
       "0                 55.0833   937    0  \n",
       "1                 58.6000   915    0  \n",
       "2                 62.0100   946    0  \n",
       "3                 55.0833  1143    0  \n",
       "4                 58.6000  1325    0  \n",
       "5                 62.0100  1610    0  \n",
       "6                 55.0833  1252    0  \n",
       "7                 58.6000  1597    0  \n",
       "8                 62.0100  2082    0  \n",
       "9                 55.0833  1272    0  \n",
       "10                58.6000  1754    0  \n",
       "11                62.0100  2360    0  \n",
       "12                55.0833  1305    0  \n",
       "13                58.6000  1848    0  \n",
       "14                62.0100  2554    0  "
      ]
     },
     "execution_count": 154,
     "metadata": {},
     "output_type": "execute_result"
    },
    {
     "data": {
      "application/javascript": [
       "\n",
       "            setTimeout(function() {\n",
       "                var nbb_cell_id = 154;\n",
       "                var nbb_unformatted_code = \"path_test = r'C:\\\\Users\\\\J00638\\\\Desktop\\\\opti_results.xlsx'\\n\\ndata_test = pd.read_excel(path_test,sheet_name='Sheet2')\\ndata_test\";\n",
       "                var nbb_formatted_code = \"path_test = r\\\"C:\\\\Users\\\\J00638\\\\Desktop\\\\opti_results.xlsx\\\"\\n\\ndata_test = pd.read_excel(path_test, sheet_name=\\\"Sheet2\\\")\\ndata_test\";\n",
       "                var nbb_cells = Jupyter.notebook.get_cells();\n",
       "                for (var i = 0; i < nbb_cells.length; ++i) {\n",
       "                    if (nbb_cells[i].input_prompt_number == nbb_cell_id) {\n",
       "                        if (nbb_cells[i].get_text() == nbb_unformatted_code) {\n",
       "                             nbb_cells[i].set_text(nbb_formatted_code);\n",
       "                        }\n",
       "                        break;\n",
       "                    }\n",
       "                }\n",
       "            }, 500);\n",
       "            "
      ],
      "text/plain": [
       "<IPython.core.display.Javascript object>"
      ]
     },
     "metadata": {},
     "output_type": "display_data"
    }
   ],
   "source": [
    "path_test = r\"C:\\Users\\J00638\\Desktop\\opti_results.xlsx\"\n",
    "\n",
    "data_test = pd.read_excel(path_test, sheet_name=\"Sheet2\")\n",
    "data_test"
   ]
  },
  {
   "cell_type": "markdown",
   "metadata": {},
   "source": [
    "### re-calculate EBS, LBC and dwell time"
   ]
  },
  {
   "cell_type": "code",
   "execution_count": 194,
   "metadata": {
    "ExecuteTime": {
     "end_time": "2021-06-07T07:34:01.510218Z",
     "start_time": "2021-06-07T07:34:01.495368Z"
    }
   },
   "outputs": [
    {
     "data": {
      "application/javascript": [
       "\n",
       "            setTimeout(function() {\n",
       "                var nbb_cell_id = 194;\n",
       "                var nbb_unformatted_code = \"df_result_opti_CUSB = data_test\";\n",
       "                var nbb_formatted_code = \"df_result_opti_CUSB = data_test\";\n",
       "                var nbb_cells = Jupyter.notebook.get_cells();\n",
       "                for (var i = 0; i < nbb_cells.length; ++i) {\n",
       "                    if (nbb_cells[i].input_prompt_number == nbb_cell_id) {\n",
       "                        if (nbb_cells[i].get_text() == nbb_unformatted_code) {\n",
       "                             nbb_cells[i].set_text(nbb_formatted_code);\n",
       "                        }\n",
       "                        break;\n",
       "                    }\n",
       "                }\n",
       "            }, 500);\n",
       "            "
      ],
      "text/plain": [
       "<IPython.core.display.Javascript object>"
      ]
     },
     "metadata": {},
     "output_type": "display_data"
    }
   ],
   "source": [
    "df_result_opti_CUSB = data_test"
   ]
  },
  {
   "cell_type": "code",
   "execution_count": 204,
   "metadata": {
    "ExecuteTime": {
     "end_time": "2021-06-07T14:57:49.205234Z",
     "start_time": "2021-06-07T12:59:07.264037Z"
    }
   },
   "outputs": [
    {
     "data": {
      "application/vnd.jupyter.widget-view+json": {
       "model_id": "e3abdec59285413aab3adc46979e4af6",
       "version_major": 2,
       "version_minor": 0
      },
      "text/plain": [
       "Pax and counter generation...:   0%|          | 0/2 [00:00<?, ?it/s]"
      ]
     },
     "metadata": {},
     "output_type": "display_data"
    },
    {
     "data": {
      "application/vnd.jupyter.widget-view+json": {
       "model_id": "6d3e27732225482b89f75cd9feb2dd9f",
       "version_major": 2,
       "version_minor": 0
      },
      "text/plain": [
       "Simulation running...:   0%|          | 0/1440 [00:00<?, ?it/s]"
      ]
     },
     "metadata": {},
     "output_type": "display_data"
    },
    {
     "data": {
      "application/vnd.jupyter.widget-view+json": {
       "model_id": "4fa78697d8f04f27ada03de330d75133",
       "version_major": 2,
       "version_minor": 0
      },
      "text/plain": [
       "Pax and counter generation...:   0%|          | 0/2 [00:00<?, ?it/s]"
      ]
     },
     "metadata": {},
     "output_type": "display_data"
    },
    {
     "data": {
      "application/vnd.jupyter.widget-view+json": {
       "model_id": "e32fd9962c7d4fa7ac19d1802580bd93",
       "version_major": 2,
       "version_minor": 0
      },
      "text/plain": [
       "Simulation running...:   0%|          | 0/1440 [00:00<?, ?it/s]"
      ]
     },
     "metadata": {},
     "output_type": "display_data"
    },
    {
     "data": {
      "application/vnd.jupyter.widget-view+json": {
       "model_id": "9a01eb94ab6c4674b81f76dcf136a6c6",
       "version_major": 2,
       "version_minor": 0
      },
      "text/plain": [
       "Pax and counter generation...:   0%|          | 0/2 [00:00<?, ?it/s]"
      ]
     },
     "metadata": {},
     "output_type": "display_data"
    },
    {
     "data": {
      "application/vnd.jupyter.widget-view+json": {
       "model_id": "83624e474b994be993366615ea111be2",
       "version_major": 2,
       "version_minor": 0
      },
      "text/plain": [
       "Simulation running...:   0%|          | 0/1440 [00:00<?, ?it/s]"
      ]
     },
     "metadata": {},
     "output_type": "display_data"
    },
    {
     "data": {
      "application/vnd.jupyter.widget-view+json": {
       "model_id": "1c47a9537d744b7d8eaa2712f67f4beb",
       "version_major": 2,
       "version_minor": 0
      },
      "text/plain": [
       "Pax and counter generation...:   0%|          | 0/2 [00:00<?, ?it/s]"
      ]
     },
     "metadata": {},
     "output_type": "display_data"
    },
    {
     "data": {
      "application/vnd.jupyter.widget-view+json": {
       "model_id": "5da3e5206a5349c1a5b6264eba03d6b8",
       "version_major": 2,
       "version_minor": 0
      },
      "text/plain": [
       "Simulation running...:   0%|          | 0/1440 [00:00<?, ?it/s]"
      ]
     },
     "metadata": {},
     "output_type": "display_data"
    },
    {
     "data": {
      "application/vnd.jupyter.widget-view+json": {
       "model_id": "1d55911f82b54eabb33565b852e78e7e",
       "version_major": 2,
       "version_minor": 0
      },
      "text/plain": [
       "Pax and counter generation...:   0%|          | 0/2 [00:00<?, ?it/s]"
      ]
     },
     "metadata": {},
     "output_type": "display_data"
    },
    {
     "data": {
      "application/vnd.jupyter.widget-view+json": {
       "model_id": "bee1ba21226a4971a0db8a1d137b38b5",
       "version_major": 2,
       "version_minor": 0
      },
      "text/plain": [
       "Simulation running...:   0%|          | 0/1440 [00:00<?, ?it/s]"
      ]
     },
     "metadata": {},
     "output_type": "display_data"
    },
    {
     "data": {
      "application/vnd.jupyter.widget-view+json": {
       "model_id": "5c1a851ce74549d6b4b667739e702bc0",
       "version_major": 2,
       "version_minor": 0
      },
      "text/plain": [
       "Pax and counter generation...:   0%|          | 0/2 [00:00<?, ?it/s]"
      ]
     },
     "metadata": {},
     "output_type": "display_data"
    },
    {
     "data": {
      "application/vnd.jupyter.widget-view+json": {
       "model_id": "5117789c3d0f42039cd7062c94d8c47e",
       "version_major": 2,
       "version_minor": 0
      },
      "text/plain": [
       "Simulation running...:   0%|          | 0/1440 [00:00<?, ?it/s]"
      ]
     },
     "metadata": {},
     "output_type": "display_data"
    },
    {
     "data": {
      "application/vnd.jupyter.widget-view+json": {
       "model_id": "1feaa16b5a4140ba9059145fb9e41680",
       "version_major": 2,
       "version_minor": 0
      },
      "text/plain": [
       "Pax and counter generation...:   0%|          | 0/2 [00:00<?, ?it/s]"
      ]
     },
     "metadata": {},
     "output_type": "display_data"
    },
    {
     "data": {
      "application/vnd.jupyter.widget-view+json": {
       "model_id": "ce7e859794274d0bb90b39be25297696",
       "version_major": 2,
       "version_minor": 0
      },
      "text/plain": [
       "Simulation running...:   0%|          | 0/1440 [00:00<?, ?it/s]"
      ]
     },
     "metadata": {},
     "output_type": "display_data"
    },
    {
     "data": {
      "application/vnd.jupyter.widget-view+json": {
       "model_id": "030705b6c7bb43618964f135d7627de9",
       "version_major": 2,
       "version_minor": 0
      },
      "text/plain": [
       "Pax and counter generation...:   0%|          | 0/2 [00:00<?, ?it/s]"
      ]
     },
     "metadata": {},
     "output_type": "display_data"
    },
    {
     "data": {
      "application/vnd.jupyter.widget-view+json": {
       "model_id": "0a80e32aace24f839f46236f87b552b4",
       "version_major": 2,
       "version_minor": 0
      },
      "text/plain": [
       "Simulation running...:   0%|          | 0/1440 [00:00<?, ?it/s]"
      ]
     },
     "metadata": {},
     "output_type": "display_data"
    },
    {
     "data": {
      "application/vnd.jupyter.widget-view+json": {
       "model_id": "f5ca02362e0f43838ed045123eab2dd2",
       "version_major": 2,
       "version_minor": 0
      },
      "text/plain": [
       "Pax and counter generation...:   0%|          | 0/2 [00:00<?, ?it/s]"
      ]
     },
     "metadata": {},
     "output_type": "display_data"
    },
    {
     "data": {
      "application/vnd.jupyter.widget-view+json": {
       "model_id": "429d015611804c65aa446a27e8816b66",
       "version_major": 2,
       "version_minor": 0
      },
      "text/plain": [
       "Simulation running...:   0%|          | 0/1440 [00:00<?, ?it/s]"
      ]
     },
     "metadata": {},
     "output_type": "display_data"
    },
    {
     "data": {
      "application/vnd.jupyter.widget-view+json": {
       "model_id": "190f6efebbac455887867eef7a688ea6",
       "version_major": 2,
       "version_minor": 0
      },
      "text/plain": [
       "Pax and counter generation...:   0%|          | 0/2 [00:00<?, ?it/s]"
      ]
     },
     "metadata": {},
     "output_type": "display_data"
    },
    {
     "data": {
      "application/vnd.jupyter.widget-view+json": {
       "model_id": "badeda425afd4eafa55163dac08fd5c1",
       "version_major": 2,
       "version_minor": 0
      },
      "text/plain": [
       "Simulation running...:   0%|          | 0/1440 [00:00<?, ?it/s]"
      ]
     },
     "metadata": {},
     "output_type": "display_data"
    },
    {
     "data": {
      "application/vnd.jupyter.widget-view+json": {
       "model_id": "06cdeb198a4143b78e491c61c406979f",
       "version_major": 2,
       "version_minor": 0
      },
      "text/plain": [
       "Pax and counter generation...:   0%|          | 0/2 [00:00<?, ?it/s]"
      ]
     },
     "metadata": {},
     "output_type": "display_data"
    },
    {
     "data": {
      "application/vnd.jupyter.widget-view+json": {
       "model_id": "c9dc9c5612e042d2a4f555b23a9d1484",
       "version_major": 2,
       "version_minor": 0
      },
      "text/plain": [
       "Simulation running...:   0%|          | 0/1440 [00:00<?, ?it/s]"
      ]
     },
     "metadata": {},
     "output_type": "display_data"
    },
    {
     "data": {
      "application/vnd.jupyter.widget-view+json": {
       "model_id": "4bc30778425b4fea8f762c1866a5f9dd",
       "version_major": 2,
       "version_minor": 0
      },
      "text/plain": [
       "Pax and counter generation...:   0%|          | 0/2 [00:00<?, ?it/s]"
      ]
     },
     "metadata": {},
     "output_type": "display_data"
    },
    {
     "data": {
      "application/vnd.jupyter.widget-view+json": {
       "model_id": "70bf74d8012b4b5aab098a0a63631aa2",
       "version_major": 2,
       "version_minor": 0
      },
      "text/plain": [
       "Simulation running...:   0%|          | 0/1440 [00:00<?, ?it/s]"
      ]
     },
     "metadata": {},
     "output_type": "display_data"
    },
    {
     "data": {
      "application/vnd.jupyter.widget-view+json": {
       "model_id": "fb681ecdd83b45d9955ecc1bb58dfeb5",
       "version_major": 2,
       "version_minor": 0
      },
      "text/plain": [
       "Pax and counter generation...:   0%|          | 0/2 [00:00<?, ?it/s]"
      ]
     },
     "metadata": {},
     "output_type": "display_data"
    },
    {
     "data": {
      "application/vnd.jupyter.widget-view+json": {
       "model_id": "ce607b9615494ba7941e6eb2e68fdc72",
       "version_major": 2,
       "version_minor": 0
      },
      "text/plain": [
       "Simulation running...:   0%|          | 0/1440 [00:00<?, ?it/s]"
      ]
     },
     "metadata": {},
     "output_type": "display_data"
    },
    {
     "data": {
      "application/vnd.jupyter.widget-view+json": {
       "model_id": "9fba4db4fe774b058388b559dc831e0e",
       "version_major": 2,
       "version_minor": 0
      },
      "text/plain": [
       "Pax and counter generation...:   0%|          | 0/2 [00:00<?, ?it/s]"
      ]
     },
     "metadata": {},
     "output_type": "display_data"
    },
    {
     "data": {
      "application/vnd.jupyter.widget-view+json": {
       "model_id": "21982cb232e740df8a68f74a9a520118",
       "version_major": 2,
       "version_minor": 0
      },
      "text/plain": [
       "Simulation running...:   0%|          | 0/1440 [00:00<?, ?it/s]"
      ]
     },
     "metadata": {},
     "output_type": "display_data"
    },
    {
     "data": {
      "application/vnd.jupyter.widget-view+json": {
       "model_id": "04fd4870900040d1b4acfe48df8c2c48",
       "version_major": 2,
       "version_minor": 0
      },
      "text/plain": [
       "Pax and counter generation...:   0%|          | 0/2 [00:00<?, ?it/s]"
      ]
     },
     "metadata": {},
     "output_type": "display_data"
    },
    {
     "data": {
      "application/vnd.jupyter.widget-view+json": {
       "model_id": "5c2478adb22f4aee9db4dbc82f9053d6",
       "version_major": 2,
       "version_minor": 0
      },
      "text/plain": [
       "Simulation running...:   0%|          | 0/1440 [00:00<?, ?it/s]"
      ]
     },
     "metadata": {},
     "output_type": "display_data"
    },
    {
     "data": {
      "application/javascript": [
       "\n",
       "            setTimeout(function() {\n",
       "                var nbb_cell_id = 204;\n",
       "                var nbb_unformatted_code = \"for opening_hour in opening_hour_list:\\n\\n    dct_param_opti_CUSBD[\\\"CUSBD_opening_duration\\\"] = opening_hour * 60\\n\\n    for two_step_ratio in two_step_ratio_list:\\n        dct_param_opti_CUSBD[\\\"modern_pax_ratio\\\"] = (\\n            two_step_ratio - 0.05\\n        )  # digital pax do not change\\n        \\n        # input N_kiosk and N_CUSBD from df_result\\n        mask = (df_result_opti_CUSBD[\\\"opening_hour\\\"] == opening_hour) & (\\n            df_result_opti_CUSBD[\\\"two_step_ratio\\\"] == two_step_ratio\\n        )\\n        dct_param_opti_CUSBD[\\\"N_kiosk\\\"] = df_result_opti_CUSBD.loc[\\n            mask, \\\"N_kiosk\\\"\\n        ].values[0]\\n        \\n        dct_param_opti_CUSBD[\\\"N_CUSBD\\\"] = df_result_opti_CUSBD.loc[\\n            mask, \\\"N_CUSBD\\\"\\n        ].values[0]\\n\\n        # retrieve relevant kwargs_rule\\n        kwargs_rule = {\\n            \\\"start_time\\\": 2.5,\\n            \\\"onecounter_time\\\": 0.75,\\n            \\\"base_n_counter\\\": math.ceil(3 * (1 - two_step_ratio)),\\n            \\\"seats_per_add_counter\\\": math.ceil(60 / (1 - two_step_ratio)),\\n        }\\n\\n        df_Pax, df_Counters = generate_dep_Pax_Counters(\\n            target_peak=3580,\\n            terminal=\\\"T1\\\",\\n            custom_counter_rule=True,\\n            **kwargs_rule,\\n        )\\n\\n        # store result\\n        mask = (df_result_opti_CUSBD[\\\"opening_hour\\\"] == opening_hour) & (\\n            df_result_opti_CUSBD[\\\"two_step_ratio\\\"] == two_step_ratio\\n        )\\n\\n        # as we generated base case df_Pax and df_Counters already\\n        dct_param_opti_CUSBD[\\\"df_Pax\\\"] = df_Pax\\n        dct_param_opti_CUSBD[\\\"df_Counters\\\"] = df_Counters\\n\\n        # run the optimized simulation once to get the waiting time, EBS and LBC numbers\\n        (\\n            df_result,\\n            list_KPI_run,\\n            dct_hist_wait_time,\\n            dct_hist_queue_length,\\n        ) = KIX_T1_CUSBD_departure_sim_function(**dct_param_opti_CUSBD)\\n\\n        # store result for waiting time\\n        mask = (df_result_opti_CUSBD[\\\"opening_hour\\\"] == opening_hour) & (\\n            df_result_opti_CUSBD[\\\"two_step_ratio\\\"] == two_step_ratio\\n        )\\n        df_result_opti_CUSBD.loc[mask, \\\"waiting_time_counters\\\"] = dct_hist_wait_time[\\n            \\\"checkin_counter\\\"\\n        ].quantile(q=0.9)\\n\\n        # store result for EBS and LBC\\n        EBS_req, LBC_req = calculate_EBS_LBC(df_result)\\n        df_result_opti_CUSBD.loc[mask, \\\"EBS\\\"] = int(EBS_req)\\n        df_result_opti_CUSBD.loc[mask, \\\"LBC\\\"] = int(LBC_req)\\n\\n        # store result for dwell time\\n        df_dwell, mean, top90 = calculate_avg_dwell_time(df_result)\\n        df_result_opti_CUSBD.loc[mask, \\\"dwell_time\\\"] = mean\\n        df_result_opti_CUSBD.loc[mask, \\\"df_dwell_time\\\"] = df_dwell\";\n",
       "                var nbb_formatted_code = \"for opening_hour in opening_hour_list:\\n\\n    dct_param_opti_CUSBD[\\\"CUSBD_opening_duration\\\"] = opening_hour * 60\\n\\n    for two_step_ratio in two_step_ratio_list:\\n        dct_param_opti_CUSBD[\\\"modern_pax_ratio\\\"] = (\\n            two_step_ratio - 0.05\\n        )  # digital pax do not change\\n\\n        # input N_kiosk and N_CUSBD from df_result\\n        mask = (df_result_opti_CUSBD[\\\"opening_hour\\\"] == opening_hour) & (\\n            df_result_opti_CUSBD[\\\"two_step_ratio\\\"] == two_step_ratio\\n        )\\n        dct_param_opti_CUSBD[\\\"N_kiosk\\\"] = df_result_opti_CUSBD.loc[\\n            mask, \\\"N_kiosk\\\"\\n        ].values[0]\\n\\n        dct_param_opti_CUSBD[\\\"N_CUSBD\\\"] = df_result_opti_CUSBD.loc[\\n            mask, \\\"N_CUSBD\\\"\\n        ].values[0]\\n\\n        # retrieve relevant kwargs_rule\\n        kwargs_rule = {\\n            \\\"start_time\\\": 2.5,\\n            \\\"onecounter_time\\\": 0.75,\\n            \\\"base_n_counter\\\": math.ceil(3 * (1 - two_step_ratio)),\\n            \\\"seats_per_add_counter\\\": math.ceil(60 / (1 - two_step_ratio)),\\n        }\\n\\n        df_Pax, df_Counters = generate_dep_Pax_Counters(\\n            target_peak=3580,\\n            terminal=\\\"T1\\\",\\n            custom_counter_rule=True,\\n            **kwargs_rule,\\n        )\\n\\n        # store result\\n        mask = (df_result_opti_CUSBD[\\\"opening_hour\\\"] == opening_hour) & (\\n            df_result_opti_CUSBD[\\\"two_step_ratio\\\"] == two_step_ratio\\n        )\\n\\n        # as we generated base case df_Pax and df_Counters already\\n        dct_param_opti_CUSBD[\\\"df_Pax\\\"] = df_Pax\\n        dct_param_opti_CUSBD[\\\"df_Counters\\\"] = df_Counters\\n\\n        # run the optimized simulation once to get the waiting time, EBS and LBC numbers\\n        (\\n            df_result,\\n            list_KPI_run,\\n            dct_hist_wait_time,\\n            dct_hist_queue_length,\\n        ) = KIX_T1_CUSBD_departure_sim_function(**dct_param_opti_CUSBD)\\n\\n        # store result for waiting time\\n        mask = (df_result_opti_CUSBD[\\\"opening_hour\\\"] == opening_hour) & (\\n            df_result_opti_CUSBD[\\\"two_step_ratio\\\"] == two_step_ratio\\n        )\\n        df_result_opti_CUSBD.loc[mask, \\\"waiting_time_counters\\\"] = dct_hist_wait_time[\\n            \\\"checkin_counter\\\"\\n        ].quantile(q=0.9)\\n\\n        # store result for EBS and LBC\\n        EBS_req, LBC_req = calculate_EBS_LBC(df_result)\\n        df_result_opti_CUSBD.loc[mask, \\\"EBS\\\"] = int(EBS_req)\\n        df_result_opti_CUSBD.loc[mask, \\\"LBC\\\"] = int(LBC_req)\\n\\n        # store result for dwell time\\n        df_dwell, mean, top90 = calculate_avg_dwell_time(df_result)\\n        df_result_opti_CUSBD.loc[mask, \\\"dwell_time\\\"] = mean\\n        df_result_opti_CUSBD.loc[mask, \\\"df_dwell_time\\\"] = df_dwell\";\n",
       "                var nbb_cells = Jupyter.notebook.get_cells();\n",
       "                for (var i = 0; i < nbb_cells.length; ++i) {\n",
       "                    if (nbb_cells[i].input_prompt_number == nbb_cell_id) {\n",
       "                        if (nbb_cells[i].get_text() == nbb_unformatted_code) {\n",
       "                             nbb_cells[i].set_text(nbb_formatted_code);\n",
       "                        }\n",
       "                        break;\n",
       "                    }\n",
       "                }\n",
       "            }, 500);\n",
       "            "
      ],
      "text/plain": [
       "<IPython.core.display.Javascript object>"
      ]
     },
     "metadata": {},
     "output_type": "display_data"
    }
   ],
   "source": [
    "for opening_hour in opening_hour_list:\n",
    "\n",
    "    dct_param_opti_CUSBD[\"CUSBD_opening_duration\"] = opening_hour * 60\n",
    "\n",
    "    for two_step_ratio in two_step_ratio_list:\n",
    "        dct_param_opti_CUSBD[\"modern_pax_ratio\"] = (\n",
    "            two_step_ratio - 0.05\n",
    "        )  # digital pax do not change\n",
    "\n",
    "        # input N_kiosk and N_CUSBD from df_result\n",
    "        mask = (df_result_opti_CUSBD[\"opening_hour\"] == opening_hour) & (\n",
    "            df_result_opti_CUSBD[\"two_step_ratio\"] == two_step_ratio\n",
    "        )\n",
    "        dct_param_opti_CUSBD[\"N_kiosk\"] = df_result_opti_CUSBD.loc[\n",
    "            mask, \"N_kiosk\"\n",
    "        ].values[0]\n",
    "\n",
    "        dct_param_opti_CUSBD[\"N_CUSBD\"] = df_result_opti_CUSBD.loc[\n",
    "            mask, \"N_CUSBD\"\n",
    "        ].values[0]\n",
    "\n",
    "        # retrieve relevant kwargs_rule\n",
    "        kwargs_rule = {\n",
    "            \"start_time\": 2.5,\n",
    "            \"onecounter_time\": 0.75,\n",
    "            \"base_n_counter\": math.ceil(3 * (1 - two_step_ratio)),\n",
    "            \"seats_per_add_counter\": math.ceil(60 / (1 - two_step_ratio)),\n",
    "        }\n",
    "\n",
    "        df_Pax, df_Counters = generate_dep_Pax_Counters(\n",
    "            target_peak=3580,\n",
    "            terminal=\"T1\",\n",
    "            custom_counter_rule=True,\n",
    "            **kwargs_rule,\n",
    "        )\n",
    "\n",
    "        # store result\n",
    "        mask = (df_result_opti_CUSBD[\"opening_hour\"] == opening_hour) & (\n",
    "            df_result_opti_CUSBD[\"two_step_ratio\"] == two_step_ratio\n",
    "        )\n",
    "\n",
    "        # as we generated base case df_Pax and df_Counters already\n",
    "        dct_param_opti_CUSBD[\"df_Pax\"] = df_Pax\n",
    "        dct_param_opti_CUSBD[\"df_Counters\"] = df_Counters\n",
    "\n",
    "        # run the optimized simulation once to get the waiting time, EBS and LBC numbers\n",
    "        (\n",
    "            df_result,\n",
    "            list_KPI_run,\n",
    "            dct_hist_wait_time,\n",
    "            dct_hist_queue_length,\n",
    "        ) = KIX_T1_CUSBD_departure_sim_function(**dct_param_opti_CUSBD)\n",
    "\n",
    "        # store result for waiting time\n",
    "        mask = (df_result_opti_CUSBD[\"opening_hour\"] == opening_hour) & (\n",
    "            df_result_opti_CUSBD[\"two_step_ratio\"] == two_step_ratio\n",
    "        )\n",
    "        df_result_opti_CUSBD.loc[mask, \"waiting_time_counters\"] = dct_hist_wait_time[\n",
    "            \"checkin_counter\"\n",
    "        ].quantile(q=0.9)\n",
    "\n",
    "        # store result for EBS and LBC\n",
    "        EBS_req, LBC_req = calculate_EBS_LBC(df_result)\n",
    "        df_result_opti_CUSBD.loc[mask, \"EBS\"] = int(EBS_req)\n",
    "        df_result_opti_CUSBD.loc[mask, \"LBC\"] = int(LBC_req)\n",
    "\n",
    "        # store result for dwell time\n",
    "        df_dwell, mean, top90 = calculate_avg_dwell_time(df_result)\n",
    "        df_result_opti_CUSBD.loc[mask, \"dwell_time\"] = mean\n",
    "        df_result_opti_CUSBD.loc[mask, \"df_dwell_time\"] = df_dwell"
   ]
  },
  {
   "cell_type": "code",
   "execution_count": 207,
   "metadata": {
    "ExecuteTime": {
     "end_time": "2021-06-07T15:03:55.921898Z",
     "start_time": "2021-06-07T15:03:55.860411Z"
    }
   },
   "outputs": [
    {
     "data": {
      "text/html": [
       "<div>\n",
       "<style scoped>\n",
       "    .dataframe tbody tr th:only-of-type {\n",
       "        vertical-align: middle;\n",
       "    }\n",
       "\n",
       "    .dataframe tbody tr th {\n",
       "        vertical-align: top;\n",
       "    }\n",
       "\n",
       "    .dataframe thead th {\n",
       "        text-align: right;\n",
       "    }\n",
       "</style>\n",
       "<table border=\"1\" class=\"dataframe\">\n",
       "  <thead>\n",
       "    <tr style=\"text-align: right;\">\n",
       "      <th></th>\n",
       "      <th></th>\n",
       "      <th>N_kiosk</th>\n",
       "      <th>N_CUSBD</th>\n",
       "      <th>N_Counters</th>\n",
       "      <th>waiting_time_counters</th>\n",
       "      <th>EBS</th>\n",
       "      <th>LBC</th>\n",
       "      <th>dwell_time</th>\n",
       "    </tr>\n",
       "    <tr>\n",
       "      <th>opening_hour</th>\n",
       "      <th>two_step_ratio</th>\n",
       "      <th></th>\n",
       "      <th></th>\n",
       "      <th></th>\n",
       "      <th></th>\n",
       "      <th></th>\n",
       "      <th></th>\n",
       "      <th></th>\n",
       "    </tr>\n",
       "  </thead>\n",
       "  <tbody>\n",
       "    <tr>\n",
       "      <th rowspan=\"3\" valign=\"top\">2.5</th>\n",
       "      <th>0.2</th>\n",
       "      <td>13</td>\n",
       "      <td>15</td>\n",
       "      <td>101</td>\n",
       "      <td>55.083333</td>\n",
       "      <td>976</td>\n",
       "      <td>235</td>\n",
       "      <td>110.646846</td>\n",
       "    </tr>\n",
       "    <tr>\n",
       "      <th>0.5</th>\n",
       "      <td>31</td>\n",
       "      <td>35</td>\n",
       "      <td>68</td>\n",
       "      <td>58.600000</td>\n",
       "      <td>954</td>\n",
       "      <td>183</td>\n",
       "      <td>115.068665</td>\n",
       "    </tr>\n",
       "    <tr>\n",
       "      <th>0.8</th>\n",
       "      <td>49</td>\n",
       "      <td>55</td>\n",
       "      <td>33</td>\n",
       "      <td>62.010000</td>\n",
       "      <td>985</td>\n",
       "      <td>125</td>\n",
       "      <td>120.953924</td>\n",
       "    </tr>\n",
       "    <tr>\n",
       "      <th rowspan=\"3\" valign=\"top\">3.0</th>\n",
       "      <th>0.2</th>\n",
       "      <td>13</td>\n",
       "      <td>13</td>\n",
       "      <td>101</td>\n",
       "      <td>55.083333</td>\n",
       "      <td>1182</td>\n",
       "      <td>235</td>\n",
       "      <td>114.931195</td>\n",
       "    </tr>\n",
       "    <tr>\n",
       "      <th>0.5</th>\n",
       "      <td>31</td>\n",
       "      <td>33</td>\n",
       "      <td>68</td>\n",
       "      <td>58.600000</td>\n",
       "      <td>1364</td>\n",
       "      <td>183</td>\n",
       "      <td>125.997661</td>\n",
       "    </tr>\n",
       "    <tr>\n",
       "      <th>0.8</th>\n",
       "      <td>49</td>\n",
       "      <td>49</td>\n",
       "      <td>33</td>\n",
       "      <td>62.010000</td>\n",
       "      <td>1649</td>\n",
       "      <td>126</td>\n",
       "      <td>136.659662</td>\n",
       "    </tr>\n",
       "    <tr>\n",
       "      <th rowspan=\"3\" valign=\"top\">3.5</th>\n",
       "      <th>0.2</th>\n",
       "      <td>13</td>\n",
       "      <td>12</td>\n",
       "      <td>101</td>\n",
       "      <td>55.083333</td>\n",
       "      <td>1291</td>\n",
       "      <td>235</td>\n",
       "      <td>117.640225</td>\n",
       "    </tr>\n",
       "    <tr>\n",
       "      <th>0.5</th>\n",
       "      <td>31</td>\n",
       "      <td>29</td>\n",
       "      <td>68</td>\n",
       "      <td>58.600000</td>\n",
       "      <td>1636</td>\n",
       "      <td>183</td>\n",
       "      <td>132.165222</td>\n",
       "    </tr>\n",
       "    <tr>\n",
       "      <th>0.8</th>\n",
       "      <td>49</td>\n",
       "      <td>46</td>\n",
       "      <td>33</td>\n",
       "      <td>62.010000</td>\n",
       "      <td>2121</td>\n",
       "      <td>125</td>\n",
       "      <td>146.484353</td>\n",
       "    </tr>\n",
       "    <tr>\n",
       "      <th rowspan=\"3\" valign=\"top\">4.0</th>\n",
       "      <th>0.2</th>\n",
       "      <td>13</td>\n",
       "      <td>11</td>\n",
       "      <td>101</td>\n",
       "      <td>55.083333</td>\n",
       "      <td>1311</td>\n",
       "      <td>235</td>\n",
       "      <td>117.976675</td>\n",
       "    </tr>\n",
       "    <tr>\n",
       "      <th>0.5</th>\n",
       "      <td>31</td>\n",
       "      <td>27</td>\n",
       "      <td>68</td>\n",
       "      <td>58.600000</td>\n",
       "      <td>1793</td>\n",
       "      <td>183</td>\n",
       "      <td>134.288409</td>\n",
       "    </tr>\n",
       "    <tr>\n",
       "      <th>0.8</th>\n",
       "      <td>49</td>\n",
       "      <td>42</td>\n",
       "      <td>33</td>\n",
       "      <td>62.010000</td>\n",
       "      <td>2399</td>\n",
       "      <td>125</td>\n",
       "      <td>150.339122</td>\n",
       "    </tr>\n",
       "    <tr>\n",
       "      <th rowspan=\"3\" valign=\"top\">12.0</th>\n",
       "      <th>0.2</th>\n",
       "      <td>13</td>\n",
       "      <td>10</td>\n",
       "      <td>101</td>\n",
       "      <td>55.083333</td>\n",
       "      <td>1344</td>\n",
       "      <td>235</td>\n",
       "      <td>117.884485</td>\n",
       "    </tr>\n",
       "    <tr>\n",
       "      <th>0.5</th>\n",
       "      <td>31</td>\n",
       "      <td>25</td>\n",
       "      <td>68</td>\n",
       "      <td>58.600000</td>\n",
       "      <td>1887</td>\n",
       "      <td>183</td>\n",
       "      <td>134.126308</td>\n",
       "    </tr>\n",
       "    <tr>\n",
       "      <th>0.8</th>\n",
       "      <td>49</td>\n",
       "      <td>40</td>\n",
       "      <td>33</td>\n",
       "      <td>62.010000</td>\n",
       "      <td>2593</td>\n",
       "      <td>125</td>\n",
       "      <td>150.972565</td>\n",
       "    </tr>\n",
       "  </tbody>\n",
       "</table>\n",
       "</div>"
      ],
      "text/plain": [
       "                             N_kiosk  N_CUSBD  N_Counters  \\\n",
       "opening_hour two_step_ratio                                 \n",
       "2.5          0.2                  13       15         101   \n",
       "             0.5                  31       35          68   \n",
       "             0.8                  49       55          33   \n",
       "3.0          0.2                  13       13         101   \n",
       "             0.5                  31       33          68   \n",
       "             0.8                  49       49          33   \n",
       "3.5          0.2                  13       12         101   \n",
       "             0.5                  31       29          68   \n",
       "             0.8                  49       46          33   \n",
       "4.0          0.2                  13       11         101   \n",
       "             0.5                  31       27          68   \n",
       "             0.8                  49       42          33   \n",
       "12.0         0.2                  13       10         101   \n",
       "             0.5                  31       25          68   \n",
       "             0.8                  49       40          33   \n",
       "\n",
       "                             waiting_time_counters   EBS  LBC  dwell_time  \n",
       "opening_hour two_step_ratio                                                \n",
       "2.5          0.2                         55.083333   976  235  110.646846  \n",
       "             0.5                         58.600000   954  183  115.068665  \n",
       "             0.8                         62.010000   985  125  120.953924  \n",
       "3.0          0.2                         55.083333  1182  235  114.931195  \n",
       "             0.5                         58.600000  1364  183  125.997661  \n",
       "             0.8                         62.010000  1649  126  136.659662  \n",
       "3.5          0.2                         55.083333  1291  235  117.640225  \n",
       "             0.5                         58.600000  1636  183  132.165222  \n",
       "             0.8                         62.010000  2121  125  146.484353  \n",
       "4.0          0.2                         55.083333  1311  235  117.976675  \n",
       "             0.5                         58.600000  1793  183  134.288409  \n",
       "             0.8                         62.010000  2399  125  150.339122  \n",
       "12.0         0.2                         55.083333  1344  235  117.884485  \n",
       "             0.5                         58.600000  1887  183  134.126308  \n",
       "             0.8                         62.010000  2593  125  150.972565  "
      ]
     },
     "execution_count": 207,
     "metadata": {},
     "output_type": "execute_result"
    },
    {
     "data": {
      "application/javascript": [
       "\n",
       "            setTimeout(function() {\n",
       "                var nbb_cell_id = 207;\n",
       "                var nbb_unformatted_code = \"df_result_opti_CUSBD.groupby([\\\"opening_hour\\\", \\\"two_step_ratio\\\"]).sum()\";\n",
       "                var nbb_formatted_code = \"df_result_opti_CUSBD.groupby([\\\"opening_hour\\\", \\\"two_step_ratio\\\"]).sum()\";\n",
       "                var nbb_cells = Jupyter.notebook.get_cells();\n",
       "                for (var i = 0; i < nbb_cells.length; ++i) {\n",
       "                    if (nbb_cells[i].input_prompt_number == nbb_cell_id) {\n",
       "                        if (nbb_cells[i].get_text() == nbb_unformatted_code) {\n",
       "                             nbb_cells[i].set_text(nbb_formatted_code);\n",
       "                        }\n",
       "                        break;\n",
       "                    }\n",
       "                }\n",
       "            }, 500);\n",
       "            "
      ],
      "text/plain": [
       "<IPython.core.display.Javascript object>"
      ]
     },
     "metadata": {},
     "output_type": "display_data"
    }
   ],
   "source": [
    "df_result_opti_CUSBD.groupby([\"opening_hour\", \"two_step_ratio\"]).sum()"
   ]
  },
  {
   "cell_type": "code",
   "execution_count": 252,
   "metadata": {
    "ExecuteTime": {
     "end_time": "2021-06-08T00:16:47.538405Z",
     "start_time": "2021-06-08T00:16:47.511405Z"
    }
   },
   "outputs": [
    {
     "data": {
      "application/javascript": [
       "\n",
       "            setTimeout(function() {\n",
       "                var nbb_cell_id = 252;\n",
       "                var nbb_unformatted_code = \"mask = df_result_opti_CUSBD[\\\"opening_hour\\\"] != 12\\ndf_CUSBD = df_result_opti_CUSBD[mask].fillna(\\\"\\\").groupby([\\\"opening_hour\\\", \\\"two_step_ratio\\\"]).agg(\\n    \\\"sum\\\"\\n)\";\n",
       "                var nbb_formatted_code = \"mask = df_result_opti_CUSBD[\\\"opening_hour\\\"] != 12\\ndf_CUSBD = (\\n    df_result_opti_CUSBD[mask]\\n    .fillna(\\\"\\\")\\n    .groupby([\\\"opening_hour\\\", \\\"two_step_ratio\\\"])\\n    .agg(\\\"sum\\\")\\n)\";\n",
       "                var nbb_cells = Jupyter.notebook.get_cells();\n",
       "                for (var i = 0; i < nbb_cells.length; ++i) {\n",
       "                    if (nbb_cells[i].input_prompt_number == nbb_cell_id) {\n",
       "                        if (nbb_cells[i].get_text() == nbb_unformatted_code) {\n",
       "                             nbb_cells[i].set_text(nbb_formatted_code);\n",
       "                        }\n",
       "                        break;\n",
       "                    }\n",
       "                }\n",
       "            }, 500);\n",
       "            "
      ],
      "text/plain": [
       "<IPython.core.display.Javascript object>"
      ]
     },
     "metadata": {},
     "output_type": "display_data"
    }
   ],
   "source": [
    "mask = df_result_opti_CUSBD[\"opening_hour\"] != 12\n",
    "df_CUSBD = (\n",
    "    df_result_opti_CUSBD[mask]\n",
    "    .fillna(\"\")\n",
    "    .groupby([\"opening_hour\", \"two_step_ratio\"])\n",
    "    .agg(\"sum\")\n",
    ")"
   ]
  },
  {
   "cell_type": "code",
   "execution_count": 249,
   "metadata": {
    "ExecuteTime": {
     "end_time": "2021-06-08T00:11:56.407596Z",
     "start_time": "2021-06-08T00:11:56.368583Z"
    }
   },
   "outputs": [
    {
     "data": {
      "application/javascript": [
       "\n",
       "            setTimeout(function() {\n",
       "                var nbb_cell_id = 249;\n",
       "                var nbb_unformatted_code = \"df_all_counters = df_result_opti[\\n    [\\n        \\\"opening_hour\\\",\\n        \\\"two_step_ratio\\\",\\n        \\\"N_kiosk\\\",\\n        \\\"CUSBD\\\",\\n        \\\"N_Counters\\\",\\n        \\\"waiting_time_counters\\\",\\n        \\\"EBS\\\",\\n        \\\"LBC\\\",\\n        \\\"dwell_time\\\",\\n        \\\"df_dwell_time\\\",\\n    ]\\n].fillna(\\\"\\\").groupby([\\\"opening_hour\\\", \\\"two_step_ratio\\\"]).agg(\\\"sum\\\")\";\n",
       "                var nbb_formatted_code = \"df_all_counters = (\\n    df_result_opti[\\n        [\\n            \\\"opening_hour\\\",\\n            \\\"two_step_ratio\\\",\\n            \\\"N_kiosk\\\",\\n            \\\"CUSBD\\\",\\n            \\\"N_Counters\\\",\\n            \\\"waiting_time_counters\\\",\\n            \\\"EBS\\\",\\n            \\\"LBC\\\",\\n            \\\"dwell_time\\\",\\n            \\\"df_dwell_time\\\",\\n        ]\\n    ]\\n    .fillna(\\\"\\\")\\n    .groupby([\\\"opening_hour\\\", \\\"two_step_ratio\\\"])\\n    .agg(\\\"sum\\\")\\n)\";\n",
       "                var nbb_cells = Jupyter.notebook.get_cells();\n",
       "                for (var i = 0; i < nbb_cells.length; ++i) {\n",
       "                    if (nbb_cells[i].input_prompt_number == nbb_cell_id) {\n",
       "                        if (nbb_cells[i].get_text() == nbb_unformatted_code) {\n",
       "                             nbb_cells[i].set_text(nbb_formatted_code);\n",
       "                        }\n",
       "                        break;\n",
       "                    }\n",
       "                }\n",
       "            }, 500);\n",
       "            "
      ],
      "text/plain": [
       "<IPython.core.display.Javascript object>"
      ]
     },
     "metadata": {},
     "output_type": "display_data"
    }
   ],
   "source": [
    "df_all_counters = (\n",
    "    df_result_opti[\n",
    "        [\n",
    "            \"opening_hour\",\n",
    "            \"two_step_ratio\",\n",
    "            \"N_kiosk\",\n",
    "            \"CUSBD\",\n",
    "            \"N_Counters\",\n",
    "            \"waiting_time_counters\",\n",
    "            \"EBS\",\n",
    "            \"LBC\",\n",
    "            \"dwell_time\",\n",
    "            \"df_dwell_time\",\n",
    "        ]\n",
    "    ]\n",
    "    .fillna(\"\")\n",
    "    .groupby([\"opening_hour\", \"two_step_ratio\"])\n",
    "    .agg(\"sum\")\n",
    ")"
   ]
  },
  {
   "cell_type": "code",
   "execution_count": 272,
   "metadata": {
    "ExecuteTime": {
     "end_time": "2021-06-08T00:29:33.572226Z",
     "start_time": "2021-06-08T00:29:33.558226Z"
    }
   },
   "outputs": [
    {
     "data": {
      "application/javascript": [
       "\n",
       "            setTimeout(function() {\n",
       "                var nbb_cell_id = 272;\n",
       "                var nbb_unformatted_code = \"writer = pd.ExcelWriter(\\n    r\\\"C:\\\\Users\\\\J00638\\\\KAP python\\\\Airport sim\\\\opti_results.xlsx\\\",\\n)\";\n",
       "                var nbb_formatted_code = \"writer = pd.ExcelWriter(\\n    r\\\"C:\\\\Users\\\\J00638\\\\KAP python\\\\Airport sim\\\\opti_results.xlsx\\\",\\n)\";\n",
       "                var nbb_cells = Jupyter.notebook.get_cells();\n",
       "                for (var i = 0; i < nbb_cells.length; ++i) {\n",
       "                    if (nbb_cells[i].input_prompt_number == nbb_cell_id) {\n",
       "                        if (nbb_cells[i].get_text() == nbb_unformatted_code) {\n",
       "                             nbb_cells[i].set_text(nbb_formatted_code);\n",
       "                        }\n",
       "                        break;\n",
       "                    }\n",
       "                }\n",
       "            }, 500);\n",
       "            "
      ],
      "text/plain": [
       "<IPython.core.display.Javascript object>"
      ]
     },
     "metadata": {},
     "output_type": "display_data"
    }
   ],
   "source": [
    "writer = pd.ExcelWriter(\n",
    "    r\"C:\\Users\\J00638\\KAP python\\Airport sim\\opti_results.xlsx\",\n",
    ")"
   ]
  },
  {
   "cell_type": "code",
   "execution_count": 273,
   "metadata": {
    "ExecuteTime": {
     "end_time": "2021-06-08T00:29:36.075578Z",
     "start_time": "2021-06-08T00:29:35.715676Z"
    }
   },
   "outputs": [
    {
     "data": {
      "application/javascript": [
       "\n",
       "            setTimeout(function() {\n",
       "                var nbb_cell_id = 273;\n",
       "                var nbb_unformatted_code = \"df_CUSBD.to_excel(writer, sheet_name=\\\"CUSBD\\\")\\ndf_all_counters.to_excel(writer, sheet_name=\\\"all_counters\\\")\\nwriter.save()\";\n",
       "                var nbb_formatted_code = \"df_CUSBD.to_excel(writer, sheet_name=\\\"CUSBD\\\")\\ndf_all_counters.to_excel(writer, sheet_name=\\\"all_counters\\\")\\nwriter.save()\";\n",
       "                var nbb_cells = Jupyter.notebook.get_cells();\n",
       "                for (var i = 0; i < nbb_cells.length; ++i) {\n",
       "                    if (nbb_cells[i].input_prompt_number == nbb_cell_id) {\n",
       "                        if (nbb_cells[i].get_text() == nbb_unformatted_code) {\n",
       "                             nbb_cells[i].set_text(nbb_formatted_code);\n",
       "                        }\n",
       "                        break;\n",
       "                    }\n",
       "                }\n",
       "            }, 500);\n",
       "            "
      ],
      "text/plain": [
       "<IPython.core.display.Javascript object>"
      ]
     },
     "metadata": {},
     "output_type": "display_data"
    }
   ],
   "source": [
    "df_CUSBD.to_excel(writer, sheet_name=\"CUSBD\")\n",
    "df_all_counters.to_excel(writer, sheet_name=\"all_counters\")\n",
    "writer.save()"
   ]
  },
  {
   "cell_type": "code",
   "execution_count": 255,
   "metadata": {
    "ExecuteTime": {
     "end_time": "2021-06-08T00:20:01.334430Z",
     "start_time": "2021-06-08T00:20:01.292425Z"
    }
   },
   "outputs": [
    {
     "data": {
      "text/html": [
       "<div>\n",
       "<style scoped>\n",
       "    .dataframe tbody tr th:only-of-type {\n",
       "        vertical-align: middle;\n",
       "    }\n",
       "\n",
       "    .dataframe tbody tr th {\n",
       "        vertical-align: top;\n",
       "    }\n",
       "\n",
       "    .dataframe thead th {\n",
       "        text-align: right;\n",
       "    }\n",
       "</style>\n",
       "<table border=\"1\" class=\"dataframe\">\n",
       "  <thead>\n",
       "    <tr style=\"text-align: right;\">\n",
       "      <th></th>\n",
       "      <th></th>\n",
       "      <th>N_kiosk</th>\n",
       "      <th>CUSBD</th>\n",
       "      <th>N_Counters</th>\n",
       "      <th>waiting_time_counters</th>\n",
       "      <th>EBS</th>\n",
       "      <th>LBC</th>\n",
       "      <th>dwell_time</th>\n",
       "    </tr>\n",
       "    <tr>\n",
       "      <th>opening_hour</th>\n",
       "      <th>two_step_ratio</th>\n",
       "      <th></th>\n",
       "      <th></th>\n",
       "      <th></th>\n",
       "      <th></th>\n",
       "      <th></th>\n",
       "      <th></th>\n",
       "      <th></th>\n",
       "    </tr>\n",
       "  </thead>\n",
       "  <tbody>\n",
       "    <tr>\n",
       "      <th rowspan=\"3\" valign=\"top\">2.5</th>\n",
       "      <th>0.2</th>\n",
       "      <td>13</td>\n",
       "      <td>0</td>\n",
       "      <td>131.0</td>\n",
       "      <td>49.516667</td>\n",
       "      <td>1159</td>\n",
       "      <td>214</td>\n",
       "      <td>111.317240</td>\n",
       "    </tr>\n",
       "    <tr>\n",
       "      <th>0.5</th>\n",
       "      <td>31</td>\n",
       "      <td>0</td>\n",
       "      <td>131.0</td>\n",
       "      <td>45.466667</td>\n",
       "      <td>1213</td>\n",
       "      <td>159</td>\n",
       "      <td>113.306147</td>\n",
       "    </tr>\n",
       "    <tr>\n",
       "      <th>0.8</th>\n",
       "      <td>49</td>\n",
       "      <td>0</td>\n",
       "      <td>131.0</td>\n",
       "      <td>41.831667</td>\n",
       "      <td>1271</td>\n",
       "      <td>111</td>\n",
       "      <td>115.243283</td>\n",
       "    </tr>\n",
       "    <tr>\n",
       "      <th rowspan=\"3\" valign=\"top\">3.0</th>\n",
       "      <th>0.2</th>\n",
       "      <td>13</td>\n",
       "      <td>0</td>\n",
       "      <td>126.0</td>\n",
       "      <td>47.216667</td>\n",
       "      <td>1474</td>\n",
       "      <td>151</td>\n",
       "      <td>126.838795</td>\n",
       "    </tr>\n",
       "    <tr>\n",
       "      <th>0.5</th>\n",
       "      <td>31</td>\n",
       "      <td>0</td>\n",
       "      <td>126.0</td>\n",
       "      <td>42.666667</td>\n",
       "      <td>1524</td>\n",
       "      <td>105</td>\n",
       "      <td>128.940204</td>\n",
       "    </tr>\n",
       "    <tr>\n",
       "      <th>0.8</th>\n",
       "      <td>49</td>\n",
       "      <td>0</td>\n",
       "      <td>126.0</td>\n",
       "      <td>38.648333</td>\n",
       "      <td>1572</td>\n",
       "      <td>88</td>\n",
       "      <td>130.916207</td>\n",
       "    </tr>\n",
       "    <tr>\n",
       "      <th rowspan=\"3\" valign=\"top\">3.5</th>\n",
       "      <th>0.2</th>\n",
       "      <td>13</td>\n",
       "      <td>0</td>\n",
       "      <td>121.0</td>\n",
       "      <td>34.266667</td>\n",
       "      <td>2090</td>\n",
       "      <td>111</td>\n",
       "      <td>144.050033</td>\n",
       "    </tr>\n",
       "    <tr>\n",
       "      <th>0.5</th>\n",
       "      <td>31</td>\n",
       "      <td>0</td>\n",
       "      <td>121.0</td>\n",
       "      <td>29.781667</td>\n",
       "      <td>2150</td>\n",
       "      <td>88</td>\n",
       "      <td>145.623610</td>\n",
       "    </tr>\n",
       "    <tr>\n",
       "      <th>0.8</th>\n",
       "      <td>49</td>\n",
       "      <td>0</td>\n",
       "      <td>121.0</td>\n",
       "      <td>25.716667</td>\n",
       "      <td>2217</td>\n",
       "      <td>81</td>\n",
       "      <td>147.090782</td>\n",
       "    </tr>\n",
       "    <tr>\n",
       "      <th rowspan=\"3\" valign=\"top\">4.0</th>\n",
       "      <th>0.2</th>\n",
       "      <td>13</td>\n",
       "      <td>0</td>\n",
       "      <td>125.0</td>\n",
       "      <td>15.298333</td>\n",
       "      <td>2773</td>\n",
       "      <td>81</td>\n",
       "      <td>157.101261</td>\n",
       "    </tr>\n",
       "    <tr>\n",
       "      <th>0.5</th>\n",
       "      <td>31</td>\n",
       "      <td>0</td>\n",
       "      <td>125.0</td>\n",
       "      <td>11.865000</td>\n",
       "      <td>2795</td>\n",
       "      <td>82</td>\n",
       "      <td>157.702864</td>\n",
       "    </tr>\n",
       "    <tr>\n",
       "      <th>0.8</th>\n",
       "      <td>49</td>\n",
       "      <td>0</td>\n",
       "      <td>125.0</td>\n",
       "      <td>9.066667</td>\n",
       "      <td>2829</td>\n",
       "      <td>81</td>\n",
       "      <td>158.193951</td>\n",
       "    </tr>\n",
       "  </tbody>\n",
       "</table>\n",
       "</div>"
      ],
      "text/plain": [
       "                             N_kiosk  CUSBD  N_Counters  \\\n",
       "opening_hour two_step_ratio                               \n",
       "2.5          0.2                  13      0       131.0   \n",
       "             0.5                  31      0       131.0   \n",
       "             0.8                  49      0       131.0   \n",
       "3.0          0.2                  13      0       126.0   \n",
       "             0.5                  31      0       126.0   \n",
       "             0.8                  49      0       126.0   \n",
       "3.5          0.2                  13      0       121.0   \n",
       "             0.5                  31      0       121.0   \n",
       "             0.8                  49      0       121.0   \n",
       "4.0          0.2                  13      0       125.0   \n",
       "             0.5                  31      0       125.0   \n",
       "             0.8                  49      0       125.0   \n",
       "\n",
       "                             waiting_time_counters   EBS  LBC  dwell_time  \n",
       "opening_hour two_step_ratio                                                \n",
       "2.5          0.2                         49.516667  1159  214  111.317240  \n",
       "             0.5                         45.466667  1213  159  113.306147  \n",
       "             0.8                         41.831667  1271  111  115.243283  \n",
       "3.0          0.2                         47.216667  1474  151  126.838795  \n",
       "             0.5                         42.666667  1524  105  128.940204  \n",
       "             0.8                         38.648333  1572   88  130.916207  \n",
       "3.5          0.2                         34.266667  2090  111  144.050033  \n",
       "             0.5                         29.781667  2150   88  145.623610  \n",
       "             0.8                         25.716667  2217   81  147.090782  \n",
       "4.0          0.2                         15.298333  2773   81  157.101261  \n",
       "             0.5                         11.865000  2795   82  157.702864  \n",
       "             0.8                          9.066667  2829   81  158.193951  "
      ]
     },
     "execution_count": 255,
     "metadata": {},
     "output_type": "execute_result"
    },
    {
     "data": {
      "application/javascript": [
       "\n",
       "            setTimeout(function() {\n",
       "                var nbb_cell_id = 255;\n",
       "                var nbb_unformatted_code = \"pd.DataFrame(df_all_counters)\";\n",
       "                var nbb_formatted_code = \"pd.DataFrame(df_all_counters)\";\n",
       "                var nbb_cells = Jupyter.notebook.get_cells();\n",
       "                for (var i = 0; i < nbb_cells.length; ++i) {\n",
       "                    if (nbb_cells[i].input_prompt_number == nbb_cell_id) {\n",
       "                        if (nbb_cells[i].get_text() == nbb_unformatted_code) {\n",
       "                             nbb_cells[i].set_text(nbb_formatted_code);\n",
       "                        }\n",
       "                        break;\n",
       "                    }\n",
       "                }\n",
       "            }, 500);\n",
       "            "
      ],
      "text/plain": [
       "<IPython.core.display.Javascript object>"
      ]
     },
     "metadata": {},
     "output_type": "display_data"
    }
   ],
   "source": [
    "pd.DataFrame(df_all_counters)"
   ]
  },
  {
   "cell_type": "code",
   "execution_count": 267,
   "metadata": {
    "ExecuteTime": {
     "end_time": "2021-06-08T00:26:33.118636Z",
     "start_time": "2021-06-08T00:26:33.100635Z"
    }
   },
   "outputs": [
    {
     "data": {
      "application/javascript": [
       "\n",
       "            setTimeout(function() {\n",
       "                var nbb_cell_id = 267;\n",
       "                var nbb_unformatted_code = \"df_result_opti_output.to_excel(writer, sheet_name=\\\"CUSBD\\\")\";\n",
       "                var nbb_formatted_code = \"df_result_opti_output.to_excel(writer, sheet_name=\\\"CUSBD\\\")\";\n",
       "                var nbb_cells = Jupyter.notebook.get_cells();\n",
       "                for (var i = 0; i < nbb_cells.length; ++i) {\n",
       "                    if (nbb_cells[i].input_prompt_number == nbb_cell_id) {\n",
       "                        if (nbb_cells[i].get_text() == nbb_unformatted_code) {\n",
       "                             nbb_cells[i].set_text(nbb_formatted_code);\n",
       "                        }\n",
       "                        break;\n",
       "                    }\n",
       "                }\n",
       "            }, 500);\n",
       "            "
      ],
      "text/plain": [
       "<IPython.core.display.Javascript object>"
      ]
     },
     "metadata": {},
     "output_type": "display_data"
    }
   ],
   "source": [
    "df_result_opti_output.to_excel(writer, sheet_name=\"CUSBD\")"
   ]
  },
  {
   "cell_type": "code",
   "execution_count": 263,
   "metadata": {
    "ExecuteTime": {
     "end_time": "2021-06-08T00:24:17.246872Z",
     "start_time": "2021-06-08T00:24:17.211867Z"
    }
   },
   "outputs": [
    {
     "data": {
      "text/html": [
       "<div>\n",
       "<style scoped>\n",
       "    .dataframe tbody tr th:only-of-type {\n",
       "        vertical-align: middle;\n",
       "    }\n",
       "\n",
       "    .dataframe tbody tr th {\n",
       "        vertical-align: top;\n",
       "    }\n",
       "\n",
       "    .dataframe thead th {\n",
       "        text-align: right;\n",
       "    }\n",
       "</style>\n",
       "<table border=\"1\" class=\"dataframe\">\n",
       "  <thead>\n",
       "    <tr style=\"text-align: right;\">\n",
       "      <th></th>\n",
       "      <th>opening_hour</th>\n",
       "      <th>two_step_ratio</th>\n",
       "      <th>N_kiosk</th>\n",
       "      <th>N_CUSBD</th>\n",
       "      <th>N_Counters</th>\n",
       "      <th>waiting_time_counters</th>\n",
       "      <th>EBS</th>\n",
       "      <th>LBC</th>\n",
       "      <th>dwell_time</th>\n",
       "      <th>df_dwell_time</th>\n",
       "    </tr>\n",
       "  </thead>\n",
       "  <tbody>\n",
       "    <tr>\n",
       "      <th>0</th>\n",
       "      <td>2.5</td>\n",
       "      <td>0.2</td>\n",
       "      <td>13</td>\n",
       "      <td>15</td>\n",
       "      <td>101</td>\n",
       "      <td>55.083333</td>\n",
       "      <td>976</td>\n",
       "      <td>235</td>\n",
       "      <td>110.646846</td>\n",
       "      <td>0 days 02:06:45</td>\n",
       "    </tr>\n",
       "    <tr>\n",
       "      <th>1</th>\n",
       "      <td>2.5</td>\n",
       "      <td>0.5</td>\n",
       "      <td>31</td>\n",
       "      <td>35</td>\n",
       "      <td>68</td>\n",
       "      <td>58.600000</td>\n",
       "      <td>954</td>\n",
       "      <td>183</td>\n",
       "      <td>115.068665</td>\n",
       "      <td>0 days 01:19:24</td>\n",
       "    </tr>\n",
       "    <tr>\n",
       "      <th>2</th>\n",
       "      <td>2.5</td>\n",
       "      <td>0.8</td>\n",
       "      <td>49</td>\n",
       "      <td>55</td>\n",
       "      <td>33</td>\n",
       "      <td>62.010000</td>\n",
       "      <td>985</td>\n",
       "      <td>125</td>\n",
       "      <td>120.953924</td>\n",
       "      <td>0 days 02:08:43</td>\n",
       "    </tr>\n",
       "    <tr>\n",
       "      <th>3</th>\n",
       "      <td>3.0</td>\n",
       "      <td>0.2</td>\n",
       "      <td>13</td>\n",
       "      <td>13</td>\n",
       "      <td>101</td>\n",
       "      <td>55.083333</td>\n",
       "      <td>1182</td>\n",
       "      <td>235</td>\n",
       "      <td>114.931195</td>\n",
       "      <td>0 days 02:36:57</td>\n",
       "    </tr>\n",
       "    <tr>\n",
       "      <th>4</th>\n",
       "      <td>3.0</td>\n",
       "      <td>0.5</td>\n",
       "      <td>31</td>\n",
       "      <td>33</td>\n",
       "      <td>68</td>\n",
       "      <td>58.600000</td>\n",
       "      <td>1364</td>\n",
       "      <td>183</td>\n",
       "      <td>125.997661</td>\n",
       "      <td>0 days 02:09:54</td>\n",
       "    </tr>\n",
       "    <tr>\n",
       "      <th>5</th>\n",
       "      <td>3.0</td>\n",
       "      <td>0.8</td>\n",
       "      <td>49</td>\n",
       "      <td>49</td>\n",
       "      <td>33</td>\n",
       "      <td>62.010000</td>\n",
       "      <td>1649</td>\n",
       "      <td>126</td>\n",
       "      <td>136.659662</td>\n",
       "      <td>0 days 02:38:19</td>\n",
       "    </tr>\n",
       "    <tr>\n",
       "      <th>6</th>\n",
       "      <td>3.5</td>\n",
       "      <td>0.2</td>\n",
       "      <td>13</td>\n",
       "      <td>12</td>\n",
       "      <td>101</td>\n",
       "      <td>55.083333</td>\n",
       "      <td>1291</td>\n",
       "      <td>235</td>\n",
       "      <td>117.640225</td>\n",
       "      <td>0 days 03:08:58</td>\n",
       "    </tr>\n",
       "    <tr>\n",
       "      <th>7</th>\n",
       "      <td>3.5</td>\n",
       "      <td>0.5</td>\n",
       "      <td>31</td>\n",
       "      <td>29</td>\n",
       "      <td>68</td>\n",
       "      <td>58.600000</td>\n",
       "      <td>1636</td>\n",
       "      <td>183</td>\n",
       "      <td>132.165222</td>\n",
       "      <td>0 days 01:49:51</td>\n",
       "    </tr>\n",
       "    <tr>\n",
       "      <th>8</th>\n",
       "      <td>3.5</td>\n",
       "      <td>0.8</td>\n",
       "      <td>49</td>\n",
       "      <td>46</td>\n",
       "      <td>33</td>\n",
       "      <td>62.010000</td>\n",
       "      <td>2121</td>\n",
       "      <td>125</td>\n",
       "      <td>146.484353</td>\n",
       "      <td>0 days 03:09:38</td>\n",
       "    </tr>\n",
       "    <tr>\n",
       "      <th>9</th>\n",
       "      <td>4.0</td>\n",
       "      <td>0.2</td>\n",
       "      <td>13</td>\n",
       "      <td>11</td>\n",
       "      <td>101</td>\n",
       "      <td>55.083333</td>\n",
       "      <td>1311</td>\n",
       "      <td>235</td>\n",
       "      <td>117.976675</td>\n",
       "      <td>0 days 02:04:37</td>\n",
       "    </tr>\n",
       "    <tr>\n",
       "      <th>10</th>\n",
       "      <td>4.0</td>\n",
       "      <td>0.5</td>\n",
       "      <td>31</td>\n",
       "      <td>27</td>\n",
       "      <td>68</td>\n",
       "      <td>58.600000</td>\n",
       "      <td>1793</td>\n",
       "      <td>183</td>\n",
       "      <td>134.288409</td>\n",
       "      <td>0 days 01:30:37</td>\n",
       "    </tr>\n",
       "    <tr>\n",
       "      <th>11</th>\n",
       "      <td>4.0</td>\n",
       "      <td>0.8</td>\n",
       "      <td>49</td>\n",
       "      <td>42</td>\n",
       "      <td>33</td>\n",
       "      <td>62.010000</td>\n",
       "      <td>2399</td>\n",
       "      <td>125</td>\n",
       "      <td>150.339122</td>\n",
       "      <td>0 days 03:39:03</td>\n",
       "    </tr>\n",
       "    <tr>\n",
       "      <th>12</th>\n",
       "      <td>12.0</td>\n",
       "      <td>0.2</td>\n",
       "      <td>13</td>\n",
       "      <td>10</td>\n",
       "      <td>101</td>\n",
       "      <td>55.083333</td>\n",
       "      <td>1344</td>\n",
       "      <td>235</td>\n",
       "      <td>117.884485</td>\n",
       "      <td>0 days 02:11:02</td>\n",
       "    </tr>\n",
       "    <tr>\n",
       "      <th>13</th>\n",
       "      <td>12.0</td>\n",
       "      <td>0.5</td>\n",
       "      <td>31</td>\n",
       "      <td>25</td>\n",
       "      <td>68</td>\n",
       "      <td>58.600000</td>\n",
       "      <td>1887</td>\n",
       "      <td>183</td>\n",
       "      <td>134.126308</td>\n",
       "      <td>0 days 04:24:11</td>\n",
       "    </tr>\n",
       "    <tr>\n",
       "      <th>14</th>\n",
       "      <td>12.0</td>\n",
       "      <td>0.8</td>\n",
       "      <td>49</td>\n",
       "      <td>40</td>\n",
       "      <td>33</td>\n",
       "      <td>62.010000</td>\n",
       "      <td>2593</td>\n",
       "      <td>125</td>\n",
       "      <td>150.972565</td>\n",
       "      <td>0 days 02:00:17</td>\n",
       "    </tr>\n",
       "  </tbody>\n",
       "</table>\n",
       "</div>"
      ],
      "text/plain": [
       "    opening_hour  two_step_ratio  N_kiosk  N_CUSBD  N_Counters  \\\n",
       "0            2.5             0.2       13       15         101   \n",
       "1            2.5             0.5       31       35          68   \n",
       "2            2.5             0.8       49       55          33   \n",
       "3            3.0             0.2       13       13         101   \n",
       "4            3.0             0.5       31       33          68   \n",
       "5            3.0             0.8       49       49          33   \n",
       "6            3.5             0.2       13       12         101   \n",
       "7            3.5             0.5       31       29          68   \n",
       "8            3.5             0.8       49       46          33   \n",
       "9            4.0             0.2       13       11         101   \n",
       "10           4.0             0.5       31       27          68   \n",
       "11           4.0             0.8       49       42          33   \n",
       "12          12.0             0.2       13       10         101   \n",
       "13          12.0             0.5       31       25          68   \n",
       "14          12.0             0.8       49       40          33   \n",
       "\n",
       "    waiting_time_counters   EBS  LBC  dwell_time   df_dwell_time  \n",
       "0               55.083333   976  235  110.646846 0 days 02:06:45  \n",
       "1               58.600000   954  183  115.068665 0 days 01:19:24  \n",
       "2               62.010000   985  125  120.953924 0 days 02:08:43  \n",
       "3               55.083333  1182  235  114.931195 0 days 02:36:57  \n",
       "4               58.600000  1364  183  125.997661 0 days 02:09:54  \n",
       "5               62.010000  1649  126  136.659662 0 days 02:38:19  \n",
       "6               55.083333  1291  235  117.640225 0 days 03:08:58  \n",
       "7               58.600000  1636  183  132.165222 0 days 01:49:51  \n",
       "8               62.010000  2121  125  146.484353 0 days 03:09:38  \n",
       "9               55.083333  1311  235  117.976675 0 days 02:04:37  \n",
       "10              58.600000  1793  183  134.288409 0 days 01:30:37  \n",
       "11              62.010000  2399  125  150.339122 0 days 03:39:03  \n",
       "12              55.083333  1344  235  117.884485 0 days 02:11:02  \n",
       "13              58.600000  1887  183  134.126308 0 days 04:24:11  \n",
       "14              62.010000  2593  125  150.972565 0 days 02:00:17  "
      ]
     },
     "execution_count": 263,
     "metadata": {},
     "output_type": "execute_result"
    },
    {
     "data": {
      "application/javascript": [
       "\n",
       "            setTimeout(function() {\n",
       "                var nbb_cell_id = 263;\n",
       "                var nbb_unformatted_code = \"df_result_opti_CUSB\";\n",
       "                var nbb_formatted_code = \"df_result_opti_CUSB\";\n",
       "                var nbb_cells = Jupyter.notebook.get_cells();\n",
       "                for (var i = 0; i < nbb_cells.length; ++i) {\n",
       "                    if (nbb_cells[i].input_prompt_number == nbb_cell_id) {\n",
       "                        if (nbb_cells[i].get_text() == nbb_unformatted_code) {\n",
       "                             nbb_cells[i].set_text(nbb_formatted_code);\n",
       "                        }\n",
       "                        break;\n",
       "                    }\n",
       "                }\n",
       "            }, 500);\n",
       "            "
      ],
      "text/plain": [
       "<IPython.core.display.Javascript object>"
      ]
     },
     "metadata": {},
     "output_type": "display_data"
    }
   ],
   "source": [
    "df_result_opti_CUSB"
   ]
  }
 ],
 "metadata": {
  "hide_input": true,
  "interpreter": {
   "hash": "ab96ace21d84a72f73fbd72496b650c0a978e8b465efa1073dec626c274c3355"
  },
  "kernelspec": {
   "display_name": "Python [conda env:KAP_simpy_clone]",
   "language": "python",
   "name": "conda-env-KAP_simpy_clone-py"
  },
  "language_info": {
   "codemirror_mode": {
    "name": "ipython",
    "version": 3
   },
   "file_extension": ".py",
   "mimetype": "text/x-python",
   "name": "python",
   "nbconvert_exporter": "python",
   "pygments_lexer": "ipython3",
   "version": "3.8.10"
  },
  "toc": {
   "base_numbering": 1,
   "nav_menu": {},
   "number_sections": true,
   "sideBar": true,
   "skip_h1_title": false,
   "title_cell": "Table of Contents",
   "title_sidebar": "Contents",
   "toc_cell": false,
   "toc_position": {
    "height": "calc(100% - 180px)",
    "left": "10px",
    "top": "150px",
    "width": "266px"
   },
   "toc_section_display": true,
   "toc_window_display": true
  },
  "varInspector": {
   "cols": {
    "lenName": 16,
    "lenType": 16,
    "lenVar": 40
   },
   "kernels_config": {
    "python": {
     "delete_cmd_postfix": "",
     "delete_cmd_prefix": "del ",
     "library": "var_list.py",
     "varRefreshCmd": "print(var_dic_list())"
    },
    "r": {
     "delete_cmd_postfix": ") ",
     "delete_cmd_prefix": "rm(",
     "library": "var_list.r",
     "varRefreshCmd": "cat(var_dic_list()) "
    }
   },
   "position": {
    "height": "639px",
    "left": "1520px",
    "right": "20px",
    "top": "111px",
    "width": "385px"
   },
   "types_to_exclude": [
    "module",
    "function",
    "builtin_function_or_method",
    "instance",
    "_Feature"
   ],
   "window_display": false
  }
 },
 "nbformat": 4,
 "nbformat_minor": 4
}
