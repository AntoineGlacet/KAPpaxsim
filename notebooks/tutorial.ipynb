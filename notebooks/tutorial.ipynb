{
 "cells": [
  {
   "cell_type": "markdown",
   "id": "62a8e18c-9781-4e06-aa8e-17827e38f708",
   "metadata": {
    "tags": []
   },
   "source": [
    "# KAPpaxsim tutorial"
   ]
  },
  {
   "cell_type": "markdown",
   "id": "4aa9ca68-d025-466e-8ecb-51eff871e0d4",
   "metadata": {},
   "source": [
    "This tutorial is a quickstart guide on how to install and use **KAPpaxsim**\\\n",
    "**KAPpaxsim** is a python module designed to modelize and simulate the passenger\\\n",
    "flows in various KAP terminal buildings."
   ]
  },
  {
   "cell_type": "markdown",
   "id": "ef546e3c",
   "metadata": {
    "tags": [],
    "toc-hr-collapsed": true
   },
   "source": [
    "## Setup and Install\n",
    "**(see README.md)**\n",
    "\n",
    "Detailed start guide\n",
    "\n",
    "1. Install & start [Anaconda](https://www.anaconda.com/products/individual \"Anaconda download\") <-\n",
    "to install and manage python environments\n",
    "2. Download & unzip [source code](https://github.com/AntoineGlacet/KAPpaxsim/archive/refs/heads/main.zip \"download code as a zip\") in your project directory\n",
    "3. Install the conda env from template\n",
    "    1. locate environment.yml in root of downloaded code\n",
    "    2. open a conda command prompt and go to that directory (root)\n",
    "    3. execute `conda env create --name myenv --file environment.yml\n",
    "4. install src (pip install -e . in conda terminal from root)\n",
    "5. run the tutorial notebook /notebook/tutorial.ipynb\n",
    "\n"
   ]
  },
  {
   "cell_type": "markdown",
   "id": "6892aede",
   "metadata": {},
   "source": [
    "## Import data from sharepoint"
   ]
  },
  {
   "cell_type": "code",
   "execution_count": null,
   "id": "99711940",
   "metadata": {},
   "outputs": [],
   "source": [
    "from src.utils.sharepoint import get_ADRM_param_full, get_schedule_forecast"
   ]
  },
  {
   "cell_type": "code",
   "execution_count": null,
   "id": "176d25d1",
   "metadata": {},
   "outputs": [],
   "source": [
    "%load_ext autoreload\n",
    "%autoreload 2"
   ]
  },
  {
   "cell_type": "code",
   "execution_count": null,
   "id": "a945ecae",
   "metadata": {},
   "outputs": [],
   "source": [
    "# just use convenient functions to directly download the data from Sharepoint\n",
    "# to local folder /data/raw\n",
    "# .env file with Sharepoint secret password is required\n",
    "# for security, this file is never uploaded to github\n",
    "# please send me (Antoine) en email to get it\n",
    "\n",
    "get_ADRM_param_full()\n",
    "get_schedule_forecast()"
   ]
  },
  {
   "cell_type": "markdown",
   "id": "b6064536",
   "metadata": {},
   "source": [
    "## Run a first simulation!"
   ]
  },
  {
   "cell_type": "markdown",
   "id": "6b460a64",
   "metadata": {},
   "source": [
    "### generate Pax show up and counter allocation"
   ]
  },
  {
   "cell_type": "code",
   "execution_count": null,
   "id": "ad6126ed",
   "metadata": {},
   "outputs": [],
   "source": [
    "from src.utils.profiles import generate_dep_Pax_Counters\n",
    "from src.utils.profiles import generate_arr_Pax\n",
    "\n",
    "# look into the functions to check-out some options!\n",
    "df_Pax_dep, df_Counters_dep = generate_dep_Pax_Counters(target_peak = 3200, terminal='T1')\n",
    "df_pax_arr = generate_arr_Pax(target_peak= 3200, terminal='T1')"
   ]
  },
  {
   "cell_type": "code",
   "execution_count": null,
   "id": "37b81d8b",
   "metadata": {},
   "outputs": [],
   "source": [
    "df_Pax"
   ]
  },
  {
   "cell_type": "code",
   "execution_count": null,
   "id": "a411f8c9",
   "metadata": {},
   "outputs": [],
   "source": [
    "df_Counters_dep"
   ]
  },
  {
   "cell_type": "code",
   "execution_count": null,
   "id": "f63fb8ed",
   "metadata": {},
   "outputs": [],
   "source": [
    "df_pax_arr"
   ]
  },
  {
   "cell_type": "markdown",
   "id": "582de373",
   "metadata": {},
   "source": [
    "### run the simulation"
   ]
  },
  {
   "cell_type": "code",
   "execution_count": null,
   "id": "ed97507e",
   "metadata": {},
   "outputs": [],
   "source": [
    "# for the exemple, let's work with T1 arrivals for covid\n",
    "# and T1 departures\n",
    "from src.simfunc.KIX_T1a_covid import KIX_T1a_covid\n",
    "from src.simfunc.KIX_T1d import KIX_T1d"
   ]
  },
  {
   "cell_type": "code",
   "execution_count": null,
   "id": "ea670279",
   "metadata": {},
   "outputs": [],
   "source": [
    "# look at the parameters of the function with alt+tab!\n",
    "KIX_T1d()\n",
    "KIX_T1a_covid()"
   ]
  },
  {
   "cell_type": "code",
   "execution_count": null,
   "id": "739d63dd",
   "metadata": {},
   "outputs": [],
   "source": [
    "# create a dictionnary\n",
    "# the Pt are in minutes !\n",
    "dct_param = {\n",
    "    'path':None,\n",
    "    'df_Pax':df_Pax_dep, # generated before\n",
    "    'df_Counters':df_Counters_dep, # generated before\n",
    "    'Pt_checkin_1step_counter':2.5,\n",
    "    'Pt_checkin_2step_counter':1.5,\n",
    "    'N_kiosk':92,\n",
    "    'Pt_kiosk':1.5,\n",
    "    'N_security_lanes':16,\n",
    "    'Pt_security_lanes':14/60,\n",
    "    'N_emigration_counter':20,\n",
    "    'Pt_emigration_counter':23/60,\n",
    "    'N_emigration_self':23,\n",
    "    'Pt_emigration_self':28/60,\n",
    "    'modern_pax_ratio':0.1,\n",
    "    'digital_pax_ratio':0.05,\n",
    "    'premium_pax_ratio':0.05,\n",
    "    'show_graph':True,\n",
    "}"
   ]
  },
  {
   "cell_type": "code",
   "execution_count": null,
   "id": "d1b0f0ce",
   "metadata": {},
   "outputs": [],
   "source": [
    "# cool feature: unpack the dictionnary to pass\n",
    "# the arguments to the function\n",
    "(\n",
    "    df_result,\n",
    "    list_KPI_run,\n",
    "    dct_hist_wait_time,\n",
    "    dct_hist_queue_length,\n",
    ")=KIX_T1d(**dct_param)"
   ]
  },
  {
   "cell_type": "markdown",
   "id": "403666e1",
   "metadata": {},
   "source": [
    "## Change some parameters"
   ]
  },
  {
   "cell_type": "markdown",
   "id": "f96d000d",
   "metadata": {},
   "source": [
    "### show-up & traffic"
   ]
  },
  {
   "cell_type": "markdown",
   "id": "5a50937d",
   "metadata": {},
   "source": [
    "### PT & N "
   ]
  },
  {
   "cell_type": "markdown",
   "id": "f40612f5",
   "metadata": {},
   "source": [
    "### Allocation rule"
   ]
  },
  {
   "cell_type": "markdown",
   "id": "459a8748",
   "metadata": {},
   "source": [
    "## Run an optimization loop"
   ]
  }
 ],
 "metadata": {
  "hide_input": false,
  "interpreter": {
   "hash": "dcc8c9c1b0d0b615463cc0a9f074db3b6182f167e7b3dec992d04d9c9b19b0e5"
  },
  "kernelspec": {
   "display_name": "Python 3.8.8 64-bit ('jupyter2': conda)",
   "name": "python3"
  },
  "language_info": {
   "codemirror_mode": {
    "name": "ipython",
    "version": 3
   },
   "file_extension": ".py",
   "mimetype": "text/x-python",
   "name": "python",
   "nbconvert_exporter": "python",
   "pygments_lexer": "ipython3",
   "version": "3.8.8"
  },
  "toc": {
   "base_numbering": 1,
   "nav_menu": {},
   "number_sections": true,
   "sideBar": true,
   "skip_h1_title": false,
   "title_cell": "Table of Contents",
   "title_sidebar": "Contents",
   "toc_cell": false,
   "toc_position": {},
   "toc_section_display": true,
   "toc_window_display": false
  },
  "varInspector": {
   "cols": {
    "lenName": 16,
    "lenType": 16,
    "lenVar": 40
   },
   "kernels_config": {
    "python": {
     "delete_cmd_postfix": "",
     "delete_cmd_prefix": "del ",
     "library": "var_list.py",
     "varRefreshCmd": "print(var_dic_list())"
    },
    "r": {
     "delete_cmd_postfix": ") ",
     "delete_cmd_prefix": "rm(",
     "library": "var_list.r",
     "varRefreshCmd": "cat(var_dic_list()) "
    }
   },
   "types_to_exclude": [
    "module",
    "function",
    "builtin_function_or_method",
    "instance",
    "_Feature"
   ],
   "window_display": false
  }
 },
 "nbformat": 4,
 "nbformat_minor": 5
}
