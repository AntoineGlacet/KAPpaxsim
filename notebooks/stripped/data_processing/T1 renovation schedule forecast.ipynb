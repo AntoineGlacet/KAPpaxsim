{
 "cells": [
  {
   "cell_type": "markdown",
   "id": "d8924977",
   "metadata": {
    "heading_collapsed": true
   },
   "source": [
    "# Process the original file to match function"
   ]
  },
  {
   "cell_type": "code",
   "execution_count": 3,
   "id": "4dd4b682",
   "metadata": {
    "ExecuteTime": {
     "end_time": "2021-06-24T09:37:14.546636Z",
     "start_time": "2021-06-24T09:37:05.868529Z"
    },
    "hidden": true
   },
   "outputs": [
    {
     "name": "stdout",
     "output_type": "stream",
     "text": [
      "The autoreload extension is already loaded. To reload it, use:\n",
      "  %reload_ext autoreload\n",
      "The nb_black extension is already loaded. To reload it, use:\n",
      "  %reload_ext nb_black\n"
     ]
    },
    {
     "data": {
      "application/javascript": "\n            setTimeout(function() {\n                var nbb_cell_id = 3;\n                var nbb_unformatted_code = \"# to auto-reload the imports\\n# if we change something in our functions\\n%load_ext autoreload\\n%autoreload 2\\n\\n%load_ext nb_black\\n\\n# import the libraries required to do the work\\nimport numpy as np\\nimport matplotlib.pyplot as plt\\nimport matplotlib.dates as mdates\\nfrom matplotlib.ticker import FuncFormatter\\nimport pandas as pd\\nimport seaborn as sns\\nimport datetime\\nfrom scipy.stats import norm\\nfrom scipy.interpolate import interp1d\\nimport os\\nfrom tqdm.notebook import tqdm\\nimport re\\n\\nfrom src.utils.sharepoint import get_T1_ren_6kPax_schedule\\nfrom decouple import AutoConfig\\nfrom pathlib import Path\";\n                var nbb_formatted_code = \"# to auto-reload the imports\\n# if we change something in our functions\\n%load_ext autoreload\\n%autoreload 2\\n\\n%load_ext nb_black\\n\\n# import the libraries required to do the work\\nimport numpy as np\\nimport matplotlib.pyplot as plt\\nimport matplotlib.dates as mdates\\nfrom matplotlib.ticker import FuncFormatter\\nimport pandas as pd\\nimport seaborn as sns\\nimport datetime\\nfrom scipy.stats import norm\\nfrom scipy.interpolate import interp1d\\nimport os\\nfrom tqdm.notebook import tqdm\\nimport re\\n\\nfrom src.utils.sharepoint import get_T1_ren_6kPax_schedule\\nfrom decouple import AutoConfig\\nfrom pathlib import Path\";\n                var nbb_cells = Jupyter.notebook.get_cells();\n                for (var i = 0; i < nbb_cells.length; ++i) {\n                    if (nbb_cells[i].input_prompt_number == nbb_cell_id) {\n                        if (nbb_cells[i].get_text() == nbb_unformatted_code) {\n                             nbb_cells[i].set_text(nbb_formatted_code);\n                        }\n                        break;\n                    }\n                }\n            }, 500);\n            ",
      "text/plain": [
       "<IPython.core.display.Javascript object>"
      ]
     },
     "metadata": {},
     "output_type": "display_data"
    }
   ],
   "source": [
    "# to auto-reload the imports\n",
    "# if we change something in our functions\n",
    "%load_ext autoreload\n",
    "%autoreload 2\n",
    "\n",
    "%load_ext nb_black\n",
    "\n",
    "# import the libraries required to do the work\n",
    "import numpy as np\n",
    "import matplotlib.pyplot as plt\n",
    "import matplotlib.dates as mdates\n",
    "from matplotlib.ticker import FuncFormatter\n",
    "import pandas as pd\n",
    "import seaborn as sns\n",
    "import datetime\n",
    "from scipy.stats import norm\n",
    "from scipy.interpolate import interp1d\n",
    "import os\n",
    "from tqdm.notebook import tqdm\n",
    "import re\n",
    "\n",
    "from src.utils.sharepoint import get_T1_ren_6kPax_schedule\n",
    "from decouple import AutoConfig\n",
    "from pathlib import Path"
   ]
  },
  {
   "cell_type": "code",
   "execution_count": 4,
   "id": "31e4cbfe",
   "metadata": {
    "ExecuteTime": {
     "end_time": "2021-06-24T09:37:19.299685Z",
     "start_time": "2021-06-24T09:37:17.780076Z"
    },
    "hidden": true
   },
   "outputs": [
    {
     "data": {
      "application/javascript": "\n            setTimeout(function() {\n                var nbb_cell_id = 4;\n                var nbb_unformatted_code = \"# get the schedule from Sharepoint\\n# get_T1_ren_6kPax_schedule()\\n\\n# get the paths to config (could be made as a function for notebooks)\\n\\nDOTENV_FILE_PATH = Path(os.getcwd()) / \\\"../../../data/secret/.env\\\"\\nconfig = AutoConfig(search_path=DOTENV_FILE_PATH)\\n\\npath_relative = config(\\\"T1_ren_6kPax_schedule_path\\\")\\n\\npath_data = Path(os.getcwd()) / \\\"..\\\" / \\\"..\\\" / \\\"..\\\" / path_relative\";\n                var nbb_formatted_code = \"# get the schedule from Sharepoint\\n# get_T1_ren_6kPax_schedule()\\n\\n# get the paths to config (could be made as a function for notebooks)\\n\\nDOTENV_FILE_PATH = Path(os.getcwd()) / \\\"../../../data/secret/.env\\\"\\nconfig = AutoConfig(search_path=DOTENV_FILE_PATH)\\n\\npath_relative = config(\\\"T1_ren_6kPax_schedule_path\\\")\\n\\npath_data = Path(os.getcwd()) / \\\"..\\\" / \\\"..\\\" / \\\"..\\\" / path_relative\";\n                var nbb_cells = Jupyter.notebook.get_cells();\n                for (var i = 0; i < nbb_cells.length; ++i) {\n                    if (nbb_cells[i].input_prompt_number == nbb_cell_id) {\n                        if (nbb_cells[i].get_text() == nbb_unformatted_code) {\n                             nbb_cells[i].set_text(nbb_formatted_code);\n                        }\n                        break;\n                    }\n                }\n            }, 500);\n            ",
      "text/plain": [
       "<IPython.core.display.Javascript object>"
      ]
     },
     "metadata": {},
     "output_type": "display_data"
    }
   ],
   "source": [
    "# get the schedule from Sharepoint\n",
    "# get_T1_ren_6kPax_schedule()\n",
    "\n",
    "# get the paths to config (could be made as a function for notebooks)\n",
    "\n",
    "DOTENV_FILE_PATH = Path(os.getcwd()) / \"../../../data/secret/.env\"\n",
    "config = AutoConfig(search_path=DOTENV_FILE_PATH)\n",
    "\n",
    "path_relative = config(\"T1_ren_6kPax_schedule_path\")\n",
    "\n",
    "path_data = Path(os.getcwd()) / \"..\" / \"..\" / \"..\" / path_relative"
   ]
  },
  {
   "cell_type": "code",
   "execution_count": 5,
   "id": "de2866ad",
   "metadata": {
    "ExecuteTime": {
     "end_time": "2021-06-24T09:37:23.047037Z",
     "start_time": "2021-06-24T09:37:22.654038Z"
    },
    "hidden": true
   },
   "outputs": [
    {
     "data": {
      "application/javascript": "\n            setTimeout(function() {\n                var nbb_cell_id = 5;\n                var nbb_unformatted_code = \"# define a function to insert space in flight number\\ndef insert_space_after_letters(test_str: str):\\n    res = re.sub(\\\"[A-Za-z]+\\\", lambda ele: ele[0] + \\\" \\\", test_str)\\n    return res\";\n                var nbb_formatted_code = \"# define a function to insert space in flight number\\ndef insert_space_after_letters(test_str: str):\\n    res = re.sub(\\\"[A-Za-z]+\\\", lambda ele: ele[0] + \\\" \\\", test_str)\\n    return res\";\n                var nbb_cells = Jupyter.notebook.get_cells();\n                for (var i = 0; i < nbb_cells.length; ++i) {\n                    if (nbb_cells[i].input_prompt_number == nbb_cell_id) {\n                        if (nbb_cells[i].get_text() == nbb_unformatted_code) {\n                             nbb_cells[i].set_text(nbb_formatted_code);\n                        }\n                        break;\n                    }\n                }\n            }, 500);\n            ",
      "text/plain": [
       "<IPython.core.display.Javascript object>"
      ]
     },
     "metadata": {},
     "output_type": "display_data"
    }
   ],
   "source": [
    "# define a function to insert space in flight number\n",
    "def insert_space_after_letters(test_str: str):\n",
    "    res = re.sub(\"[A-Za-z]+\", lambda ele: ele[0] + \" \", test_str)\n",
    "    return res"
   ]
  },
  {
   "cell_type": "code",
   "execution_count": 6,
   "id": "bcb02edd",
   "metadata": {
    "ExecuteTime": {
     "end_time": "2021-06-24T10:03:05.132754Z",
     "start_time": "2021-06-24T10:03:03.406757Z"
    },
    "hidden": true
   },
   "outputs": [
    {
     "data": {
      "application/javascript": "\n            setTimeout(function() {\n                var nbb_cell_id = 6;\n                var nbb_unformatted_code = \"# import the schedule from the excel file produced by Aero department\\ndata_arr = pd.read_excel(\\n    path_data,\\n    header=0,\\n    sheet_name=\\\"ARR\\\",\\n)\\n\\ndata_dep = pd.read_excel(\\n    path_data,\\n    header=0,\\n    sheet_name=\\\"DEP\\\",\\n)\";\n                var nbb_formatted_code = \"# import the schedule from the excel file produced by Aero department\\ndata_arr = pd.read_excel(\\n    path_data,\\n    header=0,\\n    sheet_name=\\\"ARR\\\",\\n)\\n\\ndata_dep = pd.read_excel(\\n    path_data,\\n    header=0,\\n    sheet_name=\\\"DEP\\\",\\n)\";\n                var nbb_cells = Jupyter.notebook.get_cells();\n                for (var i = 0; i < nbb_cells.length; ++i) {\n                    if (nbb_cells[i].input_prompt_number == nbb_cell_id) {\n                        if (nbb_cells[i].get_text() == nbb_unformatted_code) {\n                             nbb_cells[i].set_text(nbb_formatted_code);\n                        }\n                        break;\n                    }\n                }\n            }, 500);\n            ",
      "text/plain": [
       "<IPython.core.display.Javascript object>"
      ]
     },
     "metadata": {},
     "output_type": "display_data"
    }
   ],
   "source": [
    "# import the schedule from the excel file produced by Aero department\n",
    "data_arr = pd.read_excel(\n",
    "    path_data,\n",
    "    header=0,\n",
    "    sheet_name=\"ARR\",\n",
    ")\n",
    "\n",
    "data_dep = pd.read_excel(\n",
    "    path_data,\n",
    "    header=0,\n",
    "    sheet_name=\"DEP\",\n",
    ")"
   ]
  },
  {
   "cell_type": "code",
   "execution_count": 7,
   "id": "89ff2fe8",
   "metadata": {
    "ExecuteTime": {
     "end_time": "2021-06-24T10:03:10.504753Z",
     "start_time": "2021-06-24T10:03:10.006756Z"
    },
    "hidden": true
   },
   "outputs": [
    {
     "data": {
      "application/javascript": "\n            setTimeout(function() {\n                var nbb_cell_id = 7;\n                var nbb_unformatted_code = \"# edit data to match application format\\ndata_arr_processed = data_arr.copy()\\ndata_arr_processed[\\\"A/D\\\"] = \\\"A\\\"\\ndata_arr_processed[\\\"T1/T2(MM/9C/7C/TW)\\\"] = \\\"T1\\\"\\ndata_arr_processed[\\\"Int'l Regions\\\"] = \\\"unknown\\\"\\n\\ndct_name_change = {\\n    \\\"\\u8ca8\\u5ba2\\u533a\\u5206\\\": \\\"Category(P/C/O)\\\",\\n    \\\"DI\\u533a\\u5206\\\": \\\"Sector\\\",\\n    \\\"\\u822a\\u7a7a\\u6a5f\\u8b58\\u5225\\\": \\\"Flight Number\\\",  # <- to be split with space between letters and digits\\n    \\\"\\u5ea7\\u5e2d\\u6570\\\": \\\"SEATS FC\\\",\\n    \\\"\\u642d\\u4e57\\u8005\\u6570\\\": \\\"Pax_SUM FC\\\",\\n    \\\"\\u5230\\u7740\\u4e88\\u5b9a\\u65e5\\\": \\\"Flight Date\\\",\\n    \\\"STA\\\": \\\"Scheduled Time\\\",\\n}\\n\\ndata_arr_processed.rename(columns=dct_name_change, inplace=True)\\n\\ndata_arr_processed[\\\"Flight Number\\\"] = data_arr_processed[\\\"Flight Number\\\"].apply(\\n    insert_space_after_letters\\n)\";\n                var nbb_formatted_code = \"# edit data to match application format\\ndata_arr_processed = data_arr.copy()\\ndata_arr_processed[\\\"A/D\\\"] = \\\"A\\\"\\ndata_arr_processed[\\\"T1/T2(MM/9C/7C/TW)\\\"] = \\\"T1\\\"\\ndata_arr_processed[\\\"Int'l Regions\\\"] = \\\"unknown\\\"\\n\\ndct_name_change = {\\n    \\\"\\u8ca8\\u5ba2\\u533a\\u5206\\\": \\\"Category(P/C/O)\\\",\\n    \\\"DI\\u533a\\u5206\\\": \\\"Sector\\\",\\n    \\\"\\u822a\\u7a7a\\u6a5f\\u8b58\\u5225\\\": \\\"Flight Number\\\",  # <- to be split with space between letters and digits\\n    \\\"\\u5ea7\\u5e2d\\u6570\\\": \\\"SEATS FC\\\",\\n    \\\"\\u642d\\u4e57\\u8005\\u6570\\\": \\\"Pax_SUM FC\\\",\\n    \\\"\\u5230\\u7740\\u4e88\\u5b9a\\u65e5\\\": \\\"Flight Date\\\",\\n    \\\"STA\\\": \\\"Scheduled Time\\\",\\n}\\n\\ndata_arr_processed.rename(columns=dct_name_change, inplace=True)\\n\\ndata_arr_processed[\\\"Flight Number\\\"] = data_arr_processed[\\\"Flight Number\\\"].apply(\\n    insert_space_after_letters\\n)\";\n                var nbb_cells = Jupyter.notebook.get_cells();\n                for (var i = 0; i < nbb_cells.length; ++i) {\n                    if (nbb_cells[i].input_prompt_number == nbb_cell_id) {\n                        if (nbb_cells[i].get_text() == nbb_unformatted_code) {\n                             nbb_cells[i].set_text(nbb_formatted_code);\n                        }\n                        break;\n                    }\n                }\n            }, 500);\n            ",
      "text/plain": [
       "<IPython.core.display.Javascript object>"
      ]
     },
     "metadata": {},
     "output_type": "display_data"
    }
   ],
   "source": [
    "# edit data to match application format\n",
    "data_arr_processed = data_arr.copy()\n",
    "data_arr_processed[\"A/D\"] = \"A\"\n",
    "data_arr_processed[\"T1/T2(MM/9C/7C/TW)\"] = \"T1\"\n",
    "data_arr_processed[\"Int'l Regions\"] = \"unknown\"\n",
    "\n",
    "dct_name_change = {\n",
    "    \"貨客区分\": \"Category(P/C/O)\",\n",
    "    \"DI区分\": \"Sector\",\n",
    "    \"航空機識別\": \"Flight Number\",  # <- to be split with space between letters and digits\n",
    "    \"座席数\": \"SEATS FC\",\n",
    "    \"搭乗者数\": \"Pax_SUM FC\",\n",
    "    \"到着予定日\": \"Flight Date\",\n",
    "    \"STA\": \"Scheduled Time\",\n",
    "}\n",
    "\n",
    "data_arr_processed.rename(columns=dct_name_change, inplace=True)\n",
    "\n",
    "data_arr_processed[\"Flight Number\"] = data_arr_processed[\"Flight Number\"].apply(\n",
    "    insert_space_after_letters\n",
    ")"
   ]
  },
  {
   "cell_type": "code",
   "execution_count": 8,
   "id": "3744a334",
   "metadata": {
    "ExecuteTime": {
     "end_time": "2021-06-24T10:03:23.073754Z",
     "start_time": "2021-06-24T10:03:22.226757Z"
    },
    "hidden": true
   },
   "outputs": [
    {
     "data": {
      "application/javascript": "\n            setTimeout(function() {\n                var nbb_cell_id = 8;\n                var nbb_unformatted_code = \"# edit data to match application format\\ndata_dep_processed = data_dep.copy()\\ndata_dep_processed[\\\"A/D\\\"] = \\\"D\\\"\\ndata_dep_processed[\\\"T1/T2(MM/9C/7C/TW)\\\"] = \\\"T1\\\"\\ndata_dep_processed[\\\"Intl Regions\\\"] = \\\"unknown\\\"\\n\\ndct_name_change = {\\n    \\\"\\u8ca8\\u5ba2\\u533a\\u5206\\\": \\\"Category(P/C/O)\\\",\\n    \\\"DI\\u533a\\u5206\\\": \\\"Sector\\\",\\n    \\\"\\u822a\\u7a7a\\u6a5f\\u8b58\\u5225\\\": \\\"Flight Number\\\",  # <- to be split with space between letters and digits\\n    \\\"\\u5ea7\\u5e2d\\u6570\\\": \\\"SEATS FC\\\",\\n    \\\"\\u642d\\u4e57\\u8005\\u6570\\\": \\\"PAX_SUM FC\\\",\\n    \\\"\\u51fa\\u767a\\u4e88\\u5b9a\\u65e5\\\": \\\"Flight Date\\\",\\n    \\\"STD\\\": \\\"Scheduled Time\\\",\\n}\\n\\ndata_dep_processed.rename(columns=dct_name_change, inplace=True)\\n\\ndata_dep_processed[\\\"Flight Number\\\"] = data_dep_processed[\\\"Flight Number\\\"].apply(\\n    insert_space_after_letters\\n)\";\n                var nbb_formatted_code = \"# edit data to match application format\\ndata_dep_processed = data_dep.copy()\\ndata_dep_processed[\\\"A/D\\\"] = \\\"D\\\"\\ndata_dep_processed[\\\"T1/T2(MM/9C/7C/TW)\\\"] = \\\"T1\\\"\\ndata_dep_processed[\\\"Intl Regions\\\"] = \\\"unknown\\\"\\n\\ndct_name_change = {\\n    \\\"\\u8ca8\\u5ba2\\u533a\\u5206\\\": \\\"Category(P/C/O)\\\",\\n    \\\"DI\\u533a\\u5206\\\": \\\"Sector\\\",\\n    \\\"\\u822a\\u7a7a\\u6a5f\\u8b58\\u5225\\\": \\\"Flight Number\\\",  # <- to be split with space between letters and digits\\n    \\\"\\u5ea7\\u5e2d\\u6570\\\": \\\"SEATS FC\\\",\\n    \\\"\\u642d\\u4e57\\u8005\\u6570\\\": \\\"PAX_SUM FC\\\",\\n    \\\"\\u51fa\\u767a\\u4e88\\u5b9a\\u65e5\\\": \\\"Flight Date\\\",\\n    \\\"STD\\\": \\\"Scheduled Time\\\",\\n}\\n\\ndata_dep_processed.rename(columns=dct_name_change, inplace=True)\\n\\ndata_dep_processed[\\\"Flight Number\\\"] = data_dep_processed[\\\"Flight Number\\\"].apply(\\n    insert_space_after_letters\\n)\";\n                var nbb_cells = Jupyter.notebook.get_cells();\n                for (var i = 0; i < nbb_cells.length; ++i) {\n                    if (nbb_cells[i].input_prompt_number == nbb_cell_id) {\n                        if (nbb_cells[i].get_text() == nbb_unformatted_code) {\n                             nbb_cells[i].set_text(nbb_formatted_code);\n                        }\n                        break;\n                    }\n                }\n            }, 500);\n            ",
      "text/plain": [
       "<IPython.core.display.Javascript object>"
      ]
     },
     "metadata": {},
     "output_type": "display_data"
    }
   ],
   "source": [
    "# edit data to match application format\n",
    "data_dep_processed = data_dep.copy()\n",
    "data_dep_processed[\"A/D\"] = \"D\"\n",
    "data_dep_processed[\"T1/T2(MM/9C/7C/TW)\"] = \"T1\"\n",
    "data_dep_processed[\"Intl Regions\"] = \"unknown\"\n",
    "\n",
    "dct_name_change = {\n",
    "    \"貨客区分\": \"Category(P/C/O)\",\n",
    "    \"DI区分\": \"Sector\",\n",
    "    \"航空機識別\": \"Flight Number\",  # <- to be split with space between letters and digits\n",
    "    \"座席数\": \"SEATS FC\",\n",
    "    \"搭乗者数\": \"PAX_SUM FC\",\n",
    "    \"出発予定日\": \"Flight Date\",\n",
    "    \"STD\": \"Scheduled Time\",\n",
    "}\n",
    "\n",
    "data_dep_processed.rename(columns=dct_name_change, inplace=True)\n",
    "\n",
    "data_dep_processed[\"Flight Number\"] = data_dep_processed[\"Flight Number\"].apply(\n",
    "    insert_space_after_letters\n",
    ")"
   ]
  },
  {
   "cell_type": "code",
   "execution_count": 25,
   "id": "c231a431",
   "metadata": {
    "ExecuteTime": {
     "end_time": "2021-06-24T10:03:28.652204Z",
     "start_time": "2021-06-24T10:03:28.228202Z"
    },
    "hidden": true
   },
   "outputs": [
    {
     "data": {
      "application/javascript": "\n            setTimeout(function() {\n                var nbb_cell_id = 25;\n                var nbb_unformatted_code = \"# keep only relevant columns\\ndata_dep_processed = data_dep_processed[\\n    [\\n        \\\"A/D\\\",\\n        \\\"T1/T2(MM/9C/7C/TW)\\\",\\n        \\\"Intl Regions\\\",\\n        \\\"Category(P/C/O)\\\",\\n        \\\"Sector\\\",\\n        \\\"Flight Number\\\",\\n        \\\"SEATS FC\\\",\\n        \\\"PAX_SUM FC\\\",\\n        \\\"Flight Date\\\",\\n        \\\"Scheduled Time\\\",\\n    ]\\n]\\n\\n# correct input mistake (?)\\nmask_replace = data_dep_processed[\\\"PAX_SUM FC\\\"] == \\\"-\\\"\\ndata_dep_processed.loc[mask_replace, \\\"PAX_SUM FC\\\"] = 0\\n\\nmask_replace = data_dep_processed[\\\"SEATS FC\\\"] == \\\"-\\\"\\ndata_dep_processed.loc[mask_replace, \\\"SEATS FC\\\"] = 0\\n\\n# add seat number for \\\"NEW\\\" flights\\nmask_replace = (\\n    data_dep_processed[\\\"Flight Number\\\"].str.split(\\\" \\\", 1, expand=True)[0] == \\\"NEW\\\"\\n) & (data_dep_processed[\\\"PAX_SUM FC\\\"] > 148)\\n\\ndata_dep_processed.loc[mask_replace,\\\"SEATS FC\\\"] = 285\\n\\nmask_replace = (\\n    data_dep_processed[\\\"Flight Number\\\"].str.split(\\\" \\\", 1, expand=True)[0] == \\\"NEW\\\"\\n) & (data_dep_processed[\\\"PAX_SUM FC\\\"] <= 148)\\n\\ndata_dep_processed.loc[mask_replace,\\\"SEATS FC\\\"] = 180\";\n                var nbb_formatted_code = \"# keep only relevant columns\\ndata_dep_processed = data_dep_processed[\\n    [\\n        \\\"A/D\\\",\\n        \\\"T1/T2(MM/9C/7C/TW)\\\",\\n        \\\"Intl Regions\\\",\\n        \\\"Category(P/C/O)\\\",\\n        \\\"Sector\\\",\\n        \\\"Flight Number\\\",\\n        \\\"SEATS FC\\\",\\n        \\\"PAX_SUM FC\\\",\\n        \\\"Flight Date\\\",\\n        \\\"Scheduled Time\\\",\\n    ]\\n]\\n\\n# correct input mistake (?)\\nmask_replace = data_dep_processed[\\\"PAX_SUM FC\\\"] == \\\"-\\\"\\ndata_dep_processed.loc[mask_replace, \\\"PAX_SUM FC\\\"] = 0\\n\\nmask_replace = data_dep_processed[\\\"SEATS FC\\\"] == \\\"-\\\"\\ndata_dep_processed.loc[mask_replace, \\\"SEATS FC\\\"] = 0\\n\\n# add seat number for \\\"NEW\\\" flights\\nmask_replace = (\\n    data_dep_processed[\\\"Flight Number\\\"].str.split(\\\" \\\", 1, expand=True)[0] == \\\"NEW\\\"\\n) & (data_dep_processed[\\\"PAX_SUM FC\\\"] > 148)\\n\\ndata_dep_processed.loc[mask_replace, \\\"SEATS FC\\\"] = 285\\n\\nmask_replace = (\\n    data_dep_processed[\\\"Flight Number\\\"].str.split(\\\" \\\", 1, expand=True)[0] == \\\"NEW\\\"\\n) & (data_dep_processed[\\\"PAX_SUM FC\\\"] <= 148)\\n\\ndata_dep_processed.loc[mask_replace, \\\"SEATS FC\\\"] = 180\";\n                var nbb_cells = Jupyter.notebook.get_cells();\n                for (var i = 0; i < nbb_cells.length; ++i) {\n                    if (nbb_cells[i].input_prompt_number == nbb_cell_id) {\n                        if (nbb_cells[i].get_text() == nbb_unformatted_code) {\n                             nbb_cells[i].set_text(nbb_formatted_code);\n                        }\n                        break;\n                    }\n                }\n            }, 500);\n            ",
      "text/plain": [
       "<IPython.core.display.Javascript object>"
      ]
     },
     "metadata": {},
     "output_type": "display_data"
    }
   ],
   "source": [
    "# keep only relevant columns\n",
    "data_dep_processed = data_dep_processed[\n",
    "    [\n",
    "        \"A/D\",\n",
    "        \"T1/T2(MM/9C/7C/TW)\",\n",
    "        \"Intl Regions\",\n",
    "        \"Category(P/C/O)\",\n",
    "        \"Sector\",\n",
    "        \"Flight Number\",\n",
    "        \"SEATS FC\",\n",
    "        \"PAX_SUM FC\",\n",
    "        \"Flight Date\",\n",
    "        \"Scheduled Time\",\n",
    "    ]\n",
    "]\n",
    "\n",
    "# correct input mistake (?)\n",
    "mask_replace = data_dep_processed[\"PAX_SUM FC\"] == \"-\"\n",
    "data_dep_processed.loc[mask_replace, \"PAX_SUM FC\"] = 0\n",
    "\n",
    "mask_replace = data_dep_processed[\"SEATS FC\"] == \"-\"\n",
    "data_dep_processed.loc[mask_replace, \"SEATS FC\"] = 0\n",
    "\n",
    "# add seat number for \"NEW\" flights\n",
    "mask_replace = (\n",
    "    data_dep_processed[\"Flight Number\"].str.split(\" \", 1, expand=True)[0] == \"NEW\"\n",
    ") & (data_dep_processed[\"PAX_SUM FC\"] > 148)\n",
    "\n",
    "data_dep_processed.loc[mask_replace, \"SEATS FC\"] = 285\n",
    "\n",
    "mask_replace = (\n",
    "    data_dep_processed[\"Flight Number\"].str.split(\" \", 1, expand=True)[0] == \"NEW\"\n",
    ") & (data_dep_processed[\"PAX_SUM FC\"] <= 148)\n",
    "\n",
    "data_dep_processed.loc[mask_replace, \"SEATS FC\"] = 180"
   ]
  },
  {
   "cell_type": "code",
   "execution_count": 26,
   "id": "40edcffb",
   "metadata": {},
   "outputs": [
    {
     "data": {
      "application/javascript": "\n            setTimeout(function() {\n                var nbb_cell_id = 26;\n                var nbb_unformatted_code = \"test = data_dep_processed[\\\"Flight Number\\\"].apply(lambda x:x.split(\\\" \\\")[0])\";\n                var nbb_formatted_code = \"test = data_dep_processed[\\\"Flight Number\\\"].apply(lambda x: x.split(\\\" \\\")[0])\";\n                var nbb_cells = Jupyter.notebook.get_cells();\n                for (var i = 0; i < nbb_cells.length; ++i) {\n                    if (nbb_cells[i].input_prompt_number == nbb_cell_id) {\n                        if (nbb_cells[i].get_text() == nbb_unformatted_code) {\n                             nbb_cells[i].set_text(nbb_formatted_code);\n                        }\n                        break;\n                    }\n                }\n            }, 500);\n            ",
      "text/plain": [
       "<IPython.core.display.Javascript object>"
      ]
     },
     "metadata": {},
     "output_type": "display_data"
    }
   ],
   "source": [
    "test = data_dep_processed[\"Flight Number\"].apply(lambda x: x.split(\" \")[0])"
   ]
  },
  {
   "cell_type": "code",
   "execution_count": 27,
   "id": "dcf5a062",
   "metadata": {
    "ExecuteTime": {
     "end_time": "2021-06-24T10:03:33.764008Z",
     "start_time": "2021-06-24T10:03:33.171010Z"
    },
    "hidden": true
   },
   "outputs": [
    {
     "data": {
      "application/javascript": "\n            setTimeout(function() {\n                var nbb_cell_id = 27;\n                var nbb_unformatted_code = \"# we should add a step to merge the two in one\\n# as we do not have seats and Pax for T1 schedule, let's forget about it for now\";\n                var nbb_formatted_code = \"# we should add a step to merge the two in one\\n# as we do not have seats and Pax for T1 schedule, let's forget about it for now\";\n                var nbb_cells = Jupyter.notebook.get_cells();\n                for (var i = 0; i < nbb_cells.length; ++i) {\n                    if (nbb_cells[i].input_prompt_number == nbb_cell_id) {\n                        if (nbb_cells[i].get_text() == nbb_unformatted_code) {\n                             nbb_cells[i].set_text(nbb_formatted_code);\n                        }\n                        break;\n                    }\n                }\n            }, 500);\n            ",
      "text/plain": [
       "<IPython.core.display.Javascript object>"
      ]
     },
     "metadata": {},
     "output_type": "display_data"
    }
   ],
   "source": [
    "# we should add a step to merge the two in one\n",
    "# as we do not have seats and Pax for T1 schedule, let's forget about it for now"
   ]
  },
  {
   "cell_type": "code",
   "execution_count": 29,
   "id": "716bf4ef",
   "metadata": {
    "ExecuteTime": {
     "end_time": "2021-06-24T10:03:39.944647Z",
     "start_time": "2021-06-24T10:03:38.818902Z"
    },
    "hidden": true
   },
   "outputs": [
    {
     "data": {
      "application/javascript": "\n            setTimeout(function() {\n                var nbb_cell_id = 29;\n                var nbb_unformatted_code = \"output_path = (\\n    Path(os.getcwd())\\n    / \\\"../../../data/processed/Schedule (30th terminal peak, 6000 pax)_PROCESSED.xlsx\\\"\\n)\\n\\nwriter = pd.ExcelWriter(\\n    output_path,\\n)\\n\\nwith writer as writer:\\n    data_dep_processed.to_excel(writer, sheet_name=\\\"schedule\\\")\";\n                var nbb_formatted_code = \"output_path = (\\n    Path(os.getcwd())\\n    / \\\"../../../data/processed/Schedule (30th terminal peak, 6000 pax)_PROCESSED.xlsx\\\"\\n)\\n\\nwriter = pd.ExcelWriter(\\n    output_path,\\n)\\n\\nwith writer as writer:\\n    data_dep_processed.to_excel(writer, sheet_name=\\\"schedule\\\")\";\n                var nbb_cells = Jupyter.notebook.get_cells();\n                for (var i = 0; i < nbb_cells.length; ++i) {\n                    if (nbb_cells[i].input_prompt_number == nbb_cell_id) {\n                        if (nbb_cells[i].get_text() == nbb_unformatted_code) {\n                             nbb_cells[i].set_text(nbb_formatted_code);\n                        }\n                        break;\n                    }\n                }\n            }, 500);\n            ",
      "text/plain": [
       "<IPython.core.display.Javascript object>"
      ]
     },
     "metadata": {},
     "output_type": "display_data"
    }
   ],
   "source": [
    "output_path = (\n",
    "    Path(os.getcwd())\n",
    "    / \"../../../data/processed/Schedule (30th terminal peak, 6000 pax)_PROCESSED.xlsx\"\n",
    ")\n",
    "\n",
    "writer = pd.ExcelWriter(\n",
    "    output_path,\n",
    ")\n",
    "\n",
    "with writer as writer:\n",
    "    data_dep_processed.to_excel(writer, sheet_name=\"schedule\")"
   ]
  }
 ],
 "metadata": {
  "hide_input": false,
  "kernelspec": {
   "display_name": "Python 3.8.10 ('KAPpaxsim2')",
   "language": "python",
   "name": "python3"
  },
  "language_info": {
   "codemirror_mode": {
    "name": "ipython",
    "version": 3
   },
   "file_extension": ".py",
   "mimetype": "text/x-python",
   "name": "python",
   "nbconvert_exporter": "python",
   "pygments_lexer": "ipython3",
   "version": "3.8.10"
  },
  "toc": {
   "base_numbering": 1,
   "nav_menu": {},
   "number_sections": true,
   "sideBar": true,
   "skip_h1_title": false,
   "title_cell": "Table of Contents",
   "title_sidebar": "Contents",
   "toc_cell": false,
   "toc_position": {},
   "toc_section_display": true,
   "toc_window_display": false
  },
  "varInspector": {
   "cols": {
    "lenName": 16,
    "lenType": 16,
    "lenVar": 40
   },
   "kernels_config": {
    "python": {
     "delete_cmd_postfix": "",
     "delete_cmd_prefix": "del ",
     "library": "var_list.py",
     "varRefreshCmd": "print(var_dic_list())"
    },
    "r": {
     "delete_cmd_postfix": ") ",
     "delete_cmd_prefix": "rm(",
     "library": "var_list.r",
     "varRefreshCmd": "cat(var_dic_list()) "
    }
   },
   "types_to_exclude": [
    "module",
    "function",
    "builtin_function_or_method",
    "instance",
    "_Feature"
   ],
   "window_display": false
  },
  "vscode": {
   "interpreter": {
    "hash": "b331d6a049744229637f2258750aabea04d819b3c8f417261d127d4bf870bec7"
   }
  }
 },
 "nbformat": 4,
 "nbformat_minor": 5
}
