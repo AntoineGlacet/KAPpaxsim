{
 "cells": [
  {
   "cell_type": "markdown",
   "id": "e7649c1e",
   "metadata": {},
   "source": [
    "# Graph for STD and terminal peak\n",
    "to illustrate the different schedules we will plot:\n",
    "- 1hr grouped STD dep pax\n",
    "- 1hr rolling average terminal show-up"
   ]
  },
  {
   "cell_type": "markdown",
   "id": "0e6a719c",
   "metadata": {},
   "source": [
    "## imports"
   ]
  },
  {
   "cell_type": "code",
   "execution_count": null,
   "id": "89572539",
   "metadata": {
    "ExecuteTime": {
     "end_time": "2021-06-29T05:15:10.984643Z",
     "start_time": "2021-06-29T05:15:02.607960Z"
    }
   },
   "outputs": [],
   "source": [
    "# tutorial.ipynb\n",
    "# import some useful librairies\n",
    "import os  # to use some OS commands\n",
    "from pathlib import Path  # to handle Paths\n",
    "\n",
    "import matplotlib.dates as mdates  # to handle dates in plots\n",
    "import matplotlib.pyplot as plt  # for plot\n",
    "import matplotlib.ticker as mtick  # to customize tickers\n",
    "import numpy as np  # for math\n",
    "import pandas as pd  # \"excel but better\"\n",
    "from decouple import AutoConfig  # to get info from .env file\n",
    "from scipy.interpolate import interp1d  # to interpolate 1d function\n",
    "\n",
    "from src.utils.profiles import generate_dep_Pax_Counters\n",
    "from src.utils.profiles_from_schedule import generate_dep_Pax_Counters as custom_generate_dep_Pax_Counters"
   ]
  },
  {
   "cell_type": "code",
   "execution_count": null,
   "id": "ee6c4970",
   "metadata": {
    "ExecuteTime": {
     "end_time": "2021-06-29T05:15:12.186012Z",
     "start_time": "2021-06-29T05:15:10.988651Z"
    }
   },
   "outputs": [],
   "source": [
    "# to auto-reload the imports\n",
    "# if we change something in our functions\n",
    "%load_ext autoreload\n",
    "%autoreload 2\n",
    "\n",
    "%load_ext nb_black"
   ]
  },
  {
   "cell_type": "markdown",
   "id": "bc9f34fd",
   "metadata": {},
   "source": [
    "## Calculations"
   ]
  },
  {
   "cell_type": "code",
   "execution_count": null,
   "id": "928c22b2",
   "metadata": {
    "ExecuteTime": {
     "end_time": "2021-06-29T05:15:50.762088Z",
     "start_time": "2021-06-29T05:15:12.189947Z"
    }
   },
   "outputs": [],
   "source": [
    "# calculate df_Pax\n",
    "df_Pax_2025, df_Counters_2025 = generate_dep_Pax_Counters(\n",
    "    target_peak=3880,  # peak value for FY2025 schedule forecast from aero\n",
    "    terminal=\"T1\",\n",
    ")\n",
    "\n",
    "# retrieve processed 2059 schedule\n",
    "schedule_2059_path = (\n",
    "    Path(os.getcwd())\n",
    "    / \"../../../data/processed/Schedule (30th terminal peak, 6000 pax)_PROCESSED.xlsx\"\n",
    ")\n",
    "\n",
    "df_Pax_2059, df_Counters_2059 = custom_generate_dep_Pax_Counters(\n",
    "    path_to_schedule=schedule_2059_path,\n",
    "    terminal=\"T1\",\n",
    "    date_str=\"2017-03-19\",\n",
    ")"
   ]
  },
  {
   "cell_type": "code",
   "execution_count": null,
   "id": "f79021bc",
   "metadata": {
    "ExecuteTime": {
     "end_time": "2021-06-29T05:15:51.104551Z",
     "start_time": "2021-06-29T05:15:50.767870Z"
    }
   },
   "outputs": [],
   "source": [
    "# reorganize data for plotting\n",
    "dct_df_Pax = {\n",
    "    \"2025\": df_Pax_2025,\n",
    "    \"2059\": df_Pax_2059,\n",
    "}\n",
    "\n",
    "for year in dct_df_Pax.keys():\n",
    "    dct_df_Pax[year][\"N_Pax\"] = 1\n",
    "\n",
    "dct_plot = {\n",
    "    \"STD_2025\": np.nan,\n",
    "    \"STD_2059\": np.nan,\n",
    "    \"terminal_2025\": np.nan,\n",
    "    \"terminal_2059\": np.nan,\n",
    "}\n",
    "\n",
    "for year in dct_df_Pax.keys():\n",
    "\n",
    "    dct_plot[\"STD_{}\".format(year)] = (\n",
    "        dct_df_Pax[year]\n",
    "        .set_index(\"Scheduled Time\", drop=False)\n",
    "        .sort_index()\n",
    "        .resample(\"60min\")\n",
    "        .agg(\"sum\")\n",
    "    )\n",
    "\n",
    "    dct_plot[\"terminal_{}\".format(year)] = (\n",
    "        dct_df_Pax[year]\n",
    "        .set_index(\"time\", drop=False)\n",
    "        .sort_index()\n",
    "        .resample(\"5min\")\n",
    "        .agg(\"sum\")\n",
    "        .rolling(window=12, center=True)\n",
    "        .sum()\n",
    "    )"
   ]
  },
  {
   "cell_type": "code",
   "execution_count": null,
   "id": "143a2b40",
   "metadata": {
    "ExecuteTime": {
     "end_time": "2021-06-29T05:15:55.218341Z",
     "start_time": "2021-06-29T05:15:51.107184Z"
    }
   },
   "outputs": [],
   "source": [
    "# plot\n",
    "\n",
    "# plot param\n",
    "xmin = pd.to_datetime(\"2020-10-13 00:00:00\")\n",
    "xmax = pd.to_datetime(\"2020-10-14 00:00:00\")\n",
    "plt.rcParams.update({\"figure.autolayout\": True})\n",
    "hours = mdates.HourLocator(interval=1)\n",
    "half_hours = mdates.MinuteLocator(byminute=[0, 30], interval=1)\n",
    "h_fmt = mdates.DateFormatter(\"%H:%M\")\n",
    "\n",
    "for year in dct_df_Pax.keys():\n",
    "\n",
    "    fig, ax = plt.subplots(figsize=(7, 4))\n",
    "    ax2 = ax.twiny()\n",
    "\n",
    "    ax.plot(dct_plot[\"terminal_{}\".format(year)], label=\"terminal show-up\")\n",
    "    ax2.bar(\n",
    "        x=dct_plot[\"STD_{}\".format(year)].index,\n",
    "        height=dct_plot[\"STD_{}\".format(year)][\"N_Pax\"],\n",
    "        width=1 / 24,\n",
    "        color=\"green\",\n",
    "        alpha=0.6,\n",
    "        label=\"schedule STD\",\n",
    "    )\n",
    "\n",
    "    ax.legend(frameon=False, loc=\"upper left\")\n",
    "    ax2.legend(frameon=False, loc=\"upper right\")\n",
    "\n",
    "    ax2.axes.get_xaxis().set_visible(False)\n",
    "\n",
    "    # formatting\n",
    "    ax.set_xlim((xmin, xmax))\n",
    "    ax.set_xticks(dct_plot[\"STD_{}\".format(year)].index.to_list())\n",
    "    ax.set_xticklabels(ax.get_xticks(), rotation=45, **{\"horizontalalignment\": \"right\"})\n",
    "    ax.xaxis.set_major_locator(hours)\n",
    "    ax.xaxis.set_major_formatter(h_fmt)\n",
    "    ax.xaxis.set_minor_locator(half_hours)\n",
    "\n",
    "    # scale y axis to leave more space\n",
    "    ax.set_ylim(bottom=0, top=8500)"
   ]
  },
  {
   "cell_type": "markdown",
   "id": "96741bff",
   "metadata": {},
   "source": [
    "## Bonus: why is STD \"schedule peak\" not the same as the input of generate_pax function?\n",
    "answer: the true definition of STD peak is not the sum over a full hour (eg.0900-1000) but the max of the rolling average over one hour. (eg. it could be 0842-0942) \\\n",
    "See calculation below"
   ]
  },
  {
   "cell_type": "code",
   "execution_count": null,
   "id": "299f7de0",
   "metadata": {
    "ExecuteTime": {
     "end_time": "2021-06-29T05:15:55.591414Z",
     "start_time": "2021-06-29T05:15:55.223423Z"
    }
   },
   "outputs": [],
   "source": [
    "(\n",
    "    dct_df_Pax[\"2025\"]\n",
    "    .set_index(\"Scheduled Time\", drop=False)\n",
    "    .sort_index()\n",
    "    .resample(\"1min\")\n",
    "    .agg(\"sum\")\n",
    "    .rolling(60)\n",
    "    .sum()\n",
    "    .max()\n",
    ")"
   ]
  }
 ],
 "metadata": {
  "hide_input": false,
  "interpreter": {
   "hash": "dcc8c9c1b0d0b615463cc0a9f074db3b6182f167e7b3dec992d04d9c9b19b0e5"
  },
  "kernelspec": {
   "display_name": "Python 3 (ipykernel)",
   "language": "python",
   "name": "python3"
  },
  "language_info": {
   "codemirror_mode": {
    "name": "ipython",
    "version": 3
   },
   "file_extension": ".py",
   "mimetype": "text/x-python",
   "name": "python",
   "nbconvert_exporter": "python",
   "pygments_lexer": "ipython3",
   "version": "3.8.10"
  },
  "toc": {
   "base_numbering": 1,
   "nav_menu": {},
   "number_sections": true,
   "sideBar": true,
   "skip_h1_title": false,
   "title_cell": "Table of Contents",
   "title_sidebar": "Contents",
   "toc_cell": false,
   "toc_position": {},
   "toc_section_display": true,
   "toc_window_display": false
  },
  "varInspector": {
   "cols": {
    "lenName": 16,
    "lenType": 16,
    "lenVar": 40
   },
   "kernels_config": {
    "python": {
     "delete_cmd_postfix": "",
     "delete_cmd_prefix": "del ",
     "library": "var_list.py",
     "varRefreshCmd": "print(var_dic_list())"
    },
    "r": {
     "delete_cmd_postfix": ") ",
     "delete_cmd_prefix": "rm(",
     "library": "var_list.r",
     "varRefreshCmd": "cat(var_dic_list()) "
    }
   },
   "types_to_exclude": [
    "module",
    "function",
    "builtin_function_or_method",
    "instance",
    "_Feature"
   ],
   "window_display": false
  }
 },
 "nbformat": 4,
 "nbformat_minor": 5
}
