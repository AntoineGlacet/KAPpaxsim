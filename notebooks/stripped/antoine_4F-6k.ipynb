{
 "cells": [
  {
   "cell_type": "code",
   "execution_count": null,
   "metadata": {},
   "outputs": [],
   "source": [
    "%load_ext autoreload\n",
    "%autoreload 2\n",
    "import numpy as np # math\n",
    "import matplotlib.pyplot as plt # graphs and plots\n",
    "import pandas as pd\n",
    "from tqdm import tqdm\n",
    "import datetime\n",
    "import matplotlib.dates as mdates\n",
    "from src.utils.profiles_from_schedule_new import SimParam # class for show-up generator\n",
    "from src.simfunc.KIX_T1d_CUSBD_new import Pax, Simulation , minutes_to_hms# classes for simulation\n",
    "import seaborn as sns\n"
   ]
  },
  {
   "cell_type": "code",
   "execution_count": null,
   "metadata": {},
   "outputs": [],
   "source": [
    "simparam = SimParam()\n",
    "path_to_6k_sched = (\n",
    "    r\"/home/antoine/projects/\"\n",
    "    \"KAPpaxsim/KAPpaxsim/data/\"\n",
    "    \"processed/Schedule (30th terminal peak, 6000 pax)_PROCESSED.xlsx\"\n",
    ")\n",
    "simparam.schedule_from_path(path_to_6k_sched)\n",
    "simparam.schedule_cleanup()\n",
    "simparam.schedule_filter()\n",
    "simparam.show_up_from_file()\n",
    "simparam.assign_flight_show_up_category_default()\n",
    "# simparam.plot_show_up_categories_profiles()\n",
    "simparam.schedule['PAX_SUM FC'] = 10\n",
    "simparam.assign_show_up()\n",
    "# simparam.plot_df_Pax()\n",
    "simparam.assign_check_in()"
   ]
  },
  {
   "cell_type": "code",
   "execution_count": null,
   "metadata": {},
   "outputs": [],
   "source": [
    "# simparam.df_Counters['total'].plot()"
   ]
  },
  {
   "cell_type": "code",
   "execution_count": null,
   "metadata": {},
   "outputs": [],
   "source": [
    "simparam.dct_resource = {\n",
    "    'kiosk' : 92,\n",
    "    'security' : 200,\n",
    "    'CUSBD' : 192,\n",
    "}\n",
    "\n",
    "simparam.dct_processes = {\n",
    "    'kiosk' : 70,\n",
    "    'security': 1,\n",
    "    'CUSBD': 60,\n",
    "    'checkin': 70,\n",
    "}"
   ]
  },
  {
   "cell_type": "code",
   "execution_count": null,
   "metadata": {},
   "outputs": [],
   "source": [
    "simulation = Simulation(simparam)\n",
    "simulation.generate_checkin()\n",
    "simulation.generate_pax()\n",
    "simulation.run(end_time=5000)"
   ]
  },
  {
   "cell_type": "code",
   "execution_count": null,
   "metadata": {},
   "outputs": [],
   "source": [
    "simulation.format_df_result()\n",
    "simulation.plot_result()"
   ]
  },
  {
   "cell_type": "code",
   "execution_count": null,
   "metadata": {},
   "outputs": [],
   "source": [
    "df_result = pd.concat(\n",
    "            [pax.row for pax in simulation.pax_list], axis=1\n",
    "        ).transpose()\n",
    "\n",
    "FREQ = \"15min\"\n",
    "WINDOW = 4"
   ]
  },
  {
   "cell_type": "code",
   "execution_count": null,
   "metadata": {},
   "outputs": [],
   "source": [
    "# sampling ratio\n",
    "ratio_sampling = pd.to_timedelta(\"1H\") / pd.to_timedelta(FREQ)\n",
    "\n",
    "# list for iteration\n",
    "list_process_all = [\"kiosk\", \"checkin\"]\n",
    "\n",
    "# different types of columns\n",
    "datetime_columns_types = [\n",
    "    \"start_{}_queue\",\n",
    "    \"end_{}_queue\",\n",
    "    \"end_{}_process\",\n",
    "]\n",
    "\n",
    "datetime_columns = [\n",
    "    a.format(b) for b in list_process_all for a in datetime_columns_types\n",
    "]\n",
    "\n",
    "# change datetime columns to datetime\n",
    "for column in datetime_columns:\n",
    "    df_result[column] = pd.to_datetime(\n",
    "        df_result[column].apply(lambda x: minutes_to_hms(x))\n",
    "    )\n",
    "\n",
    "# calculate waiting times\n",
    "for process in list_process_all:\n",
    "    df_result[\"wait_time_{}\".format(process)] = (\n",
    "        df_result[\"end_{}_queue\".format(process)]\n",
    "        - df_result[\"start_{}_queue\".format(process)]\n",
    "    ).fillna(datetime.timedelta(0))\n",
    "\n",
    "# artificial high waiting time for pax who did not finish\n",
    "for process in list_process_all:\n",
    "    mask = (pd.isna(df_result[\"end_{}_queue\".format(process)])) & (\n",
    "        pd.notna(df_result[\"start_{}_queue\".format(process)])\n",
    "    )\n",
    "\n",
    "    df_result.loc[\n",
    "        mask, \"wait_time_{}\".format(process)\n",
    "    ] = datetime.timedelta(hours=8)\n",
    "\n",
    "# aggregates for plotting\n",
    "list_plot = [\n",
    "    \"start_{}_queue\",\n",
    "    \"end_{}_process\",\n",
    "    \"{}_queue_length\",\n",
    "    \"wait_time_{}\",\n",
    "]\n",
    "dct_plot = {\n",
    "    key: [plot.format(key) for plot in list_plot] for key in list_process_all\n",
    "}\n",
    "\n",
    "# in\n",
    "plt_in = [\n",
    "    (\n",
    "        df_result.set_index(dct_plot[key][0], drop=False)[\"Pax\"]\n",
    "        .resample(FREQ)\n",
    "        .agg([\"sum\"])\n",
    "        .rolling(window=WINDOW, center=True)\n",
    "        .mean()\n",
    "        .dropna()\n",
    "        .apply(lambda x: x * ratio_sampling)\n",
    "    )\n",
    "    for key in [*dct_plot]\n",
    "]\n",
    "\n",
    "# out\n",
    "plt_out = [\n",
    "    (\n",
    "        df_result.set_index(dct_plot[key][1], drop=False)[\"Pax\"]\n",
    "        .resample(FREQ)\n",
    "        .agg([\"sum\"])\n",
    "        .rolling(window=WINDOW, center=True)\n",
    "        .mean()\n",
    "        .dropna()\n",
    "        .apply(lambda x: x * ratio_sampling)\n",
    "    )\n",
    "    for key in [*dct_plot]\n",
    "]\n",
    "\n"
   ]
  },
  {
   "cell_type": "code",
   "execution_count": null,
   "metadata": {},
   "outputs": [],
   "source": [
    "# queue length\n",
    "plt_queue_length = [\n",
    "    (\n",
    "        df_result.set_index(dct_plot[key][0], drop=False)[\n",
    "            dct_plot[key][2]\n",
    "        ]\n",
    "        .dropna()\n",
    "        .resample(FREQ)\n",
    "        .agg([\"max\"])\n",
    "        .rolling(window=WINDOW, center=True)\n",
    "        .mean()\n",
    "    )\n",
    "    for key in [*dct_plot]\n",
    "]\n",
    "\n",
    "# queue duration\n",
    "plt_queue_duration = [\n",
    "    (\n",
    "        df_result.set_index(dct_plot[key][0], drop=False)[\n",
    "            dct_plot[key][3]\n",
    "        ]\n",
    "        .apply(lambda x: x.total_seconds() / 60)\n",
    "        .resample(FREQ)\n",
    "        .agg([\"max\"])\n",
    "        .rolling(window=WINDOW, center=True)\n",
    "        .mean()\n",
    "    )\n",
    "    for key in [*dct_plot]\n",
    "]\n",
    "\n",
    "# histograms of queue duration and queue length\n",
    "dct_hist_wait_time = {\n",
    "    key: (\n",
    "        df_result[df_result[dct_plot[key][0]].notnull()][\n",
    "            dct_plot[key][3]\n",
    "        ].apply(lambda x: x.total_seconds() / 60)\n",
    "    )\n",
    "    for key in [*dct_plot]\n",
    "}\n",
    "\n",
    "dct_hist_queue_length = {\n",
    "    key: (\n",
    "        df_result[df_result[dct_plot[key][0]].notnull()][\n",
    "            dct_plot[key][2]\n",
    "        ]\n",
    "    )\n",
    "    for key in [*dct_plot]\n",
    "}\n",
    "\n",
    "plt_hist_wait_time = [value for value in dct_hist_wait_time.values()]\n"
   ]
  },
  {
   "cell_type": "code",
   "execution_count": null,
   "metadata": {},
   "outputs": [],
   "source": [
    "dct_plot"
   ]
  },
  {
   "cell_type": "code",
   "execution_count": null,
   "metadata": {},
   "outputs": [],
   "source": [
    "df_result.set_index(dct_plot['checkin'][0], drop=False)[dct_plot['checkin'][2]]"
   ]
  },
  {
   "cell_type": "code",
   "execution_count": null,
   "metadata": {},
   "outputs": [],
   "source": [
    "df_result"
   ]
  },
  {
   "cell_type": "code",
   "execution_count": null,
   "metadata": {},
   "outputs": [],
   "source": [
    "simulation.pax_list[1500].row"
   ]
  },
  {
   "cell_type": "code",
   "execution_count": null,
   "metadata": {},
   "outputs": [],
   "source": [
    "simulation.df_result['time'][0].hour"
   ]
  },
  {
   "cell_type": "code",
   "execution_count": null,
   "metadata": {},
   "outputs": [],
   "source": [
    "simulation.df_result[simulation.df_result['time'].apply(lambda x : x.hour) == 16]"
   ]
  },
  {
   "cell_type": "code",
   "execution_count": null,
   "metadata": {},
   "outputs": [],
   "source": [
    "len(simulation.checkin['DKH'].queue)"
   ]
  },
  {
   "cell_type": "code",
   "execution_count": null,
   "metadata": {},
   "outputs": [],
   "source": []
  }
 ],
 "metadata": {
  "interpreter": {
   "hash": "b331d6a049744229637f2258750aabea04d819b3c8f417261d127d4bf870bec7"
  },
  "kernelspec": {
   "display_name": "Python 3.8.10 ('KAPpaxsim2')",
   "language": "python",
   "name": "python3"
  },
  "language_info": {
   "codemirror_mode": {
    "name": "ipython",
    "version": 3
   },
   "file_extension": ".py",
   "mimetype": "text/x-python",
   "name": "python",
   "nbconvert_exporter": "python",
   "pygments_lexer": "ipython3",
   "version": "3.8.10"
  }
 },
 "nbformat": 4,
 "nbformat_minor": 2
}
