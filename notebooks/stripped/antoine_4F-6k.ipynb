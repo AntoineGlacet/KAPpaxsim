{
 "cells": [
  {
   "cell_type": "code",
   "execution_count": null,
   "metadata": {},
   "outputs": [],
   "source": [
    "%load_ext autoreload\n",
    "%autoreload 2\n",
    "import numpy as np # math\n",
    "import matplotlib.pyplot as plt # graphs and plots\n",
    "import pandas as pd\n",
    "from tqdm import tqdm\n",
    "import datetime\n",
    "import matplotlib.dates as mdates\n",
    "from src.utils.profiles_from_schedule_new import SimParam # class for show-up generator\n",
    "from src.simfunc.KIX_T1d_CUSBD_new import Pax, Simulation , minutes_to_hms# classes for simulation\n",
    "import seaborn as sns\n"
   ]
  },
  {
   "cell_type": "code",
   "execution_count": null,
   "metadata": {},
   "outputs": [],
   "source": [
    "simparam = SimParam()\n",
    "path_to_6k_sched = (\n",
    "    r\"/home/antoine/projects/\"\n",
    "    \"KAPpaxsim/data/\"\n",
    "    \"processed/Schedule (30th terminal peak, 6000 pax)_PROCESSED.xlsx\"\n",
    ")\n",
    "simparam.schedule_from_path(path_to_6k_sched)\n",
    "simparam.schedule_cleanup()\n",
    "simparam.schedule_filter()\n",
    "simparam.show_up_from_file()\n",
    "simparam.assign_flight_show_up_category_default()\n",
    "# simparam.plot_show_up_categories_profiles()\n",
    "# simparam.schedule['PAX_SUM FC'] = 10\n",
    "simparam.assign_show_up()\n",
    "# simparam.plot_df_Pax()\n",
    "simparam.assign_check_in()"
   ]
  },
  {
   "cell_type": "code",
   "execution_count": null,
   "metadata": {},
   "outputs": [],
   "source": [
    "# simparam.df_Counters['total'].plot()"
   ]
  },
  {
   "cell_type": "code",
   "execution_count": null,
   "metadata": {},
   "outputs": [],
   "source": [
    "simparam.dct_resource = {\n",
    "    'kiosk' : 92,\n",
    "    'security' : 200,\n",
    "    'CUSBD' : 50,\n",
    "}\n",
    "\n",
    "simparam.dct_processes = {\n",
    "    'kiosk' : 70,\n",
    "    'security': 1,\n",
    "    'CUSBD': 60,\n",
    "    'checkin': 70,\n",
    "}\n",
    "\n",
    "mask_CUSBD = simparam.df_Pax['Airline']=='NEW'\n",
    "simparam.df_Pax.loc[mask_CUSBD,'pax_type']='CUSBD'\n",
    "\n",
    "mask_tradi = mask_CUSBD == False\n",
    "simparam.df_Pax.loc[mask_tradi,'pax_type']='tradi'\n",
    "\n",
    "# Need to make a pretty control for :\n",
    "#     - pax types from simparam.df_Pax\n",
    "#     - pax journeys by pax types\n",
    "#     - plotting process list_all\n",
    "#     - FREQ and WIN\n",
    "#     - how long before STD pax should wait\n",
    "# maybe store the processes sequence in df_Pax and go from there?"
   ]
  },
  {
   "cell_type": "code",
   "execution_count": null,
   "metadata": {},
   "outputs": [],
   "source": [
    "simulation = Simulation(simparam)\n",
    "simulation.generate_checkin()\n",
    "simulation.generate_pax()\n",
    "simulation.run(end_time=1440)"
   ]
  },
  {
   "cell_type": "code",
   "execution_count": null,
   "metadata": {},
   "outputs": [],
   "source": [
    "simulation.format_df_result()\n",
    "simulation.plot_result()"
   ]
  },
  {
   "cell_type": "code",
   "execution_count": null,
   "metadata": {},
   "outputs": [],
   "source": [
    "simulation.format_df_result(filter_airline='JAL')\n",
    "simulation.plot_result()"
   ]
  }
 ],
 "metadata": {
  "kernelspec": {
   "display_name": "Python 3.8.10 ('KAPpaxsim')",
   "language": "python",
   "name": "python3"
  },
  "language_info": {
   "codemirror_mode": {
    "name": "ipython",
    "version": 3
   },
   "file_extension": ".py",
   "mimetype": "text/x-python",
   "name": "python",
   "nbconvert_exporter": "python",
   "pygments_lexer": "ipython3",
   "version": "3.8.10"
  },
  "vscode": {
   "interpreter": {
    "hash": "e7a9862a44882f962743cd49028888adc68496215b8868d236c027cb2696a468"
   }
  }
 },
 "nbformat": 4,
 "nbformat_minor": 2
}
