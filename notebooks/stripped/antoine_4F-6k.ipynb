{
 "cells": [
  {
   "cell_type": "code",
   "execution_count": null,
   "metadata": {},
   "outputs": [],
   "source": [
    "%load_ext autoreload\n",
    "%autoreload 2\n",
    "import numpy as np # math\n",
    "import matplotlib.pyplot as plt # graphs and plots\n",
    "import pandas as pd\n",
    "from tqdm import tqdm\n",
    "import datetime\n",
    "import matplotlib.dates as mdates\n",
    "from src.utils.profiles_from_schedule_new import SimParam # class for show-up generator"
   ]
  },
  {
   "cell_type": "code",
   "execution_count": null,
   "metadata": {},
   "outputs": [],
   "source": [
    "simparam = SimParam()\n",
    "path_to_6k_sched = (\n",
    "    r\"/home/antoine/projects/\"\n",
    "    \"KAPpaxsim/KAPpaxsim/data/\"\n",
    "    \"processed/Schedule (30th terminal peak, 6000 pax)_PROCESSED.xlsx\"\n",
    ")\n",
    "simparam.schedule_from_path(path_to_6k_sched)\n",
    "simparam.schedule_cleanup()\n",
    "simparam.schedule_filter()\n",
    "\n",
    "simparam.show_up_from_file()\n",
    "simparam.assign_flight_show_up_category_default()"
   ]
  },
  {
   "cell_type": "code",
   "execution_count": null,
   "metadata": {},
   "outputs": [],
   "source": [
    "simparam.plot_show_up_categories_profiles()"
   ]
  },
  {
   "cell_type": "code",
   "execution_count": null,
   "metadata": {},
   "outputs": [],
   "source": [
    "simparam.assign_show_up()"
   ]
  },
  {
   "cell_type": "code",
   "execution_count": null,
   "metadata": {},
   "outputs": [],
   "source": [
    "simparam.plot_df_Pax()"
   ]
  },
  {
   "cell_type": "code",
   "execution_count": null,
   "metadata": {},
   "outputs": [],
   "source": [
    "simparam.assign_check_in()"
   ]
  },
  {
   "cell_type": "code",
   "execution_count": null,
   "metadata": {},
   "outputs": [],
   "source": [
    "import seaborn as sns\n",
    "simparam.df_Counters['total'].plot()"
   ]
  },
  {
   "cell_type": "code",
   "execution_count": null,
   "metadata": {},
   "outputs": [],
   "source": [
    "test = simparam.df_Counters.drop(columns='total')\n",
    "sns.heatmap(test)"
   ]
  },
  {
   "cell_type": "code",
   "execution_count": null,
   "metadata": {},
   "outputs": [],
   "source": [
    "simparam.dct_resource = {\n",
    "    'kiosk' : 92\n",
    "}\n",
    "\n",
    "simparam.dct_processes = {\n",
    "    'kiosk' : 5\n",
    "}"
   ]
  },
  {
   "cell_type": "code",
   "execution_count": null,
   "metadata": {},
   "outputs": [],
   "source": [
    "simparam.df_Pax"
   ]
  },
  {
   "cell_type": "code",
   "execution_count": null,
   "metadata": {},
   "outputs": [],
   "source": [
    "simparam.prepare_schedule_for_simulation()"
   ]
  },
  {
   "cell_type": "code",
   "execution_count": null,
   "metadata": {},
   "outputs": [],
   "source": [
    "from src.simfunc.KIX_T1d_CUSBD_new import Pax, Simulation"
   ]
  },
  {
   "cell_type": "code",
   "execution_count": null,
   "metadata": {},
   "outputs": [],
   "source": [
    "simulation = Simulation(simparam)\n",
    "simulation.generate_pax()"
   ]
  },
  {
   "cell_type": "code",
   "execution_count": null,
   "metadata": {},
   "outputs": [],
   "source": [
    "end_time = 1500\n",
    "\n",
    "with tqdm(total=end_time - 1, desc=\"Simulation running...\") as runpbar:\n",
    "    for i in range(1, end_time):\n",
    "        simulation.env.run(until=i)\n",
    "        runpbar.update(1)\n",
    "\n"
   ]
  },
  {
   "cell_type": "code",
   "execution_count": null,
   "metadata": {},
   "outputs": [],
   "source": [
    "df = pd.concat([ pax.row for pax in simulation.pax_list],axis=1).transpose()\n"
   ]
  },
  {
   "cell_type": "code",
   "execution_count": null,
   "metadata": {},
   "outputs": [],
   "source": [
    "simulation.format_df_result()"
   ]
  },
  {
   "cell_type": "code",
   "execution_count": null,
   "metadata": {},
   "outputs": [],
   "source": [
    "simulation.plot_result()"
   ]
  }
 ],
 "metadata": {
  "interpreter": {
   "hash": "b331d6a049744229637f2258750aabea04d819b3c8f417261d127d4bf870bec7"
  },
  "kernelspec": {
   "display_name": "Python 3.8.10 ('KAPpaxsim2')",
   "language": "python",
   "name": "python3"
  },
  "language_info": {
   "codemirror_mode": {
    "name": "ipython",
    "version": 3
   },
   "file_extension": ".py",
   "mimetype": "text/x-python",
   "name": "python",
   "nbconvert_exporter": "python",
   "pygments_lexer": "ipython3",
   "version": "3.8.10"
  }
 },
 "nbformat": 4,
 "nbformat_minor": 2
}
