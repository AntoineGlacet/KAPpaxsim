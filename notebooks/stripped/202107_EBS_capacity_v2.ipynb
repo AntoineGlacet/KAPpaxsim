{
 "cells": [
  {
   "cell_type": "markdown",
   "id": "4dad0cb0",
   "metadata": {},
   "source": [
    "# EBS simulation"
   ]
  },
  {
   "cell_type": "markdown",
   "id": "6bb623c3",
   "metadata": {},
   "source": [
    "## Note and explanations"
   ]
  },
  {
   "cell_type": "markdown",
   "id": "719ce3f6",
   "metadata": {},
   "source": [
    "## imports"
   ]
  },
  {
   "cell_type": "code",
   "execution_count": null,
   "id": "8f45ac99",
   "metadata": {},
   "outputs": [],
   "source": [
    "import datetime\n",
    "import math\n",
    "import os\n",
    "import random\n",
    "import time\n",
    "\n",
    "import matplotlib.dates as mdates\n",
    "import matplotlib.pyplot as plt\n",
    "import matplotlib.ticker as mtick\n",
    "import numpy as np\n",
    "import pandas as pd\n",
    "import seaborn as sns\n",
    "from matplotlib.lines import Line2D\n",
    "from matplotlib.patches import Patch\n",
    "from scipy.optimize import OptimizeResult, brute, minimize, minimize_scalar\n",
    "from tqdm.notebook import tqdm\n",
    "from decouple import AutoConfig\n",
    "from pathlib import Path\n",
    "from math import ceil\n",
    "\n",
    "from src.utils.profiles import generate_dep_Pax_Counters, show_up_function\n",
    "from src.utils.profiles_from_schedule import (\n",
    "    generate_dep_Pax_Counters as custom_generate_dep_Pax_Counters,\n",
    ")\n",
    "\n",
    "from src.simfunc.KIX_T1d import KIX_T1d, univariate_cost_function_generator_T1d_N\n",
    "from src.simfunc.KIX_T1d_CUSBD import (\n",
    "    KIX_T1d_CUSBD,\n",
    "    univariate_cost_function_generator_T1d_CUSBD_N,\n",
    ")\n",
    "\n",
    "from src.utils.optimizers import custcallback, custmin\n",
    "from src.utils.helpers import calculate_EBS_LBC, calculate_avg_dwell_time,calculate_EBS_modern_pax_only"
   ]
  },
  {
   "cell_type": "code",
   "execution_count": null,
   "id": "6e616986",
   "metadata": {},
   "outputs": [],
   "source": [
    "%matplotlib inline\n",
    "%config InlineBackend.figure_format='retina'\n",
    "\n",
    "%load_ext autoreload\n",
    "%autoreload 2\n",
    "\n",
    "%load_ext nb_black"
   ]
  },
  {
   "cell_type": "markdown",
   "id": "cdf0e9ef",
   "metadata": {},
   "source": [
    "## Calculations"
   ]
  },
  {
   "cell_type": "markdown",
   "id": "d1c440c8",
   "metadata": {},
   "source": [
    "### parameters import"
   ]
  },
  {
   "cell_type": "code",
   "execution_count": null,
   "id": "8063cffc",
   "metadata": {},
   "outputs": [],
   "source": [
    "# get the paths to config\n",
    "root_path = Path(os.getcwd()) / \"../../\"\n",
    "DOTENV_FILE_PATH = root_path / \"data/secret/.env\"\n",
    "config = AutoConfig(search_path=DOTENV_FILE_PATH)\n",
    "path_param = root_path / config(\"ADRM_param_full_path\")"
   ]
  },
  {
   "cell_type": "code",
   "execution_count": null,
   "id": "fc9938fe",
   "metadata": {},
   "outputs": [],
   "source": [
    "df_param_onedrive = pd.read_excel(\n",
    "    path_param,\n",
    "    sheet_name=\"Dynamic\",\n",
    ")\n",
    "\n",
    "# generate df_set_param_T1d_from_drive from one drive excel file (assumptions all dept)\n",
    "df_param_input = df_param_onedrive.set_index(\"item\", drop=True, inplace=False)\n",
    "\n",
    "# keep only T1 Int'l dep results\n",
    "mask_T1d = (df_param_input[\"terminal\"] == \"T1\") & (df_param_input[\"Direction\"] == \"D\")\n",
    "df_param_input_T1 = df_param_input[mask_T1d]\n",
    "\n",
    "df_param_input_T1 = df_param_input_T1.drop(\n",
    "    columns=[\"unit\", \"terminal\", \"type\", \"remarks\", \"Direction\"]\n",
    ")\n",
    "\n",
    "# take values from assumption files and put them in a dictionnary\n",
    "list_item = [\n",
    "    \"target_peak_STD\",\n",
    "    \"Pt_checkin_1step_counter\",\n",
    "    \"Pt_checkin_2step_counter\",\n",
    "    \"N_kiosk\",\n",
    "    \"Pt_kiosk\",\n",
    "    \"N_security_lanes\",\n",
    "    \"Pt_security_lanes\",\n",
    "    \"N_emigration_counter\",\n",
    "    \"Pt_emigration_counter\",\n",
    "    \"N_emigration_self\",\n",
    "    \"Pt_emigration_self\",\n",
    "    \"modern_pax_ratio\",\n",
    "    \"digital_pax_ratio\",\n",
    "    \"premium_pax_ratio\",\n",
    "    \"start_special_pax_ratio\",\n",
    "    \"end_special_pax_ratio\",\n",
    "]\n",
    "\n",
    "dct_set_param_T1d_from_drive = {\n",
    "    item: list(df_param_input_T1.loc[item, :]) for item in list_item\n",
    "}\n",
    "len_dct_set_param_T1d_from_drive = len(dct_set_param_T1d_from_drive[\"target_peak_STD\"])\n",
    "dct_set_param_T1d_from_drive[\"target_peak\"] = dct_set_param_T1d_from_drive.pop(\n",
    "    \"target_peak_STD\"\n",
    ")\n",
    "\n",
    "# define values that are not in assumption files\n",
    "dct_set_param_T1d_from_drive[\"freq\"] = [\n",
    "    \"1min\" for i in range(len_dct_set_param_T1d_from_drive)\n",
    "]\n",
    "dct_set_param_T1d_from_drive[\"win\"] = [\n",
    "    15 for i in range(len_dct_set_param_T1d_from_drive)\n",
    "]\n",
    "dct_set_param_T1d_from_drive[\"show_loading\"] = [\n",
    "    True for i in range(len_dct_set_param_T1d_from_drive)\n",
    "]\n",
    "dct_set_param_T1d_from_drive[\"show_graph\"] = [\n",
    "    False for i in range(len_dct_set_param_T1d_from_drive)\n",
    "]\n",
    "dct_set_param_T1d_from_drive[\"save_graph\"] = [\n",
    "    False for i in range(len_dct_set_param_T1d_from_drive)\n",
    "]\n",
    "dct_set_param_T1d_from_drive[\"save_xls\"] = [\n",
    "    False for i in range(len_dct_set_param_T1d_from_drive)\n",
    "]\n",
    "\n",
    "# change the start & end special pax, it was a bad idea\n",
    "dct_set_param_T1d_from_drive[\"start_special_pax_ratio\"] = [\n",
    "    0 for i in range(len_dct_set_param_T1d_from_drive)\n",
    "]\n",
    "\n",
    "dct_set_param_T1d_from_drive[\"end_special_pax_ratio\"] = [\n",
    "    1 for i in range(len_dct_set_param_T1d_from_drive)\n",
    "]\n",
    "\n",
    "df_set_param_T1d_from_drive = pd.DataFrame.from_dict(dct_set_param_T1d_from_drive)\n",
    "\n",
    "df_set_param_T1d = df_set_param_T1d_from_drive.copy()\n",
    "dct_set_param_T1d = dct_set_param_T1d_from_drive.copy()\n",
    "\n",
    "# create the dictionary of param for the run from the dct_set_param\n",
    "# we take the values for 2025\n",
    "dct_run_param = {keys: value[5] for keys, value in dct_set_param_T1d.items()}"
   ]
  },
  {
   "cell_type": "markdown",
   "id": "800f364b",
   "metadata": {},
   "source": [
    "### CUSBD"
   ]
  },
  {
   "cell_type": "code",
   "execution_count": null,
   "id": "50687aa8",
   "metadata": {
    "code_folding": []
   },
   "outputs": [],
   "source": [
    "# calculate df_Pax\n",
    "df_Pax_2025, _ = generate_dep_Pax_Counters(\n",
    "    target_peak=3880,  # for quick test, real FY2025 value is 3880\n",
    "    terminal=\"T1\",\n",
    "    custom_counter_rule=False,  # current allocation rule\n",
    ")"
   ]
  },
  {
   "cell_type": "code",
   "execution_count": null,
   "id": "b32e13f0",
   "metadata": {},
   "outputs": [],
   "source": [
    "# initialize dct_run_param\n",
    "dct_run_param_T1d_2025 = dct_run_param.copy()\n",
    "\n",
    "dct_run_param_T1d_2025[\"df_Pax\"] = df_Pax_2025\n",
    "dct_run_param_T1d_2025[\"N_kiosk\"] = 99999\n",
    "dct_run_param_T1d_2025[\"digital_pax_ratio\"] = 0\n",
    "dct_run_param_T1d_2025[\"N_CUSBD\"] = 24\n",
    "\n",
    "dct_run_param_T1d_2025[\"path\"] = None\n",
    "dct_run_param_T1d_2025.pop(\"target_peak\")"
   ]
  },
  {
   "cell_type": "code",
   "execution_count": null,
   "id": "2f01fac3",
   "metadata": {},
   "outputs": [],
   "source": [
    "from src.simfunc.KIX_T1d_CUSBD import (\n",
    "    cost_function_T1d_CUSBD_2var_modern_pax_ratio_CUSBD_opening_duration as cost_2_var,\n",
    ")"
   ]
  },
  {
   "cell_type": "code",
   "execution_count": null,
   "id": "955dc50f",
   "metadata": {},
   "outputs": [],
   "source": [
    "def cost_generator(x):\n",
    "    cost = cost_2_var(\n",
    "        x=x,  # ['CUSBD_opening_duration' in minutes,'modern_pax_ratio']\n",
    "        EBS_capacity=800,  # cost target\n",
    "        target_wait_time=5,  # target waiting time in minutes\n",
    "        dct_param_T1d=dct_run_param_T1d_2025,  # includes df_Pax\n",
    "        target_peak=3880,  # to select good schedule when generating df_Counters\n",
    "        custom_counter_rule=False,  # to generate df_Counters\n",
    "        call_n_iter=None,\n",
    "        totalpbar=None,\n",
    "    )\n",
    "    return cost"
   ]
  },
  {
   "cell_type": "markdown",
   "id": "84c315b7",
   "metadata": {},
   "source": [
    "### successive grid optimization"
   ]
  },
  {
   "cell_type": "code",
   "execution_count": null,
   "id": "f2198c98",
   "metadata": {},
   "outputs": [],
   "source": [
    "# initialize parallel module\n",
    "import ray"
   ]
  },
  {
   "cell_type": "code",
   "execution_count": null,
   "id": "b099dab8",
   "metadata": {},
   "outputs": [],
   "source": [
    "ray.shutdown()\n",
    "ray.init()"
   ]
  },
  {
   "cell_type": "code",
   "execution_count": null,
   "id": "82399079",
   "metadata": {},
   "outputs": [],
   "source": [
    "# x is CUSBD_open_time\n",
    "xmin = 250\n",
    "xmax = 360\n",
    "N_fev_x = 7\n",
    "\n",
    "# y is CUSBD_ratio\n",
    "ymin = 0.1\n",
    "ymax = 0.99\n",
    "N_fev_y = 6\n",
    "\n",
    "# number of successive grid_search\n",
    "N_grid_search = 2\n",
    "\n",
    "# parameter ray for parallel computing\n",
    "@ray.remote\n",
    "def f(x):\n",
    "    return cost_generator(x)\n",
    "\n",
    "\n",
    "# create dct of results\n",
    "dct_grid_search = {}"
   ]
  },
  {
   "cell_type": "code",
   "execution_count": null,
   "id": "74f8e46e",
   "metadata": {
    "tags": [
     "outputPrepend"
    ]
   },
   "outputs": [],
   "source": [
    "for n in range(N_grid_search):\n",
    "    # build grid_list\n",
    "    x_range = list(np.linspace(xmin, xmax, N_fev_x))\n",
    "    y_range = list(np.linspace(ymin, ymax, N_fev_y))\n",
    "    grid_list = [(x, y) for y in y_range for x in x_range]\n",
    "\n",
    "    # evaluate all points of the grid in parallel\n",
    "    futures = [f.remote(i) for i in grid_list]\n",
    "    results = ray.get(futures)\n",
    "\n",
    "    # get the best point\n",
    "    bestz = min(results)\n",
    "    index = results.index(bestz)\n",
    "    best_point = grid_list[index]\n",
    "    bestx = best_point[0]\n",
    "    besty = best_point[1]\n",
    "\n",
    "    # build new ranges for next iteration's grid_list\n",
    "    # new range on x\n",
    "    if bestx != xmin:\n",
    "        xmin = x_range[x_range.index(bestx) - 1]\n",
    "    if bestx != xmax:\n",
    "        xmax = x_range[x_range.index(bestx) + 1]\n",
    "\n",
    "    # new range on y\n",
    "    if besty != ymin:\n",
    "        ymin = y_range[y_range.index(besty) - 1]\n",
    "    if besty != ymax:\n",
    "        ymax = y_range[y_range.index(besty) + 1]\n",
    "\n",
    "    # store grid search results\n",
    "    dct_grid_search[n] = [grid_list, results]"
   ]
  },
  {
   "cell_type": "code",
   "execution_count": null,
   "id": "e046ebea",
   "metadata": {},
   "outputs": [],
   "source": [
    "# display result\n",
    "bestx, besty, bestz"
   ]
  },
  {
   "cell_type": "code",
   "execution_count": null,
   "id": "f7a7edc6",
   "metadata": {},
   "outputs": [],
   "source": [
    "# put results in a DataFrame\n",
    "list_x = []\n",
    "list_y = []\n",
    "list_z = []\n",
    "list_N_grid = []\n",
    "for n in dct_grid_search.keys():\n",
    "    list_x.extend([i[0] for i in dct_grid_search[n][0]])\n",
    "    list_y.extend([i[1] for i in dct_grid_search[n][0]])\n",
    "    list_z.extend([i for i in dct_grid_search[n][1]])\n",
    "    list_N_grid.extend([n for i in dct_grid_search[n][0]])\n",
    "\n",
    "df_grid_search_results = pd.DataFrame(\n",
    "    [list_x, list_y, list_z, list_N_grid], index=[\"x\", \"y\", \"z\", \"N_grid\"]\n",
    ").T"
   ]
  },
  {
   "cell_type": "markdown",
   "id": "2e7335a9",
   "metadata": {},
   "source": [
    "### plotly grid search vizualisation"
   ]
  },
  {
   "cell_type": "code",
   "execution_count": null,
   "id": "5d9d7e84",
   "metadata": {},
   "outputs": [],
   "source": [
    "import plotly.express as px\n",
    "\n",
    "fig = px.scatter_3d(df_grid_search_results, x=\"x\", y=\"y\", z=\"z\", color=\"N_grid\")\n",
    "fig.show()"
   ]
  },
  {
   "cell_type": "markdown",
   "id": "10319bba",
   "metadata": {},
   "source": [
    "## simulate the optimized result"
   ]
  },
  {
   "cell_type": "code",
   "execution_count": null,
   "id": "f65b0f3f",
   "metadata": {},
   "outputs": [],
   "source": [
    "dct_run_param_T1d_2025[\"modern_pax_ratio\"] = besty\n",
    "dct_run_param_T1d_2025['CUSBD_opening_duration'] = bestx\n",
    "dct_run_param_T1d_2025['show_graph']=True"
   ]
  },
  {
   "cell_type": "code",
   "execution_count": null,
   "id": "ca3a9364",
   "metadata": {},
   "outputs": [],
   "source": [
    "# counter generation\n",
    "two_step_ratio = (\n",
    "    dct_run_param_T1d_2025[\"modern_pax_ratio\"] + dct_run_param_T1d_2025[\"digital_pax_ratio\"]\n",
    ")\n",
    "\n",
    "# allocation rule depending on modern_pax_ratio\n",
    "kwargs_rule = {\n",
    "    \"start_time\": 3.5,\n",
    "    \"onecounter_time\": 0.75,\n",
    "    \"base_n_counter\": ceil(3 * (1 - two_step_ratio)),\n",
    "    \"seats_per_add_counter\": ceil(110 / (1 - two_step_ratio)),\n",
    "}\n",
    "\n",
    "# generate df_Counter (only)\n",
    "df_Counters = show_up_function(\n",
    "    target_peak=3880,\n",
    "    direction=\"D\",\n",
    "    system=\"check-in\",\n",
    "    ratio=1,\n",
    "    terminal=\"T1\",\n",
    "    CTG_type=\"A\",\n",
    "    custom_showup=False,\n",
    "    custom_counter_rule=True,\n",
    "    **kwargs_rule,\n",
    ")\n",
    "\n",
    "dct_run_param_T1d_2025[\"df_Counters\"] = df_Counters"
   ]
  },
  {
   "cell_type": "code",
   "execution_count": null,
   "id": "3d4a909f",
   "metadata": {},
   "outputs": [],
   "source": [
    "(\n",
    "    df_result,\n",
    "    _,\n",
    "    dct_hist_wait_time,\n",
    "    _,\n",
    ") = KIX_T1d_CUSBD(**dct_run_param_T1d_2025)"
   ]
  },
  {
   "cell_type": "code",
   "execution_count": null,
   "id": "04196d0e",
   "metadata": {},
   "outputs": [],
   "source": [
    "a,b=calculate_EBS_modern_pax_only(df_result)"
   ]
  },
  {
   "cell_type": "code",
   "execution_count": null,
   "id": "0da62c7c",
   "metadata": {},
   "outputs": [],
   "source": [
    "a"
   ]
  }
 ],
 "metadata": {
  "hide_input": false,
  "interpreter": {
   "hash": "1d86c3f4e6564a626633f587d07c61b83132bd3397ba0f40eb4b1687729da8fd"
  },
  "kernelspec": {
   "display_name": "Python 3.8.10 64-bit ('KAPpaxsim2': conda)",
   "name": "python3"
  },
  "language_info": {
   "codemirror_mode": {
    "name": "ipython",
    "version": 3
   },
   "file_extension": ".py",
   "mimetype": "text/x-python",
   "name": "python",
   "nbconvert_exporter": "python",
   "pygments_lexer": "ipython3",
   "version": "3.8.10"
  },
  "toc": {
   "base_numbering": 1,
   "nav_menu": {},
   "number_sections": true,
   "sideBar": true,
   "skip_h1_title": false,
   "title_cell": "Table of Contents",
   "title_sidebar": "Contents",
   "toc_cell": false,
   "toc_position": {
    "height": "calc(100% - 180px)",
    "left": "10px",
    "top": "150px",
    "width": "254.188px"
   },
   "toc_section_display": true,
   "toc_window_display": true
  },
  "varInspector": {
   "cols": {
    "lenName": 16,
    "lenType": 16,
    "lenVar": 40
   },
   "kernels_config": {
    "python": {
     "delete_cmd_postfix": "",
     "delete_cmd_prefix": "del ",
     "library": "var_list.py",
     "varRefreshCmd": "print(var_dic_list())"
    },
    "r": {
     "delete_cmd_postfix": ") ",
     "delete_cmd_prefix": "rm(",
     "library": "var_list.r",
     "varRefreshCmd": "cat(var_dic_list()) "
    }
   },
   "types_to_exclude": [
    "module",
    "function",
    "builtin_function_or_method",
    "instance",
    "_Feature"
   ],
   "window_display": false
  }
 },
 "nbformat": 4,
 "nbformat_minor": 5
}
