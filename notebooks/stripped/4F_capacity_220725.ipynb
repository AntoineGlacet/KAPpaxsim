{
 "cells": [
  {
   "cell_type": "code",
   "execution_count": null,
   "metadata": {},
   "outputs": [],
   "source": [
    "%load_ext autoreload\n",
    "%autoreload 2\n",
    "import numpy as np\n",
    "import pandas as pd\n",
    "import seaborn as sns\n",
    "\n",
    "from src.utils.simparam import SimParam  # class for show-up generator\n",
    "\n",
    "%matplotlib inline\n",
    "%config InlineBackend.figure_format='retina'"
   ]
  },
  {
   "cell_type": "code",
   "execution_count": null,
   "metadata": {},
   "outputs": [],
   "source": [
    "years = [2023, 2024, 2025, 2026]\n",
    "dct_data = {\n",
    "    year: pd.read_excel(\n",
    "        f\"/home/antoine/projects/KAPpaxsim/data/raw/FY{year} KIX schedule\"\n",
    "        \" forecast.xlsx\",\n",
    "        sheet_name=\"ALLdata\",\n",
    "        header=1,\n",
    "    )\n",
    "    for year in years\n",
    "}\n",
    "dct_data_processed = {}\n",
    "dct_simparam = {}\n",
    "\n",
    "# table should be formatted with following columns\n",
    "# | A/D | T1/T2(MM/9C/7C/TW) | Intl Regions | Category(P/C/O) | Sector |\n",
    "# | Flight Number | SEATS FC | PAX_SUM FC | Flight Date | Scheduled Time |\n",
    "\n",
    "for key, data in dct_data.items():\n",
    "    data[\"T1/T2(MM/9C/7C/TW)\"] = data[\"Terminal\"].replace(\n",
    "        {\"N\": \"T1\", \"S\": \"T1\", 1: \"T1\", \"L\": \"T2\", np.nan: \"-\"}\n",
    "    )\n",
    "\n",
    "    data[\"Category(P/C/O)\"] = data[\"Flight Type\"].apply(lambda x: x[0])\n",
    "\n",
    "    dct_name_change = {\n",
    "        \"Int / Dom\": \"Sector\",\n",
    "        \"Int P Region\": \"Intl Regions\",\n",
    "        \"Fight Number\": \"Flight Number\",  # <- to be split with space between letters and digits\n",
    "        \"Seats\": \"SEATS FC\",\n",
    "        \"PAX\": \"PAX_SUM FC\",\n",
    "        \"Date\": \"Flight Date\",\n",
    "        \"Time\": \"Scheduled Time\",\n",
    "    }\n",
    "\n",
    "    dct_data_processed[key] = data.rename(columns=dct_name_change)"
   ]
  },
  {
   "cell_type": "code",
   "execution_count": null,
   "metadata": {},
   "outputs": [],
   "source": [
    "# really, we need to select busiest day of each year\n",
    "# and let's plot on a single graph\n",
    "for key, data_processed in dct_data_processed.items():\n",
    "    dct_simparam[key] = SimParam()\n",
    "    dct_simparam[key].schedule_from_df(data_processed)\n",
    "    dct_simparam[key].schedule_cleanup()\n",
    "    dct_simparam[key].schedule\n",
    "    dct_simparam[key].schedule_filter(date_str=f\"{key}-12-20\")\n",
    "    dct_simparam[key].show_up_from_file()\n",
    "    dct_simparam[key].assign_flight_show_up_category_default()\n",
    "    # dct_simparam.plot_show_up_categories_profiles()\n",
    "    # dct_simparam.schedule['PAX_SUM FC'] = 10\n",
    "    dct_simparam[key].assign_show_up()\n",
    "    dct_simparam[key].plot_df_Pax()\n",
    "    dct_simparam[key].assign_check_in()\n",
    "    dct_simparam[key].df_Counters[\"total\"].plot()"
   ]
  },
  {
   "cell_type": "code",
   "execution_count": null,
   "metadata": {},
   "outputs": [],
   "source": [
    "dct_plot_std = {}\n",
    "for year in [2023, 2024]:\n",
    "    dct_plot_std[year] = dct_simparam[year].plot_std()"
   ]
  },
  {
   "cell_type": "code",
   "execution_count": null,
   "metadata": {},
   "outputs": [],
   "source": [
    "plot_compare = dct_simparam[2023].plot_std()\n",
    "dct_simparam[2024].plot_std(compare_with=[plot_compare, plot_compare, plot_compare])"
   ]
  },
  {
   "cell_type": "code",
   "execution_count": null,
   "metadata": {},
   "outputs": [],
   "source": []
  }
 ],
 "metadata": {
  "kernelspec": {
   "display_name": "Python 3.8.10 ('KAPpaxsim2')",
   "language": "python",
   "name": "python3"
  },
  "language_info": {
   "codemirror_mode": {
    "name": "ipython",
    "version": 3
   },
   "file_extension": ".py",
   "mimetype": "text/x-python",
   "name": "python",
   "nbconvert_exporter": "python",
   "pygments_lexer": "ipython3",
   "version": "3.8.10"
  },
  "vscode": {
   "interpreter": {
    "hash": "b331d6a049744229637f2258750aabea04d819b3c8f417261d127d4bf870bec7"
   }
  }
 },
 "nbformat": 4,
 "nbformat_minor": 2
}
