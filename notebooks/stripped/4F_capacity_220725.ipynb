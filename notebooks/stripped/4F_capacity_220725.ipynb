{
 "cells": [
  {
   "cell_type": "code",
   "execution_count": null,
   "metadata": {},
   "outputs": [],
   "source": [
    "%load_ext autoreload\n",
    "%autoreload 2\n",
    "import pandas as pd\n",
    "import seaborn as sns\n",
    "import numpy as np\n",
    "from src.utils.profiles_from_schedule_new import (\n",
    "    SimParam\n",
    ")  # class for show-up generator\n",
    "\n",
    "%matplotlib inline\n",
    "%config InlineBackend.figure_format='retina'\n"
   ]
  },
  {
   "cell_type": "code",
   "execution_count": null,
   "metadata": {},
   "outputs": [],
   "source": [
    "years = [2023, 2024, 2025, 2026]\n",
    "dct_data = {\n",
    "    year: pd.read_excel(\n",
    "        f\"/home/antoine/projects/KAPpaxsim/KAPpaxsim/data/raw/FY{year} KIX schedule forecast.xlsx\",\n",
    "        sheet_name=\"ALLdata\",\n",
    "        header=1,\n",
    "    )\n",
    "    for year in years\n",
    "}\n",
    "dct_data_processed = {}\n",
    "dct_simparam = {}\n",
    "\n",
    "# table should be formatted with following columns\n",
    "# | A/D | T1/T2(MM/9C/7C/TW) | Intl Regions | Category(P/C/O) | Sector |\n",
    "# | Flight Number | SEATS FC | PAX_SUM FC | Flight Date | Scheduled Time |\n",
    "\n",
    "for key, data in dct_data.items():\n",
    "    data[\"T1/T2(MM/9C/7C/TW)\"] = data[\"Terminal\"].replace(\n",
    "        {\"N\": \"T1\", \"S\": \"T1\", 1: \"T1\", \"L\": \"T2\", np.nan: \"-\"}\n",
    "    )\n",
    "\n",
    "    data[\"Category(P/C/O)\"] = data[\"Flight Type\"].apply(lambda x: x[0])\n",
    "\n",
    "    dct_name_change = {\n",
    "        \"Int / Dom\": \"Sector\",\n",
    "        \"Int P Region\": \"Intl Regions\",\n",
    "        \"Fight Number\": \"Flight Number\",  # <- to be split with space between letters and digits\n",
    "        \"Seats\": \"SEATS FC\",\n",
    "        \"PAX\": \"PAX_SUM FC\",\n",
    "        \"Date\": \"Flight Date\",\n",
    "        \"Time\": \"Scheduled Time\",\n",
    "    }\n",
    "\n",
    "    dct_data_processed[key] = data.rename(columns=dct_name_change)\n"
   ]
  },
  {
   "cell_type": "code",
   "execution_count": null,
   "metadata": {},
   "outputs": [],
   "source": [
    "# really, we need to select busiest day of each year\n",
    "# and let's plot on a single graph\n",
    "for key, data_processed in dct_data_processed.items():\n",
    "    dct_simparam[key] = SimParam()\n",
    "    dct_simparam[key].schedule_from_df(data_processed)\n",
    "    dct_simparam[key].schedule_cleanup()\n",
    "    dct_simparam[key].schedule\n",
    "    dct_simparam[key].schedule_filter(date_str=f\"{key}-12-20\")\n",
    "    dct_simparam[key].show_up_from_file()\n",
    "    dct_simparam[key].assign_flight_show_up_category_default()\n",
    "    # dct_simparam.plot_show_up_categories_profiles()\n",
    "    # dct_simparam.schedule['PAX_SUM FC'] = 10\n",
    "    dct_simparam[key].assign_show_up()\n",
    "    dct_simparam[key].plot_df_Pax()\n",
    "    dct_simparam[key].assign_check_in()\n",
    "    dct_simparam[key].df_Counters[\"total\"].plot()\n"
   ]
  },
  {
   "cell_type": "code",
   "execution_count": null,
   "metadata": {},
   "outputs": [],
   "source": [
    "dct_plot_std = {}\n",
    "for year in [2023, 2024]:\n",
    "    dct_plot_std[year] = dct_simparam[year].plot_std()\n"
   ]
  },
  {
   "cell_type": "code",
   "execution_count": null,
   "metadata": {},
   "outputs": [],
   "source": [
    "import matplotlib.dates as mdates\n",
    "import matplotlib.pyplot as plt\n",
    "\n",
    "freq = \"1H\"\n",
    "win = 1\n",
    "\n",
    "sns.set_theme(style=\"whitegrid\")\n",
    "colors = plt.rcParams[\"axes.prop_cycle\"].by_key()[\"color\"]\n",
    "\n",
    "ratio_sampling = pd.to_timedelta(\"1H\") / pd.to_timedelta(freq)\n",
    "\n",
    "# plot param\n",
    "xmin = pd.to_datetime(\"2020-10-13 00:00:00\")\n",
    "xmax = pd.to_datetime(\"2020-10-14 00:00:00\")\n",
    "hours = mdates.HourLocator(interval=1)\n",
    "half_hours = mdates.MinuteLocator(byminute=[0, 30], interval=1)\n",
    "h_fmt = mdates.DateFormatter(\"%H:%M\")\n",
    "width = 0.3 * (xmax - xmin) / 24\n",
    "offset = pd.Timedelta(\"30min\")\n",
    "\n",
    "# formatting\n",
    "fig, ax = plt.subplots(figsize=(8, 5))\n",
    "ax.set_xlim((xmin, xmax))\n",
    "ax.set_xticks(pd.date_range(xmin, xmax, freq=\"30min\"))\n",
    "ax.set_xticklabels(ax.get_xticks(), rotation=45, **{\"horizontalalignment\": \"right\"})\n",
    "ax.xaxis.set_major_locator(hours)\n",
    "ax.xaxis.set_major_formatter(h_fmt)\n",
    "ax.xaxis.set_minor_locator(half_hours)\n",
    "\n",
    "# plot\n",
    "ax.bar(\n",
    "    x=dct_plot_std[2023].index - width / 1.9 + offset,\n",
    "    height=dct_plot_std[2023][\"sum\"],\n",
    "    width=width,\n",
    "    align=\"center\",\n",
    "    label=\"std 2023\",\n",
    "    color=colors[0],\n",
    ")\n",
    "ax.text(\n",
    "    0.2,\n",
    "    0.95,\n",
    "    \"total 2023 = {:,} Pax\".format(dct_plot_std[2023][\"sum\"].sum()),\n",
    "    horizontalalignment=\"center\",\n",
    "    verticalalignment=\"center\",\n",
    "    transform=ax.transAxes,\n",
    "    color=colors[0],\n",
    ")\n",
    "\n",
    "ax.bar(\n",
    "    x=dct_plot_std[2024].index + width / 1.9 + offset,\n",
    "    height=dct_plot_std[2024][\"sum\"],\n",
    "    width=width,\n",
    "    align=\"center\",\n",
    "    label=\"std 2024\",\n",
    "    color=colors[1],\n",
    ")\n",
    "ax.text(\n",
    "    0.2,\n",
    "    0.90,\n",
    "    \"total 2024 = {:,} Pax\".format(dct_plot_std[2024][\"sum\"].sum()),\n",
    "    horizontalalignment=\"center\",\n",
    "    verticalalignment=\"center\",\n",
    "    transform=ax.transAxes,\n",
    "    color=colors[1],\n",
    ")\n",
    "\n",
    "plt.legend()\n",
    "plt.show()\n"
   ]
  },
  {
   "cell_type": "code",
   "execution_count": null,
   "metadata": {},
   "outputs": [],
   "source": [
    "# finish presentation\n",
    "# do graph for a lower traffic forecast (search old stuff)"
   ]
  },
  {
   "cell_type": "code",
   "execution_count": null,
   "metadata": {},
   "outputs": [],
   "source": []
  }
 ],
 "metadata": {
  "kernelspec": {
   "display_name": "Python 3.8.10 ('KAPpaxsim2')",
   "language": "python",
   "name": "python3"
  },
  "language_info": {
   "codemirror_mode": {
    "name": "ipython",
    "version": 3
   },
   "file_extension": ".py",
   "mimetype": "text/x-python",
   "name": "python",
   "nbconvert_exporter": "python",
   "pygments_lexer": "ipython3",
   "version": "3.8.10"
  },
  "vscode": {
   "interpreter": {
    "hash": "b331d6a049744229637f2258750aabea04d819b3c8f417261d127d4bf870bec7"
   }
  }
 },
 "nbformat": 4,
 "nbformat_minor": 2
}
