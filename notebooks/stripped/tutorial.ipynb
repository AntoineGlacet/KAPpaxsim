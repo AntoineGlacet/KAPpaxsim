{
 "cells": [
  {
   "cell_type": "markdown",
   "id": "0f669274-146d-4d19-9de0-efc745960917",
   "metadata": {
    "tags": [],
    "toc-hr-collapsed": true
   },
   "source": [
    "## Initialization"
   ]
  },
  {
   "cell_type": "code",
   "execution_count": 1,
   "id": "9f1cdb19-9846-4e96-a85b-b72066befb69",
   "metadata": {
    "ExecuteTime": {
     "end_time": "2022-02-17T07:31:45.045771Z",
     "start_time": "2022-02-17T07:31:42.129912Z"
    }
   },
   "outputs": [],
   "source": [
    "# tutorial.ipynb\n",
    "# import some useful librairies\n",
    "import os  # to use some OS commands\n",
    "from pathlib import Path  # to handle Paths\n",
    "\n",
    "import matplotlib.dates as mdates  # to handle dates in plots\n",
    "import matplotlib.pyplot as plt  # for plot\n",
    "import matplotlib.ticker as mtick  # to customize tickers\n",
    "import numpy as np  # for math\n",
    "import pandas as pd  # \"excel but better\"\n",
    "from decouple import AutoConfig  # to get info from .env file\n",
    "from scipy.interpolate import interp1d  # to interpolate 1d function"
   ]
  },
  {
   "cell_type": "code",
   "execution_count": 2,
   "id": "f4cd009b",
   "metadata": {
    "ExecuteTime": {
     "end_time": "2022-02-17T07:31:46.016959Z",
     "start_time": "2022-02-17T07:31:45.721833Z"
    }
   },
   "outputs": [
    {
     "data": {
      "application/javascript": [
       "\n",
       "            setTimeout(function() {\n",
       "                var nbb_cell_id = 2;\n",
       "                var nbb_unformatted_code = \"# to auto-reload the imports\\n# if we change something in our functions\\n%load_ext autoreload\\n%autoreload 2\\n\\n%load_ext nb_black\";\n",
       "                var nbb_formatted_code = \"# to auto-reload the imports\\n# if we change something in our functions\\n%load_ext autoreload\\n%autoreload 2\\n\\n%load_ext nb_black\";\n",
       "                var nbb_cells = Jupyter.notebook.get_cells();\n",
       "                for (var i = 0; i < nbb_cells.length; ++i) {\n",
       "                    if (nbb_cells[i].input_prompt_number == nbb_cell_id) {\n",
       "                        if (nbb_cells[i].get_text() == nbb_unformatted_code) {\n",
       "                             nbb_cells[i].set_text(nbb_formatted_code);\n",
       "                        }\n",
       "                        break;\n",
       "                    }\n",
       "                }\n",
       "            }, 500);\n",
       "            "
      ],
      "text/plain": [
       "<IPython.core.display.Javascript object>"
      ]
     },
     "metadata": {},
     "output_type": "display_data"
    }
   ],
   "source": [
    "# to auto-reload the imports\n",
    "# if we change something in our functions\n",
    "%load_ext autoreload\n",
    "%autoreload 2\n",
    "\n",
    "%load_ext nb_black"
   ]
  },
  {
   "cell_type": "markdown",
   "id": "62a8e18c-9781-4e06-aa8e-17827e38f708",
   "metadata": {
    "tags": []
   },
   "source": [
    "# KAPpaxsim tutorial"
   ]
  },
  {
   "cell_type": "markdown",
   "id": "4aa9ca68-d025-466e-8ecb-51eff871e0d4",
   "metadata": {},
   "source": [
    "This tutorial is a quickstart guide on how to install and use **KAPpaxsim**\\\n",
    "**KAPpaxsim** is a python module designed to modelize and simulate the passenger\\\n",
    "flows in various KAP terminal buildings."
   ]
  },
  {
   "cell_type": "markdown",
   "id": "ef546e3c",
   "metadata": {
    "heading_collapsed": true,
    "tags": [],
    "toc-hr-collapsed": true
   },
   "source": [
    "## Setup and Install\n",
    "**(see README.md)**\n",
    "\n",
    "Detailed start guide\n",
    "\n",
    "1. Install & start [Anaconda](https://www.anaconda.com/products/individual \"Anaconda download\") <-\n",
    "to install and manage python environments\n",
    "2. Download & unzip [source code](https://github.com/AntoineGlacet/KAPpaxsim/archive/refs/heads/main.zip \"download code as a zip\") in your project directory\n",
    "3. Install the conda env from template\n",
    "    1. locate environment.yml in root of downloaded code\n",
    "    2. open a conda command prompt and go to that directory (root)\n",
    "    3. execute `conda env create --name myenv --file environment.yml\n",
    "4. install src (pip install -e . in conda terminal from root)\n",
    "5. run the tutorial notebook /notebook/tutorial.ipynb\n",
    "\n"
   ]
  },
  {
   "cell_type": "markdown",
   "id": "6892aede",
   "metadata": {
    "tags": [],
    "toc-hr-collapsed": true
   },
   "source": [
    "## Import data from sharepoint"
   ]
  },
  {
   "cell_type": "code",
   "execution_count": 3,
   "id": "99711940",
   "metadata": {
    "ExecuteTime": {
     "end_time": "2022-02-17T07:31:53.575662Z",
     "start_time": "2022-02-17T07:31:52.895865Z"
    }
   },
   "outputs": [
    {
     "data": {
      "application/javascript": [
       "\n",
       "            setTimeout(function() {\n",
       "                var nbb_cell_id = 3;\n",
       "                var nbb_unformatted_code = \"from src.utils.sharepoint import get_ADRM_param_full, get_schedule_forecast_FY19_25\";\n",
       "                var nbb_formatted_code = \"from src.utils.sharepoint import get_ADRM_param_full, get_schedule_forecast_FY19_25\";\n",
       "                var nbb_cells = Jupyter.notebook.get_cells();\n",
       "                for (var i = 0; i < nbb_cells.length; ++i) {\n",
       "                    if (nbb_cells[i].input_prompt_number == nbb_cell_id) {\n",
       "                        if (nbb_cells[i].get_text() == nbb_unformatted_code) {\n",
       "                             nbb_cells[i].set_text(nbb_formatted_code);\n",
       "                        }\n",
       "                        break;\n",
       "                    }\n",
       "                }\n",
       "            }, 500);\n",
       "            "
      ],
      "text/plain": [
       "<IPython.core.display.Javascript object>"
      ]
     },
     "metadata": {},
     "output_type": "display_data"
    }
   ],
   "source": [
    "from src.utils.sharepoint import get_ADRM_param_full, get_schedule_forecast_FY19_25"
   ]
  },
  {
   "cell_type": "code",
   "execution_count": 4,
   "id": "a945ecae",
   "metadata": {
    "ExecuteTime": {
     "end_time": "2022-02-17T07:33:18.952055Z",
     "start_time": "2022-02-17T07:31:55.250546Z"
    }
   },
   "outputs": [
    {
     "name": "stdout",
     "output_type": "stream",
     "text": [
      "[Ok] file has been downloaded: /home/antoine/projects/KAPpaxsim/KAPpaxsim/src/utils/../../data/raw/ADRM_param_full.xlsx\n",
      "[Ok] file has been downloaded: /home/antoine/projects/KAPpaxsim/KAPpaxsim/src/utils/../../data/raw/FY2019_FY2025 merge.xlsx\n"
     ]
    },
    {
     "data": {
      "application/javascript": [
       "\n",
       "            setTimeout(function() {\n",
       "                var nbb_cell_id = 4;\n",
       "                var nbb_unformatted_code = \"# just use convenient functions to directly download the data from Sharepoint\\n# to local folder /data/raw\\n# .env file with Sharepoint secret password is required\\n# for security, this file is never uploaded to github\\n# please send me (Antoine) en email to get it\\n\\nget_ADRM_param_full()\\nget_schedule_forecast_FY19_25()\";\n",
       "                var nbb_formatted_code = \"# just use convenient functions to directly download the data from Sharepoint\\n# to local folder /data/raw\\n# .env file with Sharepoint secret password is required\\n# for security, this file is never uploaded to github\\n# please send me (Antoine) en email to get it\\n\\nget_ADRM_param_full()\\nget_schedule_forecast_FY19_25()\";\n",
       "                var nbb_cells = Jupyter.notebook.get_cells();\n",
       "                for (var i = 0; i < nbb_cells.length; ++i) {\n",
       "                    if (nbb_cells[i].input_prompt_number == nbb_cell_id) {\n",
       "                        if (nbb_cells[i].get_text() == nbb_unformatted_code) {\n",
       "                             nbb_cells[i].set_text(nbb_formatted_code);\n",
       "                        }\n",
       "                        break;\n",
       "                    }\n",
       "                }\n",
       "            }, 500);\n",
       "            "
      ],
      "text/plain": [
       "<IPython.core.display.Javascript object>"
      ]
     },
     "metadata": {},
     "output_type": "display_data"
    }
   ],
   "source": [
    "# just use convenient functions to directly download the data from Sharepoint\n",
    "# to local folder /data/raw\n",
    "# .env file with Sharepoint secret password is required\n",
    "# for security, this file is never uploaded to github\n",
    "# please send me (Antoine) en email to get it\n",
    "\n",
    "get_ADRM_param_full()\n",
    "get_schedule_forecast_FY19_25()"
   ]
  },
  {
   "cell_type": "markdown",
   "id": "b6064536",
   "metadata": {
    "tags": []
   },
   "source": [
    "## Run a first simulation!"
   ]
  },
  {
   "cell_type": "markdown",
   "id": "6b460a64",
   "metadata": {
    "tags": [],
    "toc-hr-collapsed": true
   },
   "source": [
    "### generate Pax show up and counter allocation"
   ]
  },
  {
   "cell_type": "code",
   "execution_count": 9,
   "id": "4ef7ce21",
   "metadata": {
    "ExecuteTime": {
     "end_time": "2022-02-17T07:37:32.140640Z",
     "start_time": "2022-02-17T07:37:32.070852Z"
    }
   },
   "outputs": [
    {
     "data": {
      "application/javascript": [
       "\n",
       "            setTimeout(function() {\n",
       "                var nbb_cell_id = 9;\n",
       "                var nbb_unformatted_code = \"# import the functions from KAPpaxsim (src)\\nfrom src.utils.profiles import generate_dep_Pax_Counters\\nfrom src.utils.profiles import generate_arr_Pax\";\n",
       "                var nbb_formatted_code = \"# import the functions from KAPpaxsim (src)\\nfrom src.utils.profiles import generate_dep_Pax_Counters\\nfrom src.utils.profiles import generate_arr_Pax\";\n",
       "                var nbb_cells = Jupyter.notebook.get_cells();\n",
       "                for (var i = 0; i < nbb_cells.length; ++i) {\n",
       "                    if (nbb_cells[i].input_prompt_number == nbb_cell_id) {\n",
       "                        if (nbb_cells[i].get_text() == nbb_unformatted_code) {\n",
       "                             nbb_cells[i].set_text(nbb_formatted_code);\n",
       "                        }\n",
       "                        break;\n",
       "                    }\n",
       "                }\n",
       "            }, 500);\n",
       "            "
      ],
      "text/plain": [
       "<IPython.core.display.Javascript object>"
      ]
     },
     "metadata": {},
     "output_type": "display_data"
    }
   ],
   "source": [
    "# import the functions from KAPpaxsim (src)\n",
    "from src.utils.profiles import generate_dep_Pax_Counters\n",
    "from src.utils.profiles import generate_arr_Pax"
   ]
  },
  {
   "cell_type": "code",
   "execution_count": 12,
   "id": "ad6126ed",
   "metadata": {
    "ExecuteTime": {
     "end_time": "2022-02-17T07:39:35.322656Z",
     "start_time": "2022-02-17T07:39:07.587243Z"
    }
   },
   "outputs": [
    {
     "name": "stderr",
     "output_type": "stream",
     "text": [
      "\r",
      "Pax and counter generation...:   0%|                                                              | 0/2 [00:00<?, ?it/s]"
     ]
    },
    {
     "name": "stdout",
     "output_type": "stream",
     "text": [
      "         STA     STD\n",
      "2019     NaN  3580.0\n",
      "2020  1640.0  2201.0\n",
      "2021  2495.0  3333.0\n",
      "2022  2730.0  3097.0\n",
      "2023  3182.0  3768.0\n",
      "2024  3312.0  3759.0\n",
      "2025  3485.0  3880.0\n",
      "chosen reference year: 2019\n"
     ]
    },
    {
     "name": "stderr",
     "output_type": "stream",
     "text": [
      "\r",
      "Pax and counter generation...:  50%|███████████████████████████                           | 1/2 [00:09<00:09,  9.84s/it]"
     ]
    },
    {
     "name": "stdout",
     "output_type": "stream",
     "text": [
      "         STA     STD\n",
      "2019     NaN  3580.0\n",
      "2020  1640.0  2201.0\n",
      "2021  2495.0  3333.0\n",
      "2022  2730.0  3097.0\n",
      "2023  3182.0  3768.0\n",
      "2024  3312.0  3759.0\n",
      "2025  3485.0  3880.0\n",
      "chosen reference year: 2019\n"
     ]
    },
    {
     "name": "stderr",
     "output_type": "stream",
     "text": [
      "Pax and counter generation...: 100%|██████████████████████████████████████████████████████| 2/2 [00:27<00:00, 13.84s/it]\n"
     ]
    },
    {
     "data": {
      "application/javascript": [
       "\n",
       "            setTimeout(function() {\n",
       "                var nbb_cell_id = 12;\n",
       "                var nbb_unformatted_code = \"# look into the functions to check-out some options!\\ndf_Pax_dep, df_Counters = generate_dep_Pax_Counters(target_peak=3580, terminal=\\\"T1\\\")\\n# df_pax_arr = generate_arr_Pax(target_peak=3580, terminal=\\\"T1\\\")\";\n",
       "                var nbb_formatted_code = \"# look into the functions to check-out some options!\\ndf_Pax_dep, df_Counters = generate_dep_Pax_Counters(target_peak=3580, terminal=\\\"T1\\\")\\n# df_pax_arr = generate_arr_Pax(target_peak=3580, terminal=\\\"T1\\\")\";\n",
       "                var nbb_cells = Jupyter.notebook.get_cells();\n",
       "                for (var i = 0; i < nbb_cells.length; ++i) {\n",
       "                    if (nbb_cells[i].input_prompt_number == nbb_cell_id) {\n",
       "                        if (nbb_cells[i].get_text() == nbb_unformatted_code) {\n",
       "                             nbb_cells[i].set_text(nbb_formatted_code);\n",
       "                        }\n",
       "                        break;\n",
       "                    }\n",
       "                }\n",
       "            }, 500);\n",
       "            "
      ],
      "text/plain": [
       "<IPython.core.display.Javascript object>"
      ]
     },
     "metadata": {},
     "output_type": "display_data"
    }
   ],
   "source": [
    "# look into the functions to check-out some options!\n",
    "df_Pax_dep, df_Counters = generate_dep_Pax_Counters(target_peak=3580, terminal=\"T1\")\n",
    "# df_pax_arr = generate_arr_Pax(target_peak=3580, terminal=\"T1\")"
   ]
  },
  {
   "cell_type": "code",
   "execution_count": 8,
   "id": "37b81d8b",
   "metadata": {
    "ExecuteTime": {
     "end_time": "2022-02-17T07:35:43.805273Z",
     "start_time": "2022-02-17T07:35:43.682929Z"
    }
   },
   "outputs": [
    {
     "data": {
      "text/html": [
       "<div>\n",
       "<style scoped>\n",
       "    .dataframe tbody tr th:only-of-type {\n",
       "        vertical-align: middle;\n",
       "    }\n",
       "\n",
       "    .dataframe tbody tr th {\n",
       "        vertical-align: top;\n",
       "    }\n",
       "\n",
       "    .dataframe thead th {\n",
       "        text-align: right;\n",
       "    }\n",
       "</style>\n",
       "<table border=\"1\" class=\"dataframe\">\n",
       "  <thead>\n",
       "    <tr style=\"text-align: right;\">\n",
       "      <th></th>\n",
       "      <th>Flight Number</th>\n",
       "      <th>time</th>\n",
       "      <th>Scheduled Time</th>\n",
       "      <th>Category</th>\n",
       "    </tr>\n",
       "  </thead>\n",
       "  <tbody>\n",
       "    <tr>\n",
       "      <th>0</th>\n",
       "      <td>BX 0123</td>\n",
       "      <td>2020-10-13 05:30:04</td>\n",
       "      <td>2020-10-13 11:30:00</td>\n",
       "      <td>LCC</td>\n",
       "    </tr>\n",
       "    <tr>\n",
       "      <th>1</th>\n",
       "      <td>BX 0123</td>\n",
       "      <td>2020-10-13 05:34:49</td>\n",
       "      <td>2020-10-13 11:30:00</td>\n",
       "      <td>LCC</td>\n",
       "    </tr>\n",
       "    <tr>\n",
       "      <th>2</th>\n",
       "      <td>BX 0123</td>\n",
       "      <td>2020-10-13 05:51:09</td>\n",
       "      <td>2020-10-13 11:30:00</td>\n",
       "      <td>LCC</td>\n",
       "    </tr>\n",
       "    <tr>\n",
       "      <th>3</th>\n",
       "      <td>BX 0123</td>\n",
       "      <td>2020-10-13 06:01:56</td>\n",
       "      <td>2020-10-13 11:30:00</td>\n",
       "      <td>LCC</td>\n",
       "    </tr>\n",
       "    <tr>\n",
       "      <th>4</th>\n",
       "      <td>BX 0123</td>\n",
       "      <td>2020-10-13 06:10:06</td>\n",
       "      <td>2020-10-13 11:30:00</td>\n",
       "      <td>LCC</td>\n",
       "    </tr>\n",
       "    <tr>\n",
       "      <th>...</th>\n",
       "      <td>...</td>\n",
       "      <td>...</td>\n",
       "      <td>...</td>\n",
       "      <td>...</td>\n",
       "    </tr>\n",
       "    <tr>\n",
       "      <th>30487</th>\n",
       "      <td>RA 0412</td>\n",
       "      <td>2020-10-13 13:42:02</td>\n",
       "      <td>2020-10-13 14:30:00</td>\n",
       "      <td>LCC</td>\n",
       "    </tr>\n",
       "    <tr>\n",
       "      <th>30488</th>\n",
       "      <td>RA 0412</td>\n",
       "      <td>2020-10-13 13:48:03</td>\n",
       "      <td>2020-10-13 14:30:00</td>\n",
       "      <td>LCC</td>\n",
       "    </tr>\n",
       "    <tr>\n",
       "      <th>30489</th>\n",
       "      <td>RA 0412</td>\n",
       "      <td>2020-10-13 13:55:24</td>\n",
       "      <td>2020-10-13 14:30:00</td>\n",
       "      <td>LCC</td>\n",
       "    </tr>\n",
       "    <tr>\n",
       "      <th>30490</th>\n",
       "      <td>RA 0412</td>\n",
       "      <td>2020-10-13 14:05:10</td>\n",
       "      <td>2020-10-13 14:30:00</td>\n",
       "      <td>LCC</td>\n",
       "    </tr>\n",
       "    <tr>\n",
       "      <th>30491</th>\n",
       "      <td>RA 0412</td>\n",
       "      <td>2020-10-13 14:20:10</td>\n",
       "      <td>2020-10-13 14:30:00</td>\n",
       "      <td>LCC</td>\n",
       "    </tr>\n",
       "  </tbody>\n",
       "</table>\n",
       "<p>30492 rows × 4 columns</p>\n",
       "</div>"
      ],
      "text/plain": [
       "      Flight Number                time      Scheduled Time Category\n",
       "0           BX 0123 2020-10-13 05:30:04 2020-10-13 11:30:00      LCC\n",
       "1           BX 0123 2020-10-13 05:34:49 2020-10-13 11:30:00      LCC\n",
       "2           BX 0123 2020-10-13 05:51:09 2020-10-13 11:30:00      LCC\n",
       "3           BX 0123 2020-10-13 06:01:56 2020-10-13 11:30:00      LCC\n",
       "4           BX 0123 2020-10-13 06:10:06 2020-10-13 11:30:00      LCC\n",
       "...             ...                 ...                 ...      ...\n",
       "30487       RA 0412 2020-10-13 13:42:02 2020-10-13 14:30:00      LCC\n",
       "30488       RA 0412 2020-10-13 13:48:03 2020-10-13 14:30:00      LCC\n",
       "30489       RA 0412 2020-10-13 13:55:24 2020-10-13 14:30:00      LCC\n",
       "30490       RA 0412 2020-10-13 14:05:10 2020-10-13 14:30:00      LCC\n",
       "30491       RA 0412 2020-10-13 14:20:10 2020-10-13 14:30:00      LCC\n",
       "\n",
       "[30492 rows x 4 columns]"
      ]
     },
     "execution_count": 8,
     "metadata": {},
     "output_type": "execute_result"
    },
    {
     "data": {
      "application/javascript": [
       "\n",
       "            setTimeout(function() {\n",
       "                var nbb_cell_id = 8;\n",
       "                var nbb_unformatted_code = \"df_Pax_dep\";\n",
       "                var nbb_formatted_code = \"df_Pax_dep\";\n",
       "                var nbb_cells = Jupyter.notebook.get_cells();\n",
       "                for (var i = 0; i < nbb_cells.length; ++i) {\n",
       "                    if (nbb_cells[i].input_prompt_number == nbb_cell_id) {\n",
       "                        if (nbb_cells[i].get_text() == nbb_unformatted_code) {\n",
       "                             nbb_cells[i].set_text(nbb_formatted_code);\n",
       "                        }\n",
       "                        break;\n",
       "                    }\n",
       "                }\n",
       "            }, 500);\n",
       "            "
      ],
      "text/plain": [
       "<IPython.core.display.Javascript object>"
      ]
     },
     "metadata": {},
     "output_type": "display_data"
    }
   ],
   "source": [
    "df_Pax_dep"
   ]
  },
  {
   "cell_type": "code",
   "execution_count": 13,
   "id": "2b3024fe",
   "metadata": {
    "ExecuteTime": {
     "end_time": "2022-02-17T07:42:10.568608Z",
     "start_time": "2022-02-17T07:42:02.901924Z"
    }
   },
   "outputs": [
    {
     "data": {
      "application/javascript": [
       "\n",
       "            setTimeout(function() {\n",
       "                var nbb_cell_id = 13;\n",
       "                var nbb_unformatted_code = \"# write set results to Excel\\nwriter = pd.ExcelWriter(\\n    r\\\"\\\\pax_list_terminal_show_up_2019.xlsx\\\",\\n    engine=\\\"xlsxwriter\\\",\\n)\\ndf_Pax_dep.to_excel(writer, sheet_name=\\\"Pax_input\\\")\\n\\nwriter.save()\";\n",
       "                var nbb_formatted_code = \"# write set results to Excel\\nwriter = pd.ExcelWriter(\\n    r\\\"\\\\pax_list_terminal_show_up_2019.xlsx\\\",\\n    engine=\\\"xlsxwriter\\\",\\n)\\ndf_Pax_dep.to_excel(writer, sheet_name=\\\"Pax_input\\\")\\n\\nwriter.save()\";\n",
       "                var nbb_cells = Jupyter.notebook.get_cells();\n",
       "                for (var i = 0; i < nbb_cells.length; ++i) {\n",
       "                    if (nbb_cells[i].input_prompt_number == nbb_cell_id) {\n",
       "                        if (nbb_cells[i].get_text() == nbb_unformatted_code) {\n",
       "                             nbb_cells[i].set_text(nbb_formatted_code);\n",
       "                        }\n",
       "                        break;\n",
       "                    }\n",
       "                }\n",
       "            }, 500);\n",
       "            "
      ],
      "text/plain": [
       "<IPython.core.display.Javascript object>"
      ]
     },
     "metadata": {},
     "output_type": "display_data"
    }
   ],
   "source": [
    "# write set results to Excel\n",
    "writer = pd.ExcelWriter(\n",
    "    r\"\\pax_list_terminal_show_up_2019.xlsx\",\n",
    "    engine=\"xlsxwriter\",\n",
    ")\n",
    "df_Pax_dep.to_excel(writer, sheet_name=\"Pax_input\")\n",
    "\n",
    "writer.save()"
   ]
  },
  {
   "cell_type": "code",
   "execution_count": null,
   "id": "a411f8c9",
   "metadata": {},
   "outputs": [],
   "source": [
    "df_Counters"
   ]
  },
  {
   "cell_type": "code",
   "execution_count": null,
   "id": "f63fb8ed",
   "metadata": {},
   "outputs": [],
   "source": [
    "df_pax_arr"
   ]
  },
  {
   "cell_type": "markdown",
   "id": "582de373",
   "metadata": {
    "tags": [],
    "toc-hr-collapsed": true
   },
   "source": [
    "### run the simulation"
   ]
  },
  {
   "cell_type": "code",
   "execution_count": null,
   "id": "ed97507e",
   "metadata": {
    "ExecuteTime": {
     "end_time": "2021-06-21T07:08:32.679971Z",
     "start_time": "2021-06-21T07:08:32.425999Z"
    }
   },
   "outputs": [],
   "source": [
    "# for the exemple, let's work with T1 arrivals for covid\n",
    "# and T1 departures\n",
    "from src.simfunc.KIX_T1a_covid import KIX_T1a_covid\n",
    "from src.simfunc.KIX_T1d import KIX_T1d"
   ]
  },
  {
   "cell_type": "code",
   "execution_count": null,
   "id": "5992ac98-c9ad-444d-8a73-044bd4303b05",
   "metadata": {
    "ExecuteTime": {
     "end_time": "2021-06-21T06:51:39.108189Z",
     "start_time": "2021-06-21T06:51:39.055Z"
    }
   },
   "outputs": [],
   "source": [
    "# look at the parameters of the function with alt+tab!\n",
    "# KIX_T1d()\n",
    "# KIX_T1a_covid()"
   ]
  },
  {
   "cell_type": "code",
   "execution_count": null,
   "id": "739d63dd",
   "metadata": {
    "ExecuteTime": {
     "end_time": "2021-06-21T09:39:08.356764Z",
     "start_time": "2021-06-21T09:39:08.075052Z"
    }
   },
   "outputs": [],
   "source": [
    "# create a dictionnary\n",
    "# the Pt are in minutes !\n",
    "dct_param = {\n",
    "    \"path\": None,\n",
    "    \"df_Pax\": df_Pax_dep,  # generated before\n",
    "    \"df_Counters\": df_Counters,  # generated before\n",
    "    \"Pt_checkin_1step_counter\": 100,  # Pt in seconds!\n",
    "    \"Pt_checkin_2step_counter\": 80,\n",
    "    \"N_kiosk\": 92,\n",
    "    \"Pt_kiosk\": 90,\n",
    "    \"N_security_lanes\": 16,\n",
    "    \"Pt_security_lanes\": 14,\n",
    "    \"N_emigration_counter\": 20,\n",
    "    \"Pt_emigration_counter\": 23,\n",
    "    \"N_emigration_self\": 23,\n",
    "    \"Pt_emigration_self\": 28,\n",
    "    \"modern_pax_ratio\": 0.1,\n",
    "    \"digital_pax_ratio\": 0.05,\n",
    "    \"premium_pax_ratio\": 0.05,\n",
    "    \"show_graph\": True,\n",
    "}"
   ]
  },
  {
   "cell_type": "code",
   "execution_count": null,
   "id": "d1b0f0ce",
   "metadata": {},
   "outputs": [],
   "source": [
    "# cool feature: unpack the dictionnary to pass\n",
    "# the arguments to the function\n",
    "(\n",
    "    df_result,\n",
    "    list_KPI_run,\n",
    "    dct_hist_wait_time,\n",
    "    dct_hist_queue_length,\n",
    ") = KIX_T1d(**dct_param)"
   ]
  },
  {
   "cell_type": "markdown",
   "id": "403666e1",
   "metadata": {
    "tags": []
   },
   "source": [
    "## Change some parameters"
   ]
  },
  {
   "cell_type": "markdown",
   "id": "6c33a875-56fc-4e91-b8ad-af829dbcb31c",
   "metadata": {
    "heading_collapsed": true,
    "tags": [],
    "toc-hr-collapsed": true
   },
   "source": [
    "### allocation rule"
   ]
  },
  {
   "cell_type": "code",
   "execution_count": null,
   "id": "e6db8bee-1a9d-4b2a-a067-d88a72e05f73",
   "metadata": {
    "hidden": true
   },
   "outputs": [],
   "source": [
    "def minutes_to_hms(minutes):\n",
    "    if np.isnan(minutes):\n",
    "        hms = np.nan\n",
    "    else:\n",
    "        hms = \"{0:s} {1:0=2d}:{2:0=2d}:{3:0=2d}\".format(\n",
    "            \"2020-10-13\",\n",
    "            int((minutes % 1440) // 60),\n",
    "            int(minutes % 60),\n",
    "            int((minutes % 1) * 60),\n",
    "        )\n",
    "    return hms\n",
    "\n",
    "\n",
    "# allocation rules, could be generalized easily with a few parameters\n",
    "def current_rule(t):\n",
    "    y = 0\n",
    "    if 0.75 < t <= 2.5:\n",
    "        y = 4\n",
    "    if 0 < t <= 0.75:\n",
    "        y = 1\n",
    "    return y\n",
    "\n",
    "\n",
    "def test_rule1(t):\n",
    "    y = 0\n",
    "    if 0.75 < t <= 3:\n",
    "        y = 3\n",
    "    if 0 < t <= 0.75:\n",
    "        y = 1\n",
    "    return y\n",
    "\n",
    "\n",
    "def test_rule2(t):\n",
    "    y = 0\n",
    "    if 0.75 < t <= 3.5:\n",
    "        y = 3\n",
    "    if 0 < t <= 0.75:\n",
    "        y = 1\n",
    "    return y\n",
    "\n",
    "\n",
    "def test_rule3(t):\n",
    "    y = 0\n",
    "    if 0.75 < t <= 4:\n",
    "        y = 3\n",
    "    if 0 < t <= 0.75:\n",
    "        y = 1\n",
    "    return y\n",
    "\n",
    "\n",
    "def func(seats):\n",
    "    y = 1.75 * max(4, seats // 60) + 1 * 0.75\n",
    "    return y\n",
    "\n",
    "\n",
    "def func1(seats):\n",
    "    y = 2.25 * max(3, seats // 75) + 1 * 0.75\n",
    "    return y\n",
    "\n",
    "\n",
    "def func2(seats):\n",
    "    y = 2.75 * max(3, seats // 90) + 1 * 0.75\n",
    "    return y\n",
    "\n",
    "\n",
    "def func3(seats):\n",
    "    y = 3.25 * max(3, seats // 105) + 1 * 0.75\n",
    "    return y\n",
    "\n",
    "\n",
    "x = np.linspace(0, 5)\n",
    "y = [current_rule(x) for x in x]\n",
    "y1 = [test_rule1(x) for x in x]\n",
    "y2 = [test_rule2(x) for x in x]\n",
    "y3 = [test_rule3(x) for x in x]\n",
    "\n",
    "fig, ax = plt.subplots(nrows=1, ncols=2, figsize=(14, 5))\n",
    "ax[0].plot(x, y, label=\"current rule\")\n",
    "# ax[0].plot(x, y1, label=\"test rule 1\")\n",
    "ax[0].plot(x, y2, label=\"test rule 3.5 hrs\")\n",
    "# ax[0].plot(x, y3, label=\"test rule 3\")\n",
    "ax[0].set_xlim((4, 0))\n",
    "ax[0].set_ylim(bottom=0)\n",
    "ax[0].set(\n",
    "    xlabel=\"hour before STD\",\n",
    "    ylabel=\"counter number\",\n",
    "    yticks=[0, 1, 2, 3, 4],\n",
    ")\n",
    "ax[0].legend()\n",
    "\n",
    "\n",
    "x = [20 * i for i in range(9, 50)]\n",
    "y = [func(x) / x for x in x]\n",
    "y1 = [func1(x) / x for x in x]\n",
    "y2 = [func2(x) / x for x in x]\n",
    "y3 = [func3(x) / x for x in x]\n",
    "\n",
    "ax[1].plot(x, y, label=\"current rule\")\n",
    "# ax[1].plot(x, y1, label=\"test rule 1\")\n",
    "ax[1].plot(x, y2, label=\"test rule 3.5 hrs\")\n",
    "# ax[1].plot(x, y3, label=\"test rule 3\")\n",
    "ax[1].set(xlabel=\"seats\", ylabel=\"counter.hour/seat\")\n",
    "ax[1].legend()"
   ]
  },
  {
   "cell_type": "code",
   "execution_count": null,
   "id": "c755494b-1f3c-4a22-b784-f77587dc4daf",
   "metadata": {
    "hidden": true
   },
   "outputs": [],
   "source": [
    "# we define the kwargs for custom counter rule\n",
    "kwargs_new_rule = {\n",
    "    \"start_time\": 3.5,\n",
    "    \"onecounter_time\": 0.75,\n",
    "    \"base_n_counter\": 3,\n",
    "    \"seats_per_add_counter\": 90,\n",
    "}\n",
    "\n",
    "_, df_Counters_new_rule = generate_dep_Pax_Counters(\n",
    "    target_peak=3580,\n",
    "    terminal=\"T1\",\n",
    "    custom_counter_rule=True,  # we tell the function to consider custom rule\n",
    "    **kwargs_new_rule,  # we pass the dictionnary of kwargs\n",
    ")"
   ]
  },
  {
   "cell_type": "code",
   "execution_count": null,
   "id": "f8b71aea-9cbb-4885-a77d-c47249572c4b",
   "metadata": {
    "hidden": true
   },
   "outputs": [],
   "source": [
    "# let's compare the total counters through the day for current vs new rule\n",
    "dct_Counters = {\n",
    "    \"current\": df_Counters,\n",
    "    \"new_rule\": df_Counters_new_rule,\n",
    "}\n",
    "\n",
    "dct_plt = {\n",
    "    \"current\": np.nan,\n",
    "    \"new_rule\": np.nan,\n",
    "}\n",
    "\n",
    "for rule in dct_Counters.keys():\n",
    "    dct_Counters[rule][\"time\"] = dct_Counters[rule].index\n",
    "    dct_Counters[rule][\"time\"] = pd.to_datetime(\n",
    "        dct_Counters[rule][\"time\"].apply(lambda x: minutes_to_hms(5 * x))\n",
    "    )\n",
    "    dct_plt[rule] = (\n",
    "        dct_Counters[rule].set_index(\"time\").resample(\"60S\").ffill()[[\"total\"]]\n",
    "    )\n",
    "\n",
    "\n",
    "# plot param\n",
    "xmin = pd.to_datetime(\"2020-10-13 00:00:00\")\n",
    "xmax = pd.to_datetime(\"2020-10-14 00:00:00\")\n",
    "plt.rcParams.update({\"figure.autolayout\": True})\n",
    "hours = mdates.HourLocator(interval=1)\n",
    "half_hours = mdates.MinuteLocator(byminute=[0, 30], interval=1)\n",
    "h_fmt = mdates.DateFormatter(\"%H:%M\")\n",
    "\n",
    "# create figure and plots\n",
    "fig, ax = plt.subplots(figsize=(14, 5))\n",
    "for rule in dct_Counters.keys():\n",
    "    ax.plot(dct_plt[rule], label=rule)\n",
    "\n",
    "# formatting\n",
    "ax.set_xlim((xmin, xmax))\n",
    "ax.set(ylabel=\"counters [unit]\")\n",
    "ax.set_xticks(dct_plt[rule].index.to_list())\n",
    "ax.set_xticklabels(ax.get_xticks(), rotation=45, **{\"horizontalalignment\": \"right\"})\n",
    "ax.xaxis.set_major_locator(hours)\n",
    "ax.xaxis.set_major_formatter(h_fmt)\n",
    "ax.xaxis.set_minor_locator(half_hours)\n",
    "ax.legend(loc=\"upper left\", frameon=False)\n",
    "\n",
    "# scale y axis to leave more space\n",
    "_, top = ax.get_ylim()\n",
    "newtop = 1.20 * top\n",
    "ax.set_ylim(bottom=0, top=newtop)\n",
    "\n",
    "plt.show()"
   ]
  },
  {
   "cell_type": "markdown",
   "id": "cb1b1e4d-3239-40d1-975d-d73f77f72be9",
   "metadata": {
    "hidden": true
   },
   "source": [
    "What I did in check-in BHS WG is to run simulation and see the impact on wait times, dwell time, EBS, BHS, etc...\\\n",
    "With this kind of changes"
   ]
  },
  {
   "cell_type": "markdown",
   "id": "a5577d86-0ef0-42f4-a2d7-740cedb1cf68",
   "metadata": {
    "tags": []
   },
   "source": [
    "### Show-up profiles"
   ]
  },
  {
   "cell_type": "markdown",
   "id": "1ed5a985",
   "metadata": {
    "ExecuteTime": {
     "end_time": "2021-06-21T05:30:32.252326Z",
     "start_time": "2021-06-21T05:30:32.045291Z"
    },
    "heading_collapsed": true
   },
   "source": [
    "#### base case profiles (from non-aero survey)"
   ]
  },
  {
   "cell_type": "code",
   "execution_count": 16,
   "id": "39d9353f-24aa-47a3-b3d4-f11856dfc382",
   "metadata": {
    "ExecuteTime": {
     "end_time": "2022-02-17T07:49:06.748540Z",
     "start_time": "2022-02-17T07:49:06.674521Z"
    },
    "hidden": true
   },
   "outputs": [
    {
     "data": {
      "application/javascript": [
       "\n",
       "            setTimeout(function() {\n",
       "                var nbb_cell_id = 16;\n",
       "                var nbb_unformatted_code = \"# get the paths to config\\n# get the path for references files\\n# do not bother with that right now\\n\\nDOTENV_FILE_PATH = Path(os.getcwd()) / \\\"../../data/secret/.env\\\"\\nconfig = AutoConfig(search_path=DOTENV_FILE_PATH)\\npath_forecasts = Path(os.getcwd()) / \\\"..\\\" / \\\"..\\\" / config(\\\"schedule_forecast_FY19_25_path\\\")\\npath_show_up = Path(os.getcwd()) / \\\"..\\\" / \\\"..\\\" / config(\\\"ADRM_param_full_path\\\")\";\n",
       "                var nbb_formatted_code = \"# get the paths to config\\n# get the path for references files\\n# do not bother with that right now\\n\\nDOTENV_FILE_PATH = Path(os.getcwd()) / \\\"../../data/secret/.env\\\"\\nconfig = AutoConfig(search_path=DOTENV_FILE_PATH)\\npath_forecasts = (\\n    Path(os.getcwd()) / \\\"..\\\" / \\\"..\\\" / config(\\\"schedule_forecast_FY19_25_path\\\")\\n)\\npath_show_up = Path(os.getcwd()) / \\\"..\\\" / \\\"..\\\" / config(\\\"ADRM_param_full_path\\\")\";\n",
       "                var nbb_cells = Jupyter.notebook.get_cells();\n",
       "                for (var i = 0; i < nbb_cells.length; ++i) {\n",
       "                    if (nbb_cells[i].input_prompt_number == nbb_cell_id) {\n",
       "                        if (nbb_cells[i].get_text() == nbb_unformatted_code) {\n",
       "                             nbb_cells[i].set_text(nbb_formatted_code);\n",
       "                        }\n",
       "                        break;\n",
       "                    }\n",
       "                }\n",
       "            }, 500);\n",
       "            "
      ],
      "text/plain": [
       "<IPython.core.display.Javascript object>"
      ]
     },
     "metadata": {},
     "output_type": "display_data"
    }
   ],
   "source": [
    "# get the paths to config\n",
    "# get the path for references files\n",
    "# do not bother with that right now\n",
    "\n",
    "DOTENV_FILE_PATH = Path(os.getcwd()) / \"../../data/secret/.env\"\n",
    "config = AutoConfig(search_path=DOTENV_FILE_PATH)\n",
    "path_forecasts = (\n",
    "    Path(os.getcwd()) / \"..\" / \"..\" / config(\"schedule_forecast_FY19_25_path\")\n",
    ")\n",
    "path_show_up = Path(os.getcwd()) / \"..\" / \"..\" / config(\"ADRM_param_full_path\")"
   ]
  },
  {
   "cell_type": "code",
   "execution_count": 17,
   "id": "63369262-51bf-43ab-b88c-359f4466a41c",
   "metadata": {
    "ExecuteTime": {
     "end_time": "2022-02-17T07:49:07.785148Z",
     "start_time": "2022-02-17T07:49:07.542328Z"
    },
    "hidden": true
   },
   "outputs": [
    {
     "data": {
      "application/javascript": [
       "\n",
       "            setTimeout(function() {\n",
       "                var nbb_cell_id = 17;\n",
       "                var nbb_unformatted_code = \"# this is a copy paste from the show-up function (src.utils.profiles)\\nshow_up_ter = pd.read_excel(\\n    path_show_up,\\n    sheet_name=r\\\"terminal\\\",\\n    header=1,\\n)\\nshow_up_ter = show_up_ter.drop([0, 1], axis=0)\\nshow_up_ter = show_up_ter.reset_index(drop=True)\\n\\n# interpolation of show_up profiles and inverse functions\\nx = show_up_ter[\\\"time before STD\\\"].to_numpy(dtype=float)\\n\\nyFSC = show_up_ter[\\\"cumulative distribution FSC\\\"].to_numpy(\\n    dtype=float\\n)\\nyLCC = show_up_ter[\\\"cumulative distribution LCC\\\"].to_numpy(\\n    dtype=float\\n)\\nyEARLY = show_up_ter[\\\"cumulative distribution EARLY\\\"].to_numpy(\\n    dtype=float\\n)\\nyCHINA = show_up_ter[\\\"cumulative distribution CHINA\\\"].to_numpy(\\n    dtype=float\\n)\\n\\nf_ter_FSC = interp1d(x, yFSC, kind=\\\"linear\\\")\\nf_ter_LCC = interp1d(x, yLCC, kind=\\\"linear\\\")\\nf_ter_EARLY = interp1d(x, yEARLY, kind=\\\"linear\\\")\\nf_ter_CHINA = interp1d(x, yCHINA, kind=\\\"linear\\\")\";\n",
       "                var nbb_formatted_code = \"# this is a copy paste from the show-up function (src.utils.profiles)\\nshow_up_ter = pd.read_excel(\\n    path_show_up,\\n    sheet_name=r\\\"terminal\\\",\\n    header=1,\\n)\\nshow_up_ter = show_up_ter.drop([0, 1], axis=0)\\nshow_up_ter = show_up_ter.reset_index(drop=True)\\n\\n# interpolation of show_up profiles and inverse functions\\nx = show_up_ter[\\\"time before STD\\\"].to_numpy(dtype=float)\\n\\nyFSC = show_up_ter[\\\"cumulative distribution FSC\\\"].to_numpy(dtype=float)\\nyLCC = show_up_ter[\\\"cumulative distribution LCC\\\"].to_numpy(dtype=float)\\nyEARLY = show_up_ter[\\\"cumulative distribution EARLY\\\"].to_numpy(dtype=float)\\nyCHINA = show_up_ter[\\\"cumulative distribution CHINA\\\"].to_numpy(dtype=float)\\n\\nf_ter_FSC = interp1d(x, yFSC, kind=\\\"linear\\\")\\nf_ter_LCC = interp1d(x, yLCC, kind=\\\"linear\\\")\\nf_ter_EARLY = interp1d(x, yEARLY, kind=\\\"linear\\\")\\nf_ter_CHINA = interp1d(x, yCHINA, kind=\\\"linear\\\")\";\n",
       "                var nbb_cells = Jupyter.notebook.get_cells();\n",
       "                for (var i = 0; i < nbb_cells.length; ++i) {\n",
       "                    if (nbb_cells[i].input_prompt_number == nbb_cell_id) {\n",
       "                        if (nbb_cells[i].get_text() == nbb_unformatted_code) {\n",
       "                             nbb_cells[i].set_text(nbb_formatted_code);\n",
       "                        }\n",
       "                        break;\n",
       "                    }\n",
       "                }\n",
       "            }, 500);\n",
       "            "
      ],
      "text/plain": [
       "<IPython.core.display.Javascript object>"
      ]
     },
     "metadata": {},
     "output_type": "display_data"
    }
   ],
   "source": [
    "# this is a copy paste from the show-up function (src.utils.profiles)\n",
    "show_up_ter = pd.read_excel(\n",
    "    path_show_up,\n",
    "    sheet_name=r\"terminal\",\n",
    "    header=1,\n",
    ")\n",
    "show_up_ter = show_up_ter.drop([0, 1], axis=0)\n",
    "show_up_ter = show_up_ter.reset_index(drop=True)\n",
    "\n",
    "# interpolation of show_up profiles and inverse functions\n",
    "x = show_up_ter[\"time before STD\"].to_numpy(dtype=float)\n",
    "\n",
    "yFSC = show_up_ter[\"cumulative distribution FSC\"].to_numpy(dtype=float)\n",
    "yLCC = show_up_ter[\"cumulative distribution LCC\"].to_numpy(dtype=float)\n",
    "yEARLY = show_up_ter[\"cumulative distribution EARLY\"].to_numpy(dtype=float)\n",
    "yCHINA = show_up_ter[\"cumulative distribution CHINA\"].to_numpy(dtype=float)\n",
    "\n",
    "f_ter_FSC = interp1d(x, yFSC, kind=\"linear\")\n",
    "f_ter_LCC = interp1d(x, yLCC, kind=\"linear\")\n",
    "f_ter_EARLY = interp1d(x, yEARLY, kind=\"linear\")\n",
    "f_ter_CHINA = interp1d(x, yCHINA, kind=\"linear\")"
   ]
  },
  {
   "cell_type": "code",
   "execution_count": 18,
   "id": "5ff6dcd4-40fb-4377-bbc3-07f286e2f492",
   "metadata": {
    "ExecuteTime": {
     "end_time": "2022-02-17T07:49:08.384329Z",
     "start_time": "2022-02-17T07:49:08.326738Z"
    },
    "hidden": true
   },
   "outputs": [
    {
     "data": {
      "application/javascript": [
       "\n",
       "            setTimeout(function() {\n",
       "                var nbb_cell_id = 18;\n",
       "                var nbb_unformatted_code = \"# dictionnarize to plot easily\\n# we should enhance the profile function with dictionnaries\\ndct_y ={\\n    'FSC': yFSC,\\n    'LCC': yLCC,\\n    'EARLY': yEARLY,\\n    'CHINA': yCHINA,\\n}\\n\\ndct_f_ter ={\\n    'FSC': f_ter_FSC,\\n    'LCC': f_ter_LCC,\\n    'EARLY': f_ter_EARLY,\\n    'CHINA': f_ter_CHINA,\\n}\";\n",
       "                var nbb_formatted_code = \"# dictionnarize to plot easily\\n# we should enhance the profile function with dictionnaries\\ndct_y = {\\n    \\\"FSC\\\": yFSC,\\n    \\\"LCC\\\": yLCC,\\n    \\\"EARLY\\\": yEARLY,\\n    \\\"CHINA\\\": yCHINA,\\n}\\n\\ndct_f_ter = {\\n    \\\"FSC\\\": f_ter_FSC,\\n    \\\"LCC\\\": f_ter_LCC,\\n    \\\"EARLY\\\": f_ter_EARLY,\\n    \\\"CHINA\\\": f_ter_CHINA,\\n}\";\n",
       "                var nbb_cells = Jupyter.notebook.get_cells();\n",
       "                for (var i = 0; i < nbb_cells.length; ++i) {\n",
       "                    if (nbb_cells[i].input_prompt_number == nbb_cell_id) {\n",
       "                        if (nbb_cells[i].get_text() == nbb_unformatted_code) {\n",
       "                             nbb_cells[i].set_text(nbb_formatted_code);\n",
       "                        }\n",
       "                        break;\n",
       "                    }\n",
       "                }\n",
       "            }, 500);\n",
       "            "
      ],
      "text/plain": [
       "<IPython.core.display.Javascript object>"
      ]
     },
     "metadata": {},
     "output_type": "display_data"
    }
   ],
   "source": [
    "# dictionnarize to plot easily\n",
    "# we should enhance the profile function with dictionnaries\n",
    "dct_y = {\n",
    "    \"FSC\": yFSC,\n",
    "    \"LCC\": yLCC,\n",
    "    \"EARLY\": yEARLY,\n",
    "    \"CHINA\": yCHINA,\n",
    "}\n",
    "\n",
    "dct_f_ter = {\n",
    "    \"FSC\": f_ter_FSC,\n",
    "    \"LCC\": f_ter_LCC,\n",
    "    \"EARLY\": f_ter_EARLY,\n",
    "    \"CHINA\": f_ter_CHINA,\n",
    "}"
   ]
  },
  {
   "cell_type": "code",
   "execution_count": 19,
   "id": "56ff3116-beac-4cd9-9eae-67f35524115e",
   "metadata": {
    "ExecuteTime": {
     "end_time": "2022-02-17T07:49:09.550560Z",
     "start_time": "2022-02-17T07:49:09.110045Z"
    },
    "hidden": true
   },
   "outputs": [
    {
     "data": {
      "image/png": "[encoded data removed]",
      "text/plain": [
       "<Figure size 576x432 with 1 Axes>"
      ]
     },
     "metadata": {
      "needs_background": "light"
     },
     "output_type": "display_data"
    },
    {
     "data": {
      "application/javascript": [
       "\n",
       "            setTimeout(function() {\n",
       "                var nbb_cell_id = 19;\n",
       "                var nbb_unformatted_code = \"# let's plot\\nfig,ax = plt.subplots(figsize=(8,6))\\n\\nfor type in dct_y.keys():\\n    ax.plot(x,dct_y[type],'o',label='y {}'.format(type))\\n    ax.plot(x,dct_f_ter[type](x),label='interpolation {}'.format(type))\\n    \\nax.legend()    \\nax.set(xlim=(0,360),ylim=(0,1))\\nplt.show()\";\n",
       "                var nbb_formatted_code = \"# let's plot\\nfig, ax = plt.subplots(figsize=(8, 6))\\n\\nfor type in dct_y.keys():\\n    ax.plot(x, dct_y[type], \\\"o\\\", label=\\\"y {}\\\".format(type))\\n    ax.plot(x, dct_f_ter[type](x), label=\\\"interpolation {}\\\".format(type))\\n\\nax.legend()\\nax.set(xlim=(0, 360), ylim=(0, 1))\\nplt.show()\";\n",
       "                var nbb_cells = Jupyter.notebook.get_cells();\n",
       "                for (var i = 0; i < nbb_cells.length; ++i) {\n",
       "                    if (nbb_cells[i].input_prompt_number == nbb_cell_id) {\n",
       "                        if (nbb_cells[i].get_text() == nbb_unformatted_code) {\n",
       "                             nbb_cells[i].set_text(nbb_formatted_code);\n",
       "                        }\n",
       "                        break;\n",
       "                    }\n",
       "                }\n",
       "            }, 500);\n",
       "            "
      ],
      "text/plain": [
       "<IPython.core.display.Javascript object>"
      ]
     },
     "metadata": {},
     "output_type": "display_data"
    }
   ],
   "source": [
    "# let's plot\n",
    "fig, ax = plt.subplots(figsize=(8, 6))\n",
    "\n",
    "for type in dct_y.keys():\n",
    "    ax.plot(x, dct_y[type], \"o\", label=\"y {}\".format(type))\n",
    "    ax.plot(x, dct_f_ter[type](x), label=\"interpolation {}\".format(type))\n",
    "\n",
    "ax.legend()\n",
    "ax.set(xlim=(0, 360), ylim=(0, 1))\n",
    "plt.show()"
   ]
  },
  {
   "cell_type": "markdown",
   "id": "e413c5cd-2462-4ded-b3d2-131a4f7da3f1",
   "metadata": {
    "hidden": true
   },
   "source": [
    "Those are the show-up profiles from non-aero survey.\\\n",
    "Let's try another profile where people show-up much later!"
   ]
  },
  {
   "cell_type": "markdown",
   "id": "3d295098",
   "metadata": {
    "heading_collapsed": true
   },
   "source": [
    "#### custom show-up profiles"
   ]
  },
  {
   "cell_type": "code",
   "execution_count": null,
   "id": "ef91879b-15c5-4509-82c2-dffad2423210",
   "metadata": {
    "ExecuteTime": {
     "end_time": "2021-06-21T05:04:39.545565Z",
     "start_time": "2021-06-21T05:04:39.337099Z"
    },
    "hidden": true
   },
   "outputs": [],
   "source": [
    "from scipy.stats import norm"
   ]
  },
  {
   "cell_type": "code",
   "execution_count": null,
   "id": "4ffe1308-862d-4e66-a993-ff8e1b6246a2",
   "metadata": {
    "ExecuteTime": {
     "end_time": "2021-06-21T05:28:28.853747Z",
     "start_time": "2021-06-21T05:28:28.630760Z"
    },
    "hidden": true
   },
   "outputs": [],
   "source": [
    "# create some parameters\n",
    "kwargs_custom_show_up = {\n",
    "    \"loc_FSC\": 100,  # like mean\n",
    "    \"scale_FSC\": 33,  # like standard deviation\n",
    "    \"loc_LCC\": 90,\n",
    "    \"scale_LCC\": 30,\n",
    "    \"loc_CHINA\": 120,\n",
    "    \"scale_CHINA\": 40,\n",
    "    \"loc_EARLY\": 60,\n",
    "    \"scale_EARLY\": 20,\n",
    "}"
   ]
  },
  {
   "cell_type": "code",
   "execution_count": null,
   "id": "b77c6969",
   "metadata": {
    "ExecuteTime": {
     "end_time": "2021-06-21T05:28:29.433792Z",
     "start_time": "2021-06-21T05:28:29.224970Z"
    },
    "hidden": true
   },
   "outputs": [],
   "source": [
    "category_list = [\"FSC\", \"LCC\", \"CHINA\", \"EARLY\"]"
   ]
  },
  {
   "cell_type": "code",
   "execution_count": null,
   "id": "a73cd5ba-c6be-44a9-8025-773f933e9f37",
   "metadata": {
    "ExecuteTime": {
     "end_time": "2021-06-21T05:28:29.705698Z",
     "start_time": "2021-06-21T05:28:29.575Z"
    },
    "hidden": true
   },
   "outputs": [],
   "source": [
    "dct_f_ter_custom_show_up = {\n",
    "    \"f_ter_{}\".format(category): (\n",
    "        lambda x, category=category: 1\n",
    "        - norm.cdf(\n",
    "            x,\n",
    "            loc=kwargs_custom_show_up[\"loc_{}\".format(category)],\n",
    "            scale=kwargs_custom_show_up[\"scale_{}\".format(category)],\n",
    "        )\n",
    "    )\n",
    "    for category in category_list\n",
    "}"
   ]
  },
  {
   "cell_type": "code",
   "execution_count": null,
   "id": "c90e7445-923b-4b45-b846-ee8162ec00f7",
   "metadata": {
    "ExecuteTime": {
     "end_time": "2021-06-21T05:28:30.754645Z",
     "start_time": "2021-06-21T05:28:30.128480Z"
    },
    "hidden": true
   },
   "outputs": [],
   "source": [
    "# let's plot\n",
    "fig, ax = plt.subplots(figsize=(8, 6))\n",
    "\n",
    "for function in dct_f_ter_custom_show_up.keys():\n",
    "    ax.plot(\n",
    "        x,\n",
    "        dct_f_ter_custom_show_up[function](x),\n",
    "        label=\"custom_show-up {}\".format(function),\n",
    "    )\n",
    "\n",
    "for type in dct_y.keys():\n",
    "    ax.plot(x, dct_f_ter[type](x), \"--\", label=\"base case show-up {}\".format(type))\n",
    "\n",
    "ax.legend()\n",
    "ax.set(xlim=(0, 360), ylim=(0, 1))\n",
    "plt.show()"
   ]
  },
  {
   "cell_type": "code",
   "execution_count": null,
   "id": "8d8fb220-4fde-48d0-8e0a-8ce00fc79314",
   "metadata": {
    "ExecuteTime": {
     "end_time": "2021-06-21T05:28:58.156810Z",
     "start_time": "2021-06-21T05:28:34.200280Z"
    },
    "hidden": true
   },
   "outputs": [],
   "source": [
    "df_Pax_custom_show_up, _ = generate_dep_Pax_Counters(\n",
    "    target_peak=3580,\n",
    "    terminal=\"T1\",\n",
    "    custom_showup=True,\n",
    "    **kwargs_custom_show_up,\n",
    ")"
   ]
  },
  {
   "cell_type": "code",
   "execution_count": null,
   "id": "9a55fce0-0dba-4620-ada5-7ad1c543923a",
   "metadata": {
    "ExecuteTime": {
     "end_time": "2021-06-21T05:31:12.852876Z",
     "start_time": "2021-06-21T05:31:12.626959Z"
    },
    "hidden": true
   },
   "outputs": [],
   "source": [
    "df_Pax_custom_show_up[\"Pax\"] = 1\n",
    "df_Pax_dep[\"Pax\"] = 1"
   ]
  },
  {
   "cell_type": "code",
   "execution_count": null,
   "id": "ae62b18e",
   "metadata": {
    "ExecuteTime": {
     "end_time": "2021-06-21T05:33:07.612739Z",
     "start_time": "2021-06-21T05:33:07.397427Z"
    },
    "hidden": true
   },
   "outputs": [],
   "source": [
    "df_Pax_custom_show_up.columns"
   ]
  },
  {
   "cell_type": "code",
   "execution_count": null,
   "id": "80dd2711",
   "metadata": {
    "ExecuteTime": {
     "end_time": "2021-06-21T05:37:29.341891Z",
     "start_time": "2021-06-21T05:37:28.905764Z"
    },
    "hidden": true
   },
   "outputs": [],
   "source": [
    "plt_custom_show_up = (\n",
    "    df_Pax_custom_show_up.set_index(\"time\", drop=False)[\"Pax\"]\n",
    "    .resample(\"5min\")\n",
    "    .agg([\"sum\"])\n",
    "    .rolling(window=1, center=True)\n",
    "    .mean()\n",
    "    .dropna()\n",
    ")"
   ]
  },
  {
   "cell_type": "code",
   "execution_count": null,
   "id": "c84c6c3d",
   "metadata": {
    "ExecuteTime": {
     "end_time": "2021-06-21T05:39:51.847205Z",
     "start_time": "2021-06-21T05:39:50.669156Z"
    },
    "hidden": true
   },
   "outputs": [],
   "source": [
    "plt_normal_show_up = (\n",
    "    df_Pax_dep.set_index(\"time\", drop=False)[\"Pax\"]\n",
    "    .resample(\"5min\")\n",
    "    .agg([\"sum\"])\n",
    "    .rolling(window=1, center=True)\n",
    "    .mean()\n",
    "    .dropna()\n",
    ")\n",
    "\n",
    "fig, ax = plt.subplots(figsize=(8, 5))\n",
    "ax.plot(plt_normal_show_up * 12, label=\"normal show-up (non aero survey)\")\n",
    "ax.plot(plt_custom_show_up * 12, label=\"custom show-up\")\n",
    "\n",
    "# plot param\n",
    "xmin = pd.to_datetime(\"2020-10-13 00:00:00\")\n",
    "xmax = pd.to_datetime(\"2020-10-14 00:00:00\")\n",
    "plt.rcParams.update({\"figure.autolayout\": True})\n",
    "hours = mdates.HourLocator(interval=1)\n",
    "half_hours = mdates.MinuteLocator(byminute=[0, 30], interval=1)\n",
    "h_fmt = mdates.DateFormatter(\"%H:%M\")\n",
    "\n",
    "# formatting\n",
    "ax.set_xlim((xmin, xmax))\n",
    "ax.set_xticks(plt_normal_show_up.index.to_list())\n",
    "ax.set_xticklabels(ax.get_xticks(), rotation=45, **{\"horizontalalignment\": \"right\"})\n",
    "ax.xaxis.set_major_locator(hours)\n",
    "ax.xaxis.set_major_formatter(h_fmt)\n",
    "ax.xaxis.set_minor_locator(half_hours)\n",
    "ax.legend(loc=\"upper left\", frameon=False)\n",
    "\n",
    "plt.show()"
   ]
  },
  {
   "cell_type": "markdown",
   "id": "459a8748",
   "metadata": {
    "heading_collapsed": true,
    "tags": [],
    "toc-hr-collapsed": true
   },
   "source": [
    "## Run an optimization loop\n",
    "for a given traffic, we will find how many security lanes are required to be at optimum level of service"
   ]
  },
  {
   "cell_type": "code",
   "execution_count": null,
   "id": "ac494fcd",
   "metadata": {
    "ExecuteTime": {
     "end_time": "2021-06-21T09:01:43.726071Z",
     "start_time": "2021-06-21T09:01:15.737921Z"
    },
    "hidden": true
   },
   "outputs": [],
   "source": [
    "df_Pax_opti, df_Counters_opti = generate_dep_Pax_Counters(\n",
    "    target_peak=1000, terminal=\"T1\"  # we take a small traffic for runtime...\n",
    ")"
   ]
  },
  {
   "cell_type": "code",
   "execution_count": null,
   "id": "496fd9e6",
   "metadata": {
    "ExecuteTime": {
     "end_time": "2021-06-21T09:04:47.961713Z",
     "start_time": "2021-06-21T09:04:47.735960Z"
    },
    "hidden": true
   },
   "outputs": [],
   "source": [
    "from src.utils.optimizers import custmin, custcallback\n",
    "from src.simfunc.KIX_T1d import univariate_cost_function_generator_T1d_N"
   ]
  },
  {
   "cell_type": "code",
   "execution_count": null,
   "id": "d8dc279e",
   "metadata": {
    "ExecuteTime": {
     "end_time": "2021-06-21T09:22:07.212503Z",
     "start_time": "2021-06-21T09:04:48.444110Z"
    },
    "hidden": true,
    "scrolled": true
   },
   "outputs": [],
   "source": [
    "# replace the df_Pax and df_Counters\n",
    "dct_param_opti = dct_param.copy()\n",
    "dct_param_opti[\"df_Pax\"] = df_Pax_opti\n",
    "dct_param_opti[\"df_Counters\"] = df_Counters_opti\n",
    "\n",
    "# deactivate graph plotting option\n",
    "dct_param_opti[\"show_graph\"] = False\n",
    "\n",
    "# kwargs for the optimization\n",
    "kwargs = {\n",
    "    \"dct_param_T1d\": dct_param_opti,\n",
    "    \"variable_string\": \"N_security_lanes\",  # we want to find the best value for this parameter\n",
    "    \"target_wait_time\": 7.5,  # target waiting time in minutes (IATA LoS optimum mid-range)\n",
    "    \"call_n_iter\": None,\n",
    "    \"totalpbar\": None,\n",
    "}\n",
    "\n",
    "# options for custom optimizer, don't worry about it for now\n",
    "options = {\n",
    "    \"guess\": int(49),\n",
    "    \"maxfev\": 40,\n",
    "    \"bigstep\": 10,\n",
    "    \"smallstep\": 1,\n",
    "    \"callback\": custcallback,\n",
    "    \"tol\": 0,\n",
    "}\n",
    "\n",
    "f = univariate_cost_function_generator_T1d_N(**kwargs)\n",
    "res = custmin(f, **options)\n",
    "print(res)"
   ]
  },
  {
   "cell_type": "code",
   "execution_count": null,
   "id": "58fc0f9f",
   "metadata": {
    "ExecuteTime": {
     "end_time": "2021-06-21T09:22:07.221442Z",
     "start_time": "2021-06-21T09:04:51.459Z"
    },
    "hidden": true
   },
   "outputs": [],
   "source": [
    "dct_param_opti[\"show_graph\"] = True\n",
    "dct_param_opti[\"N_security_lanes\"] = res[\"x\"]\n",
    "KIX_T1d(**dct_param_opti)"
   ]
  },
  {
   "cell_type": "markdown",
   "id": "ba873148",
   "metadata": {},
   "source": [
    "# Tests"
   ]
  },
  {
   "cell_type": "code",
   "execution_count": null,
   "id": "ce30cec8",
   "metadata": {
    "ExecuteTime": {
     "end_time": "2021-06-21T09:23:32.058533Z",
     "start_time": "2021-06-21T09:23:05.162335Z"
    }
   },
   "outputs": [],
   "source": [
    "df_Pax_test, df_Counters_test = generate_dep_Pax_Counters(\n",
    "    target_peak=1000, terminal=\"T1\"\n",
    ")"
   ]
  },
  {
   "cell_type": "code",
   "execution_count": null,
   "id": "1da21bc5",
   "metadata": {
    "ExecuteTime": {
     "end_time": "2021-06-21T10:10:56.620078Z",
     "start_time": "2021-06-21T10:10:56.336705Z"
    }
   },
   "outputs": [],
   "source": [
    "from src.utils.optimizers import custmin, custcallback\n",
    "from src.simfunc.KIX_T1d import univariate_cost_function_generator_T1d_N"
   ]
  },
  {
   "cell_type": "code",
   "execution_count": null,
   "id": "a9a3a84d",
   "metadata": {
    "ExecuteTime": {
     "end_time": "2021-06-21T10:43:00.932933Z",
     "start_time": "2021-06-21T10:35:41.204346Z"
    }
   },
   "outputs": [],
   "source": [
    "# replace the df_Pax and df_Counters\n",
    "dct_param_test = dct_param.copy()\n",
    "dct_param_test[\"df_Pax\"] = df_Pax_test\n",
    "dct_param_test[\"df_Counters\"] = df_Counters_test\n",
    "\n",
    "# deactivate graph plotting teston\n",
    "dct_param_test[\"show_graph\"] = False\n",
    "\n",
    "# kwargs for the testmization\n",
    "kwargs = {\n",
    "    \"dct_param_T1d\": dct_param_test,\n",
    "    \"variable_string\": \"N_security_lanes\",  # we want to find the best value for this parameter\n",
    "    \"target_wait_time\": 7.5,  # target waiting time in minutes (IATA LoS testmum mid-range)\n",
    "    \"call_n_iter\": None,\n",
    "    \"totalpbar\": None,\n",
    "}\n",
    "\n",
    "# options for custom testmizer, don't worry about it for now\n",
    "options = {\n",
    "    \"guess\": int(29),\n",
    "    \"maxfev\": 40,\n",
    "    \"bigstep\": 10,\n",
    "    \"smallstep\": 1,\n",
    "    \"callback\": custcallback,\n",
    "    \"tol\": 0,\n",
    "}\n",
    "\n",
    "f = univariate_cost_function_generator_T1d_N(**kwargs)\n",
    "res = custmin(f, **options)\n",
    "print(res)"
   ]
  }
 ],
 "metadata": {
  "hide_input": false,
  "interpreter": {
   "hash": "1d86c3f4e6564a626633f587d07c61b83132bd3397ba0f40eb4b1687729da8fd"
  },
  "kernelspec": {
   "display_name": "Python [conda env:KAPpaxsim2]",
   "language": "python",
   "name": "conda-env-KAPpaxsim2-py"
  },
  "language_info": {
   "codemirror_mode": {
    "name": "ipython",
    "version": 3
   },
   "file_extension": ".py",
   "mimetype": "text/x-python",
   "name": "python",
   "nbconvert_exporter": "python",
   "pygments_lexer": "ipython3",
   "version": "3.8.10"
  },
  "toc": {
   "base_numbering": 1,
   "nav_menu": {},
   "number_sections": true,
   "sideBar": true,
   "skip_h1_title": false,
   "title_cell": "Table of Contents",
   "title_sidebar": "Contents",
   "toc_cell": false,
   "toc_position": {},
   "toc_section_display": true,
   "toc_window_display": false
  },
  "varInspector": {
   "cols": {
    "lenName": 16,
    "lenType": 16,
    "lenVar": 40
   },
   "kernels_config": {
    "python": {
     "delete_cmd_postfix": "",
     "delete_cmd_prefix": "del ",
     "library": "var_list.py",
     "varRefreshCmd": "print(var_dic_list())"
    },
    "r": {
     "delete_cmd_postfix": ") ",
     "delete_cmd_prefix": "rm(",
     "library": "var_list.r",
     "varRefreshCmd": "cat(var_dic_list()) "
    }
   },
   "types_to_exclude": [
    "module",
    "function",
    "builtin_function_or_method",
    "instance",
    "_Feature"
   ],
   "window_display": false
  }
 },
 "nbformat": 4,
 "nbformat_minor": 5
}
