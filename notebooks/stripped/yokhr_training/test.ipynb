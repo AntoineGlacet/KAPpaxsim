{
 "cells": [
  {
   "cell_type": "code",
   "execution_count": null,
   "metadata": {},
   "outputs": [],
   "source": [
    "import numpy as np # math\n",
    "from scipy.interpolate import interp1d # interpolation 1d\n",
    "from scipy.stats import norm # normal distribution\n",
    "import matplotlib.pyplot as plt # graphs and plots\n",
    "import pandas as pd\n",
    "import datetime\n",
    "import matplotlib.dates as mdates"
   ]
  },
  {
   "cell_type": "code",
   "execution_count": null,
   "metadata": {},
   "outputs": [],
   "source": [
    "# import of the excel with the show up profiles\n",
    "show_up_ter = pd.read_excel(\n",
    "    r\"/home/antoine/projects/KAPpaxsim/KAPpaxsim/data/raw/ADRM_param_full.xlsx\",\n",
    "    sheet_name=r\"terminal\",\n",
    "    header=1,\n",
    ")\n",
    "\n",
    "show_up_ter = show_up_ter.drop([0, 1], axis=0)\n",
    "show_up_ter = show_up_ter.reset_index(drop=True)"
   ]
  },
  {
   "cell_type": "code",
   "execution_count": null,
   "metadata": {},
   "outputs": [],
   "source": [
    "show_up_ter.head()"
   ]
  },
  {
   "cell_type": "code",
   "execution_count": null,
   "metadata": {},
   "outputs": [],
   "source": [
    "# interpolation of show_up profiles and inverse functions\n",
    "x = show_up_ter[\"time before STD\"].to_numpy(dtype=float)"
   ]
  },
  {
   "cell_type": "code",
   "execution_count": null,
   "metadata": {},
   "outputs": [],
   "source": [
    "flight_types = ['FSC',\"LCC\",\"EARLY\",\"CHINA\"]\n",
    "\n",
    "dct_y = {\n",
    "    flight_type : show_up_ter[\"cumulative distribution {}\".format(flight_type)] for flight_type in flight_types\n",
    "}"
   ]
  },
  {
   "cell_type": "code",
   "execution_count": null,
   "metadata": {},
   "outputs": [],
   "source": [
    "dct_f_ter = {\n",
    "    flight_type : interp1d(x, dct_y[flight_type], kind=\"linear\") for flight_type in flight_types\n",
    "}"
   ]
  },
  {
   "cell_type": "code",
   "execution_count": null,
   "metadata": {},
   "outputs": [],
   "source": [
    "fig, ax = plt.subplots(figsize=(8, 6))\n",
    "x = np.linspace(0, 360, 100)\n",
    "\n",
    "for key in dct_f_ter:\n",
    "    ax.plot(x, dct_f_ter[key](x), label=\"show-up {}\".format(key))\n",
    "\n",
    "ax.invert_xaxis()\n",
    "\n",
    "ax.legend()\n",
    "# ax.set(xlim=(0, 360), ylim=(0, 1))\n",
    "plt.show()"
   ]
  },
  {
   "cell_type": "code",
   "execution_count": null,
   "metadata": {},
   "outputs": [],
   "source": [
    "fig, ax = plt.subplots(figsize=(8, 6))\n",
    "\n",
    "ax.plot([0,1,2,3,4],[0,2,4,6,8], label=\"double_yokhr\")\n",
    "ax.plot([0,1,2,3,4],[0,1,2,3,4], label=\"yokhr\",color=\"red\")\n",
    "\n",
    "\n",
    "plt.legend()"
   ]
  },
  {
   "cell_type": "code",
   "execution_count": null,
   "metadata": {},
   "outputs": [],
   "source": [
    "dct_f_ter"
   ]
  },
  {
   "cell_type": "code",
   "execution_count": null,
   "metadata": {},
   "outputs": [],
   "source": [
    "dct_f_ter_inv = {flight_type : interp1d(dct_f_ter[flight_type](x), x, kind=\"linear\") for flight_type in flight_types }"
   ]
  },
  {
   "cell_type": "code",
   "execution_count": null,
   "metadata": {},
   "outputs": [],
   "source": [
    "from src.utils.profiles_from_schedule_new import show_up_generator, Schedule # class for show-up generator\n",
    "test = Schedule()\n",
    "path_to_6k_sched = r\"/home/antoine/projects/KAPpaxsim/KAPpaxsim/data/processed/Schedule (30th terminal peak, 6000 pax)_PROCESSED.xlsx\"\n",
    "test.from_path(path=path_to_6k_sched)\n",
    "test.cleanup()\n",
    "test.filter()"
   ]
  },
  {
   "cell_type": "code",
   "execution_count": null,
   "metadata": {},
   "outputs": [],
   "source": [
    "# only FSC flights\n",
    "# our schedule is stored in test.data\n",
    "\n",
    "# we need a column \"show_up_category\" in the schedule dataframe\n",
    "list_time_Pax = []\n",
    "list_flights = []\n",
    "list_ST = []\n",
    "list_category = []\n",
    "\n",
    "# I want to create a table like:\n",
    "#     \"Flight Number\"\n",
    "#     \"time\": pax show-up time\n",
    "#     \"Scheduled Time\": flight STD\n",
    "#     \"Category\": type (eg. early, china. fsc, LCC)"
   ]
  },
  {
   "cell_type": "code",
   "execution_count": null,
   "metadata": {},
   "outputs": [],
   "source": [
    "test.schedule.head(n=1)"
   ]
  },
  {
   "cell_type": "code",
   "execution_count": null,
   "metadata": {},
   "outputs": [],
   "source": [
    "test.schedule['PAX_SUM FC'].replace('-',0,inplace=True)"
   ]
  },
  {
   "cell_type": "code",
   "execution_count": null,
   "metadata": {},
   "outputs": [],
   "source": [
    "# important: boolean indexing on DataFrames\n",
    "mask_LCC = test.airline_code[\"FSC / LCC\"] == \"LCC\"\n",
    "test.airline_code[mask_LCC]"
   ]
  },
  {
   "cell_type": "code",
   "execution_count": null,
   "metadata": {},
   "outputs": [],
   "source": [
    "test.data.head(n=2)"
   ]
  },
  {
   "cell_type": "code",
   "execution_count": null,
   "metadata": {},
   "outputs": [],
   "source": [
    "# let's define flight categories\n",
    "# first check if early\n",
    "# then check if china\n",
    "# then check if LCC\n",
    "# else, its FSC\n",
    "\n",
    "# first, let's prepare lists of LCC\n",
    "list_LCC = test.airline_code[mask_LCC][\"airline code\"].to_numpy(dtype=\"str\")\n",
    "\n",
    "# loop through schedule and test with if condtions\n",
    "\n",
    "for i in range(len(test.data)):\n",
    "    std =test.data.loc[i, \"Scheduled Time\"]\n",
    "    if std < pd.to_datetime(\n",
    "                \"2020-10-13 08:00:00\"\n",
    "            ) and std >= pd.to_datetime(\n",
    "                \"2020-10-13 02:00:00\"\n",
    "            ):\n",
    "        category = \"EARLY\"\n",
    "\n",
    "    elif test.data.loc[i, \"Intl Regions\"] == \"China\":\n",
    "        category = \"China\"\n",
    "\n",
    "    elif test.data.loc[i, \"Flight Number\"][0:2] in list_LCC:\n",
    "        category = 'LCC'\n",
    "\n",
    "    else:\n",
    "        category = \"FSC\"\n",
    "\n",
    "    test.data.loc[i,\"show_up_category\"] = category\n",
    "\n"
   ]
  },
  {
   "cell_type": "code",
   "execution_count": null,
   "metadata": {},
   "outputs": [],
   "source": [
    "\n",
    "# loop trhough each flight (= line of flight schedule)\n",
    "for i in range(len(test.data)):\n",
    "    N_flight_pax = int(test.data.loc[i, \"PAX_SUM FC\"])\n",
    "    std = test.data.loc[i, \"Scheduled Time\"]\n",
    "    show_up_category = test.data.loc[i,\"show_up_category\"]\n",
    "    flight_number = test.data.loc[i, \"Flight Number\"]\n",
    "\n",
    "    y = np.linspace(0.0001, 0.995, N_flight_pax)\n",
    "    f_ter_inv_linear = dct_f_ter_inv[show_up_category]\n",
    "\n",
    "    time_Terminal = ( \n",
    "        std.hour * 60\n",
    "        + std.minute\n",
    "        - f_ter_inv_linear(y)\n",
    "    )\n",
    "\n",
    "    for t in time_Terminal:\n",
    "        t = datetime.datetime(\n",
    "            year=2020,\n",
    "            month=10,\n",
    "            day=13,\n",
    "            hour=int((t % (24 * 60)) / 60),\n",
    "            minute=int(t % 60),\n",
    "            second=int(t % 1 * 60),\n",
    "        )\n",
    "        list_time_Pax.append(t)\n",
    "        list_flights.append(flight_number)\n",
    "        list_ST.append(std)\n",
    "        list_category.append(show_up_category)\n"
   ]
  },
  {
   "cell_type": "code",
   "execution_count": null,
   "metadata": {},
   "outputs": [],
   "source": [
    "\n",
    "dct_Pax = {\n",
    "    \"Flight Number\": list_flights,\n",
    "    \"time\": list_time_Pax,\n",
    "    \"Scheduled Time\": list_ST,\n",
    "    \"Category\": list_category,\n",
    "}\n",
    "df_Pax = pd.DataFrame(dct_Pax)"
   ]
  },
  {
   "cell_type": "code",
   "execution_count": null,
   "metadata": {},
   "outputs": [],
   "source": [
    "df_Pax['Pax']=1"
   ]
  },
  {
   "cell_type": "code",
   "execution_count": null,
   "metadata": {},
   "outputs": [],
   "source": [
    "plot = (\n",
    "    df_Pax.set_index(\"time\", drop=False)[\"Pax\"]\n",
    "    .resample(\"5min\")\n",
    "    .agg([\"sum\"])\n",
    "    .rolling(window=12, center=True)\n",
    "    .mean()\n",
    "    .dropna()\n",
    ")\n",
    "\n",
    "fig, ax = plt.subplots(figsize=(8, 5))\n",
    "ax.plot(plot * 12, label=\"total show-up\")\n",
    "\n",
    "# plot param\n",
    "xmin = pd.to_datetime(\"2020-10-13 00:00:00\")\n",
    "xmax = pd.to_datetime(\"2020-10-14 00:00:00\")\n",
    "plt.rcParams.update({\"figure.autolayout\": True})\n",
    "hours = mdates.HourLocator(interval=1)\n",
    "half_hours = mdates.MinuteLocator(byminute=[0, 30], interval=1)\n",
    "h_fmt = mdates.DateFormatter(\"%H:%M\")\n",
    "\n",
    "# formatting\n",
    "ax.set_xlim((xmin, xmax))\n",
    "ax.set_xticks(plot.index.to_list())\n",
    "ax.set_xticklabels(ax.get_xticks(), rotation=45, **{\"horizontalalignment\": \"right\"})\n",
    "ax.xaxis.set_major_locator(hours)\n",
    "ax.xaxis.set_major_formatter(h_fmt)\n",
    "ax.xaxis.set_minor_locator(half_hours)\n",
    "ax.legend(loc=\"upper left\", frameon=False)\n",
    "\n",
    "plt.show()\n"
   ]
  }
 ],
 "metadata": {
  "interpreter": {
   "hash": "b331d6a049744229637f2258750aabea04d819b3c8f417261d127d4bf870bec7"
  },
  "kernelspec": {
   "display_name": "Python 3.8.10 ('KAPpaxsim2')",
   "language": "python",
   "name": "python3"
  },
  "language_info": {
   "codemirror_mode": {
    "name": "ipython",
    "version": 3
   },
   "file_extension": ".py",
   "mimetype": "text/x-python",
   "name": "python",
   "nbconvert_exporter": "python",
   "pygments_lexer": "ipython3",
   "version": "3.8.10"
  }
 },
 "nbformat": 4,
 "nbformat_minor": 2
}
