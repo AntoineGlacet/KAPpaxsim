{
 "cells": [
  {
   "cell_type": "code",
   "execution_count": 1,
   "metadata": {},
   "outputs": [],
   "source": [
    "import numpy as np # math\n",
    "from scipy.interpolate import interp1d # interpolation 1d\n",
    "from scipy.stats import norm # normal distribution\n",
    "import matplotlib.pyplot as plt # graphs and plots\n",
    "import pandas as pd\n",
    "import datetime\n",
    "import matplotlib.dates as mdates"
   ]
  },
  {
   "cell_type": "code",
   "execution_count": 4,
   "metadata": {},
   "outputs": [],
   "source": [
    "# import of the excel with the show up profiles\n",
    "show_up_ter = pd.read_excel(\n",
    "    r\"/home/antoine/projects/KAPpaxsim/KAPpaxsim/data/raw/ADRM_param_full.xlsx\",\n",
    "    sheet_name=r\"terminal\",\n",
    "    header=1,\n",
    ")\n",
    "\n",
    "show_up_ter = show_up_ter.drop([0, 1], axis=0)\n",
    "show_up_ter = show_up_ter.reset_index(drop=True)"
   ]
  },
  {
   "cell_type": "code",
   "execution_count": 5,
   "metadata": {},
   "outputs": [
    {
     "data": {
      "text/html": [
       "<div>\n",
       "<style scoped>\n",
       "    .dataframe tbody tr th:only-of-type {\n",
       "        vertical-align: middle;\n",
       "    }\n",
       "\n",
       "    .dataframe tbody tr th {\n",
       "        vertical-align: top;\n",
       "    }\n",
       "\n",
       "    .dataframe thead th {\n",
       "        text-align: right;\n",
       "    }\n",
       "</style>\n",
       "<table border=\"1\" class=\"dataframe\">\n",
       "  <thead>\n",
       "    <tr style=\"text-align: right;\">\n",
       "      <th></th>\n",
       "      <th>time before STD</th>\n",
       "      <th>cumulative distribution FSC</th>\n",
       "      <th>cumulative distribution LCC</th>\n",
       "      <th>cumulative distribution EARLY</th>\n",
       "      <th>cumulative distribution CHINA</th>\n",
       "      <th>Unnamed: 5</th>\n",
       "      <th>density distribution FSC</th>\n",
       "    </tr>\n",
       "  </thead>\n",
       "  <tbody>\n",
       "    <tr>\n",
       "      <th>0</th>\n",
       "      <td>0</td>\n",
       "      <td>1.000000</td>\n",
       "      <td>1.000000</td>\n",
       "      <td>1.000000</td>\n",
       "      <td>1.000000</td>\n",
       "      <td>NaN</td>\n",
       "      <td>0.000000</td>\n",
       "    </tr>\n",
       "    <tr>\n",
       "      <th>1</th>\n",
       "      <td>5</td>\n",
       "      <td>0.995940</td>\n",
       "      <td>0.996565</td>\n",
       "      <td>0.999217</td>\n",
       "      <td>0.998726</td>\n",
       "      <td>NaN</td>\n",
       "      <td>0.000177</td>\n",
       "    </tr>\n",
       "    <tr>\n",
       "      <th>2</th>\n",
       "      <td>10</td>\n",
       "      <td>0.994967</td>\n",
       "      <td>0.995668</td>\n",
       "      <td>0.998765</td>\n",
       "      <td>0.998304</td>\n",
       "      <td>NaN</td>\n",
       "      <td>0.000214</td>\n",
       "    </tr>\n",
       "    <tr>\n",
       "      <th>3</th>\n",
       "      <td>15</td>\n",
       "      <td>0.993790</td>\n",
       "      <td>0.994565</td>\n",
       "      <td>0.998085</td>\n",
       "      <td>0.997759</td>\n",
       "      <td>NaN</td>\n",
       "      <td>0.000258</td>\n",
       "    </tr>\n",
       "    <tr>\n",
       "      <th>4</th>\n",
       "      <td>20</td>\n",
       "      <td>0.992377</td>\n",
       "      <td>0.993221</td>\n",
       "      <td>0.997081</td>\n",
       "      <td>0.997060</td>\n",
       "      <td>NaN</td>\n",
       "      <td>0.000309</td>\n",
       "    </tr>\n",
       "  </tbody>\n",
       "</table>\n",
       "</div>"
      ],
      "text/plain": [
       "  time before STD  cumulative distribution FSC  cumulative distribution LCC  \\\n",
       "0               0                     1.000000                     1.000000   \n",
       "1               5                     0.995940                     0.996565   \n",
       "2              10                     0.994967                     0.995668   \n",
       "3              15                     0.993790                     0.994565   \n",
       "4              20                     0.992377                     0.993221   \n",
       "\n",
       "   cumulative distribution EARLY  cumulative distribution CHINA  Unnamed: 5  \\\n",
       "0                       1.000000                       1.000000         NaN   \n",
       "1                       0.999217                       0.998726         NaN   \n",
       "2                       0.998765                       0.998304         NaN   \n",
       "3                       0.998085                       0.997759         NaN   \n",
       "4                       0.997081                       0.997060         NaN   \n",
       "\n",
       "   density distribution FSC  \n",
       "0                  0.000000  \n",
       "1                  0.000177  \n",
       "2                  0.000214  \n",
       "3                  0.000258  \n",
       "4                  0.000309  "
      ]
     },
     "execution_count": 5,
     "metadata": {},
     "output_type": "execute_result"
    }
   ],
   "source": [
    "show_up_ter.head()"
   ]
  },
  {
   "cell_type": "code",
   "execution_count": 6,
   "metadata": {},
   "outputs": [],
   "source": [
    "# interpolation of show_up profiles and inverse functions\n",
    "x = show_up_ter[\"time before STD\"].to_numpy(dtype=float)"
   ]
  },
  {
   "cell_type": "code",
   "execution_count": 7,
   "metadata": {},
   "outputs": [],
   "source": [
    "flight_types = ['FSC',\"LCC\",\"EARLY\",\"CHINA\"]\n",
    "\n",
    "dct_y = {\n",
    "    flight_type : show_up_ter[\"cumulative distribution {}\".format(flight_type)] for flight_type in flight_types\n",
    "}"
   ]
  },
  {
   "cell_type": "code",
   "execution_count": 8,
   "metadata": {},
   "outputs": [],
   "source": [
    "dct_f_ter = {\n",
    "    flight_type : interp1d(x, dct_y[flight_type], kind=\"linear\") for flight_type in flight_types\n",
    "}"
   ]
  },
  {
   "cell_type": "code",
   "execution_count": 9,
   "metadata": {},
   "outputs": [
    {
     "data": {
      "image/png": "[encoded data removed]",
      "text/plain": [
       "<Figure size 576x432 with 1 Axes>"
      ]
     },
     "metadata": {
      "needs_background": "light"
     },
     "output_type": "display_data"
    }
   ],
   "source": [
    "fig, ax = plt.subplots(figsize=(8, 6))\n",
    "x = np.linspace(0, 360, 100)\n",
    "\n",
    "for key in dct_f_ter:\n",
    "    ax.plot(x, dct_f_ter[key](x), label=\"show-up {}\".format(key))\n",
    "\n",
    "ax.invert_xaxis()\n",
    "\n",
    "ax.legend()\n",
    "# ax.set(xlim=(0, 360), ylim=(0, 1))\n",
    "plt.show()"
   ]
  },
  {
   "cell_type": "code",
   "execution_count": 10,
   "metadata": {},
   "outputs": [
    {
     "data": {
      "text/plain": [
       "<matplotlib.legend.Legend at 0x7f1d6409eb50>"
      ]
     },
     "execution_count": 10,
     "metadata": {},
     "output_type": "execute_result"
    },
    {
     "data": {
      "image/png": "[encoded data removed]",
      "text/plain": [
       "<Figure size 576x432 with 1 Axes>"
      ]
     },
     "metadata": {
      "needs_background": "light"
     },
     "output_type": "display_data"
    }
   ],
   "source": [
    "fig, ax = plt.subplots(figsize=(8, 6))\n",
    "\n",
    "ax.plot([0,1,2,3,4],[0,2,4,6,8], label=\"double_yokhr\")\n",
    "ax.plot([0,1,2,3,4],[0,1,2,3,4], label=\"yokhr\",color=\"red\")\n",
    "\n",
    "\n",
    "plt.legend()"
   ]
  },
  {
   "cell_type": "code",
   "execution_count": 11,
   "metadata": {},
   "outputs": [
    {
     "data": {
      "text/plain": [
       "{'FSC': <scipy.interpolate.interpolate.interp1d at 0x7f1d1f202ea0>,\n",
       " 'LCC': <scipy.interpolate.interpolate.interp1d at 0x7f1d1f214590>,\n",
       " 'EARLY': <scipy.interpolate.interpolate.interp1d at 0x7f1d1f7ab040>,\n",
       " 'CHINA': <scipy.interpolate.interpolate.interp1d at 0x7f1d1efef900>}"
      ]
     },
     "execution_count": 11,
     "metadata": {},
     "output_type": "execute_result"
    }
   ],
   "source": [
    "dct_f_ter"
   ]
  },
  {
   "cell_type": "code",
   "execution_count": 12,
   "metadata": {},
   "outputs": [],
   "source": [
    "dct_f_ter_inv = {flight_type : interp1d(dct_f_ter[flight_type](x), x, kind=\"linear\") for flight_type in flight_types }"
   ]
  },
  {
   "cell_type": "code",
   "execution_count": 16,
   "metadata": {},
   "outputs": [],
   "source": [
    "from src.utils.profiles_from_schedule_new import show_up_generator, Schedule # class for show-up generator\n",
    "test = Schedule()\n",
    "path_to_6k_sched = r\"/home/antoine/projects/KAPpaxsim/KAPpaxsim/data/processed/Schedule (30th terminal peak, 6000 pax)_PROCESSED.xlsx\"\n",
    "test.from_path(path=path_to_6k_sched)\n",
    "test.cleanup()\n",
    "test.filter()"
   ]
  },
  {
   "cell_type": "code",
   "execution_count": 18,
   "metadata": {},
   "outputs": [],
   "source": [
    "# only FSC flights\n",
    "# our schedule is stored in test.data\n",
    "\n",
    "# we need a column \"show_up_category\" in the schedule dataframe\n",
    "list_time_Pax = []\n",
    "list_flights = []\n",
    "list_ST = []\n",
    "list_category = []\n",
    "\n",
    "# I want to create a table like:\n",
    "#     \"Flight Number\"\n",
    "#     \"time\": pax show-up time\n",
    "#     \"Scheduled Time\": flight STD\n",
    "#     \"Category\": type (eg. early, china. fsc, LCC)"
   ]
  },
  {
   "cell_type": "code",
   "execution_count": 20,
   "metadata": {},
   "outputs": [
    {
     "data": {
      "text/html": [
       "<div>\n",
       "<style scoped>\n",
       "    .dataframe tbody tr th:only-of-type {\n",
       "        vertical-align: middle;\n",
       "    }\n",
       "\n",
       "    .dataframe tbody tr th {\n",
       "        vertical-align: top;\n",
       "    }\n",
       "\n",
       "    .dataframe thead th {\n",
       "        text-align: right;\n",
       "    }\n",
       "</style>\n",
       "<table border=\"1\" class=\"dataframe\">\n",
       "  <thead>\n",
       "    <tr style=\"text-align: right;\">\n",
       "      <th></th>\n",
       "      <th>index</th>\n",
       "      <th>Unnamed: 0</th>\n",
       "      <th>A/D</th>\n",
       "      <th>T1/T2(MM/9C/7C/TW)</th>\n",
       "      <th>Intl Regions</th>\n",
       "      <th>Category(P/C/O)</th>\n",
       "      <th>Sector</th>\n",
       "      <th>Flight Number</th>\n",
       "      <th>SEATS FC</th>\n",
       "      <th>PAX_SUM FC</th>\n",
       "      <th>Flight Date</th>\n",
       "      <th>Scheduled Time</th>\n",
       "      <th>datetime</th>\n",
       "    </tr>\n",
       "  </thead>\n",
       "  <tbody>\n",
       "    <tr>\n",
       "      <th>0</th>\n",
       "      <td>263</td>\n",
       "      <td>263</td>\n",
       "      <td>D</td>\n",
       "      <td>T1</td>\n",
       "      <td>unknown</td>\n",
       "      <td>P</td>\n",
       "      <td>I</td>\n",
       "      <td>TAX 611</td>\n",
       "      <td>377</td>\n",
       "      <td>323.95</td>\n",
       "      <td>2017-03-19</td>\n",
       "      <td>2020-10-13 00:10:00</td>\n",
       "      <td>2017-03-19 00:10:00</td>\n",
       "    </tr>\n",
       "  </tbody>\n",
       "</table>\n",
       "</div>"
      ],
      "text/plain": [
       "   index  Unnamed: 0 A/D T1/T2(MM/9C/7C/TW) Intl Regions Category(P/C/O)  \\\n",
       "0    263         263   D                 T1      unknown               P   \n",
       "\n",
       "  Sector Flight Number SEATS FC  PAX_SUM FC Flight Date      Scheduled Time  \\\n",
       "0      I      TAX 611       377      323.95  2017-03-19 2020-10-13 00:10:00   \n",
       "\n",
       "             datetime  \n",
       "0 2017-03-19 00:10:00  "
      ]
     },
     "execution_count": 20,
     "metadata": {},
     "output_type": "execute_result"
    }
   ],
   "source": [
    "test.schedule.head(n=1)"
   ]
  },
  {
   "cell_type": "code",
   "execution_count": 21,
   "metadata": {},
   "outputs": [],
   "source": [
    "test.schedule['PAX_SUM FC'].replace('-',0,inplace=True)"
   ]
  },
  {
   "cell_type": "code",
   "execution_count": 22,
   "metadata": {},
   "outputs": [
    {
     "ename": "AttributeError",
     "evalue": "'Schedule' object has no attribute 'airline_code'",
     "output_type": "error",
     "traceback": [
      "\u001b[0;31m---------------------------------------------------------------------------\u001b[0m",
      "\u001b[0;31mAttributeError\u001b[0m                            Traceback (most recent call last)",
      "\u001b[0;32m/tmp/ipykernel_356/650541594.py\u001b[0m in \u001b[0;36m<module>\u001b[0;34m\u001b[0m\n\u001b[1;32m      1\u001b[0m \u001b[0;31m# important: boolean indexing on DataFrames\u001b[0m\u001b[0;34m\u001b[0m\u001b[0;34m\u001b[0m\u001b[0;34m\u001b[0m\u001b[0m\n\u001b[0;32m----> 2\u001b[0;31m \u001b[0mmask_LCC\u001b[0m \u001b[0;34m=\u001b[0m \u001b[0mtest\u001b[0m\u001b[0;34m.\u001b[0m\u001b[0mairline_code\u001b[0m\u001b[0;34m[\u001b[0m\u001b[0;34m\"FSC / LCC\"\u001b[0m\u001b[0;34m]\u001b[0m \u001b[0;34m==\u001b[0m \u001b[0;34m\"LCC\"\u001b[0m\u001b[0;34m\u001b[0m\u001b[0;34m\u001b[0m\u001b[0m\n\u001b[0m\u001b[1;32m      3\u001b[0m \u001b[0mtest\u001b[0m\u001b[0;34m.\u001b[0m\u001b[0mairline_code\u001b[0m\u001b[0;34m[\u001b[0m\u001b[0mmask_LCC\u001b[0m\u001b[0;34m]\u001b[0m\u001b[0;34m\u001b[0m\u001b[0;34m\u001b[0m\u001b[0m\n",
      "\u001b[0;31mAttributeError\u001b[0m: 'Schedule' object has no attribute 'airline_code'"
     ]
    }
   ],
   "source": [
    "# important: boolean indexing on DataFrames\n",
    "mask_LCC = test.airline_code[\"FSC / LCC\"] == \"LCC\"\n",
    "test.airline_code[mask_LCC]"
   ]
  },
  {
   "cell_type": "code",
   "execution_count": null,
   "metadata": {},
   "outputs": [],
   "source": [
    "test.data.head(n=2)"
   ]
  },
  {
   "cell_type": "code",
   "execution_count": null,
   "metadata": {},
   "outputs": [],
   "source": [
    "# let's define flight categories\n",
    "# first check if early\n",
    "# then check if china\n",
    "# then check if LCC\n",
    "# else, its FSC\n",
    "\n",
    "# first, let's prepare lists of LCC\n",
    "list_LCC = test.airline_code[mask_LCC][\"airline code\"].to_numpy(dtype=\"str\")\n",
    "\n",
    "# loop through schedule and test with if condtions\n",
    "\n",
    "for i in range(len(test.data)):\n",
    "    std =test.data.loc[i, \"Scheduled Time\"]\n",
    "    if std < pd.to_datetime(\n",
    "                \"2020-10-13 08:00:00\"\n",
    "            ) and std >= pd.to_datetime(\n",
    "                \"2020-10-13 02:00:00\"\n",
    "            ):\n",
    "        category = \"EARLY\"\n",
    "\n",
    "    elif test.data.loc[i, \"Intl Regions\"] == \"China\":\n",
    "        category = \"China\"\n",
    "\n",
    "    elif test.data.loc[i, \"Flight Number\"][0:2] in list_LCC:\n",
    "        category = 'LCC'\n",
    "\n",
    "    else:\n",
    "        category = \"FSC\"\n",
    "\n",
    "    test.data.loc[i,\"show_up_category\"] = category\n",
    "\n"
   ]
  },
  {
   "cell_type": "code",
   "execution_count": null,
   "metadata": {},
   "outputs": [],
   "source": [
    "\n",
    "# loop trhough each flight (= line of flight schedule)\n",
    "for i in range(len(test.data)):\n",
    "    N_flight_pax = int(test.data.loc[i, \"PAX_SUM FC\"])\n",
    "    std = test.data.loc[i, \"Scheduled Time\"]\n",
    "    show_up_category = test.data.loc[i,\"show_up_category\"]\n",
    "    flight_number = test.data.loc[i, \"Flight Number\"]\n",
    "\n",
    "    y = np.linspace(0.0001, 0.995, N_flight_pax)\n",
    "    f_ter_inv_linear = dct_f_ter_inv[show_up_category]\n",
    "\n",
    "    time_Terminal = ( \n",
    "        std.hour * 60\n",
    "        + std.minute\n",
    "        - f_ter_inv_linear(y)\n",
    "    )\n",
    "\n",
    "    for t in time_Terminal:\n",
    "        t = datetime.datetime(\n",
    "            year=2020,\n",
    "            month=10,\n",
    "            day=13,\n",
    "            hour=int((t % (24 * 60)) / 60),\n",
    "            minute=int(t % 60),\n",
    "            second=int(t % 1 * 60),\n",
    "        )\n",
    "        list_time_Pax.append(t)\n",
    "        list_flights.append(flight_number)\n",
    "        list_ST.append(std)\n",
    "        list_category.append(show_up_category)\n"
   ]
  },
  {
   "cell_type": "code",
   "execution_count": null,
   "metadata": {},
   "outputs": [],
   "source": [
    "\n",
    "dct_Pax = {\n",
    "    \"Flight Number\": list_flights,\n",
    "    \"time\": list_time_Pax,\n",
    "    \"Scheduled Time\": list_ST,\n",
    "    \"Category\": list_category,\n",
    "}\n",
    "df_Pax = pd.DataFrame(dct_Pax)"
   ]
  },
  {
   "cell_type": "code",
   "execution_count": null,
   "metadata": {},
   "outputs": [],
   "source": [
    "df_Pax['Pax']=1"
   ]
  },
  {
   "cell_type": "code",
   "execution_count": null,
   "metadata": {},
   "outputs": [],
   "source": [
    "plot = (\n",
    "    df_Pax.set_index(\"time\", drop=False)[\"Pax\"]\n",
    "    .resample(\"5min\")\n",
    "    .agg([\"sum\"])\n",
    "    .rolling(window=12, center=True)\n",
    "    .mean()\n",
    "    .dropna()\n",
    ")\n",
    "\n",
    "fig, ax = plt.subplots(figsize=(8, 5))\n",
    "ax.plot(plot * 12, label=\"total show-up\")\n",
    "\n",
    "# plot param\n",
    "xmin = pd.to_datetime(\"2020-10-13 00:00:00\")\n",
    "xmax = pd.to_datetime(\"2020-10-14 00:00:00\")\n",
    "plt.rcParams.update({\"figure.autolayout\": True})\n",
    "hours = mdates.HourLocator(interval=1)\n",
    "half_hours = mdates.MinuteLocator(byminute=[0, 30], interval=1)\n",
    "h_fmt = mdates.DateFormatter(\"%H:%M\")\n",
    "\n",
    "# formatting\n",
    "ax.set_xlim((xmin, xmax))\n",
    "ax.set_xticks(plot.index.to_list())\n",
    "ax.set_xticklabels(ax.get_xticks(), rotation=45, **{\"horizontalalignment\": \"right\"})\n",
    "ax.xaxis.set_major_locator(hours)\n",
    "ax.xaxis.set_major_formatter(h_fmt)\n",
    "ax.xaxis.set_minor_locator(half_hours)\n",
    "ax.legend(loc=\"upper left\", frameon=False)\n",
    "\n",
    "plt.show()\n"
   ]
  }
 ],
 "metadata": {
  "interpreter": {
   "hash": "b331d6a049744229637f2258750aabea04d819b3c8f417261d127d4bf870bec7"
  },
  "kernelspec": {
   "display_name": "Python 3.8.10 ('KAPpaxsim2')",
   "language": "python",
   "name": "python3"
  },
  "language_info": {
   "codemirror_mode": {
    "name": "ipython",
    "version": 3
   },
   "file_extension": ".py",
   "mimetype": "text/x-python",
   "name": "python",
   "nbconvert_exporter": "python",
   "pygments_lexer": "ipython3",
   "version": "3.8.10"
  },
  "orig_nbformat": 4
 },
 "nbformat": 4,
 "nbformat_minor": 2
}
