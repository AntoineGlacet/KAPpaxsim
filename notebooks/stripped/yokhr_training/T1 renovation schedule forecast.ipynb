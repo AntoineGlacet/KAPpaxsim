{
 "cells": [
  {
   "cell_type": "markdown",
   "id": "d8924977",
   "metadata": {},
   "source": [
    "# Process the original file to match function"
   ]
  },
  {
   "cell_type": "code",
   "execution_count": null,
   "id": "4dd4b682",
   "metadata": {},
   "outputs": [],
   "source": [
    "# to auto-reload the imports\n",
    "# if we change something in our functions\n",
    "%load_ext autoreload\n",
    "%autoreload 2\n",
    "\n",
    "%load_ext nb_black\n",
    "\n",
    "# import the libraries required to do the work\n",
    "import numpy as np\n",
    "import matplotlib.pyplot as plt\n",
    "import matplotlib.dates as mdates\n",
    "from matplotlib.ticker import FuncFormatter\n",
    "import pandas as pd\n",
    "import seaborn as sns\n",
    "import datetime\n",
    "from scipy.stats import norm\n",
    "from scipy.interpolate import interp1d\n",
    "import os\n",
    "from tqdm.notebook import tqdm\n",
    "import re\n",
    "\n",
    "from src.utils.sharepoint import get_T1_ren_6kPax_schedule\n",
    "from decouple import AutoConfig\n",
    "from pathlib import Path"
   ]
  },
  {
   "cell_type": "code",
   "execution_count": null,
   "id": "31e4cbfe",
   "metadata": {},
   "outputs": [],
   "source": [
    "# get the schedule from Sharepoint\n",
    "# app key expired for SharePoint\n",
    "# get_T1_ren_6kPax_schedule()\n",
    "\n",
    "# get the paths to config (could be made as a function for notebooks)\n",
    "\n",
    "DOTENV_FILE_PATH = Path(os.getcwd()) / \"../../../data/secret/.env\"\n",
    "config = AutoConfig(search_path=DOTENV_FILE_PATH)\n",
    "\n",
    "path_relative = config(\"T1_ren_6kPax_schedule_path\")\n",
    "\n",
    "path_data = Path(os.getcwd()) / \"..\" / \"..\" / \"..\" / path_relative"
   ]
  },
  {
   "cell_type": "code",
   "execution_count": null,
   "id": "de2866ad",
   "metadata": {},
   "outputs": [],
   "source": [
    "# define a function to insert space in flight number\n",
    "def insert_space_after_letters(test_str: str):\n",
    "    res = re.sub(\"[A-Za-z]+\", lambda ele: ele[0] + \" \", test_str)\n",
    "    return res"
   ]
  },
  {
   "cell_type": "code",
   "execution_count": null,
   "id": "bcb02edd",
   "metadata": {},
   "outputs": [],
   "source": [
    "# import the schedule from the excel file produced by Aero department\n",
    "# data_arr = pd.read_excel(\n",
    "#     path_data,\n",
    "#     header=0,\n",
    "#     sheet_name=\"ARR\",\n",
    "# )\n",
    "\n",
    "data_dep = pd.read_excel(\n",
    "    path_data,\n",
    "    header=0,\n",
    "    sheet_name=\"DEP\",\n",
    ")"
   ]
  },
  {
   "cell_type": "code",
   "execution_count": null,
   "id": "89ff2fe8",
   "metadata": {},
   "outputs": [],
   "source": [
    "# edit data to match application format\n",
    "data_arr_processed = data_arr.copy()\n",
    "data_arr_processed[\"A/D\"] = \"A\"\n",
    "data_arr_processed[\"T1/T2(MM/9C/7C/TW)\"] = \"T1\"\n",
    "data_arr_processed[\"Int'l Regions\"] = \"unknown\"\n",
    "\n",
    "dct_name_change = {\n",
    "    \"貨客区分\": \"Category(P/C/O)\",\n",
    "    \"DI区分\": \"Sector\",\n",
    "    \"航空機識別\": \"Flight Number\",  # <- to be split with space between letters and digits\n",
    "    \"座席数\": \"SEATS FC\",\n",
    "    \"搭乗者数\": \"Pax_SUM FC\",\n",
    "    \"到着予定日\": \"Flight Date\",\n",
    "    \"STA\": \"Scheduled Time\",\n",
    "}\n",
    "\n",
    "data_arr_processed.rename(columns=dct_name_change, inplace=True)\n",
    "\n",
    "data_arr_processed[\"Flight Number\"] = data_arr_processed[\"Flight Number\"].apply(\n",
    "    insert_space_after_letters\n",
    ")"
   ]
  },
  {
   "cell_type": "code",
   "execution_count": null,
   "id": "50aa637d",
   "metadata": {},
   "outputs": [],
   "source": [
    "# problem : no Seats and Pax number for arrival flights...\n",
    "# keep only relevant columns\n",
    "# data_arr_processed = data_arr_processed[\n",
    "#    [\n",
    "#        \"A/D\",\n",
    "#        \"T1/T2(MM/9C/7C/TW)\",\n",
    "#        \"Int'l Regions\",\n",
    "#        \"Category(P/C/O)\",\n",
    "#        \"Sector\",\n",
    "#        \"Flight Number\",\n",
    "#        \"SEATS FC\",\n",
    "#        \"Pax_SUM FC\",\n",
    "#        \"Flight Date\",\n",
    "#        \"Scheduled Time\",\n",
    "#    ]\n",
    "# ]"
   ]
  },
  {
   "cell_type": "code",
   "execution_count": null,
   "id": "3744a334",
   "metadata": {},
   "outputs": [],
   "source": [
    "# edit data to match application format\n",
    "data_dep_processed = data_dep.copy()\n",
    "\n",
    "data_dep_processed[\"A/D\"] = \"D\"\n",
    "data_dep_processed[\"T1/T2(MM/9C/7C/TW)\"] = \"T1\"\n",
    "data_dep_processed[\"Intl Regions\"] = \"unknown\"\n",
    "\n",
    "dct_name_change = {\n",
    "    \"貨客区分\": \"Category(P/C/O)\",\n",
    "    \"DI区分\": \"Sector\",\n",
    "    \"航空機識別\": \"Flight Number\",  # <- to be split with space between letters and digits\n",
    "    \"座席数\": \"SEATS FC\",\n",
    "    \"搭乗者数\": \"PAX_SUM FC\",\n",
    "    \"出発予定日\": \"Flight Date\",\n",
    "    \"STD\": \"Scheduled Time\",\n",
    "}\n",
    "\n",
    "data_dep_processed.rename(columns=dct_name_change, inplace=True)"
   ]
  },
  {
   "cell_type": "code",
   "execution_count": null,
   "id": "ebe4cc10",
   "metadata": {},
   "outputs": [],
   "source": [
    "data_dep_processed[\"Flight Number\"] = data_dep_processed[\"Flight Number\"].apply(\n",
    "    insert_space_after_letters\n",
    ")"
   ]
  },
  {
   "cell_type": "code",
   "execution_count": null,
   "id": "c231a431",
   "metadata": {},
   "outputs": [],
   "source": [
    "# keep only relevant columns\n",
    "data_dep_processed = data_dep_processed[\n",
    "    [\n",
    "        \"A/D\",\n",
    "        \"T1/T2(MM/9C/7C/TW)\",\n",
    "        \"Intl Regions\",\n",
    "        \"Category(P/C/O)\",\n",
    "        \"Sector\",\n",
    "        \"Flight Number\",\n",
    "        \"SEATS FC\",\n",
    "        \"PAX_SUM FC\",\n",
    "        \"Flight Date\",\n",
    "        \"Scheduled Time\",\n",
    "    ]\n",
    "]"
   ]
  },
  {
   "cell_type": "code",
   "execution_count": null,
   "id": "1b077721",
   "metadata": {},
   "outputs": [],
   "source": [
    "type(data_dep_processed[\"Scheduled Time\"][0])"
   ]
  },
  {
   "cell_type": "code",
   "execution_count": null,
   "id": "fcb00abc",
   "metadata": {},
   "outputs": [],
   "source": [
    "data_dep_processed[\"datetime\"] = pd.to_datetime(\n",
    "    data_dep_processed[\"Flight Date\"].astype(\"str\")\n",
    "    + \" \"\n",
    "    + data_dep_processed[\"Scheduled Time\"].astype(\"str\")\n",
    ")"
   ]
  },
  {
   "cell_type": "code",
   "execution_count": null,
   "id": "0787544b",
   "metadata": {},
   "outputs": [],
   "source": [
    "type(data_dep_processed[\"datetime\"][0])"
   ]
  },
  {
   "cell_type": "code",
   "execution_count": null,
   "id": "ba15b1d1",
   "metadata": {},
   "outputs": [],
   "source": [
    "data_dep_processed[mask_date].set_index(\"datetime\")[\"PAX_SUM FC\"].replace(\n",
    "    \"-\", value=0\n",
    ").resample(\"60min\").agg(\"sum\").plot()"
   ]
  },
  {
   "cell_type": "code",
   "execution_count": null,
   "id": "fb030ec9",
   "metadata": {},
   "outputs": [],
   "source": [
    "# correct input mistake (?)\n",
    "mask_replace = data_dep_processed[\"PAX_SUM FC\"] == \"-\"\n",
    "data_dep_processed.loc[mask_replace, \"PAX_SUM FC\"] = 0\n",
    "\n",
    "mask_replace = data_dep_processed[\"SEATS FC\"] == \"-\"\n",
    "data_dep_processed.loc[mask_replace, \"SEATS FC\"] = 0"
   ]
  },
  {
   "cell_type": "code",
   "execution_count": null,
   "id": "5ccf075d",
   "metadata": {},
   "outputs": [],
   "source": [
    "# fill in the seats number where missing\n",
    "def custom_func_seats(pax):\n",
    "    if pax == 147.25:\n",
    "        seats = 180\n",
    "    if pax == 266:\n",
    "        seats = 285\n",
    "    return seats\n",
    "\n",
    "\n",
    "mask_NEW_no_seats = (\n",
    "    data_dep_processed[\"Flight Number\"].apply(lambda x: x.split(\" \")[0]) == \"NEW\"\n",
    ") & (data_dep_processed[\"SEATS FC\"].apply(lambda x: np.isnan(x)))\n",
    "\n",
    "data_dep_processed.loc[mask_NEW_no_seats, \"SEATS FC\"] = data_dep_processed.loc[\n",
    "    mask_NEW_no_seats, \"PAX_SUM FC\"\n",
    "].apply(lambda x: custom_func_seats(x))"
   ]
  },
  {
   "cell_type": "code",
   "execution_count": null,
   "id": "dcf5a062",
   "metadata": {},
   "outputs": [],
   "source": [
    "# we should add a step to merge the two in one\n",
    "# as we do not have seats and Pax for T1 schedule, let's forget about it for now"
   ]
  },
  {
   "cell_type": "code",
   "execution_count": null,
   "id": "716bf4ef",
   "metadata": {},
   "outputs": [],
   "source": [
    "output_path = (\n",
    "    Path(os.getcwd())\n",
    "    / \"../../../data/processed/Schedule (30th terminal peak, 6000 pax)_PROCESSED.xlsx\"\n",
    ")\n",
    "\n",
    "writer = pd.ExcelWriter(\n",
    "    output_path,\n",
    ")\n",
    "\n",
    "with writer as writer:\n",
    "    data_dep_processed.to_excel(writer, sheet_name=\"schedule\")"
   ]
  }
 ],
 "metadata": {
  "hide_input": false,
  "interpreter": {
   "hash": "b331d6a049744229637f2258750aabea04d819b3c8f417261d127d4bf870bec7"
  },
  "kernelspec": {
   "display_name": "Python 3.8.10 ('KAPpaxsim2')",
   "language": "python",
   "name": "python3"
  },
  "language_info": {
   "codemirror_mode": {
    "name": "ipython",
    "version": 3
   },
   "file_extension": ".py",
   "mimetype": "text/x-python",
   "name": "python",
   "nbconvert_exporter": "python",
   "pygments_lexer": "ipython3",
   "version": "3.8.10"
  },
  "toc": {
   "base_numbering": 1,
   "nav_menu": {},
   "number_sections": true,
   "sideBar": true,
   "skip_h1_title": false,
   "title_cell": "Table of Contents",
   "title_sidebar": "Contents",
   "toc_cell": false,
   "toc_position": {},
   "toc_section_display": true,
   "toc_window_display": false
  },
  "varInspector": {
   "cols": {
    "lenName": 16,
    "lenType": 16,
    "lenVar": 40
   },
   "kernels_config": {
    "python": {
     "delete_cmd_postfix": "",
     "delete_cmd_prefix": "del ",
     "library": "var_list.py",
     "varRefreshCmd": "print(var_dic_list())"
    },
    "r": {
     "delete_cmd_postfix": ") ",
     "delete_cmd_prefix": "rm(",
     "library": "var_list.r",
     "varRefreshCmd": "cat(var_dic_list()) "
    }
   },
   "types_to_exclude": [
    "module",
    "function",
    "builtin_function_or_method",
    "instance",
    "_Feature"
   ],
   "window_display": false
  }
 },
 "nbformat": 4,
 "nbformat_minor": 5
}
