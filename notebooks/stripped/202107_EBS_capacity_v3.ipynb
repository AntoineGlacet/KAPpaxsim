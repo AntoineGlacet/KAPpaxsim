{
 "cells": [
  {
   "cell_type": "markdown",
   "id": "719ce3f6",
   "metadata": {},
   "source": [
    "# imports"
   ]
  },
  {
   "cell_type": "code",
   "execution_count": 1,
   "id": "8f45ac99",
   "metadata": {
    "ExecuteTime": {
     "end_time": "2021-07-13T15:25:12.292442Z",
     "start_time": "2021-07-13T15:25:10.291837Z"
    }
   },
   "outputs": [
    {
     "name": "stderr",
     "output_type": "stream",
     "text": [
      "/home/antoine/miniconda3/envs/KAPpaxsim2/lib/python3.8/site-packages/ray/autoscaler/_private/cli_logger.py:57: FutureWarning: Not all Ray CLI dependencies were found. In Ray 1.4+, the Ray CLI, autoscaler, and dashboard will only be usable via `pip install 'ray[default]'`. Please update your install command.\n",
      "  warnings.warn(\n"
     ]
    }
   ],
   "source": [
    "import datetime\n",
    "import math\n",
    "import os\n",
    "import random\n",
    "import time\n",
    "\n",
    "import matplotlib.dates as mdates\n",
    "import matplotlib.pyplot as plt\n",
    "import matplotlib.ticker as mtick\n",
    "import numpy as np\n",
    "import pandas as pd\n",
    "import seaborn as sns\n",
    "from matplotlib.lines import Line2D\n",
    "from matplotlib.patches import Patch\n",
    "from scipy.optimize import OptimizeResult, brute, minimize, minimize_scalar\n",
    "from tqdm.notebook import tqdm\n",
    "from decouple import AutoConfig\n",
    "from pathlib import Path\n",
    "from math import ceil\n",
    "import ray\n",
    "\n",
    "from src.utils.profiles import generate_dep_Pax_Counters, show_up_function\n",
    "from src.utils.profiles_from_schedule import (\n",
    "    generate_dep_Pax_Counters as custom_generate_dep_Pax_Counters,\n",
    ")\n",
    "\n",
    "from src.simfunc.KIX_T1d import KIX_T1d, univariate_cost_function_generator_T1d_N\n",
    "from src.simfunc.KIX_T1d_CUSBD import (\n",
    "    KIX_T1d_CUSBD,\n",
    "    univariate_cost_function_generator_T1d_CUSBD_N,\n",
    ")\n",
    "\n",
    "from src.simfunc.KIX_T1d_CUSBD import (\n",
    "    cost_function_T1d_CUSBD_2var_modern_pax_ratio_CUSBD_opening_duration as cost_2_var,\n",
    ")\n",
    "\n",
    "from src.utils.optimizers import custcallback, custmin\n",
    "from src.utils.helpers import calculate_EBS_LBC, calculate_avg_dwell_time,calculate_EBS_modern_pax_only"
   ]
  },
  {
   "cell_type": "code",
   "execution_count": 5,
   "id": "6e616986",
   "metadata": {
    "ExecuteTime": {
     "end_time": "2021-07-13T14:23:43.068034Z",
     "start_time": "2021-07-13T14:23:43.015548Z"
    }
   },
   "outputs": [
    {
     "name": "stdout",
     "output_type": "stream",
     "text": [
      "The autoreload extension is already loaded. To reload it, use:\n",
      "  %reload_ext autoreload\n",
      "The nb_black extension is already loaded. To reload it, use:\n",
      "  %reload_ext nb_black\n"
     ]
    },
    {
     "data": {
      "application/javascript": [
       "\n",
       "            setTimeout(function() {\n",
       "                var nbb_cell_id = 5;\n",
       "                var nbb_unformatted_code = \"%matplotlib inline\\n%config InlineBackend.figure_format='retina'\\n\\n%load_ext autoreload\\n%autoreload 2\\n\\n%load_ext nb_black\";\n",
       "                var nbb_formatted_code = \"%matplotlib inline\\n%config InlineBackend.figure_format='retina'\\n\\n%load_ext autoreload\\n%autoreload 2\\n\\n%load_ext nb_black\";\n",
       "                var nbb_cells = Jupyter.notebook.get_cells();\n",
       "                for (var i = 0; i < nbb_cells.length; ++i) {\n",
       "                    if (nbb_cells[i].input_prompt_number == nbb_cell_id) {\n",
       "                        if (nbb_cells[i].get_text() == nbb_unformatted_code) {\n",
       "                             nbb_cells[i].set_text(nbb_formatted_code);\n",
       "                        }\n",
       "                        break;\n",
       "                    }\n",
       "                }\n",
       "            }, 500);\n",
       "            "
      ],
      "text/plain": [
       "<IPython.core.display.Javascript object>"
      ]
     },
     "metadata": {},
     "output_type": "display_data"
    }
   ],
   "source": [
    "%matplotlib inline\n",
    "%config InlineBackend.figure_format='retina'\n",
    "\n",
    "%load_ext autoreload\n",
    "%autoreload 2\n",
    "\n",
    "%load_ext nb_black"
   ]
  },
  {
   "cell_type": "markdown",
   "id": "d1c440c8",
   "metadata": {},
   "source": [
    "## parameters import"
   ]
  },
  {
   "cell_type": "code",
   "execution_count": 3,
   "id": "8063cffc",
   "metadata": {
    "ExecuteTime": {
     "end_time": "2021-07-09T08:35:30.911798Z",
     "start_time": "2021-07-09T08:35:30.843999Z"
    }
   },
   "outputs": [
    {
     "data": {
      "application/javascript": [
       "\n",
       "            setTimeout(function() {\n",
       "                var nbb_cell_id = 3;\n",
       "                var nbb_unformatted_code = \"# get the paths to config\\nroot_path = Path(os.getcwd()) / \\\"../../\\\"\\nDOTENV_FILE_PATH = root_path / \\\"data/secret/.env\\\"\\nconfig = AutoConfig(search_path=DOTENV_FILE_PATH)\\npath_param = root_path / config(\\\"ADRM_param_full_path\\\")\";\n",
       "                var nbb_formatted_code = \"# get the paths to config\\nroot_path = Path(os.getcwd()) / \\\"../../\\\"\\nDOTENV_FILE_PATH = root_path / \\\"data/secret/.env\\\"\\nconfig = AutoConfig(search_path=DOTENV_FILE_PATH)\\npath_param = root_path / config(\\\"ADRM_param_full_path\\\")\";\n",
       "                var nbb_cells = Jupyter.notebook.get_cells();\n",
       "                for (var i = 0; i < nbb_cells.length; ++i) {\n",
       "                    if (nbb_cells[i].input_prompt_number == nbb_cell_id) {\n",
       "                        if (nbb_cells[i].get_text() == nbb_unformatted_code) {\n",
       "                             nbb_cells[i].set_text(nbb_formatted_code);\n",
       "                        }\n",
       "                        break;\n",
       "                    }\n",
       "                }\n",
       "            }, 500);\n",
       "            "
      ],
      "text/plain": [
       "<IPython.core.display.Javascript object>"
      ]
     },
     "metadata": {},
     "output_type": "display_data"
    }
   ],
   "source": [
    "# get the paths to config\n",
    "root_path = Path(os.getcwd()) / \"../../\"\n",
    "DOTENV_FILE_PATH = root_path / \"data/secret/.env\"\n",
    "config = AutoConfig(search_path=DOTENV_FILE_PATH)\n",
    "path_param = root_path / config(\"ADRM_param_full_path\")"
   ]
  },
  {
   "cell_type": "code",
   "execution_count": 4,
   "id": "fc9938fe",
   "metadata": {
    "ExecuteTime": {
     "end_time": "2021-07-09T08:35:31.686347Z",
     "start_time": "2021-07-09T08:35:30.917301Z"
    }
   },
   "outputs": [
    {
     "data": {
      "application/javascript": [
       "\n",
       "            setTimeout(function() {\n",
       "                var nbb_cell_id = 4;\n",
       "                var nbb_unformatted_code = \"df_param_onedrive = pd.read_excel(\\n    path_param,\\n    sheet_name=\\\"Dynamic\\\",\\n)\\n\\n# generate df_set_param_T1d_from_drive from one drive excel file (assumptions all dept)\\ndf_param_input = df_param_onedrive.set_index(\\\"item\\\", drop=True, inplace=False)\\n\\n# keep only T1 Int'l dep results\\nmask_T1d = (df_param_input[\\\"terminal\\\"] == \\\"T1\\\") & (df_param_input[\\\"Direction\\\"] == \\\"D\\\")\\ndf_param_input_T1 = df_param_input[mask_T1d]\\n\\ndf_param_input_T1 = df_param_input_T1.drop(\\n    columns=[\\\"unit\\\", \\\"terminal\\\", \\\"type\\\", \\\"remarks\\\", \\\"Direction\\\"]\\n)\\n\\n# take values from assumption files and put them in a dictionnary\\nlist_item = [\\n    \\\"target_peak_STD\\\",\\n    \\\"Pt_checkin_1step_counter\\\",\\n    \\\"Pt_checkin_2step_counter\\\",\\n    \\\"N_kiosk\\\",\\n    \\\"Pt_kiosk\\\",\\n    \\\"N_security_lanes\\\",\\n    \\\"Pt_security_lanes\\\",\\n    \\\"N_emigration_counter\\\",\\n    \\\"Pt_emigration_counter\\\",\\n    \\\"N_emigration_self\\\",\\n    \\\"Pt_emigration_self\\\",\\n    \\\"modern_pax_ratio\\\",\\n    \\\"digital_pax_ratio\\\",\\n    \\\"premium_pax_ratio\\\",\\n    \\\"start_special_pax_ratio\\\",\\n    \\\"end_special_pax_ratio\\\",\\n]\\n\\ndct_set_param_T1d_from_drive = {\\n    item: list(df_param_input_T1.loc[item, :]) for item in list_item\\n}\\nlen_dct_set_param_T1d_from_drive = len(dct_set_param_T1d_from_drive[\\\"target_peak_STD\\\"])\\ndct_set_param_T1d_from_drive[\\\"target_peak\\\"] = dct_set_param_T1d_from_drive.pop(\\n    \\\"target_peak_STD\\\"\\n)\\n\\n# define values that are not in assumption files\\ndct_set_param_T1d_from_drive[\\\"freq\\\"] = [\\n    \\\"1min\\\" for i in range(len_dct_set_param_T1d_from_drive)\\n]\\ndct_set_param_T1d_from_drive[\\\"win\\\"] = [\\n    15 for i in range(len_dct_set_param_T1d_from_drive)\\n]\\ndct_set_param_T1d_from_drive[\\\"show_loading\\\"] = [\\n    True for i in range(len_dct_set_param_T1d_from_drive)\\n]\\ndct_set_param_T1d_from_drive[\\\"show_graph\\\"] = [\\n    False for i in range(len_dct_set_param_T1d_from_drive)\\n]\\ndct_set_param_T1d_from_drive[\\\"save_graph\\\"] = [\\n    False for i in range(len_dct_set_param_T1d_from_drive)\\n]\\ndct_set_param_T1d_from_drive[\\\"save_xls\\\"] = [\\n    False for i in range(len_dct_set_param_T1d_from_drive)\\n]\\n\\n# change the start & end special pax, it was a bad idea\\ndct_set_param_T1d_from_drive[\\\"start_special_pax_ratio\\\"] = [\\n    0 for i in range(len_dct_set_param_T1d_from_drive)\\n]\\n\\ndct_set_param_T1d_from_drive[\\\"end_special_pax_ratio\\\"] = [\\n    1 for i in range(len_dct_set_param_T1d_from_drive)\\n]\\n\\ndf_set_param_T1d_from_drive = pd.DataFrame.from_dict(dct_set_param_T1d_from_drive)\\n\\ndf_set_param_T1d = df_set_param_T1d_from_drive.copy()\\ndct_set_param_T1d = dct_set_param_T1d_from_drive.copy()\\n\\n# create the dictionary of param for the run from the dct_set_param\\n# we take the values for 2025\\ndct_run_param = {keys: value[5] for keys, value in dct_set_param_T1d.items()}\";\n",
       "                var nbb_formatted_code = \"df_param_onedrive = pd.read_excel(\\n    path_param,\\n    sheet_name=\\\"Dynamic\\\",\\n)\\n\\n# generate df_set_param_T1d_from_drive from one drive excel file (assumptions all dept)\\ndf_param_input = df_param_onedrive.set_index(\\\"item\\\", drop=True, inplace=False)\\n\\n# keep only T1 Int'l dep results\\nmask_T1d = (df_param_input[\\\"terminal\\\"] == \\\"T1\\\") & (df_param_input[\\\"Direction\\\"] == \\\"D\\\")\\ndf_param_input_T1 = df_param_input[mask_T1d]\\n\\ndf_param_input_T1 = df_param_input_T1.drop(\\n    columns=[\\\"unit\\\", \\\"terminal\\\", \\\"type\\\", \\\"remarks\\\", \\\"Direction\\\"]\\n)\\n\\n# take values from assumption files and put them in a dictionnary\\nlist_item = [\\n    \\\"target_peak_STD\\\",\\n    \\\"Pt_checkin_1step_counter\\\",\\n    \\\"Pt_checkin_2step_counter\\\",\\n    \\\"N_kiosk\\\",\\n    \\\"Pt_kiosk\\\",\\n    \\\"N_security_lanes\\\",\\n    \\\"Pt_security_lanes\\\",\\n    \\\"N_emigration_counter\\\",\\n    \\\"Pt_emigration_counter\\\",\\n    \\\"N_emigration_self\\\",\\n    \\\"Pt_emigration_self\\\",\\n    \\\"modern_pax_ratio\\\",\\n    \\\"digital_pax_ratio\\\",\\n    \\\"premium_pax_ratio\\\",\\n    \\\"start_special_pax_ratio\\\",\\n    \\\"end_special_pax_ratio\\\",\\n]\\n\\ndct_set_param_T1d_from_drive = {\\n    item: list(df_param_input_T1.loc[item, :]) for item in list_item\\n}\\nlen_dct_set_param_T1d_from_drive = len(dct_set_param_T1d_from_drive[\\\"target_peak_STD\\\"])\\ndct_set_param_T1d_from_drive[\\\"target_peak\\\"] = dct_set_param_T1d_from_drive.pop(\\n    \\\"target_peak_STD\\\"\\n)\\n\\n# define values that are not in assumption files\\ndct_set_param_T1d_from_drive[\\\"freq\\\"] = [\\n    \\\"1min\\\" for i in range(len_dct_set_param_T1d_from_drive)\\n]\\ndct_set_param_T1d_from_drive[\\\"win\\\"] = [\\n    15 for i in range(len_dct_set_param_T1d_from_drive)\\n]\\ndct_set_param_T1d_from_drive[\\\"show_loading\\\"] = [\\n    True for i in range(len_dct_set_param_T1d_from_drive)\\n]\\ndct_set_param_T1d_from_drive[\\\"show_graph\\\"] = [\\n    False for i in range(len_dct_set_param_T1d_from_drive)\\n]\\ndct_set_param_T1d_from_drive[\\\"save_graph\\\"] = [\\n    False for i in range(len_dct_set_param_T1d_from_drive)\\n]\\ndct_set_param_T1d_from_drive[\\\"save_xls\\\"] = [\\n    False for i in range(len_dct_set_param_T1d_from_drive)\\n]\\n\\n# change the start & end special pax, it was a bad idea\\ndct_set_param_T1d_from_drive[\\\"start_special_pax_ratio\\\"] = [\\n    0 for i in range(len_dct_set_param_T1d_from_drive)\\n]\\n\\ndct_set_param_T1d_from_drive[\\\"end_special_pax_ratio\\\"] = [\\n    1 for i in range(len_dct_set_param_T1d_from_drive)\\n]\\n\\ndf_set_param_T1d_from_drive = pd.DataFrame.from_dict(dct_set_param_T1d_from_drive)\\n\\ndf_set_param_T1d = df_set_param_T1d_from_drive.copy()\\ndct_set_param_T1d = dct_set_param_T1d_from_drive.copy()\\n\\n# create the dictionary of param for the run from the dct_set_param\\n# we take the values for 2025\\ndct_run_param = {keys: value[5] for keys, value in dct_set_param_T1d.items()}\";\n",
       "                var nbb_cells = Jupyter.notebook.get_cells();\n",
       "                for (var i = 0; i < nbb_cells.length; ++i) {\n",
       "                    if (nbb_cells[i].input_prompt_number == nbb_cell_id) {\n",
       "                        if (nbb_cells[i].get_text() == nbb_unformatted_code) {\n",
       "                             nbb_cells[i].set_text(nbb_formatted_code);\n",
       "                        }\n",
       "                        break;\n",
       "                    }\n",
       "                }\n",
       "            }, 500);\n",
       "            "
      ],
      "text/plain": [
       "<IPython.core.display.Javascript object>"
      ]
     },
     "metadata": {},
     "output_type": "display_data"
    }
   ],
   "source": [
    "df_param_onedrive = pd.read_excel(\n",
    "    path_param,\n",
    "    sheet_name=\"Dynamic\",\n",
    ")\n",
    "\n",
    "# generate df_set_param_T1d_from_drive from one drive excel file (assumptions all dept)\n",
    "df_param_input = df_param_onedrive.set_index(\"item\", drop=True, inplace=False)\n",
    "\n",
    "# keep only T1 Int'l dep results\n",
    "mask_T1d = (df_param_input[\"terminal\"] == \"T1\") & (df_param_input[\"Direction\"] == \"D\")\n",
    "df_param_input_T1 = df_param_input[mask_T1d]\n",
    "\n",
    "df_param_input_T1 = df_param_input_T1.drop(\n",
    "    columns=[\"unit\", \"terminal\", \"type\", \"remarks\", \"Direction\"]\n",
    ")\n",
    "\n",
    "# take values from assumption files and put them in a dictionnary\n",
    "list_item = [\n",
    "    \"target_peak_STD\",\n",
    "    \"Pt_checkin_1step_counter\",\n",
    "    \"Pt_checkin_2step_counter\",\n",
    "    \"N_kiosk\",\n",
    "    \"Pt_kiosk\",\n",
    "    \"N_security_lanes\",\n",
    "    \"Pt_security_lanes\",\n",
    "    \"N_emigration_counter\",\n",
    "    \"Pt_emigration_counter\",\n",
    "    \"N_emigration_self\",\n",
    "    \"Pt_emigration_self\",\n",
    "    \"modern_pax_ratio\",\n",
    "    \"digital_pax_ratio\",\n",
    "    \"premium_pax_ratio\",\n",
    "    \"start_special_pax_ratio\",\n",
    "    \"end_special_pax_ratio\",\n",
    "]\n",
    "\n",
    "dct_set_param_T1d_from_drive = {\n",
    "    item: list(df_param_input_T1.loc[item, :]) for item in list_item\n",
    "}\n",
    "len_dct_set_param_T1d_from_drive = len(dct_set_param_T1d_from_drive[\"target_peak_STD\"])\n",
    "dct_set_param_T1d_from_drive[\"target_peak\"] = dct_set_param_T1d_from_drive.pop(\n",
    "    \"target_peak_STD\"\n",
    ")\n",
    "\n",
    "# define values that are not in assumption files\n",
    "dct_set_param_T1d_from_drive[\"freq\"] = [\n",
    "    \"1min\" for i in range(len_dct_set_param_T1d_from_drive)\n",
    "]\n",
    "dct_set_param_T1d_from_drive[\"win\"] = [\n",
    "    15 for i in range(len_dct_set_param_T1d_from_drive)\n",
    "]\n",
    "dct_set_param_T1d_from_drive[\"show_loading\"] = [\n",
    "    True for i in range(len_dct_set_param_T1d_from_drive)\n",
    "]\n",
    "dct_set_param_T1d_from_drive[\"show_graph\"] = [\n",
    "    False for i in range(len_dct_set_param_T1d_from_drive)\n",
    "]\n",
    "dct_set_param_T1d_from_drive[\"save_graph\"] = [\n",
    "    False for i in range(len_dct_set_param_T1d_from_drive)\n",
    "]\n",
    "dct_set_param_T1d_from_drive[\"save_xls\"] = [\n",
    "    False for i in range(len_dct_set_param_T1d_from_drive)\n",
    "]\n",
    "\n",
    "# change the start & end special pax, it was a bad idea\n",
    "dct_set_param_T1d_from_drive[\"start_special_pax_ratio\"] = [\n",
    "    0 for i in range(len_dct_set_param_T1d_from_drive)\n",
    "]\n",
    "\n",
    "dct_set_param_T1d_from_drive[\"end_special_pax_ratio\"] = [\n",
    "    1 for i in range(len_dct_set_param_T1d_from_drive)\n",
    "]\n",
    "\n",
    "df_set_param_T1d_from_drive = pd.DataFrame.from_dict(dct_set_param_T1d_from_drive)\n",
    "\n",
    "df_set_param_T1d = df_set_param_T1d_from_drive.copy()\n",
    "dct_set_param_T1d = dct_set_param_T1d_from_drive.copy()\n",
    "\n",
    "# create the dictionary of param for the run from the dct_set_param\n",
    "# we take the values for 2025\n",
    "dct_run_param = {keys: value[5] for keys, value in dct_set_param_T1d.items()}"
   ]
  },
  {
   "cell_type": "markdown",
   "id": "8a5ba5dc",
   "metadata": {},
   "source": [
    "## cost and grid_search def"
   ]
  },
  {
   "cell_type": "code",
   "execution_count": 8,
   "id": "955dc50f",
   "metadata": {
    "ExecuteTime": {
     "end_time": "2021-07-09T08:35:50.305093Z",
     "start_time": "2021-07-09T08:35:50.220226Z"
    }
   },
   "outputs": [
    {
     "data": {
      "application/javascript": [
       "\n",
       "            setTimeout(function() {\n",
       "                var nbb_cell_id = 8;\n",
       "                var nbb_unformatted_code = \"def cost_generator(x):\\n    cost = cost_2_var(\\n        x=x,  # ['CUSBD_opening_duration' in minutes,'modern_pax_ratio']\\n        EBS_capacity=1200,  # cost target\\n        target_wait_time=5,  # target waiting time in minutes\\n        dct_param_T1d=dct_run_param_T1d_2025,  # includes df_Pax\\n        target_peak=3880,  # to select good schedule when generating df_Counters\\n        custom_counter_rule=False,  # to generate df_Counters\\n        call_n_iter=None,\\n        totalpbar=None,\\n    )\\n    return cost\";\n",
       "                var nbb_formatted_code = \"def cost_generator(x):\\n    cost = cost_2_var(\\n        x=x,  # ['CUSBD_opening_duration' in minutes,'modern_pax_ratio']\\n        EBS_capacity=1200,  # cost target\\n        target_wait_time=5,  # target waiting time in minutes\\n        dct_param_T1d=dct_run_param_T1d_2025,  # includes df_Pax\\n        target_peak=3880,  # to select good schedule when generating df_Counters\\n        custom_counter_rule=False,  # to generate df_Counters\\n        call_n_iter=None,\\n        totalpbar=None,\\n    )\\n    return cost\";\n",
       "                var nbb_cells = Jupyter.notebook.get_cells();\n",
       "                for (var i = 0; i < nbb_cells.length; ++i) {\n",
       "                    if (nbb_cells[i].input_prompt_number == nbb_cell_id) {\n",
       "                        if (nbb_cells[i].get_text() == nbb_unformatted_code) {\n",
       "                             nbb_cells[i].set_text(nbb_formatted_code);\n",
       "                        }\n",
       "                        break;\n",
       "                    }\n",
       "                }\n",
       "            }, 500);\n",
       "            "
      ],
      "text/plain": [
       "<IPython.core.display.Javascript object>"
      ]
     },
     "metadata": {},
     "output_type": "display_data"
    }
   ],
   "source": [
    "def cost_generator(x,EBS_number,dct_run_param_T1d_2025):\n",
    "    cost = cost_2_var(\n",
    "        x=x,  # ['CUSBD_opening_duration' in minutes,'modern_pax_ratio']\n",
    "        EBS_capacity=EBS_number,  # cost target\n",
    "        target_wait_time=5,  # target waiting time in minutes\n",
    "        dct_param_T1d=dct_run_param_T1d_2025,  # includes df_Pax\n",
    "        target_peak=3880,  # to select good schedule when generating df_Counters\n",
    "        custom_counter_rule=False,  # to generate df_Counters\n",
    "        call_n_iter=None,\n",
    "        totalpbar=None,\n",
    "    )\n",
    "    return cost\n",
    "\n",
    "def grid_search(\n",
    "    f,\n",
    "    EBS_number,\n",
    "    dct_run_param_T1d_2025,\n",
    "    xmin = 250,\n",
    "    xmax = 360,\n",
    "    N_fev_x = 7,\n",
    "    ymin = 0.05,\n",
    "    ymax = 0.99,\n",
    "    N_fev_y = 6,\n",
    "    N_grid_search = 2,\n",
    "):\n",
    "    # parameter ray for parallel computing\n",
    "    @ray.remote\n",
    "    def f(x,EBS_number=EBS_number):\n",
    "        return cost_generator(x,EBS_number=EBS_number)\n",
    "\n",
    "    # create dct of results\n",
    "    dct_grid_search = {}\n",
    "\n",
    "\n",
    "    for n in range(N_grid_search):\n",
    "        # build grid_list\n",
    "        x_range = list(np.linspace(xmin, xmax, N_fev_x))\n",
    "        y_range = list(np.linspace(ymin, ymax, N_fev_y))\n",
    "        grid_list = [(x, y) for y in y_range for x in x_range]\n",
    "\n",
    "        # evaluate all points of the grid in parallel\n",
    "        futures = [f.remote(i) for i in grid_list]\n",
    "        results = ray.get(futures)\n",
    "\n",
    "        # get the best point\n",
    "        bestz = min(results)\n",
    "        index = results.index(bestz)\n",
    "        best_point = grid_list[index]\n",
    "        bestx = best_point[0]\n",
    "        besty = best_point[1]\n",
    "\n",
    "        # build new ranges for next iteration's grid_list\n",
    "        # new range on x\n",
    "        if bestx != xmin:\n",
    "            xmin = x_range[x_range.index(bestx) - 1]\n",
    "        if bestx != xmax:\n",
    "            xmax = x_range[x_range.index(bestx) + 1]\n",
    "\n",
    "        # new range on y\n",
    "        if besty != ymin:\n",
    "            ymin = y_range[y_range.index(besty) - 1]\n",
    "        if besty != ymax:\n",
    "            ymax = y_range[y_range.index(besty) + 1]\n",
    "\n",
    "        # store grid search results\n",
    "        dct_grid_search[n] = [grid_list, results]\n",
    "        \n",
    "        return bestx,besty,bestz,dct_grid_search"
   ]
  },
  {
   "cell_type": "markdown",
   "id": "84c315b7",
   "metadata": {},
   "source": [
    "### successive grid optimization"
   ]
  },
  {
   "cell_type": "code",
   "execution_count": 10,
   "id": "b099dab8",
   "metadata": {
    "ExecuteTime": {
     "end_time": "2021-07-09T08:35:55.709818Z",
     "start_time": "2021-07-09T08:35:50.308650Z"
    }
   },
   "outputs": [
    {
     "name": "stderr",
     "output_type": "stream",
     "text": [
      "2021-07-11 13:12:06,464\tINFO services.py:1272 -- View the Ray dashboard at \u001b[1m\u001b[32mhttp://127.0.0.1:8265\u001b[39m\u001b[22m\n"
     ]
    },
    {
     "data": {
      "text/plain": [
       "{'node_ip_address': '172.31.28.92',\n",
       " 'raylet_ip_address': '172.31.28.92',\n",
       " 'redis_address': '172.31.28.92:6379',\n",
       " 'object_store_address': '/tmp/ray/session_2021-07-11_13-12-05_443732_3446/sockets/plasma_store',\n",
       " 'raylet_socket_name': '/tmp/ray/session_2021-07-11_13-12-05_443732_3446/sockets/raylet',\n",
       " 'webui_url': '127.0.0.1:8265',\n",
       " 'session_dir': '/tmp/ray/session_2021-07-11_13-12-05_443732_3446',\n",
       " 'metrics_export_port': 64305,\n",
       " 'node_id': '28745a0ffe62f100969f1082a7dd1b8bb2ca2d00d04d1ac333db09bc'}"
      ]
     },
     "execution_count": 10,
     "metadata": {},
     "output_type": "execute_result"
    },
    {
     "data": {
      "application/javascript": [
       "\n",
       "            setTimeout(function() {\n",
       "                var nbb_cell_id = 10;\n",
       "                var nbb_unformatted_code = \"ray.shutdown()\\nray.init()\";\n",
       "                var nbb_formatted_code = \"ray.shutdown()\\nray.init()\";\n",
       "                var nbb_cells = Jupyter.notebook.get_cells();\n",
       "                for (var i = 0; i < nbb_cells.length; ++i) {\n",
       "                    if (nbb_cells[i].input_prompt_number == nbb_cell_id) {\n",
       "                        if (nbb_cells[i].get_text() == nbb_unformatted_code) {\n",
       "                             nbb_cells[i].set_text(nbb_formatted_code);\n",
       "                        }\n",
       "                        break;\n",
       "                    }\n",
       "                }\n",
       "            }, 500);\n",
       "            "
      ],
      "text/plain": [
       "<IPython.core.display.Javascript object>"
      ]
     },
     "metadata": {},
     "output_type": "display_data"
    }
   ],
   "source": [
    "ray.shutdown()\n",
    "ray.init()"
   ]
  },
  {
   "cell_type": "code",
   "execution_count": 5,
   "id": "50687aa8",
   "metadata": {
    "ExecuteTime": {
     "end_time": "2021-07-09T08:35:50.052208Z",
     "start_time": "2021-07-09T08:35:31.690656Z"
    },
    "code_folding": []
   },
   "outputs": [
    {
     "name": "stderr",
     "output_type": "stream",
     "text": [
      "Pax and counter generation...: 100%|██████████| 2/2 [00:08<00:00,  4.09s/it]\n"
     ]
    },
    {
     "data": {
      "application/javascript": [
       "\n",
       "            setTimeout(function() {\n",
       "                var nbb_cell_id = 5;\n",
       "                var nbb_unformatted_code = \"# calculate df_Pax\\ndf_Pax_2025, _ = generate_dep_Pax_Counters(\\n    target_peak=3880,  # for quick test, real FY2025 value is 3880\\n    terminal=\\\"T1\\\",\\n    custom_counter_rule=False,  # current allocation rule\\n)\";\n",
       "                var nbb_formatted_code = \"# calculate df_Pax\\ndf_Pax_2025, _ = generate_dep_Pax_Counters(\\n    target_peak=3880,  # for quick test, real FY2025 value is 3880\\n    terminal=\\\"T1\\\",\\n    custom_counter_rule=False,  # current allocation rule\\n)\";\n",
       "                var nbb_cells = Jupyter.notebook.get_cells();\n",
       "                for (var i = 0; i < nbb_cells.length; ++i) {\n",
       "                    if (nbb_cells[i].input_prompt_number == nbb_cell_id) {\n",
       "                        if (nbb_cells[i].get_text() == nbb_unformatted_code) {\n",
       "                             nbb_cells[i].set_text(nbb_formatted_code);\n",
       "                        }\n",
       "                        break;\n",
       "                    }\n",
       "                }\n",
       "            }, 500);\n",
       "            "
      ],
      "text/plain": [
       "<IPython.core.display.Javascript object>"
      ]
     },
     "metadata": {},
     "output_type": "display_data"
    }
   ],
   "source": [
    "# calculate df_Pax\n",
    "df_Pax_2025, _ = generate_dep_Pax_Counters(\n",
    "    target_peak=3880,  # for quick test, real FY2025 value is 3880\n",
    "    terminal=\"T1\",\n",
    "    custom_counter_rule=False,  # current allocation rule\n",
    ")\n",
    "\n",
    "# initialize dct_run_param\n",
    "dct_run_param_T1d_2025 = dct_run_param.copy()\n",
    "\n",
    "dct_run_param_T1d_2025[\"df_Pax\"] = df_Pax_2025\n",
    "dct_run_param_T1d_2025[\"N_kiosk\"] = 99999 # we initialize with a lot of kiosk\n",
    "dct_run_param_T1d_2025[\"digital_pax_ratio\"] = 0 # we keep only modern pax\n",
    "dct_run_param_T1d_2025[\"N_CUSBD\"] = 24\n",
    "dct_run_param_T1d_2025.pop(\"target_peak\")\n",
    "dct_run_param_T1d_2025[\"path\"] = None"
   ]
  },
  {
   "cell_type": "code",
   "execution_count": 9,
   "id": "12f541c4",
   "metadata": {
    "ExecuteTime": {
     "end_time": "2021-07-13T14:28:58.283733Z",
     "start_time": "2021-07-13T14:28:58.206429Z"
    }
   },
   "outputs": [
    {
     "data": {
      "application/javascript": [
       "\n",
       "            setTimeout(function() {\n",
       "                var nbb_cell_id = 9;\n",
       "                var nbb_unformatted_code = \"CUSBD_number_range = [24,48,72]\\nEBS_number_range = [800,1900]\\n\\n# create df_result_opti\\ncolumn_CUSBD_number = [a for a in CUSBD_number_range for b in EBS_number_range]\\ncolumn_EBS_number = [a for b in CUSBD_number_range for a in EBS_number_range]\\ncolumns_list = [\\n    'CUSBD_number',\\n    'EBS_number',\\n    'CUSBD_opening_duration',\\n    'modern_pax_ratio',\\n    'waiting_time_counters',\\n    'total_dep_process_time',\\n    'dwell_time'\\n]\\n\\ndf_result_opti = pd.DataFrame(columns=columns_list)\\n\\ndf_result_opti['CUSBD_number'] = column_CUSBD_number\\ndf_result_opti['EBS_number'] = column_EBS_number\";\n",
       "                var nbb_formatted_code = \"CUSBD_number_range = [24, 48, 72]\\nEBS_number_range = [800, 1900]\\n\\n# create df_result_opti\\ncolumn_CUSBD_number = [a for a in CUSBD_number_range for b in EBS_number_range]\\ncolumn_EBS_number = [a for b in CUSBD_number_range for a in EBS_number_range]\\ncolumns_list = [\\n    \\\"CUSBD_number\\\",\\n    \\\"EBS_number\\\",\\n    \\\"CUSBD_opening_duration\\\",\\n    \\\"modern_pax_ratio\\\",\\n    \\\"waiting_time_counters\\\",\\n    \\\"total_dep_process_time\\\",\\n    \\\"dwell_time\\\",\\n]\\n\\ndf_result_opti = pd.DataFrame(columns=columns_list)\\n\\ndf_result_opti[\\\"CUSBD_number\\\"] = column_CUSBD_number\\ndf_result_opti[\\\"EBS_number\\\"] = column_EBS_number\";\n",
       "                var nbb_cells = Jupyter.notebook.get_cells();\n",
       "                for (var i = 0; i < nbb_cells.length; ++i) {\n",
       "                    if (nbb_cells[i].input_prompt_number == nbb_cell_id) {\n",
       "                        if (nbb_cells[i].get_text() == nbb_unformatted_code) {\n",
       "                             nbb_cells[i].set_text(nbb_formatted_code);\n",
       "                        }\n",
       "                        break;\n",
       "                    }\n",
       "                }\n",
       "            }, 500);\n",
       "            "
      ],
      "text/plain": [
       "<IPython.core.display.Javascript object>"
      ]
     },
     "metadata": {},
     "output_type": "display_data"
    }
   ],
   "source": [
    "# define ranges of parameters\n",
    "CUSBD_number_range = [24,48,72]\n",
    "EBS_number_range = [800,1900]\n",
    "\n",
    "# create df_result_opti\n",
    "column_CUSBD_number = [a for a in CUSBD_number_range for b in EBS_number_range]\n",
    "column_EBS_number = [a for b in CUSBD_number_range for a in EBS_number_range]\n",
    "columns_list = [\n",
    "    'CUSBD_number',\n",
    "    'EBS_number',\n",
    "    'CUSBD_opening_duration',\n",
    "    'modern_pax_ratio',\n",
    "    'waiting_time_counters',\n",
    "    'total_dep_process_time',\n",
    "    'dwell_time'\n",
    "]\n",
    "\n",
    "df_result_opti = pd.DataFrame(columns=columns_list)\n",
    "df_result_opti['CUSBD_number'] = column_CUSBD_number\n",
    "df_result_opti['EBS_number'] = column_EBS_number"
   ]
  },
  {
   "cell_type": "code",
   "execution_count": null,
   "id": "5e13fecc",
   "metadata": {},
   "outputs": [],
   "source": [
    "for CUSBD_number in CUSBD_number_range:  \n",
    "    for EBS_number in EBS_number_range:\n",
    "        # initialize dct_param_opti\n",
    "        dct_param_opti = dct_run_param_T1d_2025.copy()\n",
    "        dct_param_opti[\"N_CUSBD\"] = CUSBD_number\n",
    "        dct_param_opti[\"N_kiosk\"] = 99999 # we initialize with a lot of kiosk\n",
    "        \n",
    "        # optimize 'CUSBD_opening_duration' & 'modern_pax_ratio' \n",
    "        (bestx, besty, bestz, dct_grid_search) = grid_search(\n",
    "            f,\n",
    "            EBS_number=EBS_number,\n",
    "            dct_run_param_T1d_2025=dct_param_opti,\n",
    "            xmin=250,\n",
    "            xmax=360,\n",
    "            N_fev_x=7,\n",
    "            ymin=0.05,\n",
    "            ymax=0.99,\n",
    "            N_fev_y=6,\n",
    "            N_grid_search=2,\n",
    "        )\n",
    "        \n",
    "        dct_param_opti['CUSBD_opening_duration'] = bestx\n",
    "        dct_param_opti['modern_pax_ratio'] = besty\n",
    "\n",
    "        # optimize N_kiosk\n",
    "        # allocation rule depending on modern_pax_ratio\n",
    "        kwargs_rule = {\n",
    "            \"start_time\": 3.5,\n",
    "            \"onecounter_time\": 0.75,\n",
    "            \"base_n_counter\": ceil(3 * (1 - besty)),\n",
    "            \"seats_per_add_counter\": ceil(110 / (1 - besty)),\n",
    "        }\n",
    "        # generate df_Counter (only)\n",
    "        df_Counters = show_up_function(\n",
    "            target_peak=3880,\n",
    "            direction=\"D\",\n",
    "            system=\"check-in\",\n",
    "            ratio=1,\n",
    "            terminal=\"T1\",\n",
    "            CTG_type=\"A\",\n",
    "            custom_showup=False,\n",
    "            custom_counter_rule=True,\n",
    "            **kwargs_rule,\n",
    "        )\n",
    "\n",
    "        dct_param_opti['df_Counters'] = df_Counters\n",
    "        \n",
    "        # kwargs for the optimization of N_kiosk\n",
    "        kwargs = {\n",
    "            \"dct_param_T1d\": dct_param_opti,\n",
    "            \"variable_string\": 'N_kiosk',  # eg. N_Z, N_kiosk, N_CUSBD\n",
    "            \"target_wait_time\": 1.5,  # target waiting time in minutes\n",
    "            \"call_n_iter\": None,\n",
    "            \"totalpbar\": None,\n",
    "        }\n",
    "\n",
    "        # options for custom optimizer\n",
    "        options = {\n",
    "            \"guess\": int(49),\n",
    "            \"maxfev\": 30,\n",
    "            \"bigstep\": 10,\n",
    "            \"smallstep\": 1,\n",
    "            \"callback\": custcallback,\n",
    "            \"tol\": 1,\n",
    "        }\n",
    "\n",
    "        # run the optimization for that variable\n",
    "        print(\"optimization for kiosk\")\n",
    "        f = univariate_cost_function_generator_T1d_N(**kwargs)\n",
    "        res = custmin(f, **options)\n",
    "        \n",
    "        dct_param_opti['N_kiosk'] = res['x']\n",
    "\n",
    "        # calculate wait time, total_dep_time and dwell_time\n",
    "        \n",
    "        (\n",
    "            df_result,\n",
    "            list_KPI_run,\n",
    "            dct_hist_wait_time,\n",
    "            dct_hist_queue_length,\n",
    "        ) = KIX_T1d_CUSBD(**dct_param_opti)\n",
    "\n",
    "        df_dwell, mean, top90 = calculate_avg_dwell_time(\n",
    "            df_result,\n",
    "            offset=pd.Timedelta(minutes=60),\n",
    "        )\n",
    "        \n",
    "        # write results in dataframe\n",
    "        \n",
    "        mask = (df_result_opti['CUSBD_number'] == CUSBD_number) & (df_result_opti['EBS_number'] == EBS_number)\n",
    "        \n",
    "        df_result_opti.loc[mask,'waiting_time_counters'] = dct_hist_wait_time[\"checkin_counter\"].quantile(q=0.9)\n",
    "        df_result_opti.loc[mask,'dwell_time'] = mean "
   ]
  },
  {
   "cell_type": "code",
   "execution_count": null,
   "id": "d1180346",
   "metadata": {},
   "outputs": [],
   "source": [
    "path_report = root_path / \"data/reports/202107_EBS_CUSBD_capacity\"\n",
    "\n",
    "writer = pd.ExcelWriter(\n",
    "    path_report,\n",
    "    engine=\"xlsxwriter\",\n",
    ")\n",
    "df_result_opti.to_excel(writer, sheet_name=\"results\")\n",
    "writer.save()"
   ]
  }
 ],
 "metadata": {
  "hide_input": false,
  "interpreter": {
   "hash": "1d86c3f4e6564a626633f587d07c61b83132bd3397ba0f40eb4b1687729da8fd"
  },
  "kernelspec": {
   "display_name": "Python [conda env:KAPpaxsim2]",
   "language": "python",
   "name": "conda-env-KAPpaxsim2-py"
  },
  "language_info": {
   "codemirror_mode": {
    "name": "ipython",
    "version": 3
   },
   "file_extension": ".py",
   "mimetype": "text/x-python",
   "name": "python",
   "nbconvert_exporter": "python",
   "pygments_lexer": "ipython3",
   "version": "3.8.10"
  },
  "toc": {
   "base_numbering": 1,
   "nav_menu": {},
   "number_sections": true,
   "sideBar": true,
   "skip_h1_title": false,
   "title_cell": "Table of Contents",
   "title_sidebar": "Contents",
   "toc_cell": false,
   "toc_position": {
    "height": "calc(100% - 180px)",
    "left": "10px",
    "top": "150px",
    "width": "254.188px"
   },
   "toc_section_display": true,
   "toc_window_display": true
  },
  "varInspector": {
   "cols": {
    "lenName": 16,
    "lenType": 16,
    "lenVar": 40
   },
   "kernels_config": {
    "python": {
     "delete_cmd_postfix": "",
     "delete_cmd_prefix": "del ",
     "library": "var_list.py",
     "varRefreshCmd": "print(var_dic_list())"
    },
    "r": {
     "delete_cmd_postfix": ") ",
     "delete_cmd_prefix": "rm(",
     "library": "var_list.r",
     "varRefreshCmd": "cat(var_dic_list()) "
    }
   },
   "types_to_exclude": [
    "module",
    "function",
    "builtin_function_or_method",
    "instance",
    "_Feature"
   ],
   "window_display": false
  }
 },
 "nbformat": 4,
 "nbformat_minor": 5
}
